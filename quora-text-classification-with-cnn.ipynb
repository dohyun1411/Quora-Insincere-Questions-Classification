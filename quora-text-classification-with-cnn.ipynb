{
 "cells": [
  {
   "cell_type": "code",
   "execution_count": 1,
   "id": "announced-montreal",
   "metadata": {
    "execution": {
     "iopub.execute_input": "2021-06-16T17:30:52.582992Z",
     "iopub.status.busy": "2021-06-16T17:30:52.582310Z",
     "iopub.status.idle": "2021-06-16T17:30:58.414867Z",
     "shell.execute_reply": "2021-06-16T17:30:58.414242Z",
     "shell.execute_reply.started": "2021-06-16T16:29:19.573787Z"
    },
    "id": "mZ_Kk7K3T3oh",
    "outputId": "f78e75be-969e-4f6f-c410-b3f758e88f30",
    "papermill": {
     "duration": 5.872206,
     "end_time": "2021-06-16T17:30:58.415021",
     "exception": false,
     "start_time": "2021-06-16T17:30:52.542815",
     "status": "completed"
    },
    "tags": []
   },
   "outputs": [],
   "source": [
    "\n",
    "import os\n",
    "import pandas as pd\n",
    "import numpy as np\n",
    "import matplotlib.pyplot as plt\n",
    "%matplotlib inline\n",
    "\n",
    "from sklearn import preprocessing\n",
    "from tensorflow.keras.preprocessing.text import Tokenizer\n",
    "from tensorflow.keras.preprocessing.sequence import pad_sequences\n",
    "from tensorflow.keras.utils import to_categorical\n",
    "from sklearn.metrics import classification_report\n",
    "from tqdm.auto import tqdm\n",
    "tqdm.pandas()"
   ]
  },
  {
   "cell_type": "markdown",
   "id": "preliminary-quilt",
   "metadata": {
    "id": "t-prIawhUGcG",
    "papermill": {
     "duration": 0.021837,
     "end_time": "2021-06-16T17:30:58.459359",
     "exception": false,
     "start_time": "2021-06-16T17:30:58.437522",
     "status": "completed"
    },
    "tags": []
   },
   "source": [
    "Import training data, test data"
   ]
  },
  {
   "cell_type": "code",
   "execution_count": 2,
   "id": "egyptian-lafayette",
   "metadata": {
    "execution": {
     "iopub.execute_input": "2021-06-16T17:30:58.509844Z",
     "iopub.status.busy": "2021-06-16T17:30:58.509265Z",
     "iopub.status.idle": "2021-06-16T17:31:02.725045Z",
     "shell.execute_reply": "2021-06-16T17:31:02.725695Z",
     "shell.execute_reply.started": "2021-06-16T16:29:24.931605Z"
    },
    "id": "RIb7mz4LUF80",
    "outputId": "c9e6a259-13be-464d-9fff-5e37917b2948",
    "papermill": {
     "duration": 4.244193,
     "end_time": "2021-06-16T17:31:02.725867",
     "exception": false,
     "start_time": "2021-06-16T17:30:58.481674",
     "status": "completed"
    },
    "tags": []
   },
   "outputs": [
    {
     "name": "stdout",
     "output_type": "stream",
     "text": [
      "Train shape :  (1306122, 3)\n",
      "Test shape :  (375806, 2)\n"
     ]
    }
   ],
   "source": [
    "train_df = pd.read_csv(\"../input/quora-insincere-questions-classification/train.csv\")\n",
    "test_df = pd.read_csv(\"../input/quora-insincere-questions-classification/test.csv\")\n",
    "print(\"Train shape : \",train_df.shape)\n",
    "print(\"Test shape : \",test_df.shape)"
   ]
  },
  {
   "cell_type": "markdown",
   "id": "lined-worker",
   "metadata": {
    "id": "0Cm9DDLwX20-",
    "papermill": {
     "duration": 0.026331,
     "end_time": "2021-06-16T17:31:02.777807",
     "exception": false,
     "start_time": "2021-06-16T17:31:02.751476",
     "status": "completed"
    },
    "tags": []
   },
   "source": [
    "Load and improve embedding"
   ]
  },
  {
   "cell_type": "code",
   "execution_count": 3,
   "id": "human-moral",
   "metadata": {
    "execution": {
     "iopub.execute_input": "2021-06-16T17:31:02.830420Z",
     "iopub.status.busy": "2021-06-16T17:31:02.829776Z",
     "iopub.status.idle": "2021-06-16T17:31:02.957050Z",
     "shell.execute_reply": "2021-06-16T17:31:02.956500Z",
     "shell.execute_reply.started": "2021-06-16T16:29:29.030464Z"
    },
    "id": "qtWlD-POVDT7",
    "papermill": {
     "duration": 0.15696,
     "end_time": "2021-06-16T17:31:02.957165",
     "exception": false,
     "start_time": "2021-06-16T17:31:02.800205",
     "status": "completed"
    },
    "tags": []
   },
   "outputs": [],
   "source": [
    "import zipfile\n",
    "from gensim.models import KeyedVectors\n",
    "import numpy as np\n",
    "\n",
    "embeddings_path = \"../input/quora-insincere-questions-classification/embeddings.zip\"\n",
    "glove = 'glove.840B.300d/glove.840B.300d.txt'\n",
    "wiki = 'wiki-news-300d-1M/wiki-news-300d-1M.vec'\n",
    "google = 'GoogleNews-vectors-negative300/GoogleNews-vectors-negative300.bin'\n",
    "para = 'paragram_300_sl999/paragram_300_sl999.txt'\n",
    "\n",
    "\n",
    "def load_embedding(embedding_name):\n",
    "\n",
    "    def get_coefs(word, *arr): return word, np.asarray(arr, dtype='float32')\n",
    "\n",
    "    with zipfile.ZipFile(embeddings_path) as embeddings_zip:\n",
    "        print(\"Found embeddings as a zip file\")\n",
    "\n",
    "        if embedding_name == google:\n",
    "            return KeyedVectors.load_word2vec_format(embeddings_zip.open(google), binary=True)\n",
    "\n",
    "        else:\n",
    "            embedding = []\n",
    "            for o in embeddings_zip.open(embedding_name):\n",
    "                try:\n",
    "                    if len(o.decode('utf-8')) > 100:\n",
    "                        embedding.append(get_coefs(*o.decode('utf-8').split(\" \")))\n",
    "                except:\n",
    "                    pass\n",
    "        \n",
    "        return dict(embedding)"
   ]
  },
  {
   "cell_type": "code",
   "execution_count": 4,
   "id": "freelance-kingston",
   "metadata": {
    "execution": {
     "iopub.execute_input": "2021-06-16T17:31:03.005379Z",
     "iopub.status.busy": "2021-06-16T17:31:03.004853Z",
     "iopub.status.idle": "2021-06-16T17:31:03.008645Z",
     "shell.execute_reply": "2021-06-16T17:31:03.008201Z",
     "shell.execute_reply.started": "2021-06-16T16:29:29.148763Z"
    },
    "id": "0N9T-CxMVZUo",
    "papermill": {
     "duration": 0.02898,
     "end_time": "2021-06-16T17:31:03.008752",
     "exception": false,
     "start_time": "2021-06-16T17:31:02.979772",
     "status": "completed"
    },
    "tags": []
   },
   "outputs": [],
   "source": [
    "n_splits = 5\n",
    "seed = 31\n",
    "puncts = '´‘’“”…!#$%&()*+,-./:;<=>?@[\\]^_`{|}~\"' + \"'\""
   ]
  },
  {
   "cell_type": "code",
   "execution_count": 5,
   "id": "worst-quick",
   "metadata": {
    "execution": {
     "iopub.execute_input": "2021-06-16T17:31:03.056782Z",
     "iopub.status.busy": "2021-06-16T17:31:03.056123Z",
     "iopub.status.idle": "2021-06-16T17:31:03.109487Z",
     "shell.execute_reply": "2021-06-16T17:31:03.109049Z",
     "shell.execute_reply.started": "2021-06-16T16:29:29.156482Z"
    },
    "id": "X_U7oxxfVqFk",
    "papermill": {
     "duration": 0.078663,
     "end_time": "2021-06-16T17:31:03.109605",
     "exception": false,
     "start_time": "2021-06-16T17:31:03.030942",
     "status": "completed"
    },
    "tags": []
   },
   "outputs": [],
   "source": [
    "from keras.preprocessing.text import Tokenizer\n",
    "\n",
    "to_exclude = ''\n",
    "to_tokenize = puncts\n",
    "\n",
    "tokenizer = Tokenizer(filters=to_exclude, lower=False)"
   ]
  },
  {
   "cell_type": "markdown",
   "id": "permanent-vessel",
   "metadata": {
    "id": "MLTblDpAYFNY",
    "papermill": {
     "duration": 0.021762,
     "end_time": "2021-06-16T17:31:03.153632",
     "exception": false,
     "start_time": "2021-06-16T17:31:03.131870",
     "status": "completed"
    },
    "tags": []
   },
   "source": [
    "Split the data into train, validation, test"
   ]
  },
  {
   "cell_type": "code",
   "execution_count": 6,
   "id": "august-medium",
   "metadata": {
    "execution": {
     "iopub.execute_input": "2021-06-16T17:31:03.203480Z",
     "iopub.status.busy": "2021-06-16T17:31:03.202846Z",
     "iopub.status.idle": "2021-06-16T17:31:04.275918Z",
     "shell.execute_reply": "2021-06-16T17:31:04.275455Z",
     "shell.execute_reply.started": "2021-06-16T16:29:29.214694Z"
    },
    "id": "OUiQs89YV2i5",
    "papermill": {
     "duration": 1.100284,
     "end_time": "2021-06-16T17:31:04.276045",
     "exception": false,
     "start_time": "2021-06-16T17:31:03.175761",
     "status": "completed"
    },
    "tags": []
   },
   "outputs": [],
   "source": [
    "from sklearn.model_selection import train_test_split, KFold\n",
    "\n",
    "kfold = KFold(n_splits=n_splits, shuffle=True, random_state=seed)\n",
    "\n",
    "train_df, val_df = train_test_split(train_df, test_size=0.1)\n",
    "\n",
    "train_idx, val_idx = list(kfold.split(train_df))[0]\n",
    "train_df, val_df = train_df.iloc[train_idx], train_df.iloc[val_idx]\n",
    "\n",
    "train_text = train_df[\"question_text\"].fillna(\"_na_\")\n",
    "val_text = val_df[\"question_text\"].fillna(\"_na_\")\n",
    "test_text = test_df[\"question_text\"].fillna(\"_na_\")\n",
    "\n",
    "train_y = train_df['target'].values\n",
    "val_y = val_df['target'].values"
   ]
  },
  {
   "cell_type": "code",
   "execution_count": 7,
   "id": "german-concern",
   "metadata": {
    "execution": {
     "iopub.execute_input": "2021-06-16T17:31:04.326399Z",
     "iopub.status.busy": "2021-06-16T17:31:04.325623Z",
     "iopub.status.idle": "2021-06-16T17:31:20.479616Z",
     "shell.execute_reply": "2021-06-16T17:31:20.478273Z",
     "shell.execute_reply.started": "2021-06-16T16:29:30.275521Z"
    },
    "id": "MW1K5kXcWaIf",
    "outputId": "147be849-4cd4-479e-e3f9-5044581b7592",
    "papermill": {
     "duration": 16.181046,
     "end_time": "2021-06-16T17:31:20.479738",
     "exception": false,
     "start_time": "2021-06-16T17:31:04.298692",
     "status": "completed"
    },
    "tags": []
   },
   "outputs": [
    {
     "data": {
      "application/vnd.jupyter.widget-view+json": {
       "model_id": "3cfdeecc35c84ece869da3e5efdef72f",
       "version_major": 2,
       "version_minor": 0
      },
      "text/plain": [
       "  0%|          | 0/940407 [00:00<?, ?it/s]"
      ]
     },
     "metadata": {},
     "output_type": "display_data"
    },
    {
     "data": {
      "application/vnd.jupyter.widget-view+json": {
       "model_id": "22bc078319ee48208cdfaa86a00d03b1",
       "version_major": 2,
       "version_minor": 0
      },
      "text/plain": [
       "  0%|          | 0/235102 [00:00<?, ?it/s]"
      ]
     },
     "metadata": {},
     "output_type": "display_data"
    },
    {
     "data": {
      "application/vnd.jupyter.widget-view+json": {
       "model_id": "0477329bc2b344da85c0b7af42b8c2bd",
       "version_major": 2,
       "version_minor": 0
      },
      "text/plain": [
       "  0%|          | 0/375806 [00:00<?, ?it/s]"
      ]
     },
     "metadata": {},
     "output_type": "display_data"
    }
   ],
   "source": [
    "import re\n",
    "\n",
    "train_text = train_text.progress_apply(lambda x: re.sub(r'(['+to_tokenize+'])', r' \\1', x)).values\n",
    "val_text = val_text.progress_apply(lambda x: re.sub(r'(['+to_tokenize+'])', r' \\1', x)).values\n",
    "test_text = test_text.progress_apply(lambda x: re.sub(r'(['+to_tokenize+'])', r' \\1', x)).values"
   ]
  },
  {
   "cell_type": "code",
   "execution_count": 8,
   "id": "postal-local",
   "metadata": {
    "execution": {
     "iopub.execute_input": "2021-06-16T17:31:20.611779Z",
     "iopub.status.busy": "2021-06-16T17:31:20.585097Z",
     "iopub.status.idle": "2021-06-16T17:31:20.665038Z",
     "shell.execute_reply": "2021-06-16T17:31:20.664617Z",
     "shell.execute_reply.started": "2021-06-16T16:29:46.213776Z"
    },
    "id": "bU04kQ9DWlLc",
    "papermill": {
     "duration": 0.161281,
     "end_time": "2021-06-16T17:31:20.665162",
     "exception": false,
     "start_time": "2021-06-16T17:31:20.503881",
     "status": "completed"
    },
    "tags": []
   },
   "outputs": [],
   "source": [
    "text = list(train_text) + list(val_text) + list(test_text)"
   ]
  },
  {
   "cell_type": "markdown",
   "id": "metallic-tobacco",
   "metadata": {
    "id": "VMuUmeN5YQug",
    "papermill": {
     "duration": 0.023201,
     "end_time": "2021-06-16T17:31:20.711747",
     "exception": false,
     "start_time": "2021-06-16T17:31:20.688546",
     "status": "completed"
    },
    "tags": []
   },
   "source": [
    "Tokenize the text"
   ]
  },
  {
   "cell_type": "code",
   "execution_count": 9,
   "id": "subsequent-colony",
   "metadata": {
    "execution": {
     "iopub.execute_input": "2021-06-16T17:31:20.786559Z",
     "iopub.status.busy": "2021-06-16T17:31:20.776277Z",
     "iopub.status.idle": "2021-06-16T17:31:43.309719Z",
     "shell.execute_reply": "2021-06-16T17:31:43.310184Z",
     "shell.execute_reply.started": "2021-06-16T16:29:46.357604Z"
    },
    "id": "Jv4mPsn4WvGa",
    "outputId": "66449ab7-f945-49a7-82de-faa33c535788",
    "papermill": {
     "duration": 22.575041,
     "end_time": "2021-06-16T17:31:43.310351",
     "exception": false,
     "start_time": "2021-06-16T17:31:20.735310",
     "status": "completed"
    },
    "tags": []
   },
   "outputs": [
    {
     "name": "stdout",
     "output_type": "stream",
     "text": [
      "CPU times: user 22.3 s, sys: 93.3 ms, total: 22.4 s\n",
      "Wall time: 22.5 s\n"
     ]
    }
   ],
   "source": [
    "%%time\n",
    "tokenizer.fit_on_texts(text)"
   ]
  },
  {
   "cell_type": "markdown",
   "id": "macro-armstrong",
   "metadata": {
    "id": "WJrdp7QTYVH_",
    "papermill": {
     "duration": 0.023479,
     "end_time": "2021-06-16T17:31:43.357794",
     "exception": false,
     "start_time": "2021-06-16T17:31:43.334315",
     "status": "completed"
    },
    "tags": []
   },
   "source": [
    "Encoding the word to integer"
   ]
  },
  {
   "cell_type": "code",
   "execution_count": 10,
   "id": "becoming-russian",
   "metadata": {
    "execution": {
     "iopub.execute_input": "2021-06-16T17:31:43.409045Z",
     "iopub.status.busy": "2021-06-16T17:31:43.408536Z",
     "iopub.status.idle": "2021-06-16T17:31:43.412467Z",
     "shell.execute_reply": "2021-06-16T17:31:43.412059Z",
     "shell.execute_reply.started": "2021-06-16T16:30:08.717781Z"
    },
    "id": "eIoRK2RfW4q8",
    "papermill": {
     "duration": 0.031007,
     "end_time": "2021-06-16T17:31:43.412587",
     "exception": false,
     "start_time": "2021-06-16T17:31:43.381580",
     "status": "completed"
    },
    "tags": []
   },
   "outputs": [],
   "source": [
    "word_index = tokenizer.word_index"
   ]
  },
  {
   "cell_type": "markdown",
   "id": "horizontal-colombia",
   "metadata": {
    "id": "FVvuv8pgYd6b",
    "papermill": {
     "duration": 0.02991,
     "end_time": "2021-06-16T17:31:43.466109",
     "exception": false,
     "start_time": "2021-06-16T17:31:43.436199",
     "status": "completed"
    },
    "tags": []
   },
   "source": [
    "Encoding the text to interger sequence"
   ]
  },
  {
   "cell_type": "code",
   "execution_count": 11,
   "id": "bigger-missile",
   "metadata": {
    "execution": {
     "iopub.execute_input": "2021-06-16T17:31:43.565902Z",
     "iopub.status.busy": "2021-06-16T17:31:43.545559Z",
     "iopub.status.idle": "2021-06-16T17:32:02.694129Z",
     "shell.execute_reply": "2021-06-16T17:32:02.694651Z",
     "shell.execute_reply.started": "2021-06-16T16:30:08.724551Z"
    },
    "id": "Lt-g_PszW7T-",
    "outputId": "a036bdce-642a-4170-d905-03d188deed0e",
    "papermill": {
     "duration": 19.188388,
     "end_time": "2021-06-16T17:32:02.694836",
     "exception": false,
     "start_time": "2021-06-16T17:31:43.506448",
     "status": "completed"
    },
    "tags": []
   },
   "outputs": [
    {
     "name": "stdout",
     "output_type": "stream",
     "text": [
      "CPU times: user 18.9 s, sys: 218 ms, total: 19.1 s\n",
      "Wall time: 19.1 s\n"
     ]
    }
   ],
   "source": [
    "%%time\n",
    "train_X = tokenizer.texts_to_sequences(train_text)\n",
    "val_X = tokenizer.texts_to_sequences(val_text)\n",
    "test_X = tokenizer.texts_to_sequences(test_text)\n",
    "\n",
    "maxlen = max({len(seq) for seq in train_X} | {len(seq) for seq in val_X} | {len(seq) for seq in test_X})\n",
    "#maxlen = 600"
   ]
  },
  {
   "cell_type": "markdown",
   "id": "designing-hotel",
   "metadata": {
    "id": "DNPdD5vyYi6M",
    "papermill": {
     "duration": 0.024847,
     "end_time": "2021-06-16T17:32:02.746334",
     "exception": false,
     "start_time": "2021-06-16T17:32:02.721487",
     "status": "completed"
    },
    "tags": []
   },
   "source": [
    "Pad the sequence to equalize the length"
   ]
  },
  {
   "cell_type": "code",
   "execution_count": 12,
   "id": "selected-league",
   "metadata": {
    "execution": {
     "iopub.execute_input": "2021-06-16T17:32:02.799337Z",
     "iopub.status.busy": "2021-06-16T17:32:02.798806Z",
     "iopub.status.idle": "2021-06-16T17:32:15.037371Z",
     "shell.execute_reply": "2021-06-16T17:32:15.036405Z",
     "shell.execute_reply.started": "2021-06-16T16:30:27.116744Z"
    },
    "id": "sjm2hxhcXGZh",
    "papermill": {
     "duration": 12.266691,
     "end_time": "2021-06-16T17:32:15.037546",
     "exception": false,
     "start_time": "2021-06-16T17:32:02.770855",
     "status": "completed"
    },
    "tags": []
   },
   "outputs": [],
   "source": [
    "from keras.preprocessing.sequence import pad_sequences\n",
    "\n",
    "train_X = pad_sequences(train_X, maxlen=maxlen)\n",
    "val_X = pad_sequences(val_X, maxlen=maxlen)\n",
    "test_X = pad_sequences(test_X, maxlen=maxlen)"
   ]
  },
  {
   "cell_type": "code",
   "execution_count": 13,
   "id": "wrapped-remainder",
   "metadata": {
    "execution": {
     "iopub.execute_input": "2021-06-16T17:32:15.090365Z",
     "iopub.status.busy": "2021-06-16T17:32:15.089626Z",
     "iopub.status.idle": "2021-06-16T17:32:15.092469Z",
     "shell.execute_reply": "2021-06-16T17:32:15.091948Z",
     "shell.execute_reply.started": "2021-06-16T16:30:39.684172Z"
    },
    "id": "hkY1GClVXRym",
    "papermill": {
     "duration": 0.030389,
     "end_time": "2021-06-16T17:32:15.092584",
     "exception": false,
     "start_time": "2021-06-16T17:32:15.062195",
     "status": "completed"
    },
    "tags": []
   },
   "outputs": [],
   "source": [
    "glove_emb_mean, glove_emb_std = -0.005838499, 0.48782197"
   ]
  },
  {
   "cell_type": "code",
   "execution_count": 14,
   "id": "african-spice",
   "metadata": {
    "execution": {
     "iopub.execute_input": "2021-06-16T17:32:15.144675Z",
     "iopub.status.busy": "2021-06-16T17:32:15.143941Z",
     "iopub.status.idle": "2021-06-16T17:32:15.146275Z",
     "shell.execute_reply": "2021-06-16T17:32:15.146681Z",
     "shell.execute_reply.started": "2021-06-16T16:30:39.691678Z"
    },
    "id": "7PbOJjyzXTtO",
    "papermill": {
     "duration": 0.029851,
     "end_time": "2021-06-16T17:32:15.146805",
     "exception": false,
     "start_time": "2021-06-16T17:32:15.116954",
     "status": "completed"
    },
    "tags": []
   },
   "outputs": [],
   "source": [
    "embed_size = 300 # how big is each word vector\n",
    "max_features = len(word_index) # how many unique words to use (i.e num rows in embedding vector)"
   ]
  },
  {
   "cell_type": "markdown",
   "id": "professional-holly",
   "metadata": {
    "id": "C5N-_Q1cYy8U",
    "papermill": {
     "duration": 0.023449,
     "end_time": "2021-06-16T17:32:15.194972",
     "exception": false,
     "start_time": "2021-06-16T17:32:15.171523",
     "status": "completed"
    },
    "tags": []
   },
   "source": [
    "Load glove embedding"
   ]
  },
  {
   "cell_type": "code",
   "execution_count": 15,
   "id": "separated-mistress",
   "metadata": {
    "execution": {
     "iopub.execute_input": "2021-06-16T17:32:15.246113Z",
     "iopub.status.busy": "2021-06-16T17:32:15.245642Z",
     "iopub.status.idle": "2021-06-16T17:37:58.303985Z",
     "shell.execute_reply": "2021-06-16T17:37:58.304483Z",
     "shell.execute_reply.started": "2021-06-16T16:30:39.700905Z"
    },
    "id": "UJ3XQlpIXg8x",
    "outputId": "f69eef06-0428-4156-989d-0822acf4786f",
    "papermill": {
     "duration": 343.085717,
     "end_time": "2021-06-16T17:37:58.304644",
     "exception": false,
     "start_time": "2021-06-16T17:32:15.218927",
     "status": "completed"
    },
    "tags": []
   },
   "outputs": [
    {
     "name": "stdout",
     "output_type": "stream",
     "text": [
      "Found embeddings as a zip file\n",
      "CPU times: user 5min 3s, sys: 3.82 s, total: 5min 6s\n",
      "Wall time: 5min 43s\n"
     ]
    }
   ],
   "source": [
    "%%time\n",
    "glove_embedding = load_embedding(glove)"
   ]
  },
  {
   "cell_type": "markdown",
   "id": "southeast-arrest",
   "metadata": {
    "id": "mEafY_coZQeP",
    "papermill": {
     "duration": 0.024032,
     "end_time": "2021-06-16T17:37:58.352968",
     "exception": false,
     "start_time": "2021-06-16T17:37:58.328936",
     "status": "completed"
    },
    "tags": []
   },
   "source": [
    "Improve the embedding matrix"
   ]
  },
  {
   "cell_type": "code",
   "execution_count": 16,
   "id": "unavailable-combat",
   "metadata": {
    "execution": {
     "iopub.execute_input": "2021-06-16T17:37:58.405568Z",
     "iopub.status.busy": "2021-06-16T17:37:58.405014Z",
     "iopub.status.idle": "2021-06-16T17:38:18.941747Z",
     "shell.execute_reply": "2021-06-16T17:38:18.942180Z",
     "shell.execute_reply.started": "2021-06-16T16:36:07.215831Z"
    },
    "id": "QeQMtN63ZT1T",
    "outputId": "aeff337f-eff7-467f-a50b-78340e77334d",
    "papermill": {
     "duration": 20.565117,
     "end_time": "2021-06-16T17:38:18.942349",
     "exception": false,
     "start_time": "2021-06-16T17:37:58.377232",
     "status": "completed"
    },
    "tags": []
   },
   "outputs": [
    {
     "name": "stdout",
     "output_type": "stream",
     "text": [
      "[nltk_data] Error loading wordnet: <urlopen error [Errno -3] Temporary\n",
      "[nltk_data]     failure in name resolution>\n"
     ]
    }
   ],
   "source": [
    "import nltk\n",
    "nltk.download('wordnet')\n",
    "\n",
    "from nltk.stem import PorterStemmer\n",
    "from nltk.stem import LancasterStemmer\n",
    "from nltk.stem import WordNetLemmatizer\n",
    "s = PorterStemmer()\n",
    "l = LancasterStemmer()\n",
    "n = WordNetLemmatizer()"
   ]
  },
  {
   "cell_type": "code",
   "execution_count": 17,
   "id": "bound-national",
   "metadata": {
    "execution": {
     "iopub.execute_input": "2021-06-16T17:38:18.999548Z",
     "iopub.status.busy": "2021-06-16T17:38:18.998843Z",
     "iopub.status.idle": "2021-06-16T17:38:19.001298Z",
     "shell.execute_reply": "2021-06-16T17:38:19.001667Z",
     "shell.execute_reply.started": "2021-06-16T16:36:08.0386Z"
    },
    "id": "6_Me73SzZXda",
    "papermill": {
     "duration": 0.034399,
     "end_time": "2021-06-16T17:38:19.001790",
     "exception": false,
     "start_time": "2021-06-16T17:38:18.967391",
     "status": "completed"
    },
    "tags": []
   },
   "outputs": [],
   "source": [
    "def is_in_emb(word, i, embedding, emb_matrix):\n",
    "\n",
    "    if word in embedding:\n",
    "        emb_matrix[i] = embedding[word]\n",
    "        return True\n",
    "    \n",
    "    tmp = word.lower()\n",
    "    if tmp in embedding:\n",
    "        emb_matrix[i] = embedding[tmp]\n",
    "        return True\n",
    "    \n",
    "    tmp = word.upper()\n",
    "    if tmp in embedding:\n",
    "        emb_matrix[i] = embedding[tmp]\n",
    "        return True\n",
    "\n",
    "    tmp = word.capitalize()\n",
    "    if tmp in embedding:\n",
    "        emb_matrix[i] = embedding[tmp]\n",
    "        return True\n",
    "\n",
    "    tmp = s.stem(word)\n",
    "    if tmp in embedding:\n",
    "        emb_matrix[i] = embedding[tmp]\n",
    "        return True\n",
    "    \n",
    "    tmp = l.stem(word)\n",
    "    if tmp in embedding:\n",
    "        emb_matrix[i] = embedding[tmp]\n",
    "        return True\n",
    "    \n",
    "    tmp = n.lemmatize(word)\n",
    "    if tmp in embedding:\n",
    "        emb_matrix[i] = embedding[tmp]\n",
    "        return True\n",
    "    \n",
    "    return False"
   ]
  },
  {
   "cell_type": "code",
   "execution_count": 18,
   "id": "lesser-communist",
   "metadata": {
    "execution": {
     "iopub.execute_input": "2021-06-16T17:38:19.057589Z",
     "iopub.status.busy": "2021-06-16T17:38:19.056879Z",
     "iopub.status.idle": "2021-06-16T17:38:39.205822Z",
     "shell.execute_reply": "2021-06-16T17:38:39.205311Z",
     "shell.execute_reply.started": "2021-06-16T16:36:08.048098Z"
    },
    "id": "wkBaNUXkZ4iO",
    "outputId": "c74d3c79-148c-4bb2-ffb6-675a610c112c",
    "papermill": {
     "duration": 20.179189,
     "end_time": "2021-06-16T17:38:39.205939",
     "exception": false,
     "start_time": "2021-06-16T17:38:19.026750",
     "status": "completed"
    },
    "tags": []
   },
   "outputs": [
    {
     "data": {
      "application/vnd.jupyter.widget-view+json": {
       "model_id": "ad505744fa1f4b399753266fcd2011c7",
       "version_major": 2,
       "version_minor": 0
      },
      "text/plain": [
       "  0%|          | 0/330010 [00:00<?, ?it/s]"
      ]
     },
     "metadata": {},
     "output_type": "display_data"
    },
    {
     "name": "stdout",
     "output_type": "stream",
     "text": [
      "percentage of oov of glove: 14.91%\n"
     ]
    }
   ],
   "source": [
    "glove_emb_matrix = np.random.normal(glove_emb_mean, glove_emb_std, (max_features+1, embed_size))\n",
    "glove_oov = {}\n",
    "\n",
    "for word, i in tqdm(word_index.items()):\n",
    "    i -= 1\n",
    "    assert i >= 0\n",
    "\n",
    "    if is_in_emb(word, i, glove_embedding, glove_emb_matrix): continue\n",
    "\n",
    "    tmp = word\n",
    "    for punct in puncts:\n",
    "        tmp = tmp.replace(punct, '')\n",
    "    if is_in_emb(tmp, i, glove_embedding, glove_emb_matrix): continue\n",
    "\n",
    "    for num in '0123456789':\n",
    "        tmp = tmp.replace(num, '')\n",
    "    if is_in_emb(tmp, i, glove_embedding, glove_emb_matrix): continue\n",
    "\n",
    "    else:\n",
    "        glove_oov[word] = i\n",
    "\n",
    "del glove_embedding\n",
    "\n",
    "print('percentage of oov of glove: {:.2f}%'.format(len(glove_oov) / max_features * 100))"
   ]
  },
  {
   "cell_type": "code",
   "execution_count": 19,
   "id": "funky-worse",
   "metadata": {
    "execution": {
     "iopub.execute_input": "2021-06-16T17:38:39.263242Z",
     "iopub.status.busy": "2021-06-16T17:38:39.262460Z",
     "iopub.status.idle": "2021-06-16T17:38:39.266038Z",
     "shell.execute_reply": "2021-06-16T17:38:39.265638Z",
     "shell.execute_reply.started": "2021-06-16T16:36:28.251194Z"
    },
    "id": "WcrAJYGda-Jz",
    "outputId": "421780fb-dd3a-4379-911a-c96f6e263dd5",
    "papermill": {
     "duration": 0.034047,
     "end_time": "2021-06-16T17:38:39.266145",
     "exception": false,
     "start_time": "2021-06-16T17:38:39.232098",
     "status": "completed"
    },
    "tags": []
   },
   "outputs": [
    {
     "data": {
      "text/plain": [
       "(330011, 300)"
      ]
     },
     "execution_count": 19,
     "metadata": {},
     "output_type": "execute_result"
    }
   ],
   "source": [
    "glove_emb_matrix.shape"
   ]
  },
  {
   "cell_type": "markdown",
   "id": "painful-hacker",
   "metadata": {
    "id": "bCQFhb07c8OA",
    "papermill": {
     "duration": 0.025421,
     "end_time": "2021-06-16T17:38:39.317417",
     "exception": false,
     "start_time": "2021-06-16T17:38:39.291996",
     "status": "completed"
    },
    "tags": []
   },
   "source": [
    "Use 1D CNN"
   ]
  },
  {
   "cell_type": "code",
   "execution_count": 20,
   "id": "differential-thumb",
   "metadata": {
    "execution": {
     "iopub.execute_input": "2021-06-16T17:38:39.379939Z",
     "iopub.status.busy": "2021-06-16T17:38:39.373566Z",
     "iopub.status.idle": "2021-06-16T17:38:39.393133Z",
     "shell.execute_reply": "2021-06-16T17:38:39.393770Z",
     "shell.execute_reply.started": "2021-06-16T16:36:28.259582Z"
    },
    "id": "5VIQVsDZc-sm",
    "papermill": {
     "duration": 0.050932,
     "end_time": "2021-06-16T17:38:39.393944",
     "exception": false,
     "start_time": "2021-06-16T17:38:39.343012",
     "status": "completed"
    },
    "tags": []
   },
   "outputs": [],
   "source": [
    "from tensorflow.keras.models import Model\n",
    "from tensorflow.keras.layers import Embedding, Dropout, Conv1D, GlobalMaxPooling1D, Dense, Input, Flatten, Concatenate\n",
    "from tensorflow.keras.callbacks import EarlyStopping, ModelCheckpoint\n",
    "from tensorflow.keras.models import load_model\n",
    "filter_sizes=[3,4,5]\n",
    "num_filters = 128\n",
    "drop = 0.5"
   ]
  },
  {
   "cell_type": "code",
   "execution_count": 21,
   "id": "excess-samba",
   "metadata": {
    "execution": {
     "iopub.execute_input": "2021-06-16T17:38:39.494443Z",
     "iopub.status.busy": "2021-06-16T17:38:39.493593Z",
     "iopub.status.idle": "2021-06-16T17:38:43.173513Z",
     "shell.execute_reply": "2021-06-16T17:38:43.172730Z",
     "shell.execute_reply.started": "2021-06-16T16:36:28.270377Z"
    },
    "id": "77uqmMEEdCmN",
    "outputId": "84f74316-99c5-4592-905a-babd8c0687f8",
    "papermill": {
     "duration": 3.73427,
     "end_time": "2021-06-16T17:38:43.173640",
     "exception": false,
     "start_time": "2021-06-16T17:38:39.439370",
     "status": "completed"
    },
    "tags": []
   },
   "outputs": [
    {
     "name": "stdout",
     "output_type": "stream",
     "text": [
      "Model: \"model\"\n",
      "__________________________________________________________________________________________________\n",
      "Layer (type)                    Output Shape         Param #     Connected to                     \n",
      "==================================================================================================\n",
      "input_1 (InputLayer)            [(None, 449)]        0                                            \n",
      "__________________________________________________________________________________________________\n",
      "embedding (Embedding)           (None, 449, 300)     99003300    input_1[0][0]                    \n",
      "__________________________________________________________________________________________________\n",
      "conv1d (Conv1D)                 (None, 447, 128)     115328      embedding[0][0]                  \n",
      "__________________________________________________________________________________________________\n",
      "conv1d_1 (Conv1D)               (None, 446, 128)     153728      embedding[0][0]                  \n",
      "__________________________________________________________________________________________________\n",
      "conv1d_2 (Conv1D)               (None, 445, 128)     192128      embedding[0][0]                  \n",
      "__________________________________________________________________________________________________\n",
      "global_max_pooling1d (GlobalMax (None, 128)          0           conv1d[0][0]                     \n",
      "__________________________________________________________________________________________________\n",
      "global_max_pooling1d_1 (GlobalM (None, 128)          0           conv1d_1[0][0]                   \n",
      "__________________________________________________________________________________________________\n",
      "global_max_pooling1d_2 (GlobalM (None, 128)          0           conv1d_2[0][0]                   \n",
      "__________________________________________________________________________________________________\n",
      "flatten (Flatten)               (None, 128)          0           global_max_pooling1d[0][0]       \n",
      "__________________________________________________________________________________________________\n",
      "flatten_1 (Flatten)             (None, 128)          0           global_max_pooling1d_1[0][0]     \n",
      "__________________________________________________________________________________________________\n",
      "flatten_2 (Flatten)             (None, 128)          0           global_max_pooling1d_2[0][0]     \n",
      "__________________________________________________________________________________________________\n",
      "concatenate (Concatenate)       (None, 384)          0           flatten[0][0]                    \n",
      "                                                                 flatten_1[0][0]                  \n",
      "                                                                 flatten_2[0][0]                  \n",
      "__________________________________________________________________________________________________\n",
      "dropout (Dropout)               (None, 384)          0           concatenate[0][0]                \n",
      "__________________________________________________________________________________________________\n",
      "dense (Dense)                   (None, 128)          49280       dropout[0][0]                    \n",
      "__________________________________________________________________________________________________\n",
      "dense_1 (Dense)                 (None, 1)            129         dense[0][0]                      \n",
      "==================================================================================================\n",
      "Total params: 99,513,893\n",
      "Trainable params: 510,593\n",
      "Non-trainable params: 99,003,300\n",
      "__________________________________________________________________________________________________\n"
     ]
    }
   ],
   "source": [
    "model_input = Input(shape=(maxlen,))\n",
    "z = Embedding(len(word_index)+1,\n",
    "              glove_emb_matrix.shape[1],\n",
    "              weights=[glove_emb_matrix],\n",
    "              input_length=maxlen,\n",
    "              trainable=False)(model_input)\n",
    "\n",
    "conv_blocks = []\n",
    "\n",
    "for sz in filter_sizes:\n",
    "  conv = Conv1D(filters = num_filters,\n",
    "                kernel_size = sz,\n",
    "                padding = \"valid\",\n",
    "                activation = \"relu\",\n",
    "                strides = 1)(z)\n",
    "  conv = GlobalMaxPooling1D()(conv)\n",
    "  conv = Flatten()(conv)\n",
    "  conv_blocks.append(conv)\n",
    "\n",
    "z = Concatenate()(conv_blocks) if len(conv_blocks) > 1 else conv_blocks[0]\n",
    "z = Dropout(drop)(z)\n",
    "z = Dense(128, activation=\"relu\")(z)\n",
    "model_output = Dense(1, activation='sigmoid')(z)\n",
    "\n",
    "model = Model(model_input, model_output)\n",
    "\n",
    "model.compile(loss='binary_crossentropy',\n",
    "              optimizer='adam',\n",
    "              metrics=['acc'])\n",
    "\n",
    "model.summary()"
   ]
  },
  {
   "cell_type": "code",
   "execution_count": 22,
   "id": "overhead-fluid",
   "metadata": {
    "execution": {
     "iopub.execute_input": "2021-06-16T17:38:43.230129Z",
     "iopub.status.busy": "2021-06-16T17:38:43.229637Z",
     "iopub.status.idle": "2021-06-16T17:52:39.969554Z",
     "shell.execute_reply": "2021-06-16T17:52:39.970211Z",
     "shell.execute_reply.started": "2021-06-16T16:36:31.839984Z"
    },
    "id": "VY_nvOxojAdM",
    "outputId": "b6cc9405-857a-453d-b869-6a36df87f0ad",
    "papermill": {
     "duration": 836.77058,
     "end_time": "2021-06-16T17:52:39.970424",
     "exception": false,
     "start_time": "2021-06-16T17:38:43.199844",
     "status": "completed"
    },
    "tags": []
   },
   "outputs": [
    {
     "name": "stdout",
     "output_type": "stream",
     "text": [
      "Epoch 1/2\n",
      "14694/14694 [==============================] - 419s 28ms/step - loss: 0.1720 - acc: 0.9425 - val_loss: 0.1398 - val_acc: 0.9481\n",
      "Epoch 2/2\n",
      "14694/14694 [==============================] - 413s 28ms/step - loss: 0.1412 - acc: 0.9482 - val_loss: 0.1327 - val_acc: 0.9493\n"
     ]
    }
   ],
   "source": [
    "#es = EarlyStopping(monitor='val_loss', mode='min', verbose=1, patience=4)\n",
    "#mc = ModelCheckpoint('CNN_model.h5', monitor='val_acc', mode='max', verbose=1, save_best_only=True)\n",
    "\n",
    "history = model.fit(train_X, train_y,\n",
    "                    batch_size=64,\n",
    "                    epochs=2,\n",
    "                    validation_data=(val_X, val_y))\n",
    "\n",
    "                    #verbose=2)\n",
    "                    #callbacks=[es, mc])"
   ]
  },
  {
   "cell_type": "code",
   "execution_count": 23,
   "id": "occupied-happiness",
   "metadata": {
    "execution": {
     "iopub.execute_input": "2021-06-16T17:52:46.071201Z",
     "iopub.status.busy": "2021-06-16T17:52:46.070209Z",
     "iopub.status.idle": "2021-06-16T17:53:39.272355Z",
     "shell.execute_reply": "2021-06-16T17:53:39.272771Z",
     "shell.execute_reply.started": "2021-06-16T16:50:25.599042Z"
    },
    "id": "jTuK73CVrHdD",
    "outputId": "60371c88-5220-4355-fca0-5f573251bf2d",
    "papermill": {
     "duration": 56.352681,
     "end_time": "2021-06-16T17:53:39.272917",
     "exception": false,
     "start_time": "2021-06-16T17:52:42.920236",
     "status": "completed"
    },
    "tags": []
   },
   "outputs": [
    {
     "name": "stdout",
     "output_type": "stream",
     "text": [
      "7347/7347 [==============================] - 53s 7ms/step - loss: 0.1327 - acc: 0.9493\n",
      "Test score: 0.13267941772937775\n",
      "Test accuracy: 0.9492645859718323\n"
     ]
    }
   ],
   "source": [
    "score = model.evaluate(val_X, val_y)\n",
    "print('Test score:', score[0])\n",
    "print('Test accuracy:', score[1])"
   ]
  },
  {
   "cell_type": "code",
   "execution_count": 24,
   "id": "concrete-globe",
   "metadata": {
    "execution": {
     "iopub.execute_input": "2021-06-16T17:53:46.279387Z",
     "iopub.status.busy": "2021-06-16T17:53:46.278428Z",
     "iopub.status.idle": "2021-06-16T17:55:00.590761Z",
     "shell.execute_reply": "2021-06-16T17:55:00.510125Z",
     "shell.execute_reply.started": "2021-06-16T16:52:58.357138Z"
    },
    "papermill": {
     "duration": 77.970448,
     "end_time": "2021-06-16T17:55:00.590931",
     "exception": false,
     "start_time": "2021-06-16T17:53:42.620483",
     "status": "completed"
    },
    "tags": []
   },
   "outputs": [
    {
     "name": "stdout",
     "output_type": "stream",
     "text": [
      "5872/5872 [==============================] - 73s 12ms/step\n"
     ]
    }
   ],
   "source": [
    "pred = model.predict(test_X, batch_size = 64, verbose=1)"
   ]
  },
  {
   "cell_type": "code",
   "execution_count": 25,
   "id": "subject-genre",
   "metadata": {
    "execution": {
     "iopub.execute_input": "2021-06-16T17:55:07.725139Z",
     "iopub.status.busy": "2021-06-16T17:55:07.704787Z",
     "iopub.status.idle": "2021-06-16T17:55:08.489621Z",
     "shell.execute_reply": "2021-06-16T17:55:08.489076Z",
     "shell.execute_reply.started": "2021-06-16T16:55:02.434032Z"
    },
    "id": "WaUrR4hkL6PR",
    "outputId": "7fd2cf8e-2df1-42a3-fc3a-44fedfe90f99",
    "papermill": {
     "duration": 4.383429,
     "end_time": "2021-06-16T17:55:08.489755",
     "exception": false,
     "start_time": "2021-06-16T17:55:04.106326",
     "status": "completed"
    },
    "tags": []
   },
   "outputs": [],
   "source": [
    "res = [0 if x < 0.5 else 1 for x in pred]"
   ]
  },
  {
   "cell_type": "code",
   "execution_count": 26,
   "id": "atlantic-bradford",
   "metadata": {
    "execution": {
     "iopub.execute_input": "2021-06-16T17:55:15.536871Z",
     "iopub.status.busy": "2021-06-16T17:55:15.535996Z",
     "iopub.status.idle": "2021-06-16T17:55:16.584081Z",
     "shell.execute_reply": "2021-06-16T17:55:16.583152Z",
     "shell.execute_reply.started": "2021-06-16T16:57:37.742464Z"
    },
    "papermill": {
     "duration": 4.570699,
     "end_time": "2021-06-16T17:55:16.584225",
     "exception": false,
     "start_time": "2021-06-16T17:55:12.013526",
     "status": "completed"
    },
    "tags": []
   },
   "outputs": [],
   "source": [
    "submission = pd.DataFrame(\n",
    "    {'qid':test_df['qid'][:len(res)], 'prediction':res},\n",
    "    columns = ['qid', 'prediction']\n",
    ")\n",
    "submission.to_csv('./submission.csv', index=False)"
   ]
  }
 ],
 "metadata": {
  "kernelspec": {
   "display_name": "Python 3",
   "language": "python",
   "name": "python3"
  },
  "language_info": {
   "codemirror_mode": {
    "name": "ipython",
    "version": 3
   },
   "file_extension": ".py",
   "mimetype": "text/x-python",
   "name": "python",
   "nbconvert_exporter": "python",
   "pygments_lexer": "ipython3",
   "version": "3.7.10"
  },
  "papermill": {
   "default_parameters": {},
   "duration": 1478.065506,
   "end_time": "2021-06-16T17:55:24.005460",
   "environment_variables": {},
   "exception": null,
   "input_path": "__notebook__.ipynb",
   "output_path": "__notebook__.ipynb",
   "parameters": {},
   "start_time": "2021-06-16T17:30:45.939954",
   "version": "2.3.3"
  },
  "widgets": {
   "application/vnd.jupyter.widget-state+json": {
    "state": {
     "0477329bc2b344da85c0b7af42b8c2bd": {
      "model_module": "@jupyter-widgets/controls",
      "model_module_version": "1.5.0",
      "model_name": "HBoxModel",
      "state": {
       "_dom_classes": [],
       "_model_module": "@jupyter-widgets/controls",
       "_model_module_version": "1.5.0",
       "_model_name": "HBoxModel",
       "_view_count": null,
       "_view_module": "@jupyter-widgets/controls",
       "_view_module_version": "1.5.0",
       "_view_name": "HBoxView",
       "box_style": "",
       "children": [
        "IPY_MODEL_420c9647b5f9483bbb324d8ef08e387c",
        "IPY_MODEL_9ff2f4d283084531a5df1179b703f2f9",
        "IPY_MODEL_48f5a38478ec44e1afb8004c7df5e0db"
       ],
       "layout": "IPY_MODEL_c5f625c360c54844bda01234bd1ff514"
      }
     },
     "0714c7ae459c4c05841137bfd3c19347": {
      "model_module": "@jupyter-widgets/controls",
      "model_module_version": "1.5.0",
      "model_name": "DescriptionStyleModel",
      "state": {
       "_model_module": "@jupyter-widgets/controls",
       "_model_module_version": "1.5.0",
       "_model_name": "DescriptionStyleModel",
       "_view_count": null,
       "_view_module": "@jupyter-widgets/base",
       "_view_module_version": "1.2.0",
       "_view_name": "StyleView",
       "description_width": ""
      }
     },
     "08d624731cd54383b60f2758fc4d7c26": {
      "model_module": "@jupyter-widgets/base",
      "model_module_version": "1.2.0",
      "model_name": "LayoutModel",
      "state": {
       "_model_module": "@jupyter-widgets/base",
       "_model_module_version": "1.2.0",
       "_model_name": "LayoutModel",
       "_view_count": null,
       "_view_module": "@jupyter-widgets/base",
       "_view_module_version": "1.2.0",
       "_view_name": "LayoutView",
       "align_content": null,
       "align_items": null,
       "align_self": null,
       "border": null,
       "bottom": null,
       "display": null,
       "flex": null,
       "flex_flow": null,
       "grid_area": null,
       "grid_auto_columns": null,
       "grid_auto_flow": null,
       "grid_auto_rows": null,
       "grid_column": null,
       "grid_gap": null,
       "grid_row": null,
       "grid_template_areas": null,
       "grid_template_columns": null,
       "grid_template_rows": null,
       "height": null,
       "justify_content": null,
       "justify_items": null,
       "left": null,
       "margin": null,
       "max_height": null,
       "max_width": null,
       "min_height": null,
       "min_width": null,
       "object_fit": null,
       "object_position": null,
       "order": null,
       "overflow": null,
       "overflow_x": null,
       "overflow_y": null,
       "padding": null,
       "right": null,
       "top": null,
       "visibility": null,
       "width": null
      }
     },
     "0a81ed9aa07640378b124a765db594b5": {
      "model_module": "@jupyter-widgets/controls",
      "model_module_version": "1.5.0",
      "model_name": "FloatProgressModel",
      "state": {
       "_dom_classes": [],
       "_model_module": "@jupyter-widgets/controls",
       "_model_module_version": "1.5.0",
       "_model_name": "FloatProgressModel",
       "_view_count": null,
       "_view_module": "@jupyter-widgets/controls",
       "_view_module_version": "1.5.0",
       "_view_name": "ProgressView",
       "bar_style": "success",
       "description": "",
       "description_tooltip": null,
       "layout": "IPY_MODEL_ce365462da9e4effb0892910e38aa0f9",
       "max": 235102.0,
       "min": 0.0,
       "orientation": "horizontal",
       "style": "IPY_MODEL_a0a6381d58ed45b7aea3fc47824f1467",
       "value": 235102.0
      }
     },
     "0bac91ec4e4843f5bd7443bcda5efff0": {
      "model_module": "@jupyter-widgets/base",
      "model_module_version": "1.2.0",
      "model_name": "LayoutModel",
      "state": {
       "_model_module": "@jupyter-widgets/base",
       "_model_module_version": "1.2.0",
       "_model_name": "LayoutModel",
       "_view_count": null,
       "_view_module": "@jupyter-widgets/base",
       "_view_module_version": "1.2.0",
       "_view_name": "LayoutView",
       "align_content": null,
       "align_items": null,
       "align_self": null,
       "border": null,
       "bottom": null,
       "display": null,
       "flex": null,
       "flex_flow": null,
       "grid_area": null,
       "grid_auto_columns": null,
       "grid_auto_flow": null,
       "grid_auto_rows": null,
       "grid_column": null,
       "grid_gap": null,
       "grid_row": null,
       "grid_template_areas": null,
       "grid_template_columns": null,
       "grid_template_rows": null,
       "height": null,
       "justify_content": null,
       "justify_items": null,
       "left": null,
       "margin": null,
       "max_height": null,
       "max_width": null,
       "min_height": null,
       "min_width": null,
       "object_fit": null,
       "object_position": null,
       "order": null,
       "overflow": null,
       "overflow_x": null,
       "overflow_y": null,
       "padding": null,
       "right": null,
       "top": null,
       "visibility": null,
       "width": null
      }
     },
     "1011cae65132423daa728e4dd6209439": {
      "model_module": "@jupyter-widgets/base",
      "model_module_version": "1.2.0",
      "model_name": "LayoutModel",
      "state": {
       "_model_module": "@jupyter-widgets/base",
       "_model_module_version": "1.2.0",
       "_model_name": "LayoutModel",
       "_view_count": null,
       "_view_module": "@jupyter-widgets/base",
       "_view_module_version": "1.2.0",
       "_view_name": "LayoutView",
       "align_content": null,
       "align_items": null,
       "align_self": null,
       "border": null,
       "bottom": null,
       "display": null,
       "flex": null,
       "flex_flow": null,
       "grid_area": null,
       "grid_auto_columns": null,
       "grid_auto_flow": null,
       "grid_auto_rows": null,
       "grid_column": null,
       "grid_gap": null,
       "grid_row": null,
       "grid_template_areas": null,
       "grid_template_columns": null,
       "grid_template_rows": null,
       "height": null,
       "justify_content": null,
       "justify_items": null,
       "left": null,
       "margin": null,
       "max_height": null,
       "max_width": null,
       "min_height": null,
       "min_width": null,
       "object_fit": null,
       "object_position": null,
       "order": null,
       "overflow": null,
       "overflow_x": null,
       "overflow_y": null,
       "padding": null,
       "right": null,
       "top": null,
       "visibility": null,
       "width": null
      }
     },
     "154e87161e434a55b101191816ca277a": {
      "model_module": "@jupyter-widgets/controls",
      "model_module_version": "1.5.0",
      "model_name": "DescriptionStyleModel",
      "state": {
       "_model_module": "@jupyter-widgets/controls",
       "_model_module_version": "1.5.0",
       "_model_name": "DescriptionStyleModel",
       "_view_count": null,
       "_view_module": "@jupyter-widgets/base",
       "_view_module_version": "1.2.0",
       "_view_name": "StyleView",
       "description_width": ""
      }
     },
     "193049398a244bbe855d7f70e1d59db4": {
      "model_module": "@jupyter-widgets/controls",
      "model_module_version": "1.5.0",
      "model_name": "ProgressStyleModel",
      "state": {
       "_model_module": "@jupyter-widgets/controls",
       "_model_module_version": "1.5.0",
       "_model_name": "ProgressStyleModel",
       "_view_count": null,
       "_view_module": "@jupyter-widgets/base",
       "_view_module_version": "1.2.0",
       "_view_name": "StyleView",
       "bar_color": null,
       "description_width": ""
      }
     },
     "197fbeb883c24986adb414beb15e7dd4": {
      "model_module": "@jupyter-widgets/controls",
      "model_module_version": "1.5.0",
      "model_name": "HTMLModel",
      "state": {
       "_dom_classes": [],
       "_model_module": "@jupyter-widgets/controls",
       "_model_module_version": "1.5.0",
       "_model_name": "HTMLModel",
       "_view_count": null,
       "_view_module": "@jupyter-widgets/controls",
       "_view_module_version": "1.5.0",
       "_view_name": "HTMLView",
       "description": "",
       "description_tooltip": null,
       "layout": "IPY_MODEL_08d624731cd54383b60f2758fc4d7c26",
       "placeholder": "​",
       "style": "IPY_MODEL_9ee5af8272f24f89b27e77784ed31e1b",
       "value": " 940407/940407 [00:09&lt;00:00, 100002.86it/s]"
      }
     },
     "1f1a6c574027494098f584747bfc927a": {
      "model_module": "@jupyter-widgets/base",
      "model_module_version": "1.2.0",
      "model_name": "LayoutModel",
      "state": {
       "_model_module": "@jupyter-widgets/base",
       "_model_module_version": "1.2.0",
       "_model_name": "LayoutModel",
       "_view_count": null,
       "_view_module": "@jupyter-widgets/base",
       "_view_module_version": "1.2.0",
       "_view_name": "LayoutView",
       "align_content": null,
       "align_items": null,
       "align_self": null,
       "border": null,
       "bottom": null,
       "display": null,
       "flex": null,
       "flex_flow": null,
       "grid_area": null,
       "grid_auto_columns": null,
       "grid_auto_flow": null,
       "grid_auto_rows": null,
       "grid_column": null,
       "grid_gap": null,
       "grid_row": null,
       "grid_template_areas": null,
       "grid_template_columns": null,
       "grid_template_rows": null,
       "height": null,
       "justify_content": null,
       "justify_items": null,
       "left": null,
       "margin": null,
       "max_height": null,
       "max_width": null,
       "min_height": null,
       "min_width": null,
       "object_fit": null,
       "object_position": null,
       "order": null,
       "overflow": null,
       "overflow_x": null,
       "overflow_y": null,
       "padding": null,
       "right": null,
       "top": null,
       "visibility": null,
       "width": null
      }
     },
     "2148d17d5f5b4557b4d7add5448aad12": {
      "model_module": "@jupyter-widgets/controls",
      "model_module_version": "1.5.0",
      "model_name": "HTMLModel",
      "state": {
       "_dom_classes": [],
       "_model_module": "@jupyter-widgets/controls",
       "_model_module_version": "1.5.0",
       "_model_name": "HTMLModel",
       "_view_count": null,
       "_view_module": "@jupyter-widgets/controls",
       "_view_module_version": "1.5.0",
       "_view_name": "HTMLView",
       "description": "",
       "description_tooltip": null,
       "layout": "IPY_MODEL_c572b090282a4288b40ad1713f464ea6",
       "placeholder": "​",
       "style": "IPY_MODEL_0714c7ae459c4c05841137bfd3c19347",
       "value": "100%"
      }
     },
     "2207a2d2995744ae86038d613d8662a3": {
      "model_module": "@jupyter-widgets/controls",
      "model_module_version": "1.5.0",
      "model_name": "FloatProgressModel",
      "state": {
       "_dom_classes": [],
       "_model_module": "@jupyter-widgets/controls",
       "_model_module_version": "1.5.0",
       "_model_name": "FloatProgressModel",
       "_view_count": null,
       "_view_module": "@jupyter-widgets/controls",
       "_view_module_version": "1.5.0",
       "_view_name": "ProgressView",
       "bar_style": "success",
       "description": "",
       "description_tooltip": null,
       "layout": "IPY_MODEL_1011cae65132423daa728e4dd6209439",
       "max": 940407.0,
       "min": 0.0,
       "orientation": "horizontal",
       "style": "IPY_MODEL_ec71f397e4ee42acbc5eb0dd749a1659",
       "value": 940407.0
      }
     },
     "22bc078319ee48208cdfaa86a00d03b1": {
      "model_module": "@jupyter-widgets/controls",
      "model_module_version": "1.5.0",
      "model_name": "HBoxModel",
      "state": {
       "_dom_classes": [],
       "_model_module": "@jupyter-widgets/controls",
       "_model_module_version": "1.5.0",
       "_model_name": "HBoxModel",
       "_view_count": null,
       "_view_module": "@jupyter-widgets/controls",
       "_view_module_version": "1.5.0",
       "_view_name": "HBoxView",
       "box_style": "",
       "children": [
        "IPY_MODEL_b8150c7d52e64b828ef79429ebbff2c5",
        "IPY_MODEL_0a81ed9aa07640378b124a765db594b5",
        "IPY_MODEL_6be2ac99a2444258b875c3bbc349792e"
       ],
       "layout": "IPY_MODEL_e6ea17cddd374e8f9793aa4e271ff351"
      }
     },
     "274029a1126a4904a58b224fb70eab3f": {
      "model_module": "@jupyter-widgets/base",
      "model_module_version": "1.2.0",
      "model_name": "LayoutModel",
      "state": {
       "_model_module": "@jupyter-widgets/base",
       "_model_module_version": "1.2.0",
       "_model_name": "LayoutModel",
       "_view_count": null,
       "_view_module": "@jupyter-widgets/base",
       "_view_module_version": "1.2.0",
       "_view_name": "LayoutView",
       "align_content": null,
       "align_items": null,
       "align_self": null,
       "border": null,
       "bottom": null,
       "display": null,
       "flex": null,
       "flex_flow": null,
       "grid_area": null,
       "grid_auto_columns": null,
       "grid_auto_flow": null,
       "grid_auto_rows": null,
       "grid_column": null,
       "grid_gap": null,
       "grid_row": null,
       "grid_template_areas": null,
       "grid_template_columns": null,
       "grid_template_rows": null,
       "height": null,
       "justify_content": null,
       "justify_items": null,
       "left": null,
       "margin": null,
       "max_height": null,
       "max_width": null,
       "min_height": null,
       "min_width": null,
       "object_fit": null,
       "object_position": null,
       "order": null,
       "overflow": null,
       "overflow_x": null,
       "overflow_y": null,
       "padding": null,
       "right": null,
       "top": null,
       "visibility": null,
       "width": null
      }
     },
     "3106c5d4f1464078afeb48debc94197a": {
      "model_module": "@jupyter-widgets/base",
      "model_module_version": "1.2.0",
      "model_name": "LayoutModel",
      "state": {
       "_model_module": "@jupyter-widgets/base",
       "_model_module_version": "1.2.0",
       "_model_name": "LayoutModel",
       "_view_count": null,
       "_view_module": "@jupyter-widgets/base",
       "_view_module_version": "1.2.0",
       "_view_name": "LayoutView",
       "align_content": null,
       "align_items": null,
       "align_self": null,
       "border": null,
       "bottom": null,
       "display": null,
       "flex": null,
       "flex_flow": null,
       "grid_area": null,
       "grid_auto_columns": null,
       "grid_auto_flow": null,
       "grid_auto_rows": null,
       "grid_column": null,
       "grid_gap": null,
       "grid_row": null,
       "grid_template_areas": null,
       "grid_template_columns": null,
       "grid_template_rows": null,
       "height": null,
       "justify_content": null,
       "justify_items": null,
       "left": null,
       "margin": null,
       "max_height": null,
       "max_width": null,
       "min_height": null,
       "min_width": null,
       "object_fit": null,
       "object_position": null,
       "order": null,
       "overflow": null,
       "overflow_x": null,
       "overflow_y": null,
       "padding": null,
       "right": null,
       "top": null,
       "visibility": null,
       "width": null
      }
     },
     "35d1064b990b4eb6b67e3c875cff234d": {
      "model_module": "@jupyter-widgets/controls",
      "model_module_version": "1.5.0",
      "model_name": "ProgressStyleModel",
      "state": {
       "_model_module": "@jupyter-widgets/controls",
       "_model_module_version": "1.5.0",
       "_model_name": "ProgressStyleModel",
       "_view_count": null,
       "_view_module": "@jupyter-widgets/base",
       "_view_module_version": "1.2.0",
       "_view_name": "StyleView",
       "bar_color": null,
       "description_width": ""
      }
     },
     "3ad6761903014a39844b710cec360064": {
      "model_module": "@jupyter-widgets/controls",
      "model_module_version": "1.5.0",
      "model_name": "HTMLModel",
      "state": {
       "_dom_classes": [],
       "_model_module": "@jupyter-widgets/controls",
       "_model_module_version": "1.5.0",
       "_model_name": "HTMLModel",
       "_view_count": null,
       "_view_module": "@jupyter-widgets/controls",
       "_view_module_version": "1.5.0",
       "_view_name": "HTMLView",
       "description": "",
       "description_tooltip": null,
       "layout": "IPY_MODEL_274029a1126a4904a58b224fb70eab3f",
       "placeholder": "​",
       "style": "IPY_MODEL_be14b08ed9a5430a8eec13c43c984e29",
       "value": "100%"
      }
     },
     "3cfdeecc35c84ece869da3e5efdef72f": {
      "model_module": "@jupyter-widgets/controls",
      "model_module_version": "1.5.0",
      "model_name": "HBoxModel",
      "state": {
       "_dom_classes": [],
       "_model_module": "@jupyter-widgets/controls",
       "_model_module_version": "1.5.0",
       "_model_name": "HBoxModel",
       "_view_count": null,
       "_view_module": "@jupyter-widgets/controls",
       "_view_module_version": "1.5.0",
       "_view_name": "HBoxView",
       "box_style": "",
       "children": [
        "IPY_MODEL_3ad6761903014a39844b710cec360064",
        "IPY_MODEL_2207a2d2995744ae86038d613d8662a3",
        "IPY_MODEL_197fbeb883c24986adb414beb15e7dd4"
       ],
       "layout": "IPY_MODEL_f1e0eedfe16a45319a8ca6bfae693c24"
      }
     },
     "420c9647b5f9483bbb324d8ef08e387c": {
      "model_module": "@jupyter-widgets/controls",
      "model_module_version": "1.5.0",
      "model_name": "HTMLModel",
      "state": {
       "_dom_classes": [],
       "_model_module": "@jupyter-widgets/controls",
       "_model_module_version": "1.5.0",
       "_model_name": "HTMLModel",
       "_view_count": null,
       "_view_module": "@jupyter-widgets/controls",
       "_view_module_version": "1.5.0",
       "_view_name": "HTMLView",
       "description": "",
       "description_tooltip": null,
       "layout": "IPY_MODEL_3106c5d4f1464078afeb48debc94197a",
       "placeholder": "​",
       "style": "IPY_MODEL_4f466ad62cf249aabe8ee755b48f5335",
       "value": "100%"
      }
     },
     "477e825074a94bd9aba8ce83dc50c57b": {
      "model_module": "@jupyter-widgets/controls",
      "model_module_version": "1.5.0",
      "model_name": "DescriptionStyleModel",
      "state": {
       "_model_module": "@jupyter-widgets/controls",
       "_model_module_version": "1.5.0",
       "_model_name": "DescriptionStyleModel",
       "_view_count": null,
       "_view_module": "@jupyter-widgets/base",
       "_view_module_version": "1.2.0",
       "_view_name": "StyleView",
       "description_width": ""
      }
     },
     "48f5a38478ec44e1afb8004c7df5e0db": {
      "model_module": "@jupyter-widgets/controls",
      "model_module_version": "1.5.0",
      "model_name": "HTMLModel",
      "state": {
       "_dom_classes": [],
       "_model_module": "@jupyter-widgets/controls",
       "_model_module_version": "1.5.0",
       "_model_name": "HTMLModel",
       "_view_count": null,
       "_view_module": "@jupyter-widgets/controls",
       "_view_module_version": "1.5.0",
       "_view_name": "HTMLView",
       "description": "",
       "description_tooltip": null,
       "layout": "IPY_MODEL_0bac91ec4e4843f5bd7443bcda5efff0",
       "placeholder": "​",
       "style": "IPY_MODEL_154e87161e434a55b101191816ca277a",
       "value": " 375806/375806 [00:03&lt;00:00, 100808.53it/s]"
      }
     },
     "4bf02bec53374981a6d927bf084cdcdb": {
      "model_module": "@jupyter-widgets/base",
      "model_module_version": "1.2.0",
      "model_name": "LayoutModel",
      "state": {
       "_model_module": "@jupyter-widgets/base",
       "_model_module_version": "1.2.0",
       "_model_name": "LayoutModel",
       "_view_count": null,
       "_view_module": "@jupyter-widgets/base",
       "_view_module_version": "1.2.0",
       "_view_name": "LayoutView",
       "align_content": null,
       "align_items": null,
       "align_self": null,
       "border": null,
       "bottom": null,
       "display": null,
       "flex": null,
       "flex_flow": null,
       "grid_area": null,
       "grid_auto_columns": null,
       "grid_auto_flow": null,
       "grid_auto_rows": null,
       "grid_column": null,
       "grid_gap": null,
       "grid_row": null,
       "grid_template_areas": null,
       "grid_template_columns": null,
       "grid_template_rows": null,
       "height": null,
       "justify_content": null,
       "justify_items": null,
       "left": null,
       "margin": null,
       "max_height": null,
       "max_width": null,
       "min_height": null,
       "min_width": null,
       "object_fit": null,
       "object_position": null,
       "order": null,
       "overflow": null,
       "overflow_x": null,
       "overflow_y": null,
       "padding": null,
       "right": null,
       "top": null,
       "visibility": null,
       "width": null
      }
     },
     "4f466ad62cf249aabe8ee755b48f5335": {
      "model_module": "@jupyter-widgets/controls",
      "model_module_version": "1.5.0",
      "model_name": "DescriptionStyleModel",
      "state": {
       "_model_module": "@jupyter-widgets/controls",
       "_model_module_version": "1.5.0",
       "_model_name": "DescriptionStyleModel",
       "_view_count": null,
       "_view_module": "@jupyter-widgets/base",
       "_view_module_version": "1.2.0",
       "_view_name": "StyleView",
       "description_width": ""
      }
     },
     "6be2ac99a2444258b875c3bbc349792e": {
      "model_module": "@jupyter-widgets/controls",
      "model_module_version": "1.5.0",
      "model_name": "HTMLModel",
      "state": {
       "_dom_classes": [],
       "_model_module": "@jupyter-widgets/controls",
       "_model_module_version": "1.5.0",
       "_model_name": "HTMLModel",
       "_view_count": null,
       "_view_module": "@jupyter-widgets/controls",
       "_view_module_version": "1.5.0",
       "_view_name": "HTMLView",
       "description": "",
       "description_tooltip": null,
       "layout": "IPY_MODEL_1f1a6c574027494098f584747bfc927a",
       "placeholder": "​",
       "style": "IPY_MODEL_477e825074a94bd9aba8ce83dc50c57b",
       "value": " 235102/235102 [00:02&lt;00:00, 99284.23it/s]"
      }
     },
     "90c54b1bba124c89bf057f549d58ab43": {
      "model_module": "@jupyter-widgets/controls",
      "model_module_version": "1.5.0",
      "model_name": "DescriptionStyleModel",
      "state": {
       "_model_module": "@jupyter-widgets/controls",
       "_model_module_version": "1.5.0",
       "_model_name": "DescriptionStyleModel",
       "_view_count": null,
       "_view_module": "@jupyter-widgets/base",
       "_view_module_version": "1.2.0",
       "_view_name": "StyleView",
       "description_width": ""
      }
     },
     "9ee5af8272f24f89b27e77784ed31e1b": {
      "model_module": "@jupyter-widgets/controls",
      "model_module_version": "1.5.0",
      "model_name": "DescriptionStyleModel",
      "state": {
       "_model_module": "@jupyter-widgets/controls",
       "_model_module_version": "1.5.0",
       "_model_name": "DescriptionStyleModel",
       "_view_count": null,
       "_view_module": "@jupyter-widgets/base",
       "_view_module_version": "1.2.0",
       "_view_name": "StyleView",
       "description_width": ""
      }
     },
     "9ff2f4d283084531a5df1179b703f2f9": {
      "model_module": "@jupyter-widgets/controls",
      "model_module_version": "1.5.0",
      "model_name": "FloatProgressModel",
      "state": {
       "_dom_classes": [],
       "_model_module": "@jupyter-widgets/controls",
       "_model_module_version": "1.5.0",
       "_model_name": "FloatProgressModel",
       "_view_count": null,
       "_view_module": "@jupyter-widgets/controls",
       "_view_module_version": "1.5.0",
       "_view_name": "ProgressView",
       "bar_style": "success",
       "description": "",
       "description_tooltip": null,
       "layout": "IPY_MODEL_d7461e9b9b42400bafb1f233d74e5baa",
       "max": 375806.0,
       "min": 0.0,
       "orientation": "horizontal",
       "style": "IPY_MODEL_193049398a244bbe855d7f70e1d59db4",
       "value": 375806.0
      }
     },
     "a0a6381d58ed45b7aea3fc47824f1467": {
      "model_module": "@jupyter-widgets/controls",
      "model_module_version": "1.5.0",
      "model_name": "ProgressStyleModel",
      "state": {
       "_model_module": "@jupyter-widgets/controls",
       "_model_module_version": "1.5.0",
       "_model_name": "ProgressStyleModel",
       "_view_count": null,
       "_view_module": "@jupyter-widgets/base",
       "_view_module_version": "1.2.0",
       "_view_name": "StyleView",
       "bar_color": null,
       "description_width": ""
      }
     },
     "ad505744fa1f4b399753266fcd2011c7": {
      "model_module": "@jupyter-widgets/controls",
      "model_module_version": "1.5.0",
      "model_name": "HBoxModel",
      "state": {
       "_dom_classes": [],
       "_model_module": "@jupyter-widgets/controls",
       "_model_module_version": "1.5.0",
       "_model_name": "HBoxModel",
       "_view_count": null,
       "_view_module": "@jupyter-widgets/controls",
       "_view_module_version": "1.5.0",
       "_view_name": "HBoxView",
       "box_style": "",
       "children": [
        "IPY_MODEL_2148d17d5f5b4557b4d7add5448aad12",
        "IPY_MODEL_dd1035a2e0df47279571ec2a8761af2b",
        "IPY_MODEL_d50db0ec28214c909a0e698b2a57c9fc"
       ],
       "layout": "IPY_MODEL_4bf02bec53374981a6d927bf084cdcdb"
      }
     },
     "ad7eefe4c241438d9a712f6b28c5ab1d": {
      "model_module": "@jupyter-widgets/base",
      "model_module_version": "1.2.0",
      "model_name": "LayoutModel",
      "state": {
       "_model_module": "@jupyter-widgets/base",
       "_model_module_version": "1.2.0",
       "_model_name": "LayoutModel",
       "_view_count": null,
       "_view_module": "@jupyter-widgets/base",
       "_view_module_version": "1.2.0",
       "_view_name": "LayoutView",
       "align_content": null,
       "align_items": null,
       "align_self": null,
       "border": null,
       "bottom": null,
       "display": null,
       "flex": null,
       "flex_flow": null,
       "grid_area": null,
       "grid_auto_columns": null,
       "grid_auto_flow": null,
       "grid_auto_rows": null,
       "grid_column": null,
       "grid_gap": null,
       "grid_row": null,
       "grid_template_areas": null,
       "grid_template_columns": null,
       "grid_template_rows": null,
       "height": null,
       "justify_content": null,
       "justify_items": null,
       "left": null,
       "margin": null,
       "max_height": null,
       "max_width": null,
       "min_height": null,
       "min_width": null,
       "object_fit": null,
       "object_position": null,
       "order": null,
       "overflow": null,
       "overflow_x": null,
       "overflow_y": null,
       "padding": null,
       "right": null,
       "top": null,
       "visibility": null,
       "width": null
      }
     },
     "b36ff3f0e843417e995b1a3291670a99": {
      "model_module": "@jupyter-widgets/base",
      "model_module_version": "1.2.0",
      "model_name": "LayoutModel",
      "state": {
       "_model_module": "@jupyter-widgets/base",
       "_model_module_version": "1.2.0",
       "_model_name": "LayoutModel",
       "_view_count": null,
       "_view_module": "@jupyter-widgets/base",
       "_view_module_version": "1.2.0",
       "_view_name": "LayoutView",
       "align_content": null,
       "align_items": null,
       "align_self": null,
       "border": null,
       "bottom": null,
       "display": null,
       "flex": null,
       "flex_flow": null,
       "grid_area": null,
       "grid_auto_columns": null,
       "grid_auto_flow": null,
       "grid_auto_rows": null,
       "grid_column": null,
       "grid_gap": null,
       "grid_row": null,
       "grid_template_areas": null,
       "grid_template_columns": null,
       "grid_template_rows": null,
       "height": null,
       "justify_content": null,
       "justify_items": null,
       "left": null,
       "margin": null,
       "max_height": null,
       "max_width": null,
       "min_height": null,
       "min_width": null,
       "object_fit": null,
       "object_position": null,
       "order": null,
       "overflow": null,
       "overflow_x": null,
       "overflow_y": null,
       "padding": null,
       "right": null,
       "top": null,
       "visibility": null,
       "width": null
      }
     },
     "b8150c7d52e64b828ef79429ebbff2c5": {
      "model_module": "@jupyter-widgets/controls",
      "model_module_version": "1.5.0",
      "model_name": "HTMLModel",
      "state": {
       "_dom_classes": [],
       "_model_module": "@jupyter-widgets/controls",
       "_model_module_version": "1.5.0",
       "_model_name": "HTMLModel",
       "_view_count": null,
       "_view_module": "@jupyter-widgets/controls",
       "_view_module_version": "1.5.0",
       "_view_name": "HTMLView",
       "description": "",
       "description_tooltip": null,
       "layout": "IPY_MODEL_fdeaca2549f844c8a2c6dfb7b86938c4",
       "placeholder": "​",
       "style": "IPY_MODEL_90c54b1bba124c89bf057f549d58ab43",
       "value": "100%"
      }
     },
     "be14b08ed9a5430a8eec13c43c984e29": {
      "model_module": "@jupyter-widgets/controls",
      "model_module_version": "1.5.0",
      "model_name": "DescriptionStyleModel",
      "state": {
       "_model_module": "@jupyter-widgets/controls",
       "_model_module_version": "1.5.0",
       "_model_name": "DescriptionStyleModel",
       "_view_count": null,
       "_view_module": "@jupyter-widgets/base",
       "_view_module_version": "1.2.0",
       "_view_name": "StyleView",
       "description_width": ""
      }
     },
     "c572b090282a4288b40ad1713f464ea6": {
      "model_module": "@jupyter-widgets/base",
      "model_module_version": "1.2.0",
      "model_name": "LayoutModel",
      "state": {
       "_model_module": "@jupyter-widgets/base",
       "_model_module_version": "1.2.0",
       "_model_name": "LayoutModel",
       "_view_count": null,
       "_view_module": "@jupyter-widgets/base",
       "_view_module_version": "1.2.0",
       "_view_name": "LayoutView",
       "align_content": null,
       "align_items": null,
       "align_self": null,
       "border": null,
       "bottom": null,
       "display": null,
       "flex": null,
       "flex_flow": null,
       "grid_area": null,
       "grid_auto_columns": null,
       "grid_auto_flow": null,
       "grid_auto_rows": null,
       "grid_column": null,
       "grid_gap": null,
       "grid_row": null,
       "grid_template_areas": null,
       "grid_template_columns": null,
       "grid_template_rows": null,
       "height": null,
       "justify_content": null,
       "justify_items": null,
       "left": null,
       "margin": null,
       "max_height": null,
       "max_width": null,
       "min_height": null,
       "min_width": null,
       "object_fit": null,
       "object_position": null,
       "order": null,
       "overflow": null,
       "overflow_x": null,
       "overflow_y": null,
       "padding": null,
       "right": null,
       "top": null,
       "visibility": null,
       "width": null
      }
     },
     "c5b99eb2b1a24fae95fa8edbbcc69cf6": {
      "model_module": "@jupyter-widgets/controls",
      "model_module_version": "1.5.0",
      "model_name": "DescriptionStyleModel",
      "state": {
       "_model_module": "@jupyter-widgets/controls",
       "_model_module_version": "1.5.0",
       "_model_name": "DescriptionStyleModel",
       "_view_count": null,
       "_view_module": "@jupyter-widgets/base",
       "_view_module_version": "1.2.0",
       "_view_name": "StyleView",
       "description_width": ""
      }
     },
     "c5f625c360c54844bda01234bd1ff514": {
      "model_module": "@jupyter-widgets/base",
      "model_module_version": "1.2.0",
      "model_name": "LayoutModel",
      "state": {
       "_model_module": "@jupyter-widgets/base",
       "_model_module_version": "1.2.0",
       "_model_name": "LayoutModel",
       "_view_count": null,
       "_view_module": "@jupyter-widgets/base",
       "_view_module_version": "1.2.0",
       "_view_name": "LayoutView",
       "align_content": null,
       "align_items": null,
       "align_self": null,
       "border": null,
       "bottom": null,
       "display": null,
       "flex": null,
       "flex_flow": null,
       "grid_area": null,
       "grid_auto_columns": null,
       "grid_auto_flow": null,
       "grid_auto_rows": null,
       "grid_column": null,
       "grid_gap": null,
       "grid_row": null,
       "grid_template_areas": null,
       "grid_template_columns": null,
       "grid_template_rows": null,
       "height": null,
       "justify_content": null,
       "justify_items": null,
       "left": null,
       "margin": null,
       "max_height": null,
       "max_width": null,
       "min_height": null,
       "min_width": null,
       "object_fit": null,
       "object_position": null,
       "order": null,
       "overflow": null,
       "overflow_x": null,
       "overflow_y": null,
       "padding": null,
       "right": null,
       "top": null,
       "visibility": null,
       "width": null
      }
     },
     "ce365462da9e4effb0892910e38aa0f9": {
      "model_module": "@jupyter-widgets/base",
      "model_module_version": "1.2.0",
      "model_name": "LayoutModel",
      "state": {
       "_model_module": "@jupyter-widgets/base",
       "_model_module_version": "1.2.0",
       "_model_name": "LayoutModel",
       "_view_count": null,
       "_view_module": "@jupyter-widgets/base",
       "_view_module_version": "1.2.0",
       "_view_name": "LayoutView",
       "align_content": null,
       "align_items": null,
       "align_self": null,
       "border": null,
       "bottom": null,
       "display": null,
       "flex": null,
       "flex_flow": null,
       "grid_area": null,
       "grid_auto_columns": null,
       "grid_auto_flow": null,
       "grid_auto_rows": null,
       "grid_column": null,
       "grid_gap": null,
       "grid_row": null,
       "grid_template_areas": null,
       "grid_template_columns": null,
       "grid_template_rows": null,
       "height": null,
       "justify_content": null,
       "justify_items": null,
       "left": null,
       "margin": null,
       "max_height": null,
       "max_width": null,
       "min_height": null,
       "min_width": null,
       "object_fit": null,
       "object_position": null,
       "order": null,
       "overflow": null,
       "overflow_x": null,
       "overflow_y": null,
       "padding": null,
       "right": null,
       "top": null,
       "visibility": null,
       "width": null
      }
     },
     "d50db0ec28214c909a0e698b2a57c9fc": {
      "model_module": "@jupyter-widgets/controls",
      "model_module_version": "1.5.0",
      "model_name": "HTMLModel",
      "state": {
       "_dom_classes": [],
       "_model_module": "@jupyter-widgets/controls",
       "_model_module_version": "1.5.0",
       "_model_name": "HTMLModel",
       "_view_count": null,
       "_view_module": "@jupyter-widgets/controls",
       "_view_module_version": "1.5.0",
       "_view_name": "HTMLView",
       "description": "",
       "description_tooltip": null,
       "layout": "IPY_MODEL_ad7eefe4c241438d9a712f6b28c5ab1d",
       "placeholder": "​",
       "style": "IPY_MODEL_c5b99eb2b1a24fae95fa8edbbcc69cf6",
       "value": " 330010/330010 [00:15&lt;00:00, 14927.43it/s]"
      }
     },
     "d7461e9b9b42400bafb1f233d74e5baa": {
      "model_module": "@jupyter-widgets/base",
      "model_module_version": "1.2.0",
      "model_name": "LayoutModel",
      "state": {
       "_model_module": "@jupyter-widgets/base",
       "_model_module_version": "1.2.0",
       "_model_name": "LayoutModel",
       "_view_count": null,
       "_view_module": "@jupyter-widgets/base",
       "_view_module_version": "1.2.0",
       "_view_name": "LayoutView",
       "align_content": null,
       "align_items": null,
       "align_self": null,
       "border": null,
       "bottom": null,
       "display": null,
       "flex": null,
       "flex_flow": null,
       "grid_area": null,
       "grid_auto_columns": null,
       "grid_auto_flow": null,
       "grid_auto_rows": null,
       "grid_column": null,
       "grid_gap": null,
       "grid_row": null,
       "grid_template_areas": null,
       "grid_template_columns": null,
       "grid_template_rows": null,
       "height": null,
       "justify_content": null,
       "justify_items": null,
       "left": null,
       "margin": null,
       "max_height": null,
       "max_width": null,
       "min_height": null,
       "min_width": null,
       "object_fit": null,
       "object_position": null,
       "order": null,
       "overflow": null,
       "overflow_x": null,
       "overflow_y": null,
       "padding": null,
       "right": null,
       "top": null,
       "visibility": null,
       "width": null
      }
     },
     "dd1035a2e0df47279571ec2a8761af2b": {
      "model_module": "@jupyter-widgets/controls",
      "model_module_version": "1.5.0",
      "model_name": "FloatProgressModel",
      "state": {
       "_dom_classes": [],
       "_model_module": "@jupyter-widgets/controls",
       "_model_module_version": "1.5.0",
       "_model_name": "FloatProgressModel",
       "_view_count": null,
       "_view_module": "@jupyter-widgets/controls",
       "_view_module_version": "1.5.0",
       "_view_name": "ProgressView",
       "bar_style": "success",
       "description": "",
       "description_tooltip": null,
       "layout": "IPY_MODEL_b36ff3f0e843417e995b1a3291670a99",
       "max": 330010.0,
       "min": 0.0,
       "orientation": "horizontal",
       "style": "IPY_MODEL_35d1064b990b4eb6b67e3c875cff234d",
       "value": 330010.0
      }
     },
     "e6ea17cddd374e8f9793aa4e271ff351": {
      "model_module": "@jupyter-widgets/base",
      "model_module_version": "1.2.0",
      "model_name": "LayoutModel",
      "state": {
       "_model_module": "@jupyter-widgets/base",
       "_model_module_version": "1.2.0",
       "_model_name": "LayoutModel",
       "_view_count": null,
       "_view_module": "@jupyter-widgets/base",
       "_view_module_version": "1.2.0",
       "_view_name": "LayoutView",
       "align_content": null,
       "align_items": null,
       "align_self": null,
       "border": null,
       "bottom": null,
       "display": null,
       "flex": null,
       "flex_flow": null,
       "grid_area": null,
       "grid_auto_columns": null,
       "grid_auto_flow": null,
       "grid_auto_rows": null,
       "grid_column": null,
       "grid_gap": null,
       "grid_row": null,
       "grid_template_areas": null,
       "grid_template_columns": null,
       "grid_template_rows": null,
       "height": null,
       "justify_content": null,
       "justify_items": null,
       "left": null,
       "margin": null,
       "max_height": null,
       "max_width": null,
       "min_height": null,
       "min_width": null,
       "object_fit": null,
       "object_position": null,
       "order": null,
       "overflow": null,
       "overflow_x": null,
       "overflow_y": null,
       "padding": null,
       "right": null,
       "top": null,
       "visibility": null,
       "width": null
      }
     },
     "ec71f397e4ee42acbc5eb0dd749a1659": {
      "model_module": "@jupyter-widgets/controls",
      "model_module_version": "1.5.0",
      "model_name": "ProgressStyleModel",
      "state": {
       "_model_module": "@jupyter-widgets/controls",
       "_model_module_version": "1.5.0",
       "_model_name": "ProgressStyleModel",
       "_view_count": null,
       "_view_module": "@jupyter-widgets/base",
       "_view_module_version": "1.2.0",
       "_view_name": "StyleView",
       "bar_color": null,
       "description_width": ""
      }
     },
     "f1e0eedfe16a45319a8ca6bfae693c24": {
      "model_module": "@jupyter-widgets/base",
      "model_module_version": "1.2.0",
      "model_name": "LayoutModel",
      "state": {
       "_model_module": "@jupyter-widgets/base",
       "_model_module_version": "1.2.0",
       "_model_name": "LayoutModel",
       "_view_count": null,
       "_view_module": "@jupyter-widgets/base",
       "_view_module_version": "1.2.0",
       "_view_name": "LayoutView",
       "align_content": null,
       "align_items": null,
       "align_self": null,
       "border": null,
       "bottom": null,
       "display": null,
       "flex": null,
       "flex_flow": null,
       "grid_area": null,
       "grid_auto_columns": null,
       "grid_auto_flow": null,
       "grid_auto_rows": null,
       "grid_column": null,
       "grid_gap": null,
       "grid_row": null,
       "grid_template_areas": null,
       "grid_template_columns": null,
       "grid_template_rows": null,
       "height": null,
       "justify_content": null,
       "justify_items": null,
       "left": null,
       "margin": null,
       "max_height": null,
       "max_width": null,
       "min_height": null,
       "min_width": null,
       "object_fit": null,
       "object_position": null,
       "order": null,
       "overflow": null,
       "overflow_x": null,
       "overflow_y": null,
       "padding": null,
       "right": null,
       "top": null,
       "visibility": null,
       "width": null
      }
     },
     "fdeaca2549f844c8a2c6dfb7b86938c4": {
      "model_module": "@jupyter-widgets/base",
      "model_module_version": "1.2.0",
      "model_name": "LayoutModel",
      "state": {
       "_model_module": "@jupyter-widgets/base",
       "_model_module_version": "1.2.0",
       "_model_name": "LayoutModel",
       "_view_count": null,
       "_view_module": "@jupyter-widgets/base",
       "_view_module_version": "1.2.0",
       "_view_name": "LayoutView",
       "align_content": null,
       "align_items": null,
       "align_self": null,
       "border": null,
       "bottom": null,
       "display": null,
       "flex": null,
       "flex_flow": null,
       "grid_area": null,
       "grid_auto_columns": null,
       "grid_auto_flow": null,
       "grid_auto_rows": null,
       "grid_column": null,
       "grid_gap": null,
       "grid_row": null,
       "grid_template_areas": null,
       "grid_template_columns": null,
       "grid_template_rows": null,
       "height": null,
       "justify_content": null,
       "justify_items": null,
       "left": null,
       "margin": null,
       "max_height": null,
       "max_width": null,
       "min_height": null,
       "min_width": null,
       "object_fit": null,
       "object_position": null,
       "order": null,
       "overflow": null,
       "overflow_x": null,
       "overflow_y": null,
       "padding": null,
       "right": null,
       "top": null,
       "visibility": null,
       "width": null
      }
     }
    },
    "version_major": 2,
    "version_minor": 0
   }
  }
 },
 "nbformat": 4,
 "nbformat_minor": 5
}
