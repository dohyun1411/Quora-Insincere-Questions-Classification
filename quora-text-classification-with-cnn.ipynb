{
 "cells": [
  {
   "cell_type": "code",
   "execution_count": 1,
   "id": "pretty-resolution",
   "metadata": {
    "execution": {
     "iopub.execute_input": "2021-06-16T18:07:32.583907Z",
     "iopub.status.busy": "2021-06-16T18:07:32.582431Z",
     "iopub.status.idle": "2021-06-16T18:07:38.510493Z",
     "shell.execute_reply": "2021-06-16T18:07:38.509868Z",
     "shell.execute_reply.started": "2021-06-16T16:29:19.573787Z"
    },
    "id": "mZ_Kk7K3T3oh",
    "outputId": "f78e75be-969e-4f6f-c410-b3f758e88f30",
    "papermill": {
     "duration": 5.962986,
     "end_time": "2021-06-16T18:07:38.510659",
     "exception": false,
     "start_time": "2021-06-16T18:07:32.547673",
     "status": "completed"
    },
    "tags": []
   },
   "outputs": [],
   "source": [
    "\n",
    "import os\n",
    "import pandas as pd\n",
    "import numpy as np\n",
    "import matplotlib.pyplot as plt\n",
    "%matplotlib inline\n",
    "\n",
    "from sklearn import preprocessing\n",
    "from tensorflow.keras.preprocessing.text import Tokenizer\n",
    "from tensorflow.keras.preprocessing.sequence import pad_sequences\n",
    "from tensorflow.keras.utils import to_categorical\n",
    "from sklearn.metrics import classification_report\n",
    "from tqdm.auto import tqdm\n",
    "tqdm.pandas()"
   ]
  },
  {
   "cell_type": "markdown",
   "id": "vanilla-logistics",
   "metadata": {
    "id": "t-prIawhUGcG",
    "papermill": {
     "duration": 0.022044,
     "end_time": "2021-06-16T18:07:38.555457",
     "exception": false,
     "start_time": "2021-06-16T18:07:38.533413",
     "status": "completed"
    },
    "tags": []
   },
   "source": [
    "Import training data, test data"
   ]
  },
  {
   "cell_type": "code",
   "execution_count": 2,
   "id": "rental-brooklyn",
   "metadata": {
    "execution": {
     "iopub.execute_input": "2021-06-16T18:07:38.605769Z",
     "iopub.status.busy": "2021-06-16T18:07:38.605134Z",
     "iopub.status.idle": "2021-06-16T18:07:42.941772Z",
     "shell.execute_reply": "2021-06-16T18:07:42.942201Z",
     "shell.execute_reply.started": "2021-06-16T16:29:24.931605Z"
    },
    "id": "RIb7mz4LUF80",
    "outputId": "c9e6a259-13be-464d-9fff-5e37917b2948",
    "papermill": {
     "duration": 4.363852,
     "end_time": "2021-06-16T18:07:42.942350",
     "exception": false,
     "start_time": "2021-06-16T18:07:38.578498",
     "status": "completed"
    },
    "tags": []
   },
   "outputs": [
    {
     "name": "stdout",
     "output_type": "stream",
     "text": [
      "Train shape :  (1306122, 3)\n",
      "Test shape :  (375806, 2)\n"
     ]
    }
   ],
   "source": [
    "train_df = pd.read_csv(\"../input/quora-insincere-questions-classification/train.csv\")\n",
    "test_df = pd.read_csv(\"../input/quora-insincere-questions-classification/test.csv\")\n",
    "print(\"Train shape : \",train_df.shape)\n",
    "print(\"Test shape : \",test_df.shape)"
   ]
  },
  {
   "cell_type": "markdown",
   "id": "related-tongue",
   "metadata": {
    "id": "0Cm9DDLwX20-",
    "papermill": {
     "duration": 0.021794,
     "end_time": "2021-06-16T18:07:42.986252",
     "exception": false,
     "start_time": "2021-06-16T18:07:42.964458",
     "status": "completed"
    },
    "tags": []
   },
   "source": [
    "Load and improve embedding"
   ]
  },
  {
   "cell_type": "code",
   "execution_count": 3,
   "id": "interior-amendment",
   "metadata": {
    "execution": {
     "iopub.execute_input": "2021-06-16T18:07:43.036700Z",
     "iopub.status.busy": "2021-06-16T18:07:43.036043Z",
     "iopub.status.idle": "2021-06-16T18:07:43.168005Z",
     "shell.execute_reply": "2021-06-16T18:07:43.167547Z",
     "shell.execute_reply.started": "2021-06-16T16:29:29.030464Z"
    },
    "id": "qtWlD-POVDT7",
    "papermill": {
     "duration": 0.160269,
     "end_time": "2021-06-16T18:07:43.168161",
     "exception": false,
     "start_time": "2021-06-16T18:07:43.007892",
     "status": "completed"
    },
    "tags": []
   },
   "outputs": [],
   "source": [
    "import zipfile\n",
    "from gensim.models import KeyedVectors\n",
    "import numpy as np\n",
    "\n",
    "embeddings_path = \"../input/quora-insincere-questions-classification/embeddings.zip\"\n",
    "glove = 'glove.840B.300d/glove.840B.300d.txt'\n",
    "wiki = 'wiki-news-300d-1M/wiki-news-300d-1M.vec'\n",
    "google = 'GoogleNews-vectors-negative300/GoogleNews-vectors-negative300.bin'\n",
    "para = 'paragram_300_sl999/paragram_300_sl999.txt'\n",
    "\n",
    "\n",
    "def load_embedding(embedding_name):\n",
    "\n",
    "    def get_coefs(word, *arr): return word, np.asarray(arr, dtype='float32')\n",
    "\n",
    "    with zipfile.ZipFile(embeddings_path) as embeddings_zip:\n",
    "        print(\"Found embeddings as a zip file\")\n",
    "\n",
    "        if embedding_name == google:\n",
    "            return KeyedVectors.load_word2vec_format(embeddings_zip.open(google), binary=True)\n",
    "\n",
    "        else:\n",
    "            embedding = []\n",
    "            for o in embeddings_zip.open(embedding_name):\n",
    "                try:\n",
    "                    if len(o.decode('utf-8')) > 100:\n",
    "                        embedding.append(get_coefs(*o.decode('utf-8').split(\" \")))\n",
    "                except:\n",
    "                    pass\n",
    "        \n",
    "        return dict(embedding)"
   ]
  },
  {
   "cell_type": "code",
   "execution_count": 4,
   "id": "tracked-clerk",
   "metadata": {
    "execution": {
     "iopub.execute_input": "2021-06-16T18:07:43.215594Z",
     "iopub.status.busy": "2021-06-16T18:07:43.215040Z",
     "iopub.status.idle": "2021-06-16T18:07:43.218820Z",
     "shell.execute_reply": "2021-06-16T18:07:43.218421Z",
     "shell.execute_reply.started": "2021-06-16T16:29:29.148763Z"
    },
    "id": "0N9T-CxMVZUo",
    "papermill": {
     "duration": 0.028647,
     "end_time": "2021-06-16T18:07:43.218925",
     "exception": false,
     "start_time": "2021-06-16T18:07:43.190278",
     "status": "completed"
    },
    "tags": []
   },
   "outputs": [],
   "source": [
    "n_splits = 5\n",
    "seed = 31\n",
    "puncts = '´‘’“”…!#$%&()*+,-./:;<=>?@[\\]^_`{|}~\"' + \"'\""
   ]
  },
  {
   "cell_type": "code",
   "execution_count": 5,
   "id": "qualified-german",
   "metadata": {
    "execution": {
     "iopub.execute_input": "2021-06-16T18:07:43.266280Z",
     "iopub.status.busy": "2021-06-16T18:07:43.265631Z",
     "iopub.status.idle": "2021-06-16T18:07:43.319452Z",
     "shell.execute_reply": "2021-06-16T18:07:43.318999Z",
     "shell.execute_reply.started": "2021-06-16T16:29:29.156482Z"
    },
    "id": "X_U7oxxfVqFk",
    "papermill": {
     "duration": 0.079079,
     "end_time": "2021-06-16T18:07:43.319562",
     "exception": false,
     "start_time": "2021-06-16T18:07:43.240483",
     "status": "completed"
    },
    "tags": []
   },
   "outputs": [],
   "source": [
    "from keras.preprocessing.text import Tokenizer\n",
    "\n",
    "to_exclude = ''\n",
    "to_tokenize = puncts\n",
    "\n",
    "tokenizer = Tokenizer(filters=to_exclude, lower=False)"
   ]
  },
  {
   "cell_type": "markdown",
   "id": "sonic-controversy",
   "metadata": {
    "id": "MLTblDpAYFNY",
    "papermill": {
     "duration": 0.02136,
     "end_time": "2021-06-16T18:07:43.362654",
     "exception": false,
     "start_time": "2021-06-16T18:07:43.341294",
     "status": "completed"
    },
    "tags": []
   },
   "source": [
    "Split the data into train, validation, test"
   ]
  },
  {
   "cell_type": "code",
   "execution_count": 6,
   "id": "ecological-former",
   "metadata": {
    "execution": {
     "iopub.execute_input": "2021-06-16T18:07:43.411710Z",
     "iopub.status.busy": "2021-06-16T18:07:43.411078Z",
     "iopub.status.idle": "2021-06-16T18:07:44.484047Z",
     "shell.execute_reply": "2021-06-16T18:07:44.482983Z",
     "shell.execute_reply.started": "2021-06-16T16:29:29.214694Z"
    },
    "id": "OUiQs89YV2i5",
    "papermill": {
     "duration": 1.099838,
     "end_time": "2021-06-16T18:07:44.484232",
     "exception": false,
     "start_time": "2021-06-16T18:07:43.384394",
     "status": "completed"
    },
    "tags": []
   },
   "outputs": [],
   "source": [
    "from sklearn.model_selection import train_test_split, KFold\n",
    "\n",
    "kfold = KFold(n_splits=n_splits, shuffle=True, random_state=seed)\n",
    "\n",
    "train_df, val_df = train_test_split(train_df, test_size=0.1)\n",
    "\n",
    "train_idx, val_idx = list(kfold.split(train_df))[0]\n",
    "train_df, val_df = train_df.iloc[train_idx], train_df.iloc[val_idx]\n",
    "\n",
    "train_text = train_df[\"question_text\"].fillna(\"_na_\")\n",
    "val_text = val_df[\"question_text\"].fillna(\"_na_\")\n",
    "test_text = test_df[\"question_text\"].fillna(\"_na_\")\n",
    "\n",
    "train_y = train_df['target'].values\n",
    "val_y = val_df['target'].values"
   ]
  },
  {
   "cell_type": "code",
   "execution_count": 7,
   "id": "human-sport",
   "metadata": {
    "execution": {
     "iopub.execute_input": "2021-06-16T18:07:44.536014Z",
     "iopub.status.busy": "2021-06-16T18:07:44.535117Z",
     "iopub.status.idle": "2021-06-16T18:08:00.601919Z",
     "shell.execute_reply": "2021-06-16T18:08:00.600142Z",
     "shell.execute_reply.started": "2021-06-16T16:29:30.275521Z"
    },
    "id": "MW1K5kXcWaIf",
    "outputId": "147be849-4cd4-479e-e3f9-5044581b7592",
    "papermill": {
     "duration": 16.094266,
     "end_time": "2021-06-16T18:08:00.602036",
     "exception": false,
     "start_time": "2021-06-16T18:07:44.507770",
     "status": "completed"
    },
    "tags": []
   },
   "outputs": [
    {
     "data": {
      "application/vnd.jupyter.widget-view+json": {
       "model_id": "4b71bb55f22e4680b0a10a5317b8c3be",
       "version_major": 2,
       "version_minor": 0
      },
      "text/plain": [
       "  0%|          | 0/940407 [00:00<?, ?it/s]"
      ]
     },
     "metadata": {},
     "output_type": "display_data"
    },
    {
     "data": {
      "application/vnd.jupyter.widget-view+json": {
       "model_id": "eec96dc0f67a41268a42a1adc194874c",
       "version_major": 2,
       "version_minor": 0
      },
      "text/plain": [
       "  0%|          | 0/235102 [00:00<?, ?it/s]"
      ]
     },
     "metadata": {},
     "output_type": "display_data"
    },
    {
     "data": {
      "application/vnd.jupyter.widget-view+json": {
       "model_id": "a50bd7e7686d4494b416fc8476cd1b99",
       "version_major": 2,
       "version_minor": 0
      },
      "text/plain": [
       "  0%|          | 0/375806 [00:00<?, ?it/s]"
      ]
     },
     "metadata": {},
     "output_type": "display_data"
    }
   ],
   "source": [
    "import re\n",
    "\n",
    "train_text = train_text.progress_apply(lambda x: re.sub(r'(['+to_tokenize+'])', r' \\1', x)).values\n",
    "val_text = val_text.progress_apply(lambda x: re.sub(r'(['+to_tokenize+'])', r' \\1', x)).values\n",
    "test_text = test_text.progress_apply(lambda x: re.sub(r'(['+to_tokenize+'])', r' \\1', x)).values"
   ]
  },
  {
   "cell_type": "code",
   "execution_count": 8,
   "id": "quality-discussion",
   "metadata": {
    "execution": {
     "iopub.execute_input": "2021-06-16T18:08:00.784593Z",
     "iopub.status.busy": "2021-06-16T18:08:00.782884Z",
     "iopub.status.idle": "2021-06-16T18:08:00.785202Z",
     "shell.execute_reply": "2021-06-16T18:08:00.785602Z",
     "shell.execute_reply.started": "2021-06-16T16:29:46.213776Z"
    },
    "id": "bU04kQ9DWlLc",
    "papermill": {
     "duration": 0.160233,
     "end_time": "2021-06-16T18:08:00.785744",
     "exception": false,
     "start_time": "2021-06-16T18:08:00.625511",
     "status": "completed"
    },
    "tags": []
   },
   "outputs": [],
   "source": [
    "text = list(train_text) + list(val_text) + list(test_text)"
   ]
  },
  {
   "cell_type": "markdown",
   "id": "antique-stupid",
   "metadata": {
    "id": "VMuUmeN5YQug",
    "papermill": {
     "duration": 0.022643,
     "end_time": "2021-06-16T18:08:00.831503",
     "exception": false,
     "start_time": "2021-06-16T18:08:00.808860",
     "status": "completed"
    },
    "tags": []
   },
   "source": [
    "Tokenize the text"
   ]
  },
  {
   "cell_type": "code",
   "execution_count": 9,
   "id": "empty-stable",
   "metadata": {
    "execution": {
     "iopub.execute_input": "2021-06-16T18:08:00.920251Z",
     "iopub.status.busy": "2021-06-16T18:08:00.910004Z",
     "iopub.status.idle": "2021-06-16T18:08:24.004254Z",
     "shell.execute_reply": "2021-06-16T18:08:24.003757Z",
     "shell.execute_reply.started": "2021-06-16T16:29:46.357604Z"
    },
    "id": "Jv4mPsn4WvGa",
    "outputId": "66449ab7-f945-49a7-82de-faa33c535788",
    "papermill": {
     "duration": 23.15011,
     "end_time": "2021-06-16T18:08:24.004384",
     "exception": false,
     "start_time": "2021-06-16T18:08:00.854274",
     "status": "completed"
    },
    "tags": []
   },
   "outputs": [
    {
     "name": "stdout",
     "output_type": "stream",
     "text": [
      "CPU times: user 22.8 s, sys: 109 ms, total: 22.9 s\n",
      "Wall time: 23.1 s\n"
     ]
    }
   ],
   "source": [
    "%%time\n",
    "tokenizer.fit_on_texts(text)"
   ]
  },
  {
   "cell_type": "markdown",
   "id": "electoral-roberts",
   "metadata": {
    "id": "WJrdp7QTYVH_",
    "papermill": {
     "duration": 0.022885,
     "end_time": "2021-06-16T18:08:24.050965",
     "exception": false,
     "start_time": "2021-06-16T18:08:24.028080",
     "status": "completed"
    },
    "tags": []
   },
   "source": [
    "Encoding the word to integer"
   ]
  },
  {
   "cell_type": "code",
   "execution_count": 10,
   "id": "molecular-involvement",
   "metadata": {
    "execution": {
     "iopub.execute_input": "2021-06-16T18:08:24.100762Z",
     "iopub.status.busy": "2021-06-16T18:08:24.100136Z",
     "iopub.status.idle": "2021-06-16T18:08:24.103011Z",
     "shell.execute_reply": "2021-06-16T18:08:24.102615Z",
     "shell.execute_reply.started": "2021-06-16T16:30:08.717781Z"
    },
    "id": "eIoRK2RfW4q8",
    "papermill": {
     "duration": 0.029016,
     "end_time": "2021-06-16T18:08:24.103148",
     "exception": false,
     "start_time": "2021-06-16T18:08:24.074132",
     "status": "completed"
    },
    "tags": []
   },
   "outputs": [],
   "source": [
    "word_index = tokenizer.word_index"
   ]
  },
  {
   "cell_type": "markdown",
   "id": "loving-roads",
   "metadata": {
    "id": "FVvuv8pgYd6b",
    "papermill": {
     "duration": 0.022821,
     "end_time": "2021-06-16T18:08:24.149280",
     "exception": false,
     "start_time": "2021-06-16T18:08:24.126459",
     "status": "completed"
    },
    "tags": []
   },
   "source": [
    "Encoding the text to interger sequence"
   ]
  },
  {
   "cell_type": "code",
   "execution_count": 11,
   "id": "wound-trust",
   "metadata": {
    "execution": {
     "iopub.execute_input": "2021-06-16T18:08:24.218019Z",
     "iopub.status.busy": "2021-06-16T18:08:24.212855Z",
     "iopub.status.idle": "2021-06-16T18:08:42.780718Z",
     "shell.execute_reply": "2021-06-16T18:08:42.781142Z",
     "shell.execute_reply.started": "2021-06-16T16:30:08.724551Z"
    },
    "id": "Lt-g_PszW7T-",
    "outputId": "a036bdce-642a-4170-d905-03d188deed0e",
    "papermill": {
     "duration": 18.608905,
     "end_time": "2021-06-16T18:08:42.781291",
     "exception": false,
     "start_time": "2021-06-16T18:08:24.172386",
     "status": "completed"
    },
    "tags": []
   },
   "outputs": [
    {
     "name": "stdout",
     "output_type": "stream",
     "text": [
      "CPU times: user 18.4 s, sys: 179 ms, total: 18.6 s\n",
      "Wall time: 18.6 s\n"
     ]
    }
   ],
   "source": [
    "%%time\n",
    "train_X = tokenizer.texts_to_sequences(train_text)\n",
    "val_X = tokenizer.texts_to_sequences(val_text)\n",
    "test_X = tokenizer.texts_to_sequences(test_text)\n",
    "\n",
    "maxlen = max({len(seq) for seq in train_X} | {len(seq) for seq in val_X} | {len(seq) for seq in test_X})\n",
    "#maxlen = 600"
   ]
  },
  {
   "cell_type": "markdown",
   "id": "american-messenger",
   "metadata": {
    "id": "DNPdD5vyYi6M",
    "papermill": {
     "duration": 0.023103,
     "end_time": "2021-06-16T18:08:42.827885",
     "exception": false,
     "start_time": "2021-06-16T18:08:42.804782",
     "status": "completed"
    },
    "tags": []
   },
   "source": [
    "Pad the sequence to equalize the length"
   ]
  },
  {
   "cell_type": "code",
   "execution_count": 12,
   "id": "refined-cancer",
   "metadata": {
    "execution": {
     "iopub.execute_input": "2021-06-16T18:08:42.878487Z",
     "iopub.status.busy": "2021-06-16T18:08:42.877815Z",
     "iopub.status.idle": "2021-06-16T18:08:55.496901Z",
     "shell.execute_reply": "2021-06-16T18:08:55.496379Z",
     "shell.execute_reply.started": "2021-06-16T16:30:27.116744Z"
    },
    "id": "sjm2hxhcXGZh",
    "papermill": {
     "duration": 12.645973,
     "end_time": "2021-06-16T18:08:55.497042",
     "exception": false,
     "start_time": "2021-06-16T18:08:42.851069",
     "status": "completed"
    },
    "tags": []
   },
   "outputs": [],
   "source": [
    "from keras.preprocessing.sequence import pad_sequences\n",
    "\n",
    "train_X = pad_sequences(train_X, maxlen=maxlen)\n",
    "val_X = pad_sequences(val_X, maxlen=maxlen)\n",
    "test_X = pad_sequences(test_X, maxlen=maxlen)"
   ]
  },
  {
   "cell_type": "code",
   "execution_count": 13,
   "id": "blocked-bristol",
   "metadata": {
    "execution": {
     "iopub.execute_input": "2021-06-16T18:08:55.553367Z",
     "iopub.status.busy": "2021-06-16T18:08:55.552567Z",
     "iopub.status.idle": "2021-06-16T18:08:55.555489Z",
     "shell.execute_reply": "2021-06-16T18:08:55.555019Z",
     "shell.execute_reply.started": "2021-06-16T16:30:39.684172Z"
    },
    "id": "hkY1GClVXRym",
    "papermill": {
     "duration": 0.031127,
     "end_time": "2021-06-16T18:08:55.555592",
     "exception": false,
     "start_time": "2021-06-16T18:08:55.524465",
     "status": "completed"
    },
    "tags": []
   },
   "outputs": [],
   "source": [
    "glove_emb_mean, glove_emb_std = -0.005838499, 0.48782197"
   ]
  },
  {
   "cell_type": "code",
   "execution_count": 14,
   "id": "advanced-teacher",
   "metadata": {
    "execution": {
     "iopub.execute_input": "2021-06-16T18:08:55.609914Z",
     "iopub.status.busy": "2021-06-16T18:08:55.609218Z",
     "iopub.status.idle": "2021-06-16T18:08:55.611961Z",
     "shell.execute_reply": "2021-06-16T18:08:55.611543Z",
     "shell.execute_reply.started": "2021-06-16T16:30:39.691678Z"
    },
    "id": "7PbOJjyzXTtO",
    "papermill": {
     "duration": 0.029623,
     "end_time": "2021-06-16T18:08:55.612061",
     "exception": false,
     "start_time": "2021-06-16T18:08:55.582438",
     "status": "completed"
    },
    "tags": []
   },
   "outputs": [],
   "source": [
    "embed_size = 300 # how big is each word vector\n",
    "max_features = len(word_index) # how many unique words to use (i.e num rows in embedding vector)"
   ]
  },
  {
   "cell_type": "markdown",
   "id": "conservative-vancouver",
   "metadata": {
    "id": "C5N-_Q1cYy8U",
    "papermill": {
     "duration": 0.023365,
     "end_time": "2021-06-16T18:08:55.659589",
     "exception": false,
     "start_time": "2021-06-16T18:08:55.636224",
     "status": "completed"
    },
    "tags": []
   },
   "source": [
    "Load glove embedding"
   ]
  },
  {
   "cell_type": "code",
   "execution_count": 15,
   "id": "boring-lighting",
   "metadata": {
    "execution": {
     "iopub.execute_input": "2021-06-16T18:08:55.710604Z",
     "iopub.status.busy": "2021-06-16T18:08:55.710064Z",
     "iopub.status.idle": "2021-06-16T18:14:36.912489Z",
     "shell.execute_reply": "2021-06-16T18:14:36.912902Z",
     "shell.execute_reply.started": "2021-06-16T16:30:39.700905Z"
    },
    "id": "UJ3XQlpIXg8x",
    "outputId": "f69eef06-0428-4156-989d-0822acf4786f",
    "papermill": {
     "duration": 341.229863,
     "end_time": "2021-06-16T18:14:36.913048",
     "exception": false,
     "start_time": "2021-06-16T18:08:55.683185",
     "status": "completed"
    },
    "tags": []
   },
   "outputs": [
    {
     "name": "stdout",
     "output_type": "stream",
     "text": [
      "Found embeddings as a zip file\n",
      "CPU times: user 4min 55s, sys: 3.83 s, total: 4min 59s\n",
      "Wall time: 5min 41s\n"
     ]
    }
   ],
   "source": [
    "%%time\n",
    "glove_embedding = load_embedding(glove)"
   ]
  },
  {
   "cell_type": "markdown",
   "id": "chronic-agent",
   "metadata": {
    "id": "mEafY_coZQeP",
    "papermill": {
     "duration": 0.023563,
     "end_time": "2021-06-16T18:14:36.960523",
     "exception": false,
     "start_time": "2021-06-16T18:14:36.936960",
     "status": "completed"
    },
    "tags": []
   },
   "source": [
    "Improve the embedding matrix"
   ]
  },
  {
   "cell_type": "code",
   "execution_count": 16,
   "id": "piano-lewis",
   "metadata": {
    "execution": {
     "iopub.execute_input": "2021-06-16T18:14:37.012657Z",
     "iopub.status.busy": "2021-06-16T18:14:37.012173Z",
     "iopub.status.idle": "2021-06-16T18:14:57.558057Z",
     "shell.execute_reply": "2021-06-16T18:14:57.557648Z",
     "shell.execute_reply.started": "2021-06-16T16:36:07.215831Z"
    },
    "id": "QeQMtN63ZT1T",
    "outputId": "aeff337f-eff7-467f-a50b-78340e77334d",
    "papermill": {
     "duration": 20.573475,
     "end_time": "2021-06-16T18:14:57.558219",
     "exception": false,
     "start_time": "2021-06-16T18:14:36.984744",
     "status": "completed"
    },
    "tags": []
   },
   "outputs": [
    {
     "name": "stdout",
     "output_type": "stream",
     "text": [
      "[nltk_data] Error loading wordnet: <urlopen error [Errno -3] Temporary\n",
      "[nltk_data]     failure in name resolution>\n"
     ]
    }
   ],
   "source": [
    "import nltk\n",
    "nltk.download('wordnet')\n",
    "\n",
    "from nltk.stem import PorterStemmer\n",
    "from nltk.stem import LancasterStemmer\n",
    "from nltk.stem import WordNetLemmatizer\n",
    "s = PorterStemmer()\n",
    "l = LancasterStemmer()\n",
    "n = WordNetLemmatizer()"
   ]
  },
  {
   "cell_type": "code",
   "execution_count": 17,
   "id": "seasonal-jordan",
   "metadata": {
    "execution": {
     "iopub.execute_input": "2021-06-16T18:14:57.614464Z",
     "iopub.status.busy": "2021-06-16T18:14:57.613799Z",
     "iopub.status.idle": "2021-06-16T18:14:57.616154Z",
     "shell.execute_reply": "2021-06-16T18:14:57.616516Z",
     "shell.execute_reply.started": "2021-06-16T16:36:08.0386Z"
    },
    "id": "6_Me73SzZXda",
    "papermill": {
     "duration": 0.033676,
     "end_time": "2021-06-16T18:14:57.616648",
     "exception": false,
     "start_time": "2021-06-16T18:14:57.582972",
     "status": "completed"
    },
    "tags": []
   },
   "outputs": [],
   "source": [
    "def is_in_emb(word, i, embedding, emb_matrix):\n",
    "\n",
    "    if word in embedding:\n",
    "        emb_matrix[i] = embedding[word]\n",
    "        return True\n",
    "    \n",
    "    tmp = word.lower()\n",
    "    if tmp in embedding:\n",
    "        emb_matrix[i] = embedding[tmp]\n",
    "        return True\n",
    "    \n",
    "    tmp = word.upper()\n",
    "    if tmp in embedding:\n",
    "        emb_matrix[i] = embedding[tmp]\n",
    "        return True\n",
    "\n",
    "    tmp = word.capitalize()\n",
    "    if tmp in embedding:\n",
    "        emb_matrix[i] = embedding[tmp]\n",
    "        return True\n",
    "\n",
    "    tmp = s.stem(word)\n",
    "    if tmp in embedding:\n",
    "        emb_matrix[i] = embedding[tmp]\n",
    "        return True\n",
    "    \n",
    "    tmp = l.stem(word)\n",
    "    if tmp in embedding:\n",
    "        emb_matrix[i] = embedding[tmp]\n",
    "        return True\n",
    "    \n",
    "    tmp = n.lemmatize(word)\n",
    "    if tmp in embedding:\n",
    "        emb_matrix[i] = embedding[tmp]\n",
    "        return True\n",
    "    \n",
    "    return False"
   ]
  },
  {
   "cell_type": "code",
   "execution_count": 18,
   "id": "appropriate-appreciation",
   "metadata": {
    "execution": {
     "iopub.execute_input": "2021-06-16T18:14:57.671899Z",
     "iopub.status.busy": "2021-06-16T18:14:57.671105Z",
     "iopub.status.idle": "2021-06-16T18:15:17.617710Z",
     "shell.execute_reply": "2021-06-16T18:15:17.616921Z",
     "shell.execute_reply.started": "2021-06-16T16:36:08.048098Z"
    },
    "id": "wkBaNUXkZ4iO",
    "outputId": "c74d3c79-148c-4bb2-ffb6-675a610c112c",
    "papermill": {
     "duration": 19.976887,
     "end_time": "2021-06-16T18:15:17.617834",
     "exception": false,
     "start_time": "2021-06-16T18:14:57.640947",
     "status": "completed"
    },
    "tags": []
   },
   "outputs": [
    {
     "data": {
      "application/vnd.jupyter.widget-view+json": {
       "model_id": "10a7ad27058f4a7a90e8fe1cbbcb528b",
       "version_major": 2,
       "version_minor": 0
      },
      "text/plain": [
       "  0%|          | 0/330163 [00:00<?, ?it/s]"
      ]
     },
     "metadata": {},
     "output_type": "display_data"
    },
    {
     "name": "stdout",
     "output_type": "stream",
     "text": [
      "percentage of oov of glove: 14.94%\n"
     ]
    }
   ],
   "source": [
    "glove_emb_matrix = np.random.normal(glove_emb_mean, glove_emb_std, (max_features+1, embed_size))\n",
    "glove_oov = {}\n",
    "\n",
    "for word, i in tqdm(word_index.items()):\n",
    "    i -= 1\n",
    "    assert i >= 0\n",
    "\n",
    "    if is_in_emb(word, i, glove_embedding, glove_emb_matrix): continue\n",
    "\n",
    "    tmp = word\n",
    "    for punct in puncts:\n",
    "        tmp = tmp.replace(punct, '')\n",
    "    if is_in_emb(tmp, i, glove_embedding, glove_emb_matrix): continue\n",
    "\n",
    "    for num in '0123456789':\n",
    "        tmp = tmp.replace(num, '')\n",
    "    if is_in_emb(tmp, i, glove_embedding, glove_emb_matrix): continue\n",
    "\n",
    "    else:\n",
    "        glove_oov[word] = i\n",
    "\n",
    "del glove_embedding\n",
    "\n",
    "print('percentage of oov of glove: {:.2f}%'.format(len(glove_oov) / max_features * 100))"
   ]
  },
  {
   "cell_type": "code",
   "execution_count": 19,
   "id": "raising-police",
   "metadata": {
    "execution": {
     "iopub.execute_input": "2021-06-16T18:15:17.673468Z",
     "iopub.status.busy": "2021-06-16T18:15:17.672772Z",
     "iopub.status.idle": "2021-06-16T18:15:17.676158Z",
     "shell.execute_reply": "2021-06-16T18:15:17.675721Z",
     "shell.execute_reply.started": "2021-06-16T16:36:28.251194Z"
    },
    "id": "WcrAJYGda-Jz",
    "outputId": "421780fb-dd3a-4379-911a-c96f6e263dd5",
    "papermill": {
     "duration": 0.033294,
     "end_time": "2021-06-16T18:15:17.676261",
     "exception": false,
     "start_time": "2021-06-16T18:15:17.642967",
     "status": "completed"
    },
    "tags": []
   },
   "outputs": [
    {
     "data": {
      "text/plain": [
       "(330164, 300)"
      ]
     },
     "execution_count": 19,
     "metadata": {},
     "output_type": "execute_result"
    }
   ],
   "source": [
    "glove_emb_matrix.shape"
   ]
  },
  {
   "cell_type": "markdown",
   "id": "arabic-fortune",
   "metadata": {
    "id": "bCQFhb07c8OA",
    "papermill": {
     "duration": 0.025063,
     "end_time": "2021-06-16T18:15:17.726324",
     "exception": false,
     "start_time": "2021-06-16T18:15:17.701261",
     "status": "completed"
    },
    "tags": []
   },
   "source": [
    "Use 1D CNN"
   ]
  },
  {
   "cell_type": "code",
   "execution_count": 20,
   "id": "crazy-magic",
   "metadata": {
    "execution": {
     "iopub.execute_input": "2021-06-16T18:15:17.783542Z",
     "iopub.status.busy": "2021-06-16T18:15:17.782696Z",
     "iopub.status.idle": "2021-06-16T18:15:17.785395Z",
     "shell.execute_reply": "2021-06-16T18:15:17.784961Z",
     "shell.execute_reply.started": "2021-06-16T16:36:28.259582Z"
    },
    "id": "5VIQVsDZc-sm",
    "papermill": {
     "duration": 0.033594,
     "end_time": "2021-06-16T18:15:17.785507",
     "exception": false,
     "start_time": "2021-06-16T18:15:17.751913",
     "status": "completed"
    },
    "tags": []
   },
   "outputs": [],
   "source": [
    "from tensorflow.keras.models import Model\n",
    "from tensorflow.keras.layers import Embedding, Dropout, Conv1D, GlobalMaxPooling1D, Dense, Input, Flatten, Concatenate\n",
    "from tensorflow.keras.callbacks import EarlyStopping, ModelCheckpoint\n",
    "from tensorflow.keras.models import load_model\n",
    "filter_sizes=[3,4,5]\n",
    "num_filters = 512\n",
    "drop = 0.5"
   ]
  },
  {
   "cell_type": "code",
   "execution_count": 21,
   "id": "secondary-drinking",
   "metadata": {
    "execution": {
     "iopub.execute_input": "2021-06-16T18:15:17.845040Z",
     "iopub.status.busy": "2021-06-16T18:15:17.844535Z",
     "iopub.status.idle": "2021-06-16T18:15:21.320777Z",
     "shell.execute_reply": "2021-06-16T18:15:21.321202Z",
     "shell.execute_reply.started": "2021-06-16T16:36:28.270377Z"
    },
    "id": "77uqmMEEdCmN",
    "outputId": "84f74316-99c5-4592-905a-babd8c0687f8",
    "papermill": {
     "duration": 3.510665,
     "end_time": "2021-06-16T18:15:21.321351",
     "exception": false,
     "start_time": "2021-06-16T18:15:17.810686",
     "status": "completed"
    },
    "tags": []
   },
   "outputs": [
    {
     "name": "stdout",
     "output_type": "stream",
     "text": [
      "Model: \"model\"\n",
      "__________________________________________________________________________________________________\n",
      "Layer (type)                    Output Shape         Param #     Connected to                     \n",
      "==================================================================================================\n",
      "input_1 (InputLayer)            [(None, 449)]        0                                            \n",
      "__________________________________________________________________________________________________\n",
      "embedding (Embedding)           (None, 449, 300)     99049200    input_1[0][0]                    \n",
      "__________________________________________________________________________________________________\n",
      "conv1d (Conv1D)                 (None, 447, 512)     461312      embedding[0][0]                  \n",
      "__________________________________________________________________________________________________\n",
      "conv1d_1 (Conv1D)               (None, 446, 512)     614912      embedding[0][0]                  \n",
      "__________________________________________________________________________________________________\n",
      "conv1d_2 (Conv1D)               (None, 445, 512)     768512      embedding[0][0]                  \n",
      "__________________________________________________________________________________________________\n",
      "global_max_pooling1d (GlobalMax (None, 512)          0           conv1d[0][0]                     \n",
      "__________________________________________________________________________________________________\n",
      "global_max_pooling1d_1 (GlobalM (None, 512)          0           conv1d_1[0][0]                   \n",
      "__________________________________________________________________________________________________\n",
      "global_max_pooling1d_2 (GlobalM (None, 512)          0           conv1d_2[0][0]                   \n",
      "__________________________________________________________________________________________________\n",
      "flatten (Flatten)               (None, 512)          0           global_max_pooling1d[0][0]       \n",
      "__________________________________________________________________________________________________\n",
      "flatten_1 (Flatten)             (None, 512)          0           global_max_pooling1d_1[0][0]     \n",
      "__________________________________________________________________________________________________\n",
      "flatten_2 (Flatten)             (None, 512)          0           global_max_pooling1d_2[0][0]     \n",
      "__________________________________________________________________________________________________\n",
      "concatenate (Concatenate)       (None, 1536)         0           flatten[0][0]                    \n",
      "                                                                 flatten_1[0][0]                  \n",
      "                                                                 flatten_2[0][0]                  \n",
      "__________________________________________________________________________________________________\n",
      "dropout (Dropout)               (None, 1536)         0           concatenate[0][0]                \n",
      "__________________________________________________________________________________________________\n",
      "dense (Dense)                   (None, 128)          196736      dropout[0][0]                    \n",
      "__________________________________________________________________________________________________\n",
      "dense_1 (Dense)                 (None, 1)            129         dense[0][0]                      \n",
      "==================================================================================================\n",
      "Total params: 101,090,801\n",
      "Trainable params: 2,041,601\n",
      "Non-trainable params: 99,049,200\n",
      "__________________________________________________________________________________________________\n"
     ]
    }
   ],
   "source": [
    "model_input = Input(shape=(maxlen,))\n",
    "z = Embedding(len(word_index)+1,\n",
    "              glove_emb_matrix.shape[1],\n",
    "              weights=[glove_emb_matrix],\n",
    "              input_length=maxlen,\n",
    "              trainable=False)(model_input)\n",
    "\n",
    "conv_blocks = []\n",
    "\n",
    "for sz in filter_sizes:\n",
    "  conv = Conv1D(filters = num_filters,\n",
    "                kernel_size = sz,\n",
    "                padding = \"valid\",\n",
    "                activation = \"relu\",\n",
    "                strides = 1)(z)\n",
    "  conv = GlobalMaxPooling1D()(conv)\n",
    "  conv = Flatten()(conv)\n",
    "  conv_blocks.append(conv)\n",
    "\n",
    "z = Concatenate()(conv_blocks) if len(conv_blocks) > 1 else conv_blocks[0]\n",
    "z = Dropout(drop)(z)\n",
    "z = Dense(128, activation=\"relu\")(z)\n",
    "model_output = Dense(1, activation='sigmoid')(z)\n",
    "\n",
    "model = Model(model_input, model_output)\n",
    "\n",
    "model.compile(loss='binary_crossentropy',\n",
    "              optimizer='adam',\n",
    "              metrics=['acc'])\n",
    "\n",
    "model.summary()"
   ]
  },
  {
   "cell_type": "code",
   "execution_count": 22,
   "id": "shaped-plenty",
   "metadata": {
    "execution": {
     "iopub.execute_input": "2021-06-16T18:15:21.377950Z",
     "iopub.status.busy": "2021-06-16T18:15:21.377398Z",
     "iopub.status.idle": "2021-06-16T19:26:04.613214Z",
     "shell.execute_reply": "2021-06-16T19:26:04.612709Z",
     "shell.execute_reply.started": "2021-06-16T16:36:31.839984Z"
    },
    "id": "VY_nvOxojAdM",
    "outputId": "b6cc9405-857a-453d-b869-6a36df87f0ad",
    "papermill": {
     "duration": 4243.266002,
     "end_time": "2021-06-16T19:26:04.613374",
     "exception": false,
     "start_time": "2021-06-16T18:15:21.347372",
     "status": "completed"
    },
    "tags": []
   },
   "outputs": [
    {
     "name": "stdout",
     "output_type": "stream",
     "text": [
      "Epoch 1/5\n",
      "14694/14694 [==============================] - 850s 58ms/step - loss: 0.1676 - acc: 0.9423 - val_loss: 0.1364 - val_acc: 0.9491\n",
      "Epoch 2/5\n",
      "14694/14694 [==============================] - 848s 58ms/step - loss: 0.1322 - acc: 0.9506 - val_loss: 0.1299 - val_acc: 0.9511\n",
      "Epoch 3/5\n",
      "14694/14694 [==============================] - 847s 58ms/step - loss: 0.1196 - acc: 0.9542 - val_loss: 0.1279 - val_acc: 0.9519\n",
      "Epoch 4/5\n",
      "14694/14694 [==============================] - 848s 58ms/step - loss: 0.1084 - acc: 0.9579 - val_loss: 0.1264 - val_acc: 0.9522\n",
      "Epoch 5/5\n",
      "14694/14694 [==============================] - 848s 58ms/step - loss: 0.0993 - acc: 0.9614 - val_loss: 0.1296 - val_acc: 0.9496\n"
     ]
    }
   ],
   "source": [
    "#es = EarlyStopping(monitor='val_loss', mode='min', verbose=1, patience=4)\n",
    "#mc = ModelCheckpoint('CNN_model.h5', monitor='val_acc', mode='max', verbose=1, save_best_only=True)\n",
    "\n",
    "history = model.fit(train_X, train_y,\n",
    "                    batch_size=64,\n",
    "                    epochs=5,\n",
    "                    validation_data=(val_X, val_y))\n",
    "\n",
    "                    #verbose=2)\n",
    "                    #callbacks=[es, mc])"
   ]
  },
  {
   "cell_type": "code",
   "execution_count": 23,
   "id": "pleased-powder",
   "metadata": {
    "execution": {
     "iopub.execute_input": "2021-06-16T19:26:43.108847Z",
     "iopub.status.busy": "2021-06-16T19:26:43.107840Z",
     "iopub.status.idle": "2021-06-16T19:28:28.767863Z",
     "shell.execute_reply": "2021-06-16T19:28:28.767447Z",
     "shell.execute_reply.started": "2021-06-16T16:50:25.599042Z"
    },
    "id": "jTuK73CVrHdD",
    "outputId": "60371c88-5220-4355-fca0-5f573251bf2d",
    "papermill": {
     "duration": 124.62446,
     "end_time": "2021-06-16T19:28:28.767990",
     "exception": false,
     "start_time": "2021-06-16T19:26:24.143530",
     "status": "completed"
    },
    "tags": []
   },
   "outputs": [
    {
     "name": "stdout",
     "output_type": "stream",
     "text": [
      "7347/7347 [==============================] - 105s 14ms/step - loss: 0.1296 - acc: 0.9496\n",
      "Test score: 0.12956993281841278\n",
      "Test accuracy: 0.9496389031410217\n"
     ]
    }
   ],
   "source": [
    "score = model.evaluate(val_X, val_y)\n",
    "print('Test score:', score[0])\n",
    "print('Test accuracy:', score[1])"
   ]
  },
  {
   "cell_type": "code",
   "execution_count": 24,
   "id": "maritime-generation",
   "metadata": {
    "execution": {
     "iopub.execute_input": "2021-06-16T19:29:08.178115Z",
     "iopub.status.busy": "2021-06-16T19:29:08.177072Z",
     "iopub.status.idle": "2021-06-16T19:31:28.906624Z",
     "shell.execute_reply": "2021-06-16T19:31:28.905817Z",
     "shell.execute_reply.started": "2021-06-16T16:52:58.357138Z"
    },
    "papermill": {
     "duration": 160.511773,
     "end_time": "2021-06-16T19:31:28.906777",
     "exception": false,
     "start_time": "2021-06-16T19:28:48.395004",
     "status": "completed"
    },
    "tags": []
   },
   "outputs": [
    {
     "name": "stdout",
     "output_type": "stream",
     "text": [
      "5872/5872 [==============================] - 140s 24ms/step\n"
     ]
    }
   ],
   "source": [
    "pred = model.predict(test_X, batch_size = 64, verbose=1)"
   ]
  },
  {
   "cell_type": "code",
   "execution_count": 25,
   "id": "recorded-covering",
   "metadata": {
    "execution": {
     "iopub.execute_input": "2021-06-16T19:32:10.158808Z",
     "iopub.status.busy": "2021-06-16T19:32:10.153757Z",
     "iopub.status.idle": "2021-06-16T19:32:10.849807Z",
     "shell.execute_reply": "2021-06-16T19:32:10.849363Z",
     "shell.execute_reply.started": "2021-06-16T16:55:02.434032Z"
    },
    "id": "WaUrR4hkL6PR",
    "outputId": "7fd2cf8e-2df1-42a3-fc3a-44fedfe90f99",
    "papermill": {
     "duration": 21.231333,
     "end_time": "2021-06-16T19:32:10.849932",
     "exception": false,
     "start_time": "2021-06-16T19:31:49.618599",
     "status": "completed"
    },
    "tags": []
   },
   "outputs": [],
   "source": [
    "res = [0 if x < 0.5 else 1 for x in pred]"
   ]
  },
  {
   "cell_type": "code",
   "execution_count": 26,
   "id": "renewable-weekly",
   "metadata": {
    "execution": {
     "iopub.execute_input": "2021-06-16T19:32:51.513314Z",
     "iopub.status.busy": "2021-06-16T19:32:51.512600Z",
     "iopub.status.idle": "2021-06-16T19:32:52.563582Z",
     "shell.execute_reply": "2021-06-16T19:32:52.563009Z",
     "shell.execute_reply.started": "2021-06-16T16:57:37.742464Z"
    },
    "papermill": {
     "duration": 21.612142,
     "end_time": "2021-06-16T19:32:52.563704",
     "exception": false,
     "start_time": "2021-06-16T19:32:30.951562",
     "status": "completed"
    },
    "tags": []
   },
   "outputs": [],
   "source": [
    "submission = pd.DataFrame(\n",
    "    {'qid':test_df['qid'][:len(res)], 'prediction':res},\n",
    "    columns = ['qid', 'prediction']\n",
    ")\n",
    "submission.to_csv('./submission.csv', index=False)"
   ]
  }
 ],
 "metadata": {
  "kernelspec": {
   "display_name": "Python 3",
   "language": "python",
   "name": "python3"
  },
  "language_info": {
   "codemirror_mode": {
    "name": "ipython",
    "version": 3
   },
   "file_extension": ".py",
   "mimetype": "text/x-python",
   "name": "python",
   "nbconvert_exporter": "python",
   "pygments_lexer": "ipython3",
   "version": "3.7.10"
  },
  "papermill": {
   "default_parameters": {},
   "duration": 5150.836744,
   "end_time": "2021-06-16T19:33:16.372873",
   "environment_variables": {},
   "exception": null,
   "input_path": "__notebook__.ipynb",
   "output_path": "__notebook__.ipynb",
   "parameters": {},
   "start_time": "2021-06-16T18:07:25.536129",
   "version": "2.3.3"
  },
  "widgets": {
   "application/vnd.jupyter.widget-state+json": {
    "state": {
     "0528397d84c642f3b473d4b640bdac53": {
      "model_module": "@jupyter-widgets/base",
      "model_module_version": "1.2.0",
      "model_name": "LayoutModel",
      "state": {
       "_model_module": "@jupyter-widgets/base",
       "_model_module_version": "1.2.0",
       "_model_name": "LayoutModel",
       "_view_count": null,
       "_view_module": "@jupyter-widgets/base",
       "_view_module_version": "1.2.0",
       "_view_name": "LayoutView",
       "align_content": null,
       "align_items": null,
       "align_self": null,
       "border": null,
       "bottom": null,
       "display": null,
       "flex": null,
       "flex_flow": null,
       "grid_area": null,
       "grid_auto_columns": null,
       "grid_auto_flow": null,
       "grid_auto_rows": null,
       "grid_column": null,
       "grid_gap": null,
       "grid_row": null,
       "grid_template_areas": null,
       "grid_template_columns": null,
       "grid_template_rows": null,
       "height": null,
       "justify_content": null,
       "justify_items": null,
       "left": null,
       "margin": null,
       "max_height": null,
       "max_width": null,
       "min_height": null,
       "min_width": null,
       "object_fit": null,
       "object_position": null,
       "order": null,
       "overflow": null,
       "overflow_x": null,
       "overflow_y": null,
       "padding": null,
       "right": null,
       "top": null,
       "visibility": null,
       "width": null
      }
     },
     "10a7ad27058f4a7a90e8fe1cbbcb528b": {
      "model_module": "@jupyter-widgets/controls",
      "model_module_version": "1.5.0",
      "model_name": "HBoxModel",
      "state": {
       "_dom_classes": [],
       "_model_module": "@jupyter-widgets/controls",
       "_model_module_version": "1.5.0",
       "_model_name": "HBoxModel",
       "_view_count": null,
       "_view_module": "@jupyter-widgets/controls",
       "_view_module_version": "1.5.0",
       "_view_name": "HBoxView",
       "box_style": "",
       "children": [
        "IPY_MODEL_4cd93fab35504ab68c1db87a63363361",
        "IPY_MODEL_90f059d48ee740e6ae5a78f54664424a",
        "IPY_MODEL_193abd11177e4fd3b7e8e13facda14ed"
       ],
       "layout": "IPY_MODEL_8dcfb2b356e44a459ccac10b5c4c53f1"
      }
     },
     "193abd11177e4fd3b7e8e13facda14ed": {
      "model_module": "@jupyter-widgets/controls",
      "model_module_version": "1.5.0",
      "model_name": "HTMLModel",
      "state": {
       "_dom_classes": [],
       "_model_module": "@jupyter-widgets/controls",
       "_model_module_version": "1.5.0",
       "_model_name": "HTMLModel",
       "_view_count": null,
       "_view_module": "@jupyter-widgets/controls",
       "_view_module_version": "1.5.0",
       "_view_name": "HTMLView",
       "description": "",
       "description_tooltip": null,
       "layout": "IPY_MODEL_cb1ebc5304284c108f54d26e45e729ca",
       "placeholder": "​",
       "style": "IPY_MODEL_ec07e7c94db2463eb674b0dcad8a44ed",
       "value": " 330163/330163 [00:15&lt;00:00, 14439.13it/s]"
      }
     },
     "1c08be4592d14303b444f7c478bcef32": {
      "model_module": "@jupyter-widgets/base",
      "model_module_version": "1.2.0",
      "model_name": "LayoutModel",
      "state": {
       "_model_module": "@jupyter-widgets/base",
       "_model_module_version": "1.2.0",
       "_model_name": "LayoutModel",
       "_view_count": null,
       "_view_module": "@jupyter-widgets/base",
       "_view_module_version": "1.2.0",
       "_view_name": "LayoutView",
       "align_content": null,
       "align_items": null,
       "align_self": null,
       "border": null,
       "bottom": null,
       "display": null,
       "flex": null,
       "flex_flow": null,
       "grid_area": null,
       "grid_auto_columns": null,
       "grid_auto_flow": null,
       "grid_auto_rows": null,
       "grid_column": null,
       "grid_gap": null,
       "grid_row": null,
       "grid_template_areas": null,
       "grid_template_columns": null,
       "grid_template_rows": null,
       "height": null,
       "justify_content": null,
       "justify_items": null,
       "left": null,
       "margin": null,
       "max_height": null,
       "max_width": null,
       "min_height": null,
       "min_width": null,
       "object_fit": null,
       "object_position": null,
       "order": null,
       "overflow": null,
       "overflow_x": null,
       "overflow_y": null,
       "padding": null,
       "right": null,
       "top": null,
       "visibility": null,
       "width": null
      }
     },
     "1f4f63dcd8354fc3814dd82861b393f1": {
      "model_module": "@jupyter-widgets/controls",
      "model_module_version": "1.5.0",
      "model_name": "HTMLModel",
      "state": {
       "_dom_classes": [],
       "_model_module": "@jupyter-widgets/controls",
       "_model_module_version": "1.5.0",
       "_model_name": "HTMLModel",
       "_view_count": null,
       "_view_module": "@jupyter-widgets/controls",
       "_view_module_version": "1.5.0",
       "_view_name": "HTMLView",
       "description": "",
       "description_tooltip": null,
       "layout": "IPY_MODEL_d6dc4c8db0994fdf9188300e8e72de4e",
       "placeholder": "​",
       "style": "IPY_MODEL_9b0b4b14a2bd429c821d6826ad5f5189",
       "value": " 235102/235102 [00:02&lt;00:00, 75489.26it/s]"
      }
     },
     "21b778674ae94d88979cd1baca9a7320": {
      "model_module": "@jupyter-widgets/base",
      "model_module_version": "1.2.0",
      "model_name": "LayoutModel",
      "state": {
       "_model_module": "@jupyter-widgets/base",
       "_model_module_version": "1.2.0",
       "_model_name": "LayoutModel",
       "_view_count": null,
       "_view_module": "@jupyter-widgets/base",
       "_view_module_version": "1.2.0",
       "_view_name": "LayoutView",
       "align_content": null,
       "align_items": null,
       "align_self": null,
       "border": null,
       "bottom": null,
       "display": null,
       "flex": null,
       "flex_flow": null,
       "grid_area": null,
       "grid_auto_columns": null,
       "grid_auto_flow": null,
       "grid_auto_rows": null,
       "grid_column": null,
       "grid_gap": null,
       "grid_row": null,
       "grid_template_areas": null,
       "grid_template_columns": null,
       "grid_template_rows": null,
       "height": null,
       "justify_content": null,
       "justify_items": null,
       "left": null,
       "margin": null,
       "max_height": null,
       "max_width": null,
       "min_height": null,
       "min_width": null,
       "object_fit": null,
       "object_position": null,
       "order": null,
       "overflow": null,
       "overflow_x": null,
       "overflow_y": null,
       "padding": null,
       "right": null,
       "top": null,
       "visibility": null,
       "width": null
      }
     },
     "26222e9cd0704dffb6e836078a704540": {
      "model_module": "@jupyter-widgets/controls",
      "model_module_version": "1.5.0",
      "model_name": "HTMLModel",
      "state": {
       "_dom_classes": [],
       "_model_module": "@jupyter-widgets/controls",
       "_model_module_version": "1.5.0",
       "_model_name": "HTMLModel",
       "_view_count": null,
       "_view_module": "@jupyter-widgets/controls",
       "_view_module_version": "1.5.0",
       "_view_name": "HTMLView",
       "description": "",
       "description_tooltip": null,
       "layout": "IPY_MODEL_f981301ad0c044e98bddda28716cd823",
       "placeholder": "​",
       "style": "IPY_MODEL_f62969a8af45473e9e79fc00528ce769",
       "value": " 940407/940407 [00:09&lt;00:00, 103360.09it/s]"
      }
     },
     "327ec77d8779473cb811fe4b786f46dc": {
      "model_module": "@jupyter-widgets/controls",
      "model_module_version": "1.5.0",
      "model_name": "ProgressStyleModel",
      "state": {
       "_model_module": "@jupyter-widgets/controls",
       "_model_module_version": "1.5.0",
       "_model_name": "ProgressStyleModel",
       "_view_count": null,
       "_view_module": "@jupyter-widgets/base",
       "_view_module_version": "1.2.0",
       "_view_name": "StyleView",
       "bar_color": null,
       "description_width": ""
      }
     },
     "34f1955ab1764660bd523df2b0ea87a8": {
      "model_module": "@jupyter-widgets/controls",
      "model_module_version": "1.5.0",
      "model_name": "HTMLModel",
      "state": {
       "_dom_classes": [],
       "_model_module": "@jupyter-widgets/controls",
       "_model_module_version": "1.5.0",
       "_model_name": "HTMLModel",
       "_view_count": null,
       "_view_module": "@jupyter-widgets/controls",
       "_view_module_version": "1.5.0",
       "_view_name": "HTMLView",
       "description": "",
       "description_tooltip": null,
       "layout": "IPY_MODEL_647ca46650e945959e666d874d80fa10",
       "placeholder": "​",
       "style": "IPY_MODEL_91db2a7a27f0451e83c84e1871563f7c",
       "value": "100%"
      }
     },
     "39a6c75e93ba471f815a4920560e4ff9": {
      "model_module": "@jupyter-widgets/controls",
      "model_module_version": "1.5.0",
      "model_name": "FloatProgressModel",
      "state": {
       "_dom_classes": [],
       "_model_module": "@jupyter-widgets/controls",
       "_model_module_version": "1.5.0",
       "_model_name": "FloatProgressModel",
       "_view_count": null,
       "_view_module": "@jupyter-widgets/controls",
       "_view_module_version": "1.5.0",
       "_view_name": "ProgressView",
       "bar_style": "success",
       "description": "",
       "description_tooltip": null,
       "layout": "IPY_MODEL_fae98276f77643fd8e47394e29f73cc2",
       "max": 235102.0,
       "min": 0.0,
       "orientation": "horizontal",
       "style": "IPY_MODEL_327ec77d8779473cb811fe4b786f46dc",
       "value": 235102.0
      }
     },
     "4305cc83db534e848261152ed3a027e6": {
      "model_module": "@jupyter-widgets/controls",
      "model_module_version": "1.5.0",
      "model_name": "FloatProgressModel",
      "state": {
       "_dom_classes": [],
       "_model_module": "@jupyter-widgets/controls",
       "_model_module_version": "1.5.0",
       "_model_name": "FloatProgressModel",
       "_view_count": null,
       "_view_module": "@jupyter-widgets/controls",
       "_view_module_version": "1.5.0",
       "_view_name": "ProgressView",
       "bar_style": "success",
       "description": "",
       "description_tooltip": null,
       "layout": "IPY_MODEL_f05be4de7a0543e0a25c34caa53030cd",
       "max": 375806.0,
       "min": 0.0,
       "orientation": "horizontal",
       "style": "IPY_MODEL_4f4cc00944ec47928b5ff6f93e0f9d13",
       "value": 375806.0
      }
     },
     "48fb2fa91852475195c91f6ec34e4591": {
      "model_module": "@jupyter-widgets/controls",
      "model_module_version": "1.5.0",
      "model_name": "DescriptionStyleModel",
      "state": {
       "_model_module": "@jupyter-widgets/controls",
       "_model_module_version": "1.5.0",
       "_model_name": "DescriptionStyleModel",
       "_view_count": null,
       "_view_module": "@jupyter-widgets/base",
       "_view_module_version": "1.2.0",
       "_view_name": "StyleView",
       "description_width": ""
      }
     },
     "4b71bb55f22e4680b0a10a5317b8c3be": {
      "model_module": "@jupyter-widgets/controls",
      "model_module_version": "1.5.0",
      "model_name": "HBoxModel",
      "state": {
       "_dom_classes": [],
       "_model_module": "@jupyter-widgets/controls",
       "_model_module_version": "1.5.0",
       "_model_name": "HBoxModel",
       "_view_count": null,
       "_view_module": "@jupyter-widgets/controls",
       "_view_module_version": "1.5.0",
       "_view_name": "HBoxView",
       "box_style": "",
       "children": [
        "IPY_MODEL_ffe80e6e076040648cf5a0e4fcc5c27a",
        "IPY_MODEL_77852cd7bebc4964857513679f29b79a",
        "IPY_MODEL_26222e9cd0704dffb6e836078a704540"
       ],
       "layout": "IPY_MODEL_52650b3247d243a78c148fdd9e20ea9a"
      }
     },
     "4cd93fab35504ab68c1db87a63363361": {
      "model_module": "@jupyter-widgets/controls",
      "model_module_version": "1.5.0",
      "model_name": "HTMLModel",
      "state": {
       "_dom_classes": [],
       "_model_module": "@jupyter-widgets/controls",
       "_model_module_version": "1.5.0",
       "_model_name": "HTMLModel",
       "_view_count": null,
       "_view_module": "@jupyter-widgets/controls",
       "_view_module_version": "1.5.0",
       "_view_name": "HTMLView",
       "description": "",
       "description_tooltip": null,
       "layout": "IPY_MODEL_6045ad0a8da54bffabe277b1892ffba2",
       "placeholder": "​",
       "style": "IPY_MODEL_e48ac94508794b9eb60e384916cade01",
       "value": "100%"
      }
     },
     "4f35b39dac8048fbac0bae1c2fd78391": {
      "model_module": "@jupyter-widgets/base",
      "model_module_version": "1.2.0",
      "model_name": "LayoutModel",
      "state": {
       "_model_module": "@jupyter-widgets/base",
       "_model_module_version": "1.2.0",
       "_model_name": "LayoutModel",
       "_view_count": null,
       "_view_module": "@jupyter-widgets/base",
       "_view_module_version": "1.2.0",
       "_view_name": "LayoutView",
       "align_content": null,
       "align_items": null,
       "align_self": null,
       "border": null,
       "bottom": null,
       "display": null,
       "flex": null,
       "flex_flow": null,
       "grid_area": null,
       "grid_auto_columns": null,
       "grid_auto_flow": null,
       "grid_auto_rows": null,
       "grid_column": null,
       "grid_gap": null,
       "grid_row": null,
       "grid_template_areas": null,
       "grid_template_columns": null,
       "grid_template_rows": null,
       "height": null,
       "justify_content": null,
       "justify_items": null,
       "left": null,
       "margin": null,
       "max_height": null,
       "max_width": null,
       "min_height": null,
       "min_width": null,
       "object_fit": null,
       "object_position": null,
       "order": null,
       "overflow": null,
       "overflow_x": null,
       "overflow_y": null,
       "padding": null,
       "right": null,
       "top": null,
       "visibility": null,
       "width": null
      }
     },
     "4f4cc00944ec47928b5ff6f93e0f9d13": {
      "model_module": "@jupyter-widgets/controls",
      "model_module_version": "1.5.0",
      "model_name": "ProgressStyleModel",
      "state": {
       "_model_module": "@jupyter-widgets/controls",
       "_model_module_version": "1.5.0",
       "_model_name": "ProgressStyleModel",
       "_view_count": null,
       "_view_module": "@jupyter-widgets/base",
       "_view_module_version": "1.2.0",
       "_view_name": "StyleView",
       "bar_color": null,
       "description_width": ""
      }
     },
     "52650b3247d243a78c148fdd9e20ea9a": {
      "model_module": "@jupyter-widgets/base",
      "model_module_version": "1.2.0",
      "model_name": "LayoutModel",
      "state": {
       "_model_module": "@jupyter-widgets/base",
       "_model_module_version": "1.2.0",
       "_model_name": "LayoutModel",
       "_view_count": null,
       "_view_module": "@jupyter-widgets/base",
       "_view_module_version": "1.2.0",
       "_view_name": "LayoutView",
       "align_content": null,
       "align_items": null,
       "align_self": null,
       "border": null,
       "bottom": null,
       "display": null,
       "flex": null,
       "flex_flow": null,
       "grid_area": null,
       "grid_auto_columns": null,
       "grid_auto_flow": null,
       "grid_auto_rows": null,
       "grid_column": null,
       "grid_gap": null,
       "grid_row": null,
       "grid_template_areas": null,
       "grid_template_columns": null,
       "grid_template_rows": null,
       "height": null,
       "justify_content": null,
       "justify_items": null,
       "left": null,
       "margin": null,
       "max_height": null,
       "max_width": null,
       "min_height": null,
       "min_width": null,
       "object_fit": null,
       "object_position": null,
       "order": null,
       "overflow": null,
       "overflow_x": null,
       "overflow_y": null,
       "padding": null,
       "right": null,
       "top": null,
       "visibility": null,
       "width": null
      }
     },
     "6045ad0a8da54bffabe277b1892ffba2": {
      "model_module": "@jupyter-widgets/base",
      "model_module_version": "1.2.0",
      "model_name": "LayoutModel",
      "state": {
       "_model_module": "@jupyter-widgets/base",
       "_model_module_version": "1.2.0",
       "_model_name": "LayoutModel",
       "_view_count": null,
       "_view_module": "@jupyter-widgets/base",
       "_view_module_version": "1.2.0",
       "_view_name": "LayoutView",
       "align_content": null,
       "align_items": null,
       "align_self": null,
       "border": null,
       "bottom": null,
       "display": null,
       "flex": null,
       "flex_flow": null,
       "grid_area": null,
       "grid_auto_columns": null,
       "grid_auto_flow": null,
       "grid_auto_rows": null,
       "grid_column": null,
       "grid_gap": null,
       "grid_row": null,
       "grid_template_areas": null,
       "grid_template_columns": null,
       "grid_template_rows": null,
       "height": null,
       "justify_content": null,
       "justify_items": null,
       "left": null,
       "margin": null,
       "max_height": null,
       "max_width": null,
       "min_height": null,
       "min_width": null,
       "object_fit": null,
       "object_position": null,
       "order": null,
       "overflow": null,
       "overflow_x": null,
       "overflow_y": null,
       "padding": null,
       "right": null,
       "top": null,
       "visibility": null,
       "width": null
      }
     },
     "647ca46650e945959e666d874d80fa10": {
      "model_module": "@jupyter-widgets/base",
      "model_module_version": "1.2.0",
      "model_name": "LayoutModel",
      "state": {
       "_model_module": "@jupyter-widgets/base",
       "_model_module_version": "1.2.0",
       "_model_name": "LayoutModel",
       "_view_count": null,
       "_view_module": "@jupyter-widgets/base",
       "_view_module_version": "1.2.0",
       "_view_name": "LayoutView",
       "align_content": null,
       "align_items": null,
       "align_self": null,
       "border": null,
       "bottom": null,
       "display": null,
       "flex": null,
       "flex_flow": null,
       "grid_area": null,
       "grid_auto_columns": null,
       "grid_auto_flow": null,
       "grid_auto_rows": null,
       "grid_column": null,
       "grid_gap": null,
       "grid_row": null,
       "grid_template_areas": null,
       "grid_template_columns": null,
       "grid_template_rows": null,
       "height": null,
       "justify_content": null,
       "justify_items": null,
       "left": null,
       "margin": null,
       "max_height": null,
       "max_width": null,
       "min_height": null,
       "min_width": null,
       "object_fit": null,
       "object_position": null,
       "order": null,
       "overflow": null,
       "overflow_x": null,
       "overflow_y": null,
       "padding": null,
       "right": null,
       "top": null,
       "visibility": null,
       "width": null
      }
     },
     "77852cd7bebc4964857513679f29b79a": {
      "model_module": "@jupyter-widgets/controls",
      "model_module_version": "1.5.0",
      "model_name": "FloatProgressModel",
      "state": {
       "_dom_classes": [],
       "_model_module": "@jupyter-widgets/controls",
       "_model_module_version": "1.5.0",
       "_model_name": "FloatProgressModel",
       "_view_count": null,
       "_view_module": "@jupyter-widgets/controls",
       "_view_module_version": "1.5.0",
       "_view_name": "ProgressView",
       "bar_style": "success",
       "description": "",
       "description_tooltip": null,
       "layout": "IPY_MODEL_4f35b39dac8048fbac0bae1c2fd78391",
       "max": 940407.0,
       "min": 0.0,
       "orientation": "horizontal",
       "style": "IPY_MODEL_78e91767d0454d9d9cff786669d0dce1",
       "value": 940407.0
      }
     },
     "78e91767d0454d9d9cff786669d0dce1": {
      "model_module": "@jupyter-widgets/controls",
      "model_module_version": "1.5.0",
      "model_name": "ProgressStyleModel",
      "state": {
       "_model_module": "@jupyter-widgets/controls",
       "_model_module_version": "1.5.0",
       "_model_name": "ProgressStyleModel",
       "_view_count": null,
       "_view_module": "@jupyter-widgets/base",
       "_view_module_version": "1.2.0",
       "_view_name": "StyleView",
       "bar_color": null,
       "description_width": ""
      }
     },
     "7dd1f8f5ca4d47e79b1534c648f6b9ab": {
      "model_module": "@jupyter-widgets/controls",
      "model_module_version": "1.5.0",
      "model_name": "ProgressStyleModel",
      "state": {
       "_model_module": "@jupyter-widgets/controls",
       "_model_module_version": "1.5.0",
       "_model_name": "ProgressStyleModel",
       "_view_count": null,
       "_view_module": "@jupyter-widgets/base",
       "_view_module_version": "1.2.0",
       "_view_name": "StyleView",
       "bar_color": null,
       "description_width": ""
      }
     },
     "88253baa228643b7942929b405cf1b3c": {
      "model_module": "@jupyter-widgets/base",
      "model_module_version": "1.2.0",
      "model_name": "LayoutModel",
      "state": {
       "_model_module": "@jupyter-widgets/base",
       "_model_module_version": "1.2.0",
       "_model_name": "LayoutModel",
       "_view_count": null,
       "_view_module": "@jupyter-widgets/base",
       "_view_module_version": "1.2.0",
       "_view_name": "LayoutView",
       "align_content": null,
       "align_items": null,
       "align_self": null,
       "border": null,
       "bottom": null,
       "display": null,
       "flex": null,
       "flex_flow": null,
       "grid_area": null,
       "grid_auto_columns": null,
       "grid_auto_flow": null,
       "grid_auto_rows": null,
       "grid_column": null,
       "grid_gap": null,
       "grid_row": null,
       "grid_template_areas": null,
       "grid_template_columns": null,
       "grid_template_rows": null,
       "height": null,
       "justify_content": null,
       "justify_items": null,
       "left": null,
       "margin": null,
       "max_height": null,
       "max_width": null,
       "min_height": null,
       "min_width": null,
       "object_fit": null,
       "object_position": null,
       "order": null,
       "overflow": null,
       "overflow_x": null,
       "overflow_y": null,
       "padding": null,
       "right": null,
       "top": null,
       "visibility": null,
       "width": null
      }
     },
     "8dcfb2b356e44a459ccac10b5c4c53f1": {
      "model_module": "@jupyter-widgets/base",
      "model_module_version": "1.2.0",
      "model_name": "LayoutModel",
      "state": {
       "_model_module": "@jupyter-widgets/base",
       "_model_module_version": "1.2.0",
       "_model_name": "LayoutModel",
       "_view_count": null,
       "_view_module": "@jupyter-widgets/base",
       "_view_module_version": "1.2.0",
       "_view_name": "LayoutView",
       "align_content": null,
       "align_items": null,
       "align_self": null,
       "border": null,
       "bottom": null,
       "display": null,
       "flex": null,
       "flex_flow": null,
       "grid_area": null,
       "grid_auto_columns": null,
       "grid_auto_flow": null,
       "grid_auto_rows": null,
       "grid_column": null,
       "grid_gap": null,
       "grid_row": null,
       "grid_template_areas": null,
       "grid_template_columns": null,
       "grid_template_rows": null,
       "height": null,
       "justify_content": null,
       "justify_items": null,
       "left": null,
       "margin": null,
       "max_height": null,
       "max_width": null,
       "min_height": null,
       "min_width": null,
       "object_fit": null,
       "object_position": null,
       "order": null,
       "overflow": null,
       "overflow_x": null,
       "overflow_y": null,
       "padding": null,
       "right": null,
       "top": null,
       "visibility": null,
       "width": null
      }
     },
     "90f059d48ee740e6ae5a78f54664424a": {
      "model_module": "@jupyter-widgets/controls",
      "model_module_version": "1.5.0",
      "model_name": "FloatProgressModel",
      "state": {
       "_dom_classes": [],
       "_model_module": "@jupyter-widgets/controls",
       "_model_module_version": "1.5.0",
       "_model_name": "FloatProgressModel",
       "_view_count": null,
       "_view_module": "@jupyter-widgets/controls",
       "_view_module_version": "1.5.0",
       "_view_name": "ProgressView",
       "bar_style": "success",
       "description": "",
       "description_tooltip": null,
       "layout": "IPY_MODEL_21b778674ae94d88979cd1baca9a7320",
       "max": 330163.0,
       "min": 0.0,
       "orientation": "horizontal",
       "style": "IPY_MODEL_7dd1f8f5ca4d47e79b1534c648f6b9ab",
       "value": 330163.0
      }
     },
     "91db2a7a27f0451e83c84e1871563f7c": {
      "model_module": "@jupyter-widgets/controls",
      "model_module_version": "1.5.0",
      "model_name": "DescriptionStyleModel",
      "state": {
       "_model_module": "@jupyter-widgets/controls",
       "_model_module_version": "1.5.0",
       "_model_name": "DescriptionStyleModel",
       "_view_count": null,
       "_view_module": "@jupyter-widgets/base",
       "_view_module_version": "1.2.0",
       "_view_name": "StyleView",
       "description_width": ""
      }
     },
     "9b0b4b14a2bd429c821d6826ad5f5189": {
      "model_module": "@jupyter-widgets/controls",
      "model_module_version": "1.5.0",
      "model_name": "DescriptionStyleModel",
      "state": {
       "_model_module": "@jupyter-widgets/controls",
       "_model_module_version": "1.5.0",
       "_model_name": "DescriptionStyleModel",
       "_view_count": null,
       "_view_module": "@jupyter-widgets/base",
       "_view_module_version": "1.2.0",
       "_view_name": "StyleView",
       "description_width": ""
      }
     },
     "a50bd7e7686d4494b416fc8476cd1b99": {
      "model_module": "@jupyter-widgets/controls",
      "model_module_version": "1.5.0",
      "model_name": "HBoxModel",
      "state": {
       "_dom_classes": [],
       "_model_module": "@jupyter-widgets/controls",
       "_model_module_version": "1.5.0",
       "_model_name": "HBoxModel",
       "_view_count": null,
       "_view_module": "@jupyter-widgets/controls",
       "_view_module_version": "1.5.0",
       "_view_name": "HBoxView",
       "box_style": "",
       "children": [
        "IPY_MODEL_ecc5fdab1a0749b397b6bdbf99572e08",
        "IPY_MODEL_4305cc83db534e848261152ed3a027e6",
        "IPY_MODEL_e44b9afccbc041f28b69b370ec82c5cb"
       ],
       "layout": "IPY_MODEL_88253baa228643b7942929b405cf1b3c"
      }
     },
     "afe2e8ee2fee44548a502b78243fd152": {
      "model_module": "@jupyter-widgets/base",
      "model_module_version": "1.2.0",
      "model_name": "LayoutModel",
      "state": {
       "_model_module": "@jupyter-widgets/base",
       "_model_module_version": "1.2.0",
       "_model_name": "LayoutModel",
       "_view_count": null,
       "_view_module": "@jupyter-widgets/base",
       "_view_module_version": "1.2.0",
       "_view_name": "LayoutView",
       "align_content": null,
       "align_items": null,
       "align_self": null,
       "border": null,
       "bottom": null,
       "display": null,
       "flex": null,
       "flex_flow": null,
       "grid_area": null,
       "grid_auto_columns": null,
       "grid_auto_flow": null,
       "grid_auto_rows": null,
       "grid_column": null,
       "grid_gap": null,
       "grid_row": null,
       "grid_template_areas": null,
       "grid_template_columns": null,
       "grid_template_rows": null,
       "height": null,
       "justify_content": null,
       "justify_items": null,
       "left": null,
       "margin": null,
       "max_height": null,
       "max_width": null,
       "min_height": null,
       "min_width": null,
       "object_fit": null,
       "object_position": null,
       "order": null,
       "overflow": null,
       "overflow_x": null,
       "overflow_y": null,
       "padding": null,
       "right": null,
       "top": null,
       "visibility": null,
       "width": null
      }
     },
     "cb1ebc5304284c108f54d26e45e729ca": {
      "model_module": "@jupyter-widgets/base",
      "model_module_version": "1.2.0",
      "model_name": "LayoutModel",
      "state": {
       "_model_module": "@jupyter-widgets/base",
       "_model_module_version": "1.2.0",
       "_model_name": "LayoutModel",
       "_view_count": null,
       "_view_module": "@jupyter-widgets/base",
       "_view_module_version": "1.2.0",
       "_view_name": "LayoutView",
       "align_content": null,
       "align_items": null,
       "align_self": null,
       "border": null,
       "bottom": null,
       "display": null,
       "flex": null,
       "flex_flow": null,
       "grid_area": null,
       "grid_auto_columns": null,
       "grid_auto_flow": null,
       "grid_auto_rows": null,
       "grid_column": null,
       "grid_gap": null,
       "grid_row": null,
       "grid_template_areas": null,
       "grid_template_columns": null,
       "grid_template_rows": null,
       "height": null,
       "justify_content": null,
       "justify_items": null,
       "left": null,
       "margin": null,
       "max_height": null,
       "max_width": null,
       "min_height": null,
       "min_width": null,
       "object_fit": null,
       "object_position": null,
       "order": null,
       "overflow": null,
       "overflow_x": null,
       "overflow_y": null,
       "padding": null,
       "right": null,
       "top": null,
       "visibility": null,
       "width": null
      }
     },
     "cb6e8ac25b134a1b95b24ab7791637c3": {
      "model_module": "@jupyter-widgets/controls",
      "model_module_version": "1.5.0",
      "model_name": "DescriptionStyleModel",
      "state": {
       "_model_module": "@jupyter-widgets/controls",
       "_model_module_version": "1.5.0",
       "_model_name": "DescriptionStyleModel",
       "_view_count": null,
       "_view_module": "@jupyter-widgets/base",
       "_view_module_version": "1.2.0",
       "_view_name": "StyleView",
       "description_width": ""
      }
     },
     "d2b89b8be5b34a6ab6af3daa7b2c16b4": {
      "model_module": "@jupyter-widgets/controls",
      "model_module_version": "1.5.0",
      "model_name": "DescriptionStyleModel",
      "state": {
       "_model_module": "@jupyter-widgets/controls",
       "_model_module_version": "1.5.0",
       "_model_name": "DescriptionStyleModel",
       "_view_count": null,
       "_view_module": "@jupyter-widgets/base",
       "_view_module_version": "1.2.0",
       "_view_name": "StyleView",
       "description_width": ""
      }
     },
     "d6dc4c8db0994fdf9188300e8e72de4e": {
      "model_module": "@jupyter-widgets/base",
      "model_module_version": "1.2.0",
      "model_name": "LayoutModel",
      "state": {
       "_model_module": "@jupyter-widgets/base",
       "_model_module_version": "1.2.0",
       "_model_name": "LayoutModel",
       "_view_count": null,
       "_view_module": "@jupyter-widgets/base",
       "_view_module_version": "1.2.0",
       "_view_name": "LayoutView",
       "align_content": null,
       "align_items": null,
       "align_self": null,
       "border": null,
       "bottom": null,
       "display": null,
       "flex": null,
       "flex_flow": null,
       "grid_area": null,
       "grid_auto_columns": null,
       "grid_auto_flow": null,
       "grid_auto_rows": null,
       "grid_column": null,
       "grid_gap": null,
       "grid_row": null,
       "grid_template_areas": null,
       "grid_template_columns": null,
       "grid_template_rows": null,
       "height": null,
       "justify_content": null,
       "justify_items": null,
       "left": null,
       "margin": null,
       "max_height": null,
       "max_width": null,
       "min_height": null,
       "min_width": null,
       "object_fit": null,
       "object_position": null,
       "order": null,
       "overflow": null,
       "overflow_x": null,
       "overflow_y": null,
       "padding": null,
       "right": null,
       "top": null,
       "visibility": null,
       "width": null
      }
     },
     "e05a7214f2a74f0c8f3c4e043beb58fc": {
      "model_module": "@jupyter-widgets/base",
      "model_module_version": "1.2.0",
      "model_name": "LayoutModel",
      "state": {
       "_model_module": "@jupyter-widgets/base",
       "_model_module_version": "1.2.0",
       "_model_name": "LayoutModel",
       "_view_count": null,
       "_view_module": "@jupyter-widgets/base",
       "_view_module_version": "1.2.0",
       "_view_name": "LayoutView",
       "align_content": null,
       "align_items": null,
       "align_self": null,
       "border": null,
       "bottom": null,
       "display": null,
       "flex": null,
       "flex_flow": null,
       "grid_area": null,
       "grid_auto_columns": null,
       "grid_auto_flow": null,
       "grid_auto_rows": null,
       "grid_column": null,
       "grid_gap": null,
       "grid_row": null,
       "grid_template_areas": null,
       "grid_template_columns": null,
       "grid_template_rows": null,
       "height": null,
       "justify_content": null,
       "justify_items": null,
       "left": null,
       "margin": null,
       "max_height": null,
       "max_width": null,
       "min_height": null,
       "min_width": null,
       "object_fit": null,
       "object_position": null,
       "order": null,
       "overflow": null,
       "overflow_x": null,
       "overflow_y": null,
       "padding": null,
       "right": null,
       "top": null,
       "visibility": null,
       "width": null
      }
     },
     "e44b9afccbc041f28b69b370ec82c5cb": {
      "model_module": "@jupyter-widgets/controls",
      "model_module_version": "1.5.0",
      "model_name": "HTMLModel",
      "state": {
       "_dom_classes": [],
       "_model_module": "@jupyter-widgets/controls",
       "_model_module_version": "1.5.0",
       "_model_name": "HTMLModel",
       "_view_count": null,
       "_view_module": "@jupyter-widgets/controls",
       "_view_module_version": "1.5.0",
       "_view_name": "HTMLView",
       "description": "",
       "description_tooltip": null,
       "layout": "IPY_MODEL_1c08be4592d14303b444f7c478bcef32",
       "placeholder": "​",
       "style": "IPY_MODEL_d2b89b8be5b34a6ab6af3daa7b2c16b4",
       "value": " 375806/375806 [00:03&lt;00:00, 104779.04it/s]"
      }
     },
     "e48ac94508794b9eb60e384916cade01": {
      "model_module": "@jupyter-widgets/controls",
      "model_module_version": "1.5.0",
      "model_name": "DescriptionStyleModel",
      "state": {
       "_model_module": "@jupyter-widgets/controls",
       "_model_module_version": "1.5.0",
       "_model_name": "DescriptionStyleModel",
       "_view_count": null,
       "_view_module": "@jupyter-widgets/base",
       "_view_module_version": "1.2.0",
       "_view_name": "StyleView",
       "description_width": ""
      }
     },
     "ec07e7c94db2463eb674b0dcad8a44ed": {
      "model_module": "@jupyter-widgets/controls",
      "model_module_version": "1.5.0",
      "model_name": "DescriptionStyleModel",
      "state": {
       "_model_module": "@jupyter-widgets/controls",
       "_model_module_version": "1.5.0",
       "_model_name": "DescriptionStyleModel",
       "_view_count": null,
       "_view_module": "@jupyter-widgets/base",
       "_view_module_version": "1.2.0",
       "_view_name": "StyleView",
       "description_width": ""
      }
     },
     "ecc5fdab1a0749b397b6bdbf99572e08": {
      "model_module": "@jupyter-widgets/controls",
      "model_module_version": "1.5.0",
      "model_name": "HTMLModel",
      "state": {
       "_dom_classes": [],
       "_model_module": "@jupyter-widgets/controls",
       "_model_module_version": "1.5.0",
       "_model_name": "HTMLModel",
       "_view_count": null,
       "_view_module": "@jupyter-widgets/controls",
       "_view_module_version": "1.5.0",
       "_view_name": "HTMLView",
       "description": "",
       "description_tooltip": null,
       "layout": "IPY_MODEL_0528397d84c642f3b473d4b640bdac53",
       "placeholder": "​",
       "style": "IPY_MODEL_48fb2fa91852475195c91f6ec34e4591",
       "value": "100%"
      }
     },
     "eec96dc0f67a41268a42a1adc194874c": {
      "model_module": "@jupyter-widgets/controls",
      "model_module_version": "1.5.0",
      "model_name": "HBoxModel",
      "state": {
       "_dom_classes": [],
       "_model_module": "@jupyter-widgets/controls",
       "_model_module_version": "1.5.0",
       "_model_name": "HBoxModel",
       "_view_count": null,
       "_view_module": "@jupyter-widgets/controls",
       "_view_module_version": "1.5.0",
       "_view_name": "HBoxView",
       "box_style": "",
       "children": [
        "IPY_MODEL_34f1955ab1764660bd523df2b0ea87a8",
        "IPY_MODEL_39a6c75e93ba471f815a4920560e4ff9",
        "IPY_MODEL_1f4f63dcd8354fc3814dd82861b393f1"
       ],
       "layout": "IPY_MODEL_afe2e8ee2fee44548a502b78243fd152"
      }
     },
     "f05be4de7a0543e0a25c34caa53030cd": {
      "model_module": "@jupyter-widgets/base",
      "model_module_version": "1.2.0",
      "model_name": "LayoutModel",
      "state": {
       "_model_module": "@jupyter-widgets/base",
       "_model_module_version": "1.2.0",
       "_model_name": "LayoutModel",
       "_view_count": null,
       "_view_module": "@jupyter-widgets/base",
       "_view_module_version": "1.2.0",
       "_view_name": "LayoutView",
       "align_content": null,
       "align_items": null,
       "align_self": null,
       "border": null,
       "bottom": null,
       "display": null,
       "flex": null,
       "flex_flow": null,
       "grid_area": null,
       "grid_auto_columns": null,
       "grid_auto_flow": null,
       "grid_auto_rows": null,
       "grid_column": null,
       "grid_gap": null,
       "grid_row": null,
       "grid_template_areas": null,
       "grid_template_columns": null,
       "grid_template_rows": null,
       "height": null,
       "justify_content": null,
       "justify_items": null,
       "left": null,
       "margin": null,
       "max_height": null,
       "max_width": null,
       "min_height": null,
       "min_width": null,
       "object_fit": null,
       "object_position": null,
       "order": null,
       "overflow": null,
       "overflow_x": null,
       "overflow_y": null,
       "padding": null,
       "right": null,
       "top": null,
       "visibility": null,
       "width": null
      }
     },
     "f62969a8af45473e9e79fc00528ce769": {
      "model_module": "@jupyter-widgets/controls",
      "model_module_version": "1.5.0",
      "model_name": "DescriptionStyleModel",
      "state": {
       "_model_module": "@jupyter-widgets/controls",
       "_model_module_version": "1.5.0",
       "_model_name": "DescriptionStyleModel",
       "_view_count": null,
       "_view_module": "@jupyter-widgets/base",
       "_view_module_version": "1.2.0",
       "_view_name": "StyleView",
       "description_width": ""
      }
     },
     "f981301ad0c044e98bddda28716cd823": {
      "model_module": "@jupyter-widgets/base",
      "model_module_version": "1.2.0",
      "model_name": "LayoutModel",
      "state": {
       "_model_module": "@jupyter-widgets/base",
       "_model_module_version": "1.2.0",
       "_model_name": "LayoutModel",
       "_view_count": null,
       "_view_module": "@jupyter-widgets/base",
       "_view_module_version": "1.2.0",
       "_view_name": "LayoutView",
       "align_content": null,
       "align_items": null,
       "align_self": null,
       "border": null,
       "bottom": null,
       "display": null,
       "flex": null,
       "flex_flow": null,
       "grid_area": null,
       "grid_auto_columns": null,
       "grid_auto_flow": null,
       "grid_auto_rows": null,
       "grid_column": null,
       "grid_gap": null,
       "grid_row": null,
       "grid_template_areas": null,
       "grid_template_columns": null,
       "grid_template_rows": null,
       "height": null,
       "justify_content": null,
       "justify_items": null,
       "left": null,
       "margin": null,
       "max_height": null,
       "max_width": null,
       "min_height": null,
       "min_width": null,
       "object_fit": null,
       "object_position": null,
       "order": null,
       "overflow": null,
       "overflow_x": null,
       "overflow_y": null,
       "padding": null,
       "right": null,
       "top": null,
       "visibility": null,
       "width": null
      }
     },
     "fae98276f77643fd8e47394e29f73cc2": {
      "model_module": "@jupyter-widgets/base",
      "model_module_version": "1.2.0",
      "model_name": "LayoutModel",
      "state": {
       "_model_module": "@jupyter-widgets/base",
       "_model_module_version": "1.2.0",
       "_model_name": "LayoutModel",
       "_view_count": null,
       "_view_module": "@jupyter-widgets/base",
       "_view_module_version": "1.2.0",
       "_view_name": "LayoutView",
       "align_content": null,
       "align_items": null,
       "align_self": null,
       "border": null,
       "bottom": null,
       "display": null,
       "flex": null,
       "flex_flow": null,
       "grid_area": null,
       "grid_auto_columns": null,
       "grid_auto_flow": null,
       "grid_auto_rows": null,
       "grid_column": null,
       "grid_gap": null,
       "grid_row": null,
       "grid_template_areas": null,
       "grid_template_columns": null,
       "grid_template_rows": null,
       "height": null,
       "justify_content": null,
       "justify_items": null,
       "left": null,
       "margin": null,
       "max_height": null,
       "max_width": null,
       "min_height": null,
       "min_width": null,
       "object_fit": null,
       "object_position": null,
       "order": null,
       "overflow": null,
       "overflow_x": null,
       "overflow_y": null,
       "padding": null,
       "right": null,
       "top": null,
       "visibility": null,
       "width": null
      }
     },
     "ffe80e6e076040648cf5a0e4fcc5c27a": {
      "model_module": "@jupyter-widgets/controls",
      "model_module_version": "1.5.0",
      "model_name": "HTMLModel",
      "state": {
       "_dom_classes": [],
       "_model_module": "@jupyter-widgets/controls",
       "_model_module_version": "1.5.0",
       "_model_name": "HTMLModel",
       "_view_count": null,
       "_view_module": "@jupyter-widgets/controls",
       "_view_module_version": "1.5.0",
       "_view_name": "HTMLView",
       "description": "",
       "description_tooltip": null,
       "layout": "IPY_MODEL_e05a7214f2a74f0c8f3c4e043beb58fc",
       "placeholder": "​",
       "style": "IPY_MODEL_cb6e8ac25b134a1b95b24ab7791637c3",
       "value": "100%"
      }
     }
    },
    "version_major": 2,
    "version_minor": 0
   }
  }
 },
 "nbformat": 4,
 "nbformat_minor": 5
}
