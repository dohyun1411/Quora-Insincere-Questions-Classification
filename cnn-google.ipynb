{
 "cells": [
  {
   "cell_type": "code",
   "execution_count": 1,
   "id": "plastic-drink",
   "metadata": {
    "execution": {
     "iopub.execute_input": "2021-06-17T17:45:29.875020Z",
     "iopub.status.busy": "2021-06-17T17:45:29.874354Z",
     "iopub.status.idle": "2021-06-17T17:45:34.810738Z",
     "shell.execute_reply": "2021-06-17T17:45:34.809798Z",
     "shell.execute_reply.started": "2021-06-16T16:29:19.573787Z"
    },
    "id": "mZ_Kk7K3T3oh",
    "outputId": "f78e75be-969e-4f6f-c410-b3f758e88f30",
    "papermill": {
     "duration": 4.972558,
     "end_time": "2021-06-17T17:45:34.810894",
     "exception": false,
     "start_time": "2021-06-17T17:45:29.838336",
     "status": "completed"
    },
    "tags": []
   },
   "outputs": [],
   "source": [
    "\n",
    "import os\n",
    "import pandas as pd\n",
    "import numpy as np\n",
    "import matplotlib.pyplot as plt\n",
    "%matplotlib inline\n",
    "\n",
    "from sklearn import preprocessing\n",
    "from tensorflow.keras.preprocessing.text import Tokenizer\n",
    "from tensorflow.keras.preprocessing.sequence import pad_sequences\n",
    "from tensorflow.keras.utils import to_categorical\n",
    "from sklearn.metrics import classification_report\n",
    "from tqdm.auto import tqdm\n",
    "tqdm.pandas()"
   ]
  },
  {
   "cell_type": "markdown",
   "id": "ceramic-polish",
   "metadata": {
    "id": "t-prIawhUGcG",
    "papermill": {
     "duration": 0.021532,
     "end_time": "2021-06-17T17:45:34.854419",
     "exception": false,
     "start_time": "2021-06-17T17:45:34.832887",
     "status": "completed"
    },
    "tags": []
   },
   "source": [
    "Import training data, test data"
   ]
  },
  {
   "cell_type": "code",
   "execution_count": 2,
   "id": "automatic-costs",
   "metadata": {
    "execution": {
     "iopub.execute_input": "2021-06-17T17:45:34.903222Z",
     "iopub.status.busy": "2021-06-17T17:45:34.902686Z",
     "iopub.status.idle": "2021-06-17T17:45:39.249069Z",
     "shell.execute_reply": "2021-06-17T17:45:39.249503Z",
     "shell.execute_reply.started": "2021-06-16T16:29:24.931605Z"
    },
    "id": "RIb7mz4LUF80",
    "outputId": "c9e6a259-13be-464d-9fff-5e37917b2948",
    "papermill": {
     "duration": 4.373692,
     "end_time": "2021-06-17T17:45:39.249657",
     "exception": false,
     "start_time": "2021-06-17T17:45:34.875965",
     "status": "completed"
    },
    "tags": []
   },
   "outputs": [
    {
     "name": "stdout",
     "output_type": "stream",
     "text": [
      "Train shape :  (1306122, 3)\n",
      "Test shape :  (375806, 2)\n"
     ]
    }
   ],
   "source": [
    "train_df = pd.read_csv(\"../input/quora-insincere-questions-classification/train.csv\")\n",
    "test_df = pd.read_csv(\"../input/quora-insincere-questions-classification/test.csv\")\n",
    "print(\"Train shape : \",train_df.shape)\n",
    "print(\"Test shape : \",test_df.shape)"
   ]
  },
  {
   "cell_type": "markdown",
   "id": "coordinate-emergency",
   "metadata": {
    "id": "0Cm9DDLwX20-",
    "papermill": {
     "duration": 0.021598,
     "end_time": "2021-06-17T17:45:39.293726",
     "exception": false,
     "start_time": "2021-06-17T17:45:39.272128",
     "status": "completed"
    },
    "tags": []
   },
   "source": [
    "Load and improve embedding"
   ]
  },
  {
   "cell_type": "code",
   "execution_count": 3,
   "id": "dangerous-software",
   "metadata": {
    "execution": {
     "iopub.execute_input": "2021-06-17T17:45:39.344757Z",
     "iopub.status.busy": "2021-06-17T17:45:39.344059Z",
     "iopub.status.idle": "2021-06-17T17:45:39.472689Z",
     "shell.execute_reply": "2021-06-17T17:45:39.472183Z",
     "shell.execute_reply.started": "2021-06-16T16:29:29.030464Z"
    },
    "id": "qtWlD-POVDT7",
    "papermill": {
     "duration": 0.157309,
     "end_time": "2021-06-17T17:45:39.472807",
     "exception": false,
     "start_time": "2021-06-17T17:45:39.315498",
     "status": "completed"
    },
    "tags": []
   },
   "outputs": [],
   "source": [
    "import zipfile\n",
    "from gensim.models import KeyedVectors\n",
    "import numpy as np\n",
    "\n",
    "embeddings_path = \"../input/quora-insincere-questions-classification/embeddings.zip\"\n",
    "glove = 'glove.840B.300d/glove.840B.300d.txt'\n",
    "wiki = 'wiki-news-300d-1M/wiki-news-300d-1M.vec'\n",
    "google = 'GoogleNews-vectors-negative300/GoogleNews-vectors-negative300.bin'\n",
    "para = 'paragram_300_sl999/paragram_300_sl999.txt'\n",
    "\n",
    "\n",
    "def load_embedding(embedding_name):\n",
    "\n",
    "    def get_coefs(word, *arr): return word, np.asarray(arr, dtype='float32')\n",
    "\n",
    "    with zipfile.ZipFile(embeddings_path) as embeddings_zip:\n",
    "        print(\"Found embeddings as a zip file\")\n",
    "\n",
    "        if embedding_name == google:\n",
    "            return KeyedVectors.load_word2vec_format(embeddings_zip.open(google), binary=True)\n",
    "\n",
    "        else:\n",
    "            embedding = []\n",
    "            for o in embeddings_zip.open(embedding_name):\n",
    "                try:\n",
    "                    if len(o.decode('utf-8')) > 100:\n",
    "                        embedding.append(get_coefs(*o.decode('utf-8').split(\" \")))\n",
    "                except:\n",
    "                    pass\n",
    "        \n",
    "        return dict(embedding)"
   ]
  },
  {
   "cell_type": "code",
   "execution_count": 4,
   "id": "bored-nelson",
   "metadata": {
    "execution": {
     "iopub.execute_input": "2021-06-17T17:45:39.520619Z",
     "iopub.status.busy": "2021-06-17T17:45:39.520064Z",
     "iopub.status.idle": "2021-06-17T17:45:39.523452Z",
     "shell.execute_reply": "2021-06-17T17:45:39.523834Z",
     "shell.execute_reply.started": "2021-06-16T16:29:29.148763Z"
    },
    "id": "0N9T-CxMVZUo",
    "papermill": {
     "duration": 0.02904,
     "end_time": "2021-06-17T17:45:39.523960",
     "exception": false,
     "start_time": "2021-06-17T17:45:39.494920",
     "status": "completed"
    },
    "tags": []
   },
   "outputs": [],
   "source": [
    "n_splits = 5\n",
    "seed = 31\n",
    "puncts = '´‘’“”…!#$%&()*+,-./:;<=>?@[\\]^_`{|}~\"' + \"'\""
   ]
  },
  {
   "cell_type": "code",
   "execution_count": 5,
   "id": "appropriate-department",
   "metadata": {
    "execution": {
     "iopub.execute_input": "2021-06-17T17:45:39.572328Z",
     "iopub.status.busy": "2021-06-17T17:45:39.571671Z",
     "iopub.status.idle": "2021-06-17T17:45:39.620908Z",
     "shell.execute_reply": "2021-06-17T17:45:39.620461Z",
     "shell.execute_reply.started": "2021-06-16T16:29:29.156482Z"
    },
    "id": "X_U7oxxfVqFk",
    "papermill": {
     "duration": 0.074629,
     "end_time": "2021-06-17T17:45:39.621016",
     "exception": false,
     "start_time": "2021-06-17T17:45:39.546387",
     "status": "completed"
    },
    "tags": []
   },
   "outputs": [],
   "source": [
    "from keras.preprocessing.text import Tokenizer\n",
    "\n",
    "to_exclude = ''\n",
    "to_tokenize = puncts\n",
    "\n",
    "tokenizer = Tokenizer(filters=to_exclude, lower=False)"
   ]
  },
  {
   "cell_type": "markdown",
   "id": "departmental-westminster",
   "metadata": {
    "id": "MLTblDpAYFNY",
    "papermill": {
     "duration": 0.021571,
     "end_time": "2021-06-17T17:45:39.664485",
     "exception": false,
     "start_time": "2021-06-17T17:45:39.642914",
     "status": "completed"
    },
    "tags": []
   },
   "source": [
    "Split the data into train, validation, test"
   ]
  },
  {
   "cell_type": "code",
   "execution_count": 6,
   "id": "former-table",
   "metadata": {
    "execution": {
     "iopub.execute_input": "2021-06-17T17:45:39.714029Z",
     "iopub.status.busy": "2021-06-17T17:45:39.713411Z",
     "iopub.status.idle": "2021-06-17T17:45:40.783508Z",
     "shell.execute_reply": "2021-06-17T17:45:40.783922Z",
     "shell.execute_reply.started": "2021-06-16T16:29:29.214694Z"
    },
    "id": "OUiQs89YV2i5",
    "papermill": {
     "duration": 1.097668,
     "end_time": "2021-06-17T17:45:40.784080",
     "exception": false,
     "start_time": "2021-06-17T17:45:39.686412",
     "status": "completed"
    },
    "tags": []
   },
   "outputs": [],
   "source": [
    "from sklearn.model_selection import train_test_split, KFold\n",
    "\n",
    "kfold = KFold(n_splits=n_splits, shuffle=True, random_state=seed)\n",
    "\n",
    "train_df, val_df = train_test_split(train_df, test_size=0.1)\n",
    "\n",
    "train_idx, val_idx = list(kfold.split(train_df))[0]\n",
    "train_df, val_df = train_df.iloc[train_idx], train_df.iloc[val_idx]\n",
    "\n",
    "train_text = train_df[\"question_text\"].fillna(\"_na_\")\n",
    "val_text = val_df[\"question_text\"].fillna(\"_na_\")\n",
    "test_text = test_df[\"question_text\"].fillna(\"_na_\")\n",
    "\n",
    "train_y = train_df['target'].values\n",
    "val_y = val_df['target'].values"
   ]
  },
  {
   "cell_type": "code",
   "execution_count": 7,
   "id": "assumed-surrey",
   "metadata": {
    "execution": {
     "iopub.execute_input": "2021-06-17T17:45:40.833784Z",
     "iopub.status.busy": "2021-06-17T17:45:40.833267Z",
     "iopub.status.idle": "2021-06-17T17:45:56.958605Z",
     "shell.execute_reply": "2021-06-17T17:45:56.957677Z",
     "shell.execute_reply.started": "2021-06-16T16:29:30.275521Z"
    },
    "id": "MW1K5kXcWaIf",
    "outputId": "147be849-4cd4-479e-e3f9-5044581b7592",
    "papermill": {
     "duration": 16.152271,
     "end_time": "2021-06-17T17:45:56.958730",
     "exception": false,
     "start_time": "2021-06-17T17:45:40.806459",
     "status": "completed"
    },
    "tags": []
   },
   "outputs": [
    {
     "data": {
      "application/vnd.jupyter.widget-view+json": {
       "model_id": "4e0464614ead4212b56608992f853195",
       "version_major": 2,
       "version_minor": 0
      },
      "text/plain": [
       "  0%|          | 0/940407 [00:00<?, ?it/s]"
      ]
     },
     "metadata": {},
     "output_type": "display_data"
    },
    {
     "data": {
      "application/vnd.jupyter.widget-view+json": {
       "model_id": "48fd1295d9c3453a92ce2636ee56da9e",
       "version_major": 2,
       "version_minor": 0
      },
      "text/plain": [
       "  0%|          | 0/235102 [00:00<?, ?it/s]"
      ]
     },
     "metadata": {},
     "output_type": "display_data"
    },
    {
     "data": {
      "application/vnd.jupyter.widget-view+json": {
       "model_id": "b2a5bd16889e469cb063e201df7e6ffd",
       "version_major": 2,
       "version_minor": 0
      },
      "text/plain": [
       "  0%|          | 0/375806 [00:00<?, ?it/s]"
      ]
     },
     "metadata": {},
     "output_type": "display_data"
    }
   ],
   "source": [
    "import re\n",
    "\n",
    "train_text = train_text.progress_apply(lambda x: re.sub(r'(['+to_tokenize+'])', r' \\1', x)).values\n",
    "val_text = val_text.progress_apply(lambda x: re.sub(r'(['+to_tokenize+'])', r' \\1', x)).values\n",
    "test_text = test_text.progress_apply(lambda x: re.sub(r'(['+to_tokenize+'])', r' \\1', x)).values"
   ]
  },
  {
   "cell_type": "code",
   "execution_count": 8,
   "id": "fluid-premium",
   "metadata": {
    "execution": {
     "iopub.execute_input": "2021-06-17T17:45:57.145474Z",
     "iopub.status.busy": "2021-06-17T17:45:57.143858Z",
     "iopub.status.idle": "2021-06-17T17:45:57.146091Z",
     "shell.execute_reply": "2021-06-17T17:45:57.146500Z",
     "shell.execute_reply.started": "2021-06-16T16:29:46.213776Z"
    },
    "id": "bU04kQ9DWlLc",
    "papermill": {
     "duration": 0.163946,
     "end_time": "2021-06-17T17:45:57.146641",
     "exception": false,
     "start_time": "2021-06-17T17:45:56.982695",
     "status": "completed"
    },
    "tags": []
   },
   "outputs": [],
   "source": [
    "text = list(train_text) + list(val_text) + list(test_text)"
   ]
  },
  {
   "cell_type": "markdown",
   "id": "thermal-marks",
   "metadata": {
    "id": "VMuUmeN5YQug",
    "papermill": {
     "duration": 0.022814,
     "end_time": "2021-06-17T17:45:57.192561",
     "exception": false,
     "start_time": "2021-06-17T17:45:57.169747",
     "status": "completed"
    },
    "tags": []
   },
   "source": [
    "Tokenize the text"
   ]
  },
  {
   "cell_type": "code",
   "execution_count": 9,
   "id": "hollow-prairie",
   "metadata": {
    "execution": {
     "iopub.execute_input": "2021-06-17T17:45:57.261256Z",
     "iopub.status.busy": "2021-06-17T17:45:57.256150Z",
     "iopub.status.idle": "2021-06-17T17:46:19.437436Z",
     "shell.execute_reply": "2021-06-17T17:46:19.436682Z",
     "shell.execute_reply.started": "2021-06-16T16:29:46.357604Z"
    },
    "id": "Jv4mPsn4WvGa",
    "outputId": "66449ab7-f945-49a7-82de-faa33c535788",
    "papermill": {
     "duration": 22.222146,
     "end_time": "2021-06-17T17:46:19.437563",
     "exception": false,
     "start_time": "2021-06-17T17:45:57.215417",
     "status": "completed"
    },
    "tags": []
   },
   "outputs": [
    {
     "name": "stdout",
     "output_type": "stream",
     "text": [
      "CPU times: user 22.1 s, sys: 91.8 ms, total: 22.2 s\n",
      "Wall time: 22.2 s\n"
     ]
    }
   ],
   "source": [
    "%%time\n",
    "tokenizer.fit_on_texts(text)"
   ]
  },
  {
   "cell_type": "markdown",
   "id": "academic-reader",
   "metadata": {
    "id": "WJrdp7QTYVH_",
    "papermill": {
     "duration": 0.023463,
     "end_time": "2021-06-17T17:46:19.487304",
     "exception": false,
     "start_time": "2021-06-17T17:46:19.463841",
     "status": "completed"
    },
    "tags": []
   },
   "source": [
    "Encoding the word to integer"
   ]
  },
  {
   "cell_type": "code",
   "execution_count": 10,
   "id": "medical-respect",
   "metadata": {
    "execution": {
     "iopub.execute_input": "2021-06-17T17:46:19.538779Z",
     "iopub.status.busy": "2021-06-17T17:46:19.537844Z",
     "iopub.status.idle": "2021-06-17T17:46:19.540792Z",
     "shell.execute_reply": "2021-06-17T17:46:19.540401Z",
     "shell.execute_reply.started": "2021-06-16T16:30:08.717781Z"
    },
    "id": "eIoRK2RfW4q8",
    "papermill": {
     "duration": 0.030027,
     "end_time": "2021-06-17T17:46:19.540898",
     "exception": false,
     "start_time": "2021-06-17T17:46:19.510871",
     "status": "completed"
    },
    "tags": []
   },
   "outputs": [],
   "source": [
    "word_index = tokenizer.word_index"
   ]
  },
  {
   "cell_type": "markdown",
   "id": "racial-marsh",
   "metadata": {
    "id": "FVvuv8pgYd6b",
    "papermill": {
     "duration": 0.023512,
     "end_time": "2021-06-17T17:46:19.587765",
     "exception": false,
     "start_time": "2021-06-17T17:46:19.564253",
     "status": "completed"
    },
    "tags": []
   },
   "source": [
    "Encoding the text to interger sequence"
   ]
  },
  {
   "cell_type": "code",
   "execution_count": 11,
   "id": "excited-worcester",
   "metadata": {
    "execution": {
     "iopub.execute_input": "2021-06-17T17:46:19.668232Z",
     "iopub.status.busy": "2021-06-17T17:46:19.657993Z",
     "iopub.status.idle": "2021-06-17T17:46:38.476994Z",
     "shell.execute_reply": "2021-06-17T17:46:38.477439Z",
     "shell.execute_reply.started": "2021-06-16T16:30:08.724551Z"
    },
    "id": "Lt-g_PszW7T-",
    "outputId": "a036bdce-642a-4170-d905-03d188deed0e",
    "papermill": {
     "duration": 18.866152,
     "end_time": "2021-06-17T17:46:38.477616",
     "exception": false,
     "start_time": "2021-06-17T17:46:19.611464",
     "status": "completed"
    },
    "tags": []
   },
   "outputs": [
    {
     "name": "stdout",
     "output_type": "stream",
     "text": [
      "CPU times: user 18.6 s, sys: 198 ms, total: 18.8 s\n",
      "Wall time: 18.8 s\n"
     ]
    }
   ],
   "source": [
    "%%time\n",
    "train_X = tokenizer.texts_to_sequences(train_text)\n",
    "val_X = tokenizer.texts_to_sequences(val_text)\n",
    "test_X = tokenizer.texts_to_sequences(test_text)\n",
    "\n",
    "maxlen = max({len(seq) for seq in train_X} | {len(seq) for seq in val_X} | {len(seq) for seq in test_X})\n",
    "#maxlen = 600"
   ]
  },
  {
   "cell_type": "markdown",
   "id": "unlikely-fellow",
   "metadata": {
    "id": "DNPdD5vyYi6M",
    "papermill": {
     "duration": 0.023968,
     "end_time": "2021-06-17T17:46:38.526188",
     "exception": false,
     "start_time": "2021-06-17T17:46:38.502220",
     "status": "completed"
    },
    "tags": []
   },
   "source": [
    "Pad the sequence to equalize the length"
   ]
  },
  {
   "cell_type": "code",
   "execution_count": 12,
   "id": "incident-cricket",
   "metadata": {
    "execution": {
     "iopub.execute_input": "2021-06-17T17:46:38.577925Z",
     "iopub.status.busy": "2021-06-17T17:46:38.577143Z",
     "iopub.status.idle": "2021-06-17T17:46:50.926912Z",
     "shell.execute_reply": "2021-06-17T17:46:50.927597Z",
     "shell.execute_reply.started": "2021-06-16T16:30:27.116744Z"
    },
    "id": "sjm2hxhcXGZh",
    "papermill": {
     "duration": 12.37808,
     "end_time": "2021-06-17T17:46:50.927810",
     "exception": false,
     "start_time": "2021-06-17T17:46:38.549730",
     "status": "completed"
    },
    "tags": []
   },
   "outputs": [],
   "source": [
    "from keras.preprocessing.sequence import pad_sequences\n",
    "\n",
    "train_X = pad_sequences(train_X, maxlen=maxlen)\n",
    "val_X = pad_sequences(val_X, maxlen=maxlen)\n",
    "test_X = pad_sequences(test_X, maxlen=maxlen)"
   ]
  },
  {
   "cell_type": "code",
   "execution_count": 13,
   "id": "hidden-dover",
   "metadata": {
    "execution": {
     "iopub.execute_input": "2021-06-17T17:46:51.011843Z",
     "iopub.status.busy": "2021-06-17T17:46:51.010203Z",
     "iopub.status.idle": "2021-06-17T17:46:51.013219Z",
     "shell.execute_reply": "2021-06-17T17:46:51.012590Z",
     "shell.execute_reply.started": "2021-06-16T16:30:39.684172Z"
    },
    "id": "hkY1GClVXRym",
    "papermill": {
     "duration": 0.046703,
     "end_time": "2021-06-17T17:46:51.013375",
     "exception": false,
     "start_time": "2021-06-17T17:46:50.966672",
     "status": "completed"
    },
    "tags": []
   },
   "outputs": [],
   "source": [
    "google_emb_mean, google_emb_std = -0.003527845, 0.13315111"
   ]
  },
  {
   "cell_type": "code",
   "execution_count": 14,
   "id": "promising-interim",
   "metadata": {
    "execution": {
     "iopub.execute_input": "2021-06-17T17:46:51.099869Z",
     "iopub.status.busy": "2021-06-17T17:46:51.098118Z",
     "iopub.status.idle": "2021-06-17T17:46:51.101447Z",
     "shell.execute_reply": "2021-06-17T17:46:51.100793Z",
     "shell.execute_reply.started": "2021-06-16T16:30:39.691678Z"
    },
    "id": "7PbOJjyzXTtO",
    "papermill": {
     "duration": 0.049745,
     "end_time": "2021-06-17T17:46:51.101604",
     "exception": false,
     "start_time": "2021-06-17T17:46:51.051859",
     "status": "completed"
    },
    "tags": []
   },
   "outputs": [],
   "source": [
    "embed_size = 300 # how big is each word vector\n",
    "max_features = len(word_index) # how many unique words to use (i.e num rows in embedding vector)"
   ]
  },
  {
   "cell_type": "markdown",
   "id": "basic-entity",
   "metadata": {
    "id": "C5N-_Q1cYy8U",
    "papermill": {
     "duration": 0.040685,
     "end_time": "2021-06-17T17:46:51.184445",
     "exception": false,
     "start_time": "2021-06-17T17:46:51.143760",
     "status": "completed"
    },
    "tags": []
   },
   "source": [
    "Load glove embedding"
   ]
  },
  {
   "cell_type": "code",
   "execution_count": 15,
   "id": "subject-nursery",
   "metadata": {
    "execution": {
     "iopub.execute_input": "2021-06-17T17:46:51.250989Z",
     "iopub.status.busy": "2021-06-17T17:46:51.250460Z",
     "iopub.status.idle": "2021-06-17T17:48:09.540199Z",
     "shell.execute_reply": "2021-06-17T17:48:09.540619Z",
     "shell.execute_reply.started": "2021-06-16T16:30:39.700905Z"
    },
    "id": "UJ3XQlpIXg8x",
    "outputId": "f69eef06-0428-4156-989d-0822acf4786f",
    "papermill": {
     "duration": 78.317812,
     "end_time": "2021-06-17T17:48:09.540763",
     "exception": false,
     "start_time": "2021-06-17T17:46:51.222951",
     "status": "completed"
    },
    "tags": []
   },
   "outputs": [
    {
     "name": "stdout",
     "output_type": "stream",
     "text": [
      "Found embeddings as a zip file\n",
      "CPU times: user 56.1 s, sys: 2.87 s, total: 59 s\n",
      "Wall time: 1min 18s\n"
     ]
    }
   ],
   "source": [
    "%%time\n",
    "google_embedding = load_embedding(google)"
   ]
  },
  {
   "cell_type": "markdown",
   "id": "backed-charter",
   "metadata": {
    "id": "mEafY_coZQeP",
    "papermill": {
     "duration": 0.023641,
     "end_time": "2021-06-17T17:48:09.588483",
     "exception": false,
     "start_time": "2021-06-17T17:48:09.564842",
     "status": "completed"
    },
    "tags": []
   },
   "source": [
    "Improve the embedding matrix"
   ]
  },
  {
   "cell_type": "code",
   "execution_count": 16,
   "id": "emerging-evanescence",
   "metadata": {
    "execution": {
     "iopub.execute_input": "2021-06-17T17:48:09.640934Z",
     "iopub.status.busy": "2021-06-17T17:48:09.640364Z",
     "iopub.status.idle": "2021-06-17T17:48:30.249504Z",
     "shell.execute_reply": "2021-06-17T17:48:30.249055Z",
     "shell.execute_reply.started": "2021-06-16T16:36:07.215831Z"
    },
    "id": "QeQMtN63ZT1T",
    "outputId": "aeff337f-eff7-467f-a50b-78340e77334d",
    "papermill": {
     "duration": 20.637208,
     "end_time": "2021-06-17T17:48:30.249637",
     "exception": false,
     "start_time": "2021-06-17T17:48:09.612429",
     "status": "completed"
    },
    "tags": []
   },
   "outputs": [
    {
     "name": "stdout",
     "output_type": "stream",
     "text": [
      "[nltk_data] Error loading wordnet: <urlopen error [Errno -3] Temporary\n",
      "[nltk_data]     failure in name resolution>\n"
     ]
    }
   ],
   "source": [
    "import nltk\n",
    "nltk.download('wordnet')\n",
    "\n",
    "from nltk.stem import PorterStemmer\n",
    "from nltk.stem import LancasterStemmer\n",
    "from nltk.stem import WordNetLemmatizer\n",
    "s = PorterStemmer()\n",
    "l = LancasterStemmer()\n",
    "n = WordNetLemmatizer()"
   ]
  },
  {
   "cell_type": "code",
   "execution_count": 17,
   "id": "regional-breed",
   "metadata": {
    "execution": {
     "iopub.execute_input": "2021-06-17T17:48:30.306249Z",
     "iopub.status.busy": "2021-06-17T17:48:30.305579Z",
     "iopub.status.idle": "2021-06-17T17:48:30.308369Z",
     "shell.execute_reply": "2021-06-17T17:48:30.307961Z",
     "shell.execute_reply.started": "2021-06-16T16:36:08.0386Z"
    },
    "id": "6_Me73SzZXda",
    "papermill": {
     "duration": 0.034149,
     "end_time": "2021-06-17T17:48:30.308476",
     "exception": false,
     "start_time": "2021-06-17T17:48:30.274327",
     "status": "completed"
    },
    "tags": []
   },
   "outputs": [],
   "source": [
    "def is_in_emb(word, i, embedding, emb_matrix):\n",
    "\n",
    "    if word in embedding:\n",
    "        emb_matrix[i] = embedding[word]\n",
    "        return True\n",
    "    \n",
    "    tmp = word.lower()\n",
    "    if tmp in embedding:\n",
    "        emb_matrix[i] = embedding[tmp]\n",
    "        return True\n",
    "    \n",
    "    tmp = word.upper()\n",
    "    if tmp in embedding:\n",
    "        emb_matrix[i] = embedding[tmp]\n",
    "        return True\n",
    "\n",
    "    tmp = word.capitalize()\n",
    "    if tmp in embedding:\n",
    "        emb_matrix[i] = embedding[tmp]\n",
    "        return True\n",
    "\n",
    "    tmp = s.stem(word)\n",
    "    if tmp in embedding:\n",
    "        emb_matrix[i] = embedding[tmp]\n",
    "        return True\n",
    "    \n",
    "    tmp = l.stem(word)\n",
    "    if tmp in embedding:\n",
    "        emb_matrix[i] = embedding[tmp]\n",
    "        return True\n",
    "    \n",
    "    tmp = n.lemmatize(word)\n",
    "    if tmp in embedding:\n",
    "        emb_matrix[i] = embedding[tmp]\n",
    "        return True\n",
    "    \n",
    "    return False"
   ]
  },
  {
   "cell_type": "code",
   "execution_count": 18,
   "id": "nuclear-monitoring",
   "metadata": {
    "execution": {
     "iopub.execute_input": "2021-06-17T17:48:30.363410Z",
     "iopub.status.busy": "2021-06-17T17:48:30.362687Z",
     "iopub.status.idle": "2021-06-17T17:49:01.612092Z",
     "shell.execute_reply": "2021-06-17T17:49:01.612512Z",
     "shell.execute_reply.started": "2021-06-16T16:36:08.048098Z"
    },
    "id": "wkBaNUXkZ4iO",
    "outputId": "c74d3c79-148c-4bb2-ffb6-675a610c112c",
    "papermill": {
     "duration": 31.280259,
     "end_time": "2021-06-17T17:49:01.612668",
     "exception": false,
     "start_time": "2021-06-17T17:48:30.332409",
     "status": "completed"
    },
    "tags": []
   },
   "outputs": [
    {
     "data": {
      "application/vnd.jupyter.widget-view+json": {
       "model_id": "2257ed7259c14e658a2abb3882e690e8",
       "version_major": 2,
       "version_minor": 0
      },
      "text/plain": [
       "  0%|          | 0/329968 [00:00<?, ?it/s]"
      ]
     },
     "metadata": {},
     "output_type": "display_data"
    },
    {
     "name": "stdout",
     "output_type": "stream",
     "text": [
      "percentage of oov of google: 22.39%\n"
     ]
    }
   ],
   "source": [
    "google_emb_matrix = np.random.normal(google_emb_mean, google_emb_std, (max_features+1, embed_size))\n",
    "google_oov = {}\n",
    "# double_continue = False\n",
    "for word, i in tqdm(word_index.items()):\n",
    "    #i -= 1\n",
    "    assert i >= 0\n",
    "\n",
    "    if is_in_emb(word, i, google_embedding, google_emb_matrix): continue\n",
    "\n",
    "    tmp = re.sub('[0-9]{5,}', '#####', word)\n",
    "    tmp = re.sub('[0-9]{4}', '####', tmp)\n",
    "    tmp = re.sub('[0-9]{3}', '###', tmp)\n",
    "    tmp = re.sub('[0-9]{2}', '##', tmp)\n",
    "    if is_in_emb(tmp, i, google_embedding, google_emb_matrix): continue\n",
    "\n",
    "    # tmp = word\n",
    "    for punct in puncts:\n",
    "        tmp = tmp.replace(punct, '')\n",
    "    if is_in_emb(tmp, i, google_embedding, google_emb_matrix): continue\n",
    "\n",
    "    else:\n",
    "        google_oov[word] = i\n",
    "\n",
    "del google_embedding\n",
    "print('percentage of oov of google: {:.2f}%'.format(len(google_oov) / max_features * 100))"
   ]
  },
  {
   "cell_type": "code",
   "execution_count": 19,
   "id": "plastic-bench",
   "metadata": {
    "execution": {
     "iopub.execute_input": "2021-06-17T17:49:01.669980Z",
     "iopub.status.busy": "2021-06-17T17:49:01.669284Z",
     "iopub.status.idle": "2021-06-17T17:49:01.672843Z",
     "shell.execute_reply": "2021-06-17T17:49:01.672417Z",
     "shell.execute_reply.started": "2021-06-16T16:36:28.251194Z"
    },
    "id": "WcrAJYGda-Jz",
    "outputId": "421780fb-dd3a-4379-911a-c96f6e263dd5",
    "papermill": {
     "duration": 0.034238,
     "end_time": "2021-06-17T17:49:01.672948",
     "exception": false,
     "start_time": "2021-06-17T17:49:01.638710",
     "status": "completed"
    },
    "tags": []
   },
   "outputs": [
    {
     "data": {
      "text/plain": [
       "(329969, 300)"
      ]
     },
     "execution_count": 19,
     "metadata": {},
     "output_type": "execute_result"
    }
   ],
   "source": [
    "google_emb_matrix.shape"
   ]
  },
  {
   "cell_type": "markdown",
   "id": "floral-gallery",
   "metadata": {
    "id": "bCQFhb07c8OA",
    "papermill": {
     "duration": 0.033075,
     "end_time": "2021-06-17T17:49:01.734766",
     "exception": false,
     "start_time": "2021-06-17T17:49:01.701691",
     "status": "completed"
    },
    "tags": []
   },
   "source": [
    "Use 1D CNN"
   ]
  },
  {
   "cell_type": "code",
   "execution_count": 20,
   "id": "superb-detroit",
   "metadata": {
    "execution": {
     "iopub.execute_input": "2021-06-17T17:49:01.792245Z",
     "iopub.status.busy": "2021-06-17T17:49:01.790941Z",
     "iopub.status.idle": "2021-06-17T17:49:01.793285Z",
     "shell.execute_reply": "2021-06-17T17:49:01.793710Z",
     "shell.execute_reply.started": "2021-06-16T16:36:28.259582Z"
    },
    "id": "5VIQVsDZc-sm",
    "papermill": {
     "duration": 0.033208,
     "end_time": "2021-06-17T17:49:01.793831",
     "exception": false,
     "start_time": "2021-06-17T17:49:01.760623",
     "status": "completed"
    },
    "tags": []
   },
   "outputs": [],
   "source": [
    "from tensorflow.keras.models import Model\n",
    "from tensorflow.keras.layers import Embedding, Dropout, Conv1D, GlobalMaxPooling1D, Dense, Input, Flatten, Concatenate\n",
    "from tensorflow.keras.callbacks import EarlyStopping, ModelCheckpoint\n",
    "from tensorflow.keras.models import load_model\n",
    "filter_sizes=[3,4,5]\n",
    "num_filters = 512\n",
    "drop = 0.5"
   ]
  },
  {
   "cell_type": "code",
   "execution_count": 21,
   "id": "protected-original",
   "metadata": {
    "execution": {
     "iopub.execute_input": "2021-06-17T17:49:01.851997Z",
     "iopub.status.busy": "2021-06-17T17:49:01.851422Z",
     "iopub.status.idle": "2021-06-17T17:49:05.382276Z",
     "shell.execute_reply": "2021-06-17T17:49:05.381817Z",
     "shell.execute_reply.started": "2021-06-16T16:36:28.270377Z"
    },
    "id": "77uqmMEEdCmN",
    "outputId": "84f74316-99c5-4592-905a-babd8c0687f8",
    "papermill": {
     "duration": 3.56297,
     "end_time": "2021-06-17T17:49:05.382409",
     "exception": false,
     "start_time": "2021-06-17T17:49:01.819439",
     "status": "completed"
    },
    "tags": []
   },
   "outputs": [
    {
     "name": "stdout",
     "output_type": "stream",
     "text": [
      "Model: \"model\"\n",
      "__________________________________________________________________________________________________\n",
      "Layer (type)                    Output Shape         Param #     Connected to                     \n",
      "==================================================================================================\n",
      "input_1 (InputLayer)            [(None, 449)]        0                                            \n",
      "__________________________________________________________________________________________________\n",
      "embedding (Embedding)           (None, 449, 300)     98990700    input_1[0][0]                    \n",
      "__________________________________________________________________________________________________\n",
      "conv1d (Conv1D)                 (None, 447, 512)     461312      embedding[0][0]                  \n",
      "__________________________________________________________________________________________________\n",
      "conv1d_1 (Conv1D)               (None, 446, 512)     614912      embedding[0][0]                  \n",
      "__________________________________________________________________________________________________\n",
      "conv1d_2 (Conv1D)               (None, 445, 512)     768512      embedding[0][0]                  \n",
      "__________________________________________________________________________________________________\n",
      "global_max_pooling1d (GlobalMax (None, 512)          0           conv1d[0][0]                     \n",
      "__________________________________________________________________________________________________\n",
      "global_max_pooling1d_1 (GlobalM (None, 512)          0           conv1d_1[0][0]                   \n",
      "__________________________________________________________________________________________________\n",
      "global_max_pooling1d_2 (GlobalM (None, 512)          0           conv1d_2[0][0]                   \n",
      "__________________________________________________________________________________________________\n",
      "flatten (Flatten)               (None, 512)          0           global_max_pooling1d[0][0]       \n",
      "__________________________________________________________________________________________________\n",
      "flatten_1 (Flatten)             (None, 512)          0           global_max_pooling1d_1[0][0]     \n",
      "__________________________________________________________________________________________________\n",
      "flatten_2 (Flatten)             (None, 512)          0           global_max_pooling1d_2[0][0]     \n",
      "__________________________________________________________________________________________________\n",
      "concatenate (Concatenate)       (None, 1536)         0           flatten[0][0]                    \n",
      "                                                                 flatten_1[0][0]                  \n",
      "                                                                 flatten_2[0][0]                  \n",
      "__________________________________________________________________________________________________\n",
      "dropout (Dropout)               (None, 1536)         0           concatenate[0][0]                \n",
      "__________________________________________________________________________________________________\n",
      "dense (Dense)                   (None, 128)          196736      dropout[0][0]                    \n",
      "__________________________________________________________________________________________________\n",
      "dense_1 (Dense)                 (None, 1)            129         dense[0][0]                      \n",
      "==================================================================================================\n",
      "Total params: 101,032,301\n",
      "Trainable params: 2,041,601\n",
      "Non-trainable params: 98,990,700\n",
      "__________________________________________________________________________________________________\n"
     ]
    }
   ],
   "source": [
    "model_input = Input(shape=(maxlen,))\n",
    "z = Embedding(len(word_index)+1,\n",
    "              google_emb_matrix.shape[1],\n",
    "              weights=[google_emb_matrix],\n",
    "              input_length=maxlen,\n",
    "              trainable=False)(model_input)\n",
    "\n",
    "conv_blocks = []\n",
    "\n",
    "for sz in filter_sizes:\n",
    "  conv = Conv1D(filters = num_filters,\n",
    "                kernel_size = sz,\n",
    "                padding = \"valid\",\n",
    "                activation = \"relu\",\n",
    "                strides = 1)(z)\n",
    "  conv = GlobalMaxPooling1D()(conv)\n",
    "  conv = Flatten()(conv)\n",
    "  conv_blocks.append(conv)\n",
    "\n",
    "z = Concatenate()(conv_blocks) if len(conv_blocks) > 1 else conv_blocks[0]\n",
    "z = Dropout(drop)(z)\n",
    "z = Dense(128, activation=\"relu\")(z)\n",
    "model_output = Dense(1, activation='sigmoid')(z)\n",
    "\n",
    "model = Model(model_input, model_output)\n",
    "\n",
    "model.compile(loss='binary_crossentropy',\n",
    "              optimizer='adam',\n",
    "              metrics=['acc'])\n",
    "\n",
    "model.summary()"
   ]
  },
  {
   "cell_type": "code",
   "execution_count": 22,
   "id": "young-january",
   "metadata": {
    "execution": {
     "iopub.execute_input": "2021-06-17T17:49:05.439343Z",
     "iopub.status.busy": "2021-06-17T17:49:05.438574Z",
     "iopub.status.idle": "2021-06-17T18:59:38.283847Z",
     "shell.execute_reply": "2021-06-17T18:59:38.284517Z",
     "shell.execute_reply.started": "2021-06-16T16:36:31.839984Z"
    },
    "id": "VY_nvOxojAdM",
    "outputId": "b6cc9405-857a-453d-b869-6a36df87f0ad",
    "papermill": {
     "duration": 4232.876341,
     "end_time": "2021-06-17T18:59:38.284681",
     "exception": false,
     "start_time": "2021-06-17T17:49:05.408340",
     "status": "completed"
    },
    "tags": []
   },
   "outputs": [
    {
     "name": "stdout",
     "output_type": "stream",
     "text": [
      "Epoch 1/5\n",
      "14694/14694 [==============================] - 850s 58ms/step - loss: 0.1266 - acc: 0.9505 - val_loss: 0.1124 - val_acc: 0.9576\n",
      "Epoch 2/5\n",
      "14694/14694 [==============================] - 843s 57ms/step - loss: 0.1073 - acc: 0.9575 - val_loss: 0.1045 - val_acc: 0.9586\n",
      "Epoch 3/5\n",
      "14694/14694 [==============================] - 840s 57ms/step - loss: 0.0993 - acc: 0.9600 - val_loss: 0.1041 - val_acc: 0.9594\n",
      "Epoch 4/5\n",
      "14694/14694 [==============================] - 836s 57ms/step - loss: 0.0939 - acc: 0.9623 - val_loss: 0.1042 - val_acc: 0.9581\n",
      "Epoch 5/5\n",
      "14694/14694 [==============================] - 843s 57ms/step - loss: 0.0872 - acc: 0.9646 - val_loss: 0.1026 - val_acc: 0.9595\n"
     ]
    }
   ],
   "source": [
    "#es = EarlyStopping(monitor='val_loss', mode='min', verbose=1, patience=4)\n",
    "#mc = ModelCheckpoint('CNN_model.h5', monitor='val_acc', mode='max', verbose=1, save_best_only=True)\n",
    "\n",
    "history = model.fit(train_X, train_y,\n",
    "                    batch_size=64,\n",
    "                    epochs=5,\n",
    "                    validation_data=(val_X, val_y))\n",
    "\n",
    "                    #verbose=2)\n",
    "                    #callbacks=[es, mc])"
   ]
  },
  {
   "cell_type": "code",
   "execution_count": 23,
   "id": "continued-chicken",
   "metadata": {
    "execution": {
     "iopub.execute_input": "2021-06-17T19:00:16.261222Z",
     "iopub.status.busy": "2021-06-17T19:00:16.260280Z",
     "iopub.status.idle": "2021-06-17T19:02:00.567755Z",
     "shell.execute_reply": "2021-06-17T19:02:00.567298Z",
     "shell.execute_reply.started": "2021-06-16T16:50:25.599042Z"
    },
    "id": "jTuK73CVrHdD",
    "outputId": "60371c88-5220-4355-fca0-5f573251bf2d",
    "papermill": {
     "duration": 123.411621,
     "end_time": "2021-06-17T19:02:00.567881",
     "exception": false,
     "start_time": "2021-06-17T18:59:57.156260",
     "status": "completed"
    },
    "tags": []
   },
   "outputs": [
    {
     "name": "stdout",
     "output_type": "stream",
     "text": [
      "7347/7347 [==============================] - 104s 14ms/step - loss: 0.1026 - acc: 0.9595\n",
      "Test score: 0.10258807986974716\n",
      "Test accuracy: 0.9595112204551697\n"
     ]
    }
   ],
   "source": [
    "score = model.evaluate(val_X, val_y)\n",
    "print('Test score:', score[0])\n",
    "print('Test accuracy:', score[1])"
   ]
  },
  {
   "cell_type": "code",
   "execution_count": 24,
   "id": "satellite-arena",
   "metadata": {
    "execution": {
     "iopub.execute_input": "2021-06-17T19:02:39.172838Z",
     "iopub.status.busy": "2021-06-17T19:02:39.171874Z",
     "iopub.status.idle": "2021-06-17T19:05:08.851418Z",
     "shell.execute_reply": "2021-06-17T19:05:08.604123Z",
     "shell.execute_reply.started": "2021-06-16T16:52:58.357138Z"
    },
    "papermill": {
     "duration": 169.21214,
     "end_time": "2021-06-17T19:05:08.851566",
     "exception": false,
     "start_time": "2021-06-17T19:02:19.639426",
     "status": "completed"
    },
    "tags": []
   },
   "outputs": [
    {
     "name": "stdout",
     "output_type": "stream",
     "text": [
      "5872/5872 [==============================] - 140s 24ms/step\n"
     ]
    }
   ],
   "source": [
    "pred = model.predict(test_X, batch_size = 64, verbose=1)"
   ]
  },
  {
   "cell_type": "code",
   "execution_count": 25,
   "id": "prostate-forge",
   "metadata": {
    "execution": {
     "iopub.execute_input": "2021-06-17T19:05:48.228988Z",
     "iopub.status.busy": "2021-06-17T19:05:48.223937Z",
     "iopub.status.idle": "2021-06-17T19:05:48.909245Z",
     "shell.execute_reply": "2021-06-17T19:05:48.908780Z",
     "shell.execute_reply.started": "2021-06-16T16:55:02.434032Z"
    },
    "id": "WaUrR4hkL6PR",
    "outputId": "7fd2cf8e-2df1-42a3-fc3a-44fedfe90f99",
    "papermill": {
     "duration": 20.610408,
     "end_time": "2021-06-17T19:05:48.909377",
     "exception": false,
     "start_time": "2021-06-17T19:05:28.298969",
     "status": "completed"
    },
    "tags": []
   },
   "outputs": [],
   "source": [
    "res = [0 if x < 0.3 else 1 for x in pred]"
   ]
  },
  {
   "cell_type": "code",
   "execution_count": 26,
   "id": "promotional-reach",
   "metadata": {
    "execution": {
     "iopub.execute_input": "2021-06-17T19:06:28.662754Z",
     "iopub.status.busy": "2021-06-17T19:06:28.662011Z",
     "iopub.status.idle": "2021-06-17T19:06:29.662535Z",
     "shell.execute_reply": "2021-06-17T19:06:29.662035Z",
     "shell.execute_reply.started": "2021-06-16T16:57:37.742464Z"
    },
    "papermill": {
     "duration": 20.996428,
     "end_time": "2021-06-17T19:06:29.662669",
     "exception": false,
     "start_time": "2021-06-17T19:06:08.666241",
     "status": "completed"
    },
    "tags": []
   },
   "outputs": [],
   "source": [
    "submission = pd.DataFrame(\n",
    "    {'qid':test_df['qid'][:len(res)], 'prediction':res},\n",
    "    columns = ['qid', 'prediction']\n",
    ")\n",
    "submission.to_csv('./submission.csv', index=False)"
   ]
  }
 ],
 "metadata": {
  "kernelspec": {
   "display_name": "Python 3",
   "language": "python",
   "name": "python3"
  },
  "language_info": {
   "codemirror_mode": {
    "name": "ipython",
    "version": 3
   },
   "file_extension": ".py",
   "mimetype": "text/x-python",
   "name": "python",
   "nbconvert_exporter": "python",
   "pygments_lexer": "ipython3",
   "version": "3.7.10"
  },
  "papermill": {
   "default_parameters": {},
   "duration": 4890.08611,
   "end_time": "2021-06-17T19:06:53.460964",
   "environment_variables": {},
   "exception": null,
   "input_path": "__notebook__.ipynb",
   "output_path": "__notebook__.ipynb",
   "parameters": {},
   "start_time": "2021-06-17T17:45:23.374854",
   "version": "2.3.3"
  },
  "widgets": {
   "application/vnd.jupyter.widget-state+json": {
    "state": {
     "019a10b05e56441f9a54223c6f8ab9f8": {
      "model_module": "@jupyter-widgets/base",
      "model_module_version": "1.2.0",
      "model_name": "LayoutModel",
      "state": {
       "_model_module": "@jupyter-widgets/base",
       "_model_module_version": "1.2.0",
       "_model_name": "LayoutModel",
       "_view_count": null,
       "_view_module": "@jupyter-widgets/base",
       "_view_module_version": "1.2.0",
       "_view_name": "LayoutView",
       "align_content": null,
       "align_items": null,
       "align_self": null,
       "border": null,
       "bottom": null,
       "display": null,
       "flex": null,
       "flex_flow": null,
       "grid_area": null,
       "grid_auto_columns": null,
       "grid_auto_flow": null,
       "grid_auto_rows": null,
       "grid_column": null,
       "grid_gap": null,
       "grid_row": null,
       "grid_template_areas": null,
       "grid_template_columns": null,
       "grid_template_rows": null,
       "height": null,
       "justify_content": null,
       "justify_items": null,
       "left": null,
       "margin": null,
       "max_height": null,
       "max_width": null,
       "min_height": null,
       "min_width": null,
       "object_fit": null,
       "object_position": null,
       "order": null,
       "overflow": null,
       "overflow_x": null,
       "overflow_y": null,
       "padding": null,
       "right": null,
       "top": null,
       "visibility": null,
       "width": null
      }
     },
     "034ff25089fa4c619099e24644847891": {
      "model_module": "@jupyter-widgets/base",
      "model_module_version": "1.2.0",
      "model_name": "LayoutModel",
      "state": {
       "_model_module": "@jupyter-widgets/base",
       "_model_module_version": "1.2.0",
       "_model_name": "LayoutModel",
       "_view_count": null,
       "_view_module": "@jupyter-widgets/base",
       "_view_module_version": "1.2.0",
       "_view_name": "LayoutView",
       "align_content": null,
       "align_items": null,
       "align_self": null,
       "border": null,
       "bottom": null,
       "display": null,
       "flex": null,
       "flex_flow": null,
       "grid_area": null,
       "grid_auto_columns": null,
       "grid_auto_flow": null,
       "grid_auto_rows": null,
       "grid_column": null,
       "grid_gap": null,
       "grid_row": null,
       "grid_template_areas": null,
       "grid_template_columns": null,
       "grid_template_rows": null,
       "height": null,
       "justify_content": null,
       "justify_items": null,
       "left": null,
       "margin": null,
       "max_height": null,
       "max_width": null,
       "min_height": null,
       "min_width": null,
       "object_fit": null,
       "object_position": null,
       "order": null,
       "overflow": null,
       "overflow_x": null,
       "overflow_y": null,
       "padding": null,
       "right": null,
       "top": null,
       "visibility": null,
       "width": null
      }
     },
     "03ade162cb274d00adca2e68bb3affcc": {
      "model_module": "@jupyter-widgets/controls",
      "model_module_version": "1.5.0",
      "model_name": "FloatProgressModel",
      "state": {
       "_dom_classes": [],
       "_model_module": "@jupyter-widgets/controls",
       "_model_module_version": "1.5.0",
       "_model_name": "FloatProgressModel",
       "_view_count": null,
       "_view_module": "@jupyter-widgets/controls",
       "_view_module_version": "1.5.0",
       "_view_name": "ProgressView",
       "bar_style": "success",
       "description": "",
       "description_tooltip": null,
       "layout": "IPY_MODEL_6726c2a1d5754217aaea1c3cb3703281",
       "max": 375806.0,
       "min": 0.0,
       "orientation": "horizontal",
       "style": "IPY_MODEL_70cc7df50baa425c87491040cb99a70d",
       "value": 375806.0
      }
     },
     "03e226f120b54fb6bd58ec1d7d60ae15": {
      "model_module": "@jupyter-widgets/base",
      "model_module_version": "1.2.0",
      "model_name": "LayoutModel",
      "state": {
       "_model_module": "@jupyter-widgets/base",
       "_model_module_version": "1.2.0",
       "_model_name": "LayoutModel",
       "_view_count": null,
       "_view_module": "@jupyter-widgets/base",
       "_view_module_version": "1.2.0",
       "_view_name": "LayoutView",
       "align_content": null,
       "align_items": null,
       "align_self": null,
       "border": null,
       "bottom": null,
       "display": null,
       "flex": null,
       "flex_flow": null,
       "grid_area": null,
       "grid_auto_columns": null,
       "grid_auto_flow": null,
       "grid_auto_rows": null,
       "grid_column": null,
       "grid_gap": null,
       "grid_row": null,
       "grid_template_areas": null,
       "grid_template_columns": null,
       "grid_template_rows": null,
       "height": null,
       "justify_content": null,
       "justify_items": null,
       "left": null,
       "margin": null,
       "max_height": null,
       "max_width": null,
       "min_height": null,
       "min_width": null,
       "object_fit": null,
       "object_position": null,
       "order": null,
       "overflow": null,
       "overflow_x": null,
       "overflow_y": null,
       "padding": null,
       "right": null,
       "top": null,
       "visibility": null,
       "width": null
      }
     },
     "06eded1fe8694b75a50c91d5ba2c04d0": {
      "model_module": "@jupyter-widgets/controls",
      "model_module_version": "1.5.0",
      "model_name": "FloatProgressModel",
      "state": {
       "_dom_classes": [],
       "_model_module": "@jupyter-widgets/controls",
       "_model_module_version": "1.5.0",
       "_model_name": "FloatProgressModel",
       "_view_count": null,
       "_view_module": "@jupyter-widgets/controls",
       "_view_module_version": "1.5.0",
       "_view_name": "ProgressView",
       "bar_style": "success",
       "description": "",
       "description_tooltip": null,
       "layout": "IPY_MODEL_9ff60c263e934f0fb3256835b5be9c01",
       "max": 329968.0,
       "min": 0.0,
       "orientation": "horizontal",
       "style": "IPY_MODEL_e8eb25bb26254c08b1f150b3713be280",
       "value": 329968.0
      }
     },
     "161b8a584fc84cb8b4b00bf2ee735b50": {
      "model_module": "@jupyter-widgets/controls",
      "model_module_version": "1.5.0",
      "model_name": "HTMLModel",
      "state": {
       "_dom_classes": [],
       "_model_module": "@jupyter-widgets/controls",
       "_model_module_version": "1.5.0",
       "_model_name": "HTMLModel",
       "_view_count": null,
       "_view_module": "@jupyter-widgets/controls",
       "_view_module_version": "1.5.0",
       "_view_name": "HTMLView",
       "description": "",
       "description_tooltip": null,
       "layout": "IPY_MODEL_587cdc54da33452e953e24ea1117236b",
       "placeholder": "​",
       "style": "IPY_MODEL_47d4243935084992a79bbedc6b2e5247",
       "value": "100%"
      }
     },
     "1b16d7cdb09a463da5205208a045e6e1": {
      "model_module": "@jupyter-widgets/controls",
      "model_module_version": "1.5.0",
      "model_name": "ProgressStyleModel",
      "state": {
       "_model_module": "@jupyter-widgets/controls",
       "_model_module_version": "1.5.0",
       "_model_name": "ProgressStyleModel",
       "_view_count": null,
       "_view_module": "@jupyter-widgets/base",
       "_view_module_version": "1.2.0",
       "_view_name": "StyleView",
       "bar_color": null,
       "description_width": ""
      }
     },
     "1c835a149b6d431cb8eafca70453d078": {
      "model_module": "@jupyter-widgets/controls",
      "model_module_version": "1.5.0",
      "model_name": "DescriptionStyleModel",
      "state": {
       "_model_module": "@jupyter-widgets/controls",
       "_model_module_version": "1.5.0",
       "_model_name": "DescriptionStyleModel",
       "_view_count": null,
       "_view_module": "@jupyter-widgets/base",
       "_view_module_version": "1.2.0",
       "_view_name": "StyleView",
       "description_width": ""
      }
     },
     "200617bfb1a548e0968512f9c97b75ab": {
      "model_module": "@jupyter-widgets/base",
      "model_module_version": "1.2.0",
      "model_name": "LayoutModel",
      "state": {
       "_model_module": "@jupyter-widgets/base",
       "_model_module_version": "1.2.0",
       "_model_name": "LayoutModel",
       "_view_count": null,
       "_view_module": "@jupyter-widgets/base",
       "_view_module_version": "1.2.0",
       "_view_name": "LayoutView",
       "align_content": null,
       "align_items": null,
       "align_self": null,
       "border": null,
       "bottom": null,
       "display": null,
       "flex": null,
       "flex_flow": null,
       "grid_area": null,
       "grid_auto_columns": null,
       "grid_auto_flow": null,
       "grid_auto_rows": null,
       "grid_column": null,
       "grid_gap": null,
       "grid_row": null,
       "grid_template_areas": null,
       "grid_template_columns": null,
       "grid_template_rows": null,
       "height": null,
       "justify_content": null,
       "justify_items": null,
       "left": null,
       "margin": null,
       "max_height": null,
       "max_width": null,
       "min_height": null,
       "min_width": null,
       "object_fit": null,
       "object_position": null,
       "order": null,
       "overflow": null,
       "overflow_x": null,
       "overflow_y": null,
       "padding": null,
       "right": null,
       "top": null,
       "visibility": null,
       "width": null
      }
     },
     "2257ed7259c14e658a2abb3882e690e8": {
      "model_module": "@jupyter-widgets/controls",
      "model_module_version": "1.5.0",
      "model_name": "HBoxModel",
      "state": {
       "_dom_classes": [],
       "_model_module": "@jupyter-widgets/controls",
       "_model_module_version": "1.5.0",
       "_model_name": "HBoxModel",
       "_view_count": null,
       "_view_module": "@jupyter-widgets/controls",
       "_view_module_version": "1.5.0",
       "_view_name": "HBoxView",
       "box_style": "",
       "children": [
        "IPY_MODEL_b5e523da7c47420c968ee7fe15a87f18",
        "IPY_MODEL_06eded1fe8694b75a50c91d5ba2c04d0",
        "IPY_MODEL_3427ea18df494cbfad13b75e10a86805"
       ],
       "layout": "IPY_MODEL_e493ffe763b14b81bc118e5c7e39fd88"
      }
     },
     "258636f173db42bdbab60556b67779ba": {
      "model_module": "@jupyter-widgets/controls",
      "model_module_version": "1.5.0",
      "model_name": "HTMLModel",
      "state": {
       "_dom_classes": [],
       "_model_module": "@jupyter-widgets/controls",
       "_model_module_version": "1.5.0",
       "_model_name": "HTMLModel",
       "_view_count": null,
       "_view_module": "@jupyter-widgets/controls",
       "_view_module_version": "1.5.0",
       "_view_name": "HTMLView",
       "description": "",
       "description_tooltip": null,
       "layout": "IPY_MODEL_545fbbe185ef4567a6e3acead9136053",
       "placeholder": "​",
       "style": "IPY_MODEL_80eba2c4ab4748b68ae04bde853b7523",
       "value": " 235102/235102 [00:02&lt;00:00, 85463.84it/s]"
      }
     },
     "3427ea18df494cbfad13b75e10a86805": {
      "model_module": "@jupyter-widgets/controls",
      "model_module_version": "1.5.0",
      "model_name": "HTMLModel",
      "state": {
       "_dom_classes": [],
       "_model_module": "@jupyter-widgets/controls",
       "_model_module_version": "1.5.0",
       "_model_name": "HTMLModel",
       "_view_count": null,
       "_view_module": "@jupyter-widgets/controls",
       "_view_module_version": "1.5.0",
       "_view_name": "HTMLView",
       "description": "",
       "description_tooltip": null,
       "layout": "IPY_MODEL_019a10b05e56441f9a54223c6f8ab9f8",
       "placeholder": "​",
       "style": "IPY_MODEL_f49854b36b87430f8755f90c1f138571",
       "value": " 329968/329968 [00:27&lt;00:00, 10137.24it/s]"
      }
     },
     "381456c9d72e4672b5048b6bf4de4ff7": {
      "model_module": "@jupyter-widgets/base",
      "model_module_version": "1.2.0",
      "model_name": "LayoutModel",
      "state": {
       "_model_module": "@jupyter-widgets/base",
       "_model_module_version": "1.2.0",
       "_model_name": "LayoutModel",
       "_view_count": null,
       "_view_module": "@jupyter-widgets/base",
       "_view_module_version": "1.2.0",
       "_view_name": "LayoutView",
       "align_content": null,
       "align_items": null,
       "align_self": null,
       "border": null,
       "bottom": null,
       "display": null,
       "flex": null,
       "flex_flow": null,
       "grid_area": null,
       "grid_auto_columns": null,
       "grid_auto_flow": null,
       "grid_auto_rows": null,
       "grid_column": null,
       "grid_gap": null,
       "grid_row": null,
       "grid_template_areas": null,
       "grid_template_columns": null,
       "grid_template_rows": null,
       "height": null,
       "justify_content": null,
       "justify_items": null,
       "left": null,
       "margin": null,
       "max_height": null,
       "max_width": null,
       "min_height": null,
       "min_width": null,
       "object_fit": null,
       "object_position": null,
       "order": null,
       "overflow": null,
       "overflow_x": null,
       "overflow_y": null,
       "padding": null,
       "right": null,
       "top": null,
       "visibility": null,
       "width": null
      }
     },
     "3e7ed5dd78dd4237af60d55a0aa2092d": {
      "model_module": "@jupyter-widgets/controls",
      "model_module_version": "1.5.0",
      "model_name": "DescriptionStyleModel",
      "state": {
       "_model_module": "@jupyter-widgets/controls",
       "_model_module_version": "1.5.0",
       "_model_name": "DescriptionStyleModel",
       "_view_count": null,
       "_view_module": "@jupyter-widgets/base",
       "_view_module_version": "1.2.0",
       "_view_name": "StyleView",
       "description_width": ""
      }
     },
     "460fdb8a80e443fbbb46b44552dce0eb": {
      "model_module": "@jupyter-widgets/controls",
      "model_module_version": "1.5.0",
      "model_name": "HTMLModel",
      "state": {
       "_dom_classes": [],
       "_model_module": "@jupyter-widgets/controls",
       "_model_module_version": "1.5.0",
       "_model_name": "HTMLModel",
       "_view_count": null,
       "_view_module": "@jupyter-widgets/controls",
       "_view_module_version": "1.5.0",
       "_view_name": "HTMLView",
       "description": "",
       "description_tooltip": null,
       "layout": "IPY_MODEL_200617bfb1a548e0968512f9c97b75ab",
       "placeholder": "​",
       "style": "IPY_MODEL_8638976555b442458934efc1ea4d8977",
       "value": " 940407/940407 [00:09&lt;00:00, 102460.59it/s]"
      }
     },
     "47d4243935084992a79bbedc6b2e5247": {
      "model_module": "@jupyter-widgets/controls",
      "model_module_version": "1.5.0",
      "model_name": "DescriptionStyleModel",
      "state": {
       "_model_module": "@jupyter-widgets/controls",
       "_model_module_version": "1.5.0",
       "_model_name": "DescriptionStyleModel",
       "_view_count": null,
       "_view_module": "@jupyter-widgets/base",
       "_view_module_version": "1.2.0",
       "_view_name": "StyleView",
       "description_width": ""
      }
     },
     "48fd1295d9c3453a92ce2636ee56da9e": {
      "model_module": "@jupyter-widgets/controls",
      "model_module_version": "1.5.0",
      "model_name": "HBoxModel",
      "state": {
       "_dom_classes": [],
       "_model_module": "@jupyter-widgets/controls",
       "_model_module_version": "1.5.0",
       "_model_name": "HBoxModel",
       "_view_count": null,
       "_view_module": "@jupyter-widgets/controls",
       "_view_module_version": "1.5.0",
       "_view_name": "HBoxView",
       "box_style": "",
       "children": [
        "IPY_MODEL_d03558f8b21841cda8c67c4d58346a54",
        "IPY_MODEL_c3b5dc5d8a5a4ae382897ecfa3e40b6f",
        "IPY_MODEL_258636f173db42bdbab60556b67779ba"
       ],
       "layout": "IPY_MODEL_f6ab387162f044e88dd9d321b90c62a6"
      }
     },
     "4e0464614ead4212b56608992f853195": {
      "model_module": "@jupyter-widgets/controls",
      "model_module_version": "1.5.0",
      "model_name": "HBoxModel",
      "state": {
       "_dom_classes": [],
       "_model_module": "@jupyter-widgets/controls",
       "_model_module_version": "1.5.0",
       "_model_name": "HBoxModel",
       "_view_count": null,
       "_view_module": "@jupyter-widgets/controls",
       "_view_module_version": "1.5.0",
       "_view_name": "HBoxView",
       "box_style": "",
       "children": [
        "IPY_MODEL_a85505d65ca94c1cb3e14828e51491fe",
        "IPY_MODEL_52cd455f1aaa438dbb3b7049f99dd5ee",
        "IPY_MODEL_460fdb8a80e443fbbb46b44552dce0eb"
       ],
       "layout": "IPY_MODEL_03e226f120b54fb6bd58ec1d7d60ae15"
      }
     },
     "4f98a3f480f2481ab9e87700667c58a7": {
      "model_module": "@jupyter-widgets/controls",
      "model_module_version": "1.5.0",
      "model_name": "DescriptionStyleModel",
      "state": {
       "_model_module": "@jupyter-widgets/controls",
       "_model_module_version": "1.5.0",
       "_model_name": "DescriptionStyleModel",
       "_view_count": null,
       "_view_module": "@jupyter-widgets/base",
       "_view_module_version": "1.2.0",
       "_view_name": "StyleView",
       "description_width": ""
      }
     },
     "50051c69b49042d5aa6edf09df65f07a": {
      "model_module": "@jupyter-widgets/controls",
      "model_module_version": "1.5.0",
      "model_name": "DescriptionStyleModel",
      "state": {
       "_model_module": "@jupyter-widgets/controls",
       "_model_module_version": "1.5.0",
       "_model_name": "DescriptionStyleModel",
       "_view_count": null,
       "_view_module": "@jupyter-widgets/base",
       "_view_module_version": "1.2.0",
       "_view_name": "StyleView",
       "description_width": ""
      }
     },
     "52cd455f1aaa438dbb3b7049f99dd5ee": {
      "model_module": "@jupyter-widgets/controls",
      "model_module_version": "1.5.0",
      "model_name": "FloatProgressModel",
      "state": {
       "_dom_classes": [],
       "_model_module": "@jupyter-widgets/controls",
       "_model_module_version": "1.5.0",
       "_model_name": "FloatProgressModel",
       "_view_count": null,
       "_view_module": "@jupyter-widgets/controls",
       "_view_module_version": "1.5.0",
       "_view_name": "ProgressView",
       "bar_style": "success",
       "description": "",
       "description_tooltip": null,
       "layout": "IPY_MODEL_728ecd71ed324614b5611fc92daea456",
       "max": 940407.0,
       "min": 0.0,
       "orientation": "horizontal",
       "style": "IPY_MODEL_57a50eb168c14c8bade6c4f8361cf0b0",
       "value": 940407.0
      }
     },
     "545fbbe185ef4567a6e3acead9136053": {
      "model_module": "@jupyter-widgets/base",
      "model_module_version": "1.2.0",
      "model_name": "LayoutModel",
      "state": {
       "_model_module": "@jupyter-widgets/base",
       "_model_module_version": "1.2.0",
       "_model_name": "LayoutModel",
       "_view_count": null,
       "_view_module": "@jupyter-widgets/base",
       "_view_module_version": "1.2.0",
       "_view_name": "LayoutView",
       "align_content": null,
       "align_items": null,
       "align_self": null,
       "border": null,
       "bottom": null,
       "display": null,
       "flex": null,
       "flex_flow": null,
       "grid_area": null,
       "grid_auto_columns": null,
       "grid_auto_flow": null,
       "grid_auto_rows": null,
       "grid_column": null,
       "grid_gap": null,
       "grid_row": null,
       "grid_template_areas": null,
       "grid_template_columns": null,
       "grid_template_rows": null,
       "height": null,
       "justify_content": null,
       "justify_items": null,
       "left": null,
       "margin": null,
       "max_height": null,
       "max_width": null,
       "min_height": null,
       "min_width": null,
       "object_fit": null,
       "object_position": null,
       "order": null,
       "overflow": null,
       "overflow_x": null,
       "overflow_y": null,
       "padding": null,
       "right": null,
       "top": null,
       "visibility": null,
       "width": null
      }
     },
     "57a50eb168c14c8bade6c4f8361cf0b0": {
      "model_module": "@jupyter-widgets/controls",
      "model_module_version": "1.5.0",
      "model_name": "ProgressStyleModel",
      "state": {
       "_model_module": "@jupyter-widgets/controls",
       "_model_module_version": "1.5.0",
       "_model_name": "ProgressStyleModel",
       "_view_count": null,
       "_view_module": "@jupyter-widgets/base",
       "_view_module_version": "1.2.0",
       "_view_name": "StyleView",
       "bar_color": null,
       "description_width": ""
      }
     },
     "587cdc54da33452e953e24ea1117236b": {
      "model_module": "@jupyter-widgets/base",
      "model_module_version": "1.2.0",
      "model_name": "LayoutModel",
      "state": {
       "_model_module": "@jupyter-widgets/base",
       "_model_module_version": "1.2.0",
       "_model_name": "LayoutModel",
       "_view_count": null,
       "_view_module": "@jupyter-widgets/base",
       "_view_module_version": "1.2.0",
       "_view_name": "LayoutView",
       "align_content": null,
       "align_items": null,
       "align_self": null,
       "border": null,
       "bottom": null,
       "display": null,
       "flex": null,
       "flex_flow": null,
       "grid_area": null,
       "grid_auto_columns": null,
       "grid_auto_flow": null,
       "grid_auto_rows": null,
       "grid_column": null,
       "grid_gap": null,
       "grid_row": null,
       "grid_template_areas": null,
       "grid_template_columns": null,
       "grid_template_rows": null,
       "height": null,
       "justify_content": null,
       "justify_items": null,
       "left": null,
       "margin": null,
       "max_height": null,
       "max_width": null,
       "min_height": null,
       "min_width": null,
       "object_fit": null,
       "object_position": null,
       "order": null,
       "overflow": null,
       "overflow_x": null,
       "overflow_y": null,
       "padding": null,
       "right": null,
       "top": null,
       "visibility": null,
       "width": null
      }
     },
     "6726c2a1d5754217aaea1c3cb3703281": {
      "model_module": "@jupyter-widgets/base",
      "model_module_version": "1.2.0",
      "model_name": "LayoutModel",
      "state": {
       "_model_module": "@jupyter-widgets/base",
       "_model_module_version": "1.2.0",
       "_model_name": "LayoutModel",
       "_view_count": null,
       "_view_module": "@jupyter-widgets/base",
       "_view_module_version": "1.2.0",
       "_view_name": "LayoutView",
       "align_content": null,
       "align_items": null,
       "align_self": null,
       "border": null,
       "bottom": null,
       "display": null,
       "flex": null,
       "flex_flow": null,
       "grid_area": null,
       "grid_auto_columns": null,
       "grid_auto_flow": null,
       "grid_auto_rows": null,
       "grid_column": null,
       "grid_gap": null,
       "grid_row": null,
       "grid_template_areas": null,
       "grid_template_columns": null,
       "grid_template_rows": null,
       "height": null,
       "justify_content": null,
       "justify_items": null,
       "left": null,
       "margin": null,
       "max_height": null,
       "max_width": null,
       "min_height": null,
       "min_width": null,
       "object_fit": null,
       "object_position": null,
       "order": null,
       "overflow": null,
       "overflow_x": null,
       "overflow_y": null,
       "padding": null,
       "right": null,
       "top": null,
       "visibility": null,
       "width": null
      }
     },
     "695958b59b7d48be9b7b67dfb2f5f5e4": {
      "model_module": "@jupyter-widgets/base",
      "model_module_version": "1.2.0",
      "model_name": "LayoutModel",
      "state": {
       "_model_module": "@jupyter-widgets/base",
       "_model_module_version": "1.2.0",
       "_model_name": "LayoutModel",
       "_view_count": null,
       "_view_module": "@jupyter-widgets/base",
       "_view_module_version": "1.2.0",
       "_view_name": "LayoutView",
       "align_content": null,
       "align_items": null,
       "align_self": null,
       "border": null,
       "bottom": null,
       "display": null,
       "flex": null,
       "flex_flow": null,
       "grid_area": null,
       "grid_auto_columns": null,
       "grid_auto_flow": null,
       "grid_auto_rows": null,
       "grid_column": null,
       "grid_gap": null,
       "grid_row": null,
       "grid_template_areas": null,
       "grid_template_columns": null,
       "grid_template_rows": null,
       "height": null,
       "justify_content": null,
       "justify_items": null,
       "left": null,
       "margin": null,
       "max_height": null,
       "max_width": null,
       "min_height": null,
       "min_width": null,
       "object_fit": null,
       "object_position": null,
       "order": null,
       "overflow": null,
       "overflow_x": null,
       "overflow_y": null,
       "padding": null,
       "right": null,
       "top": null,
       "visibility": null,
       "width": null
      }
     },
     "70cc7df50baa425c87491040cb99a70d": {
      "model_module": "@jupyter-widgets/controls",
      "model_module_version": "1.5.0",
      "model_name": "ProgressStyleModel",
      "state": {
       "_model_module": "@jupyter-widgets/controls",
       "_model_module_version": "1.5.0",
       "_model_name": "ProgressStyleModel",
       "_view_count": null,
       "_view_module": "@jupyter-widgets/base",
       "_view_module_version": "1.2.0",
       "_view_name": "StyleView",
       "bar_color": null,
       "description_width": ""
      }
     },
     "728ecd71ed324614b5611fc92daea456": {
      "model_module": "@jupyter-widgets/base",
      "model_module_version": "1.2.0",
      "model_name": "LayoutModel",
      "state": {
       "_model_module": "@jupyter-widgets/base",
       "_model_module_version": "1.2.0",
       "_model_name": "LayoutModel",
       "_view_count": null,
       "_view_module": "@jupyter-widgets/base",
       "_view_module_version": "1.2.0",
       "_view_name": "LayoutView",
       "align_content": null,
       "align_items": null,
       "align_self": null,
       "border": null,
       "bottom": null,
       "display": null,
       "flex": null,
       "flex_flow": null,
       "grid_area": null,
       "grid_auto_columns": null,
       "grid_auto_flow": null,
       "grid_auto_rows": null,
       "grid_column": null,
       "grid_gap": null,
       "grid_row": null,
       "grid_template_areas": null,
       "grid_template_columns": null,
       "grid_template_rows": null,
       "height": null,
       "justify_content": null,
       "justify_items": null,
       "left": null,
       "margin": null,
       "max_height": null,
       "max_width": null,
       "min_height": null,
       "min_width": null,
       "object_fit": null,
       "object_position": null,
       "order": null,
       "overflow": null,
       "overflow_x": null,
       "overflow_y": null,
       "padding": null,
       "right": null,
       "top": null,
       "visibility": null,
       "width": null
      }
     },
     "80eba2c4ab4748b68ae04bde853b7523": {
      "model_module": "@jupyter-widgets/controls",
      "model_module_version": "1.5.0",
      "model_name": "DescriptionStyleModel",
      "state": {
       "_model_module": "@jupyter-widgets/controls",
       "_model_module_version": "1.5.0",
       "_model_name": "DescriptionStyleModel",
       "_view_count": null,
       "_view_module": "@jupyter-widgets/base",
       "_view_module_version": "1.2.0",
       "_view_name": "StyleView",
       "description_width": ""
      }
     },
     "8638976555b442458934efc1ea4d8977": {
      "model_module": "@jupyter-widgets/controls",
      "model_module_version": "1.5.0",
      "model_name": "DescriptionStyleModel",
      "state": {
       "_model_module": "@jupyter-widgets/controls",
       "_model_module_version": "1.5.0",
       "_model_name": "DescriptionStyleModel",
       "_view_count": null,
       "_view_module": "@jupyter-widgets/base",
       "_view_module_version": "1.2.0",
       "_view_name": "StyleView",
       "description_width": ""
      }
     },
     "8cc084a51d59414c8a938f52ff6a6523": {
      "model_module": "@jupyter-widgets/base",
      "model_module_version": "1.2.0",
      "model_name": "LayoutModel",
      "state": {
       "_model_module": "@jupyter-widgets/base",
       "_model_module_version": "1.2.0",
       "_model_name": "LayoutModel",
       "_view_count": null,
       "_view_module": "@jupyter-widgets/base",
       "_view_module_version": "1.2.0",
       "_view_name": "LayoutView",
       "align_content": null,
       "align_items": null,
       "align_self": null,
       "border": null,
       "bottom": null,
       "display": null,
       "flex": null,
       "flex_flow": null,
       "grid_area": null,
       "grid_auto_columns": null,
       "grid_auto_flow": null,
       "grid_auto_rows": null,
       "grid_column": null,
       "grid_gap": null,
       "grid_row": null,
       "grid_template_areas": null,
       "grid_template_columns": null,
       "grid_template_rows": null,
       "height": null,
       "justify_content": null,
       "justify_items": null,
       "left": null,
       "margin": null,
       "max_height": null,
       "max_width": null,
       "min_height": null,
       "min_width": null,
       "object_fit": null,
       "object_position": null,
       "order": null,
       "overflow": null,
       "overflow_x": null,
       "overflow_y": null,
       "padding": null,
       "right": null,
       "top": null,
       "visibility": null,
       "width": null
      }
     },
     "9ff60c263e934f0fb3256835b5be9c01": {
      "model_module": "@jupyter-widgets/base",
      "model_module_version": "1.2.0",
      "model_name": "LayoutModel",
      "state": {
       "_model_module": "@jupyter-widgets/base",
       "_model_module_version": "1.2.0",
       "_model_name": "LayoutModel",
       "_view_count": null,
       "_view_module": "@jupyter-widgets/base",
       "_view_module_version": "1.2.0",
       "_view_name": "LayoutView",
       "align_content": null,
       "align_items": null,
       "align_self": null,
       "border": null,
       "bottom": null,
       "display": null,
       "flex": null,
       "flex_flow": null,
       "grid_area": null,
       "grid_auto_columns": null,
       "grid_auto_flow": null,
       "grid_auto_rows": null,
       "grid_column": null,
       "grid_gap": null,
       "grid_row": null,
       "grid_template_areas": null,
       "grid_template_columns": null,
       "grid_template_rows": null,
       "height": null,
       "justify_content": null,
       "justify_items": null,
       "left": null,
       "margin": null,
       "max_height": null,
       "max_width": null,
       "min_height": null,
       "min_width": null,
       "object_fit": null,
       "object_position": null,
       "order": null,
       "overflow": null,
       "overflow_x": null,
       "overflow_y": null,
       "padding": null,
       "right": null,
       "top": null,
       "visibility": null,
       "width": null
      }
     },
     "a85505d65ca94c1cb3e14828e51491fe": {
      "model_module": "@jupyter-widgets/controls",
      "model_module_version": "1.5.0",
      "model_name": "HTMLModel",
      "state": {
       "_dom_classes": [],
       "_model_module": "@jupyter-widgets/controls",
       "_model_module_version": "1.5.0",
       "_model_name": "HTMLModel",
       "_view_count": null,
       "_view_module": "@jupyter-widgets/controls",
       "_view_module_version": "1.5.0",
       "_view_name": "HTMLView",
       "description": "",
       "description_tooltip": null,
       "layout": "IPY_MODEL_381456c9d72e4672b5048b6bf4de4ff7",
       "placeholder": "​",
       "style": "IPY_MODEL_4f98a3f480f2481ab9e87700667c58a7",
       "value": "100%"
      }
     },
     "b2a5bd16889e469cb063e201df7e6ffd": {
      "model_module": "@jupyter-widgets/controls",
      "model_module_version": "1.5.0",
      "model_name": "HBoxModel",
      "state": {
       "_dom_classes": [],
       "_model_module": "@jupyter-widgets/controls",
       "_model_module_version": "1.5.0",
       "_model_name": "HBoxModel",
       "_view_count": null,
       "_view_module": "@jupyter-widgets/controls",
       "_view_module_version": "1.5.0",
       "_view_name": "HBoxView",
       "box_style": "",
       "children": [
        "IPY_MODEL_161b8a584fc84cb8b4b00bf2ee735b50",
        "IPY_MODEL_03ade162cb274d00adca2e68bb3affcc",
        "IPY_MODEL_bc6f7fced65f4edfa560017963f6e6fc"
       ],
       "layout": "IPY_MODEL_034ff25089fa4c619099e24644847891"
      }
     },
     "b5e523da7c47420c968ee7fe15a87f18": {
      "model_module": "@jupyter-widgets/controls",
      "model_module_version": "1.5.0",
      "model_name": "HTMLModel",
      "state": {
       "_dom_classes": [],
       "_model_module": "@jupyter-widgets/controls",
       "_model_module_version": "1.5.0",
       "_model_name": "HTMLModel",
       "_view_count": null,
       "_view_module": "@jupyter-widgets/controls",
       "_view_module_version": "1.5.0",
       "_view_name": "HTMLView",
       "description": "",
       "description_tooltip": null,
       "layout": "IPY_MODEL_f871b169de4d4b958d647e06cc6e7dc3",
       "placeholder": "​",
       "style": "IPY_MODEL_1c835a149b6d431cb8eafca70453d078",
       "value": "100%"
      }
     },
     "bc6f7fced65f4edfa560017963f6e6fc": {
      "model_module": "@jupyter-widgets/controls",
      "model_module_version": "1.5.0",
      "model_name": "HTMLModel",
      "state": {
       "_dom_classes": [],
       "_model_module": "@jupyter-widgets/controls",
       "_model_module_version": "1.5.0",
       "_model_name": "HTMLModel",
       "_view_count": null,
       "_view_module": "@jupyter-widgets/controls",
       "_view_module_version": "1.5.0",
       "_view_name": "HTMLView",
       "description": "",
       "description_tooltip": null,
       "layout": "IPY_MODEL_695958b59b7d48be9b7b67dfb2f5f5e4",
       "placeholder": "​",
       "style": "IPY_MODEL_3e7ed5dd78dd4237af60d55a0aa2092d",
       "value": " 375806/375806 [00:04&lt;00:00, 100785.25it/s]"
      }
     },
     "c3b5dc5d8a5a4ae382897ecfa3e40b6f": {
      "model_module": "@jupyter-widgets/controls",
      "model_module_version": "1.5.0",
      "model_name": "FloatProgressModel",
      "state": {
       "_dom_classes": [],
       "_model_module": "@jupyter-widgets/controls",
       "_model_module_version": "1.5.0",
       "_model_name": "FloatProgressModel",
       "_view_count": null,
       "_view_module": "@jupyter-widgets/controls",
       "_view_module_version": "1.5.0",
       "_view_name": "ProgressView",
       "bar_style": "success",
       "description": "",
       "description_tooltip": null,
       "layout": "IPY_MODEL_8cc084a51d59414c8a938f52ff6a6523",
       "max": 235102.0,
       "min": 0.0,
       "orientation": "horizontal",
       "style": "IPY_MODEL_1b16d7cdb09a463da5205208a045e6e1",
       "value": 235102.0
      }
     },
     "ca362abbe0a94a6182751e55050a4bc7": {
      "model_module": "@jupyter-widgets/base",
      "model_module_version": "1.2.0",
      "model_name": "LayoutModel",
      "state": {
       "_model_module": "@jupyter-widgets/base",
       "_model_module_version": "1.2.0",
       "_model_name": "LayoutModel",
       "_view_count": null,
       "_view_module": "@jupyter-widgets/base",
       "_view_module_version": "1.2.0",
       "_view_name": "LayoutView",
       "align_content": null,
       "align_items": null,
       "align_self": null,
       "border": null,
       "bottom": null,
       "display": null,
       "flex": null,
       "flex_flow": null,
       "grid_area": null,
       "grid_auto_columns": null,
       "grid_auto_flow": null,
       "grid_auto_rows": null,
       "grid_column": null,
       "grid_gap": null,
       "grid_row": null,
       "grid_template_areas": null,
       "grid_template_columns": null,
       "grid_template_rows": null,
       "height": null,
       "justify_content": null,
       "justify_items": null,
       "left": null,
       "margin": null,
       "max_height": null,
       "max_width": null,
       "min_height": null,
       "min_width": null,
       "object_fit": null,
       "object_position": null,
       "order": null,
       "overflow": null,
       "overflow_x": null,
       "overflow_y": null,
       "padding": null,
       "right": null,
       "top": null,
       "visibility": null,
       "width": null
      }
     },
     "d03558f8b21841cda8c67c4d58346a54": {
      "model_module": "@jupyter-widgets/controls",
      "model_module_version": "1.5.0",
      "model_name": "HTMLModel",
      "state": {
       "_dom_classes": [],
       "_model_module": "@jupyter-widgets/controls",
       "_model_module_version": "1.5.0",
       "_model_name": "HTMLModel",
       "_view_count": null,
       "_view_module": "@jupyter-widgets/controls",
       "_view_module_version": "1.5.0",
       "_view_name": "HTMLView",
       "description": "",
       "description_tooltip": null,
       "layout": "IPY_MODEL_ca362abbe0a94a6182751e55050a4bc7",
       "placeholder": "​",
       "style": "IPY_MODEL_50051c69b49042d5aa6edf09df65f07a",
       "value": "100%"
      }
     },
     "e493ffe763b14b81bc118e5c7e39fd88": {
      "model_module": "@jupyter-widgets/base",
      "model_module_version": "1.2.0",
      "model_name": "LayoutModel",
      "state": {
       "_model_module": "@jupyter-widgets/base",
       "_model_module_version": "1.2.0",
       "_model_name": "LayoutModel",
       "_view_count": null,
       "_view_module": "@jupyter-widgets/base",
       "_view_module_version": "1.2.0",
       "_view_name": "LayoutView",
       "align_content": null,
       "align_items": null,
       "align_self": null,
       "border": null,
       "bottom": null,
       "display": null,
       "flex": null,
       "flex_flow": null,
       "grid_area": null,
       "grid_auto_columns": null,
       "grid_auto_flow": null,
       "grid_auto_rows": null,
       "grid_column": null,
       "grid_gap": null,
       "grid_row": null,
       "grid_template_areas": null,
       "grid_template_columns": null,
       "grid_template_rows": null,
       "height": null,
       "justify_content": null,
       "justify_items": null,
       "left": null,
       "margin": null,
       "max_height": null,
       "max_width": null,
       "min_height": null,
       "min_width": null,
       "object_fit": null,
       "object_position": null,
       "order": null,
       "overflow": null,
       "overflow_x": null,
       "overflow_y": null,
       "padding": null,
       "right": null,
       "top": null,
       "visibility": null,
       "width": null
      }
     },
     "e8eb25bb26254c08b1f150b3713be280": {
      "model_module": "@jupyter-widgets/controls",
      "model_module_version": "1.5.0",
      "model_name": "ProgressStyleModel",
      "state": {
       "_model_module": "@jupyter-widgets/controls",
       "_model_module_version": "1.5.0",
       "_model_name": "ProgressStyleModel",
       "_view_count": null,
       "_view_module": "@jupyter-widgets/base",
       "_view_module_version": "1.2.0",
       "_view_name": "StyleView",
       "bar_color": null,
       "description_width": ""
      }
     },
     "f49854b36b87430f8755f90c1f138571": {
      "model_module": "@jupyter-widgets/controls",
      "model_module_version": "1.5.0",
      "model_name": "DescriptionStyleModel",
      "state": {
       "_model_module": "@jupyter-widgets/controls",
       "_model_module_version": "1.5.0",
       "_model_name": "DescriptionStyleModel",
       "_view_count": null,
       "_view_module": "@jupyter-widgets/base",
       "_view_module_version": "1.2.0",
       "_view_name": "StyleView",
       "description_width": ""
      }
     },
     "f6ab387162f044e88dd9d321b90c62a6": {
      "model_module": "@jupyter-widgets/base",
      "model_module_version": "1.2.0",
      "model_name": "LayoutModel",
      "state": {
       "_model_module": "@jupyter-widgets/base",
       "_model_module_version": "1.2.0",
       "_model_name": "LayoutModel",
       "_view_count": null,
       "_view_module": "@jupyter-widgets/base",
       "_view_module_version": "1.2.0",
       "_view_name": "LayoutView",
       "align_content": null,
       "align_items": null,
       "align_self": null,
       "border": null,
       "bottom": null,
       "display": null,
       "flex": null,
       "flex_flow": null,
       "grid_area": null,
       "grid_auto_columns": null,
       "grid_auto_flow": null,
       "grid_auto_rows": null,
       "grid_column": null,
       "grid_gap": null,
       "grid_row": null,
       "grid_template_areas": null,
       "grid_template_columns": null,
       "grid_template_rows": null,
       "height": null,
       "justify_content": null,
       "justify_items": null,
       "left": null,
       "margin": null,
       "max_height": null,
       "max_width": null,
       "min_height": null,
       "min_width": null,
       "object_fit": null,
       "object_position": null,
       "order": null,
       "overflow": null,
       "overflow_x": null,
       "overflow_y": null,
       "padding": null,
       "right": null,
       "top": null,
       "visibility": null,
       "width": null
      }
     },
     "f871b169de4d4b958d647e06cc6e7dc3": {
      "model_module": "@jupyter-widgets/base",
      "model_module_version": "1.2.0",
      "model_name": "LayoutModel",
      "state": {
       "_model_module": "@jupyter-widgets/base",
       "_model_module_version": "1.2.0",
       "_model_name": "LayoutModel",
       "_view_count": null,
       "_view_module": "@jupyter-widgets/base",
       "_view_module_version": "1.2.0",
       "_view_name": "LayoutView",
       "align_content": null,
       "align_items": null,
       "align_self": null,
       "border": null,
       "bottom": null,
       "display": null,
       "flex": null,
       "flex_flow": null,
       "grid_area": null,
       "grid_auto_columns": null,
       "grid_auto_flow": null,
       "grid_auto_rows": null,
       "grid_column": null,
       "grid_gap": null,
       "grid_row": null,
       "grid_template_areas": null,
       "grid_template_columns": null,
       "grid_template_rows": null,
       "height": null,
       "justify_content": null,
       "justify_items": null,
       "left": null,
       "margin": null,
       "max_height": null,
       "max_width": null,
       "min_height": null,
       "min_width": null,
       "object_fit": null,
       "object_position": null,
       "order": null,
       "overflow": null,
       "overflow_x": null,
       "overflow_y": null,
       "padding": null,
       "right": null,
       "top": null,
       "visibility": null,
       "width": null
      }
     }
    },
    "version_major": 2,
    "version_minor": 0
   }
  }
 },
 "nbformat": 4,
 "nbformat_minor": 5
}
