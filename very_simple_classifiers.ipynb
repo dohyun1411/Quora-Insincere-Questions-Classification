{
  "nbformat": 4,
  "nbformat_minor": 0,
  "metadata": {
    "accelerator": "GPU",
    "colab": {
      "name": "very_simple_classifiers.ipynb",
      "provenance": [],
      "collapsed_sections": [],
      "machine_shape": "hm",
      "mount_file_id": "1SRaYRQhZUuHcWPUB6Q4VXaN66csFBnNM",
      "authorship_tag": "ABX9TyOql2qz1mpo8MNNUAyrFoUG",
      "include_colab_link": true
    },
    "kernelspec": {
      "display_name": "Python 3",
      "name": "python3"
    },
    "language_info": {
      "name": "python"
    },
    "widgets": {
      "application/vnd.jupyter.widget-state+json": {
        "ea4cc81121bf4768bb16e4ce4e83eec3": {
          "model_module": "@jupyter-widgets/controls",
          "model_name": "HBoxModel",
          "state": {
            "_dom_classes": [],
            "_model_module": "@jupyter-widgets/controls",
            "_model_module_version": "1.5.0",
            "_model_name": "HBoxModel",
            "_view_count": null,
            "_view_module": "@jupyter-widgets/controls",
            "_view_module_version": "1.5.0",
            "_view_name": "HBoxView",
            "box_style": "",
            "children": [
              "IPY_MODEL_50abf06b953644c188b122ebf19f00cf",
              "IPY_MODEL_56a6fe1b4f7347f8ac0835a2d0551a7e"
            ],
            "layout": "IPY_MODEL_9c2ad1b8af754f90a9297715d5cdda45"
          }
        },
        "50abf06b953644c188b122ebf19f00cf": {
          "model_module": "@jupyter-widgets/controls",
          "model_name": "FloatProgressModel",
          "state": {
            "_dom_classes": [],
            "_model_module": "@jupyter-widgets/controls",
            "_model_module_version": "1.5.0",
            "_model_name": "FloatProgressModel",
            "_view_count": null,
            "_view_module": "@jupyter-widgets/controls",
            "_view_module_version": "1.5.0",
            "_view_name": "ProgressView",
            "bar_style": "success",
            "description": "100%",
            "description_tooltip": null,
            "layout": "IPY_MODEL_d277d5785af049f68c7683779636d088",
            "max": 1306122,
            "min": 0,
            "orientation": "horizontal",
            "style": "IPY_MODEL_62177c6fd3d746bcb656b2e9e5bce8b5",
            "value": 1306122
          }
        },
        "56a6fe1b4f7347f8ac0835a2d0551a7e": {
          "model_module": "@jupyter-widgets/controls",
          "model_name": "HTMLModel",
          "state": {
            "_dom_classes": [],
            "_model_module": "@jupyter-widgets/controls",
            "_model_module_version": "1.5.0",
            "_model_name": "HTMLModel",
            "_view_count": null,
            "_view_module": "@jupyter-widgets/controls",
            "_view_module_version": "1.5.0",
            "_view_name": "HTMLView",
            "description": "",
            "description_tooltip": null,
            "layout": "IPY_MODEL_11d358a1403446efba77e204a5b5921c",
            "placeholder": "​",
            "style": "IPY_MODEL_76c62a4ba68649ad93543370cd427bdf",
            "value": " 1306122/1306122 [02:35&lt;00:00, 8417.08it/s]"
          }
        },
        "9c2ad1b8af754f90a9297715d5cdda45": {
          "model_module": "@jupyter-widgets/base",
          "model_name": "LayoutModel",
          "state": {
            "_model_module": "@jupyter-widgets/base",
            "_model_module_version": "1.2.0",
            "_model_name": "LayoutModel",
            "_view_count": null,
            "_view_module": "@jupyter-widgets/base",
            "_view_module_version": "1.2.0",
            "_view_name": "LayoutView",
            "align_content": null,
            "align_items": null,
            "align_self": null,
            "border": null,
            "bottom": null,
            "display": null,
            "flex": null,
            "flex_flow": null,
            "grid_area": null,
            "grid_auto_columns": null,
            "grid_auto_flow": null,
            "grid_auto_rows": null,
            "grid_column": null,
            "grid_gap": null,
            "grid_row": null,
            "grid_template_areas": null,
            "grid_template_columns": null,
            "grid_template_rows": null,
            "height": null,
            "justify_content": null,
            "justify_items": null,
            "left": null,
            "margin": null,
            "max_height": null,
            "max_width": null,
            "min_height": null,
            "min_width": null,
            "object_fit": null,
            "object_position": null,
            "order": null,
            "overflow": null,
            "overflow_x": null,
            "overflow_y": null,
            "padding": null,
            "right": null,
            "top": null,
            "visibility": null,
            "width": null
          }
        },
        "d277d5785af049f68c7683779636d088": {
          "model_module": "@jupyter-widgets/base",
          "model_name": "LayoutModel",
          "state": {
            "_model_module": "@jupyter-widgets/base",
            "_model_module_version": "1.2.0",
            "_model_name": "LayoutModel",
            "_view_count": null,
            "_view_module": "@jupyter-widgets/base",
            "_view_module_version": "1.2.0",
            "_view_name": "LayoutView",
            "align_content": null,
            "align_items": null,
            "align_self": null,
            "border": null,
            "bottom": null,
            "display": null,
            "flex": null,
            "flex_flow": null,
            "grid_area": null,
            "grid_auto_columns": null,
            "grid_auto_flow": null,
            "grid_auto_rows": null,
            "grid_column": null,
            "grid_gap": null,
            "grid_row": null,
            "grid_template_areas": null,
            "grid_template_columns": null,
            "grid_template_rows": null,
            "height": null,
            "justify_content": null,
            "justify_items": null,
            "left": null,
            "margin": null,
            "max_height": null,
            "max_width": null,
            "min_height": null,
            "min_width": null,
            "object_fit": null,
            "object_position": null,
            "order": null,
            "overflow": null,
            "overflow_x": null,
            "overflow_y": null,
            "padding": null,
            "right": null,
            "top": null,
            "visibility": null,
            "width": null
          }
        },
        "62177c6fd3d746bcb656b2e9e5bce8b5": {
          "model_module": "@jupyter-widgets/controls",
          "model_name": "ProgressStyleModel",
          "state": {
            "_model_module": "@jupyter-widgets/controls",
            "_model_module_version": "1.5.0",
            "_model_name": "ProgressStyleModel",
            "_view_count": null,
            "_view_module": "@jupyter-widgets/base",
            "_view_module_version": "1.2.0",
            "_view_name": "StyleView",
            "bar_color": null,
            "description_width": "initial"
          }
        },
        "11d358a1403446efba77e204a5b5921c": {
          "model_module": "@jupyter-widgets/base",
          "model_name": "LayoutModel",
          "state": {
            "_model_module": "@jupyter-widgets/base",
            "_model_module_version": "1.2.0",
            "_model_name": "LayoutModel",
            "_view_count": null,
            "_view_module": "@jupyter-widgets/base",
            "_view_module_version": "1.2.0",
            "_view_name": "LayoutView",
            "align_content": null,
            "align_items": null,
            "align_self": null,
            "border": null,
            "bottom": null,
            "display": null,
            "flex": null,
            "flex_flow": null,
            "grid_area": null,
            "grid_auto_columns": null,
            "grid_auto_flow": null,
            "grid_auto_rows": null,
            "grid_column": null,
            "grid_gap": null,
            "grid_row": null,
            "grid_template_areas": null,
            "grid_template_columns": null,
            "grid_template_rows": null,
            "height": null,
            "justify_content": null,
            "justify_items": null,
            "left": null,
            "margin": null,
            "max_height": null,
            "max_width": null,
            "min_height": null,
            "min_width": null,
            "object_fit": null,
            "object_position": null,
            "order": null,
            "overflow": null,
            "overflow_x": null,
            "overflow_y": null,
            "padding": null,
            "right": null,
            "top": null,
            "visibility": null,
            "width": null
          }
        },
        "76c62a4ba68649ad93543370cd427bdf": {
          "model_module": "@jupyter-widgets/controls",
          "model_name": "DescriptionStyleModel",
          "state": {
            "_model_module": "@jupyter-widgets/controls",
            "_model_module_version": "1.5.0",
            "_model_name": "DescriptionStyleModel",
            "_view_count": null,
            "_view_module": "@jupyter-widgets/base",
            "_view_module_version": "1.2.0",
            "_view_name": "StyleView",
            "description_width": ""
          }
        },
        "1ddad76a469143d2875b4fd31508d168": {
          "model_module": "@jupyter-widgets/controls",
          "model_name": "HBoxModel",
          "state": {
            "_dom_classes": [],
            "_model_module": "@jupyter-widgets/controls",
            "_model_module_version": "1.5.0",
            "_model_name": "HBoxModel",
            "_view_count": null,
            "_view_module": "@jupyter-widgets/controls",
            "_view_module_version": "1.5.0",
            "_view_name": "HBoxView",
            "box_style": "",
            "children": [
              "IPY_MODEL_d11a3b28249e4bc680f978ab76603a6d",
              "IPY_MODEL_5ebfb7ecece7470dae2c5890f2520205"
            ],
            "layout": "IPY_MODEL_84adc05e1ad349398601867171cd9f41"
          }
        },
        "d11a3b28249e4bc680f978ab76603a6d": {
          "model_module": "@jupyter-widgets/controls",
          "model_name": "FloatProgressModel",
          "state": {
            "_dom_classes": [],
            "_model_module": "@jupyter-widgets/controls",
            "_model_module_version": "1.5.0",
            "_model_name": "FloatProgressModel",
            "_view_count": null,
            "_view_module": "@jupyter-widgets/controls",
            "_view_module_version": "1.5.0",
            "_view_name": "ProgressView",
            "bar_style": "",
            "description": " 13%",
            "description_tooltip": null,
            "layout": "IPY_MODEL_252b0756c8cc4f8a8f492d410bfec854",
            "max": 1306122,
            "min": 0,
            "orientation": "horizontal",
            "style": "IPY_MODEL_daec22c0d5c04025b014f47532aaa59a",
            "value": 173959
          }
        },
        "5ebfb7ecece7470dae2c5890f2520205": {
          "model_module": "@jupyter-widgets/controls",
          "model_name": "HTMLModel",
          "state": {
            "_dom_classes": [],
            "_model_module": "@jupyter-widgets/controls",
            "_model_module_version": "1.5.0",
            "_model_name": "HTMLModel",
            "_view_count": null,
            "_view_module": "@jupyter-widgets/controls",
            "_view_module_version": "1.5.0",
            "_view_name": "HTMLView",
            "description": "",
            "description_tooltip": null,
            "layout": "IPY_MODEL_00abd9b96e224019a0dae3bcb00452cc",
            "placeholder": "​",
            "style": "IPY_MODEL_54922a52743d4395aea4ca65b5d71bee",
            "value": " 173959/1306122 [01:39&lt;10:20, 1823.36it/s]"
          }
        },
        "84adc05e1ad349398601867171cd9f41": {
          "model_module": "@jupyter-widgets/base",
          "model_name": "LayoutModel",
          "state": {
            "_model_module": "@jupyter-widgets/base",
            "_model_module_version": "1.2.0",
            "_model_name": "LayoutModel",
            "_view_count": null,
            "_view_module": "@jupyter-widgets/base",
            "_view_module_version": "1.2.0",
            "_view_name": "LayoutView",
            "align_content": null,
            "align_items": null,
            "align_self": null,
            "border": null,
            "bottom": null,
            "display": null,
            "flex": null,
            "flex_flow": null,
            "grid_area": null,
            "grid_auto_columns": null,
            "grid_auto_flow": null,
            "grid_auto_rows": null,
            "grid_column": null,
            "grid_gap": null,
            "grid_row": null,
            "grid_template_areas": null,
            "grid_template_columns": null,
            "grid_template_rows": null,
            "height": null,
            "justify_content": null,
            "justify_items": null,
            "left": null,
            "margin": null,
            "max_height": null,
            "max_width": null,
            "min_height": null,
            "min_width": null,
            "object_fit": null,
            "object_position": null,
            "order": null,
            "overflow": null,
            "overflow_x": null,
            "overflow_y": null,
            "padding": null,
            "right": null,
            "top": null,
            "visibility": null,
            "width": null
          }
        },
        "252b0756c8cc4f8a8f492d410bfec854": {
          "model_module": "@jupyter-widgets/base",
          "model_name": "LayoutModel",
          "state": {
            "_model_module": "@jupyter-widgets/base",
            "_model_module_version": "1.2.0",
            "_model_name": "LayoutModel",
            "_view_count": null,
            "_view_module": "@jupyter-widgets/base",
            "_view_module_version": "1.2.0",
            "_view_name": "LayoutView",
            "align_content": null,
            "align_items": null,
            "align_self": null,
            "border": null,
            "bottom": null,
            "display": null,
            "flex": null,
            "flex_flow": null,
            "grid_area": null,
            "grid_auto_columns": null,
            "grid_auto_flow": null,
            "grid_auto_rows": null,
            "grid_column": null,
            "grid_gap": null,
            "grid_row": null,
            "grid_template_areas": null,
            "grid_template_columns": null,
            "grid_template_rows": null,
            "height": null,
            "justify_content": null,
            "justify_items": null,
            "left": null,
            "margin": null,
            "max_height": null,
            "max_width": null,
            "min_height": null,
            "min_width": null,
            "object_fit": null,
            "object_position": null,
            "order": null,
            "overflow": null,
            "overflow_x": null,
            "overflow_y": null,
            "padding": null,
            "right": null,
            "top": null,
            "visibility": null,
            "width": null
          }
        },
        "daec22c0d5c04025b014f47532aaa59a": {
          "model_module": "@jupyter-widgets/controls",
          "model_name": "ProgressStyleModel",
          "state": {
            "_model_module": "@jupyter-widgets/controls",
            "_model_module_version": "1.5.0",
            "_model_name": "ProgressStyleModel",
            "_view_count": null,
            "_view_module": "@jupyter-widgets/base",
            "_view_module_version": "1.2.0",
            "_view_name": "StyleView",
            "bar_color": null,
            "description_width": "initial"
          }
        },
        "00abd9b96e224019a0dae3bcb00452cc": {
          "model_module": "@jupyter-widgets/base",
          "model_name": "LayoutModel",
          "state": {
            "_model_module": "@jupyter-widgets/base",
            "_model_module_version": "1.2.0",
            "_model_name": "LayoutModel",
            "_view_count": null,
            "_view_module": "@jupyter-widgets/base",
            "_view_module_version": "1.2.0",
            "_view_name": "LayoutView",
            "align_content": null,
            "align_items": null,
            "align_self": null,
            "border": null,
            "bottom": null,
            "display": null,
            "flex": null,
            "flex_flow": null,
            "grid_area": null,
            "grid_auto_columns": null,
            "grid_auto_flow": null,
            "grid_auto_rows": null,
            "grid_column": null,
            "grid_gap": null,
            "grid_row": null,
            "grid_template_areas": null,
            "grid_template_columns": null,
            "grid_template_rows": null,
            "height": null,
            "justify_content": null,
            "justify_items": null,
            "left": null,
            "margin": null,
            "max_height": null,
            "max_width": null,
            "min_height": null,
            "min_width": null,
            "object_fit": null,
            "object_position": null,
            "order": null,
            "overflow": null,
            "overflow_x": null,
            "overflow_y": null,
            "padding": null,
            "right": null,
            "top": null,
            "visibility": null,
            "width": null
          }
        },
        "54922a52743d4395aea4ca65b5d71bee": {
          "model_module": "@jupyter-widgets/controls",
          "model_name": "DescriptionStyleModel",
          "state": {
            "_model_module": "@jupyter-widgets/controls",
            "_model_module_version": "1.5.0",
            "_model_name": "DescriptionStyleModel",
            "_view_count": null,
            "_view_module": "@jupyter-widgets/base",
            "_view_module_version": "1.2.0",
            "_view_name": "StyleView",
            "description_width": ""
          }
        }
      }
    }
  },
  "cells": [
    {
      "cell_type": "markdown",
      "metadata": {
        "id": "view-in-github",
        "colab_type": "text"
      },
      "source": [
        "<a href=\"https://colab.research.google.com/github/dohyun1411/Quora-Insincere-Questions-Classification/blob/preprocessing1/very_simple_classifiers.ipynb\" target=\"_parent\"><img src=\"https://colab.research.google.com/assets/colab-badge.svg\" alt=\"Open In Colab\"/></a>"
      ]
    },
    {
      "cell_type": "markdown",
      "metadata": {
        "id": "NoxcVkPXIbxi"
      },
      "source": [
        "##Very simple classifiers\n",
        "such as k-NN, Naive Bayes, SVM, Decision Tree."
      ]
    },
    {
      "cell_type": "code",
      "metadata": {
        "colab": {
          "base_uri": "https://localhost:8080/"
        },
        "id": "IOBcAsLwH3jV",
        "outputId": "b7b6d222-de6e-4db7-b441-052604dbe0d3"
      },
      "source": [
        "import numpy as np\n",
        "import pandas as pd\n",
        "from tqdm.auto import tqdm\n",
        "tqdm.pandas()"
      ],
      "execution_count": null,
      "outputs": [
        {
          "output_type": "stream",
          "text": [
            "/usr/local/lib/python3.7/dist-packages/tqdm/std.py:658: FutureWarning: The Panel class is removed from pandas. Accessing it from the top-level namespace will also be removed in the next version\n",
            "  from pandas import Panel\n"
          ],
          "name": "stderr"
        }
      ]
    },
    {
      "cell_type": "markdown",
      "metadata": {
        "id": "vkuSf2ZlIzy4"
      },
      "source": [
        "Please verify your input path."
      ]
    },
    {
      "cell_type": "code",
      "metadata": {
        "id": "0vKAWFURINgk"
      },
      "source": [
        "import os\n",
        "\n",
        "# input_path = '/kaggle/input/quora-insincere-questions-classification'\n",
        "input_path = '/content/drive/MyDrive/ColabNotebooks/QIQC/data'\n",
        "train_path = os.path.join(input_path, 'train.csv')\n",
        "test_path = os.path.join(input_path, 'test.csv')\n",
        "embeddings_path = os.path.join(input_path, 'embeddings.zip')"
      ],
      "execution_count": null,
      "outputs": []
    },
    {
      "cell_type": "code",
      "metadata": {
        "colab": {
          "base_uri": "https://localhost:8080/"
        },
        "id": "_aOwnVu3IzDw",
        "outputId": "8d6c68a8-a55b-41de-accd-6f2a2939fd83"
      },
      "source": [
        "if os.path.exists(train_path): train_df = pd.read_csv(train_path)\n",
        "else: train_df = pd.read_csv(train_path + '.zip')\n",
        "\n",
        "if os.path.exists(test_path): test_df = pd.read_csv(train_path)\n",
        "else: test_df = pd.read_csv(train_path + '.zip')\n",
        "\n",
        "print('train shape:', train_df.shape)\n",
        "print(train_df.head())\n",
        "print()\n",
        "print('test shape:', test_df.shape)\n",
        "print(test_df.head())"
      ],
      "execution_count": null,
      "outputs": [
        {
          "output_type": "stream",
          "text": [
            "train shape: (1306122, 3)\n",
            "                    qid  ... target\n",
            "0  00002165364db923c7e6  ...      0\n",
            "1  000032939017120e6e44  ...      0\n",
            "2  0000412ca6e4628ce2cf  ...      0\n",
            "3  000042bf85aa498cd78e  ...      0\n",
            "4  0000455dfa3e01eae3af  ...      0\n",
            "\n",
            "[5 rows x 3 columns]\n",
            "\n",
            "test shape: (1306122, 3)\n",
            "                    qid  ... target\n",
            "0  00002165364db923c7e6  ...      0\n",
            "1  000032939017120e6e44  ...      0\n",
            "2  0000412ca6e4628ce2cf  ...      0\n",
            "3  000042bf85aa498cd78e  ...      0\n",
            "4  0000455dfa3e01eae3af  ...      0\n",
            "\n",
            "[5 rows x 3 columns]\n"
          ],
          "name": "stdout"
        }
      ]
    },
    {
      "cell_type": "code",
      "metadata": {
        "id": "XYc72YoyJINC"
      },
      "source": [
        "# fill up the missing values\n",
        "trainX = train_df[\"question_text\"].fillna(\"_na_\").values\n",
        "testX = test_df[\"question_text\"].fillna(\"_na_\").values\n",
        "\n",
        "trainY = train_df[\"target\"].values"
      ],
      "execution_count": null,
      "outputs": []
    },
    {
      "cell_type": "markdown",
      "metadata": {
        "id": "nVVl5P1uKJ_i"
      },
      "source": [
        "Use NLTK word_toknize."
      ]
    },
    {
      "cell_type": "code",
      "metadata": {
        "colab": {
          "base_uri": "https://localhost:8080/",
          "height": 104,
          "referenced_widgets": [
            "ea4cc81121bf4768bb16e4ce4e83eec3",
            "50abf06b953644c188b122ebf19f00cf",
            "56a6fe1b4f7347f8ac0835a2d0551a7e",
            "9c2ad1b8af754f90a9297715d5cdda45",
            "d277d5785af049f68c7683779636d088",
            "62177c6fd3d746bcb656b2e9e5bce8b5",
            "11d358a1403446efba77e204a5b5921c",
            "76c62a4ba68649ad93543370cd427bdf"
          ]
        },
        "id": "bkCxIrb4Jdr-",
        "outputId": "33f5cb3f-91c9-4f26-e305-c804c8c208f0"
      },
      "source": [
        "import nltk\n",
        "from nltk import word_tokenize\n",
        "# nltk.download('punkt')\n",
        "\n",
        "train_sents = []\n",
        "for sent in tqdm(trainX): # 1min 21sec in Colab\n",
        "    train_sents.append(word_tokenize(sent))"
      ],
      "execution_count": null,
      "outputs": [
        {
          "output_type": "stream",
          "text": [
            "[nltk_data] Downloading package punkt to /root/nltk_data...\n",
            "[nltk_data]   Unzipping tokenizers/punkt.zip.\n"
          ],
          "name": "stdout"
        },
        {
          "output_type": "display_data",
          "data": {
            "application/vnd.jupyter.widget-view+json": {
              "model_id": "ea4cc81121bf4768bb16e4ce4e83eec3",
              "version_major": 2,
              "version_minor": 0
            },
            "text/plain": [
              "HBox(children=(FloatProgress(value=0.0, max=1306122.0), HTML(value='')))"
            ]
          },
          "metadata": {
            "tags": []
          }
        },
        {
          "output_type": "stream",
          "text": [
            "\n"
          ],
          "name": "stdout"
        }
      ]
    },
    {
      "cell_type": "markdown",
      "metadata": {
        "id": "rJxZQdPDLK8E"
      },
      "source": [
        "Features: (Please add more features)\n",
        "\n",
        "1. len sent: length of the sentence\n",
        "2. num words: number of words in the sentence\n",
        "3. per capitals: percentage of capitalized words in the sentence\n",
        "4. per no-alpha: percentage of non-alphabetic words in the sentence\n",
        "5. per nouns: percentage of nouns in the sentence\n",
        "6. polarity score: polarity score of the sentence\n",
        " "
      ]
    },
    {
      "cell_type": "code",
      "metadata": {
        "id": "wm4CUfMZT6yA"
      },
      "source": [
        "feature_df = pd.DataFrame()"
      ],
      "execution_count": null,
      "outputs": []
    },
    {
      "cell_type": "code",
      "metadata": {
        "id": "7CL5FAhkONzp"
      },
      "source": [
        "len_sent = [len(sent) for sent in trainX]\n",
        "feature_df['len sent'] = len_sent\n",
        "\n",
        "num_words = [len(sent) for sent in train_sents]\n",
        "feature_df['num words'] = num_words\n",
        "\n",
        "per_capitals = [len([word for word in sent if word.isupper()]) / len(sent) for sent in train_sents]\n",
        "feature_df['per capitals'] = per_capitals\n",
        "\n",
        "per_no_alpha = [len([word for word in sent if not word.isalpha()]) / len(sent) for sent in train_sents]\n",
        "feature_df['per no alpha'] = per_no_alpha"
      ],
      "execution_count": null,
      "outputs": []
    },
    {
      "cell_type": "code",
      "metadata": {
        "colab": {
          "background_save": true,
          "base_uri": "https://localhost:8080/",
          "height": 104,
          "referenced_widgets": [
            "1ddad76a469143d2875b4fd31508d168",
            "d11a3b28249e4bc680f978ab76603a6d",
            "5ebfb7ecece7470dae2c5890f2520205",
            "84adc05e1ad349398601867171cd9f41",
            "252b0756c8cc4f8a8f492d410bfec854",
            "daec22c0d5c04025b014f47532aaa59a",
            "00abd9b96e224019a0dae3bcb00452cc",
            "54922a52743d4395aea4ca65b5d71bee"
          ]
        },
        "id": "7rJKLPgpP70U",
        "outputId": "26fdc64c-6540-4402-a495-41515512383a"
      },
      "source": [
        "# nltk.download('averaged_perceptron_tagger')\n",
        "\n",
        "per_nouns = []\n",
        "for sent in tqdm(train_sents): # 6min 57sec in Colab\n",
        "    noun_sent = []\n",
        "    for word, pos in nltk.pos_tag(sent):\n",
        "        if pos.startswith('N'):\n",
        "            noun_sent.append(word)\n",
        "    per_nouns.append(len(noun_sent) / len(sent))\n",
        "feature_df['per nouns'] = per_nouns"
      ],
      "execution_count": null,
      "outputs": [
        {
          "output_type": "stream",
          "text": [
            "[nltk_data] Downloading package averaged_perceptron_tagger to\n",
            "[nltk_data]     /root/nltk_data...\n",
            "[nltk_data]   Unzipping taggers/averaged_perceptron_tagger.zip.\n"
          ],
          "name": "stdout"
        },
        {
          "output_type": "display_data",
          "data": {
            "application/vnd.jupyter.widget-view+json": {
              "model_id": "1ddad76a469143d2875b4fd31508d168",
              "version_major": 2,
              "version_minor": 0
            },
            "text/plain": [
              "HBox(children=(FloatProgress(value=0.0, max=1306122.0), HTML(value='')))"
            ]
          },
          "metadata": {
            "tags": []
          }
        },
        {
          "output_type": "stream",
          "text": [
            "\n"
          ],
          "name": "stdout"
        }
      ]
    },
    {
      "cell_type": "code",
      "metadata": {
        "id": "8S40c-FtRl-8"
      },
      "source": [
        "from nltk.sentiment.vader import SentimentIntensityAnalyzer\n",
        "nltk.download('vader_lexicon')\n",
        "\n",
        "sid = SentimentIntensityAnalyzer()\n",
        "polarity_score = []\n",
        "for sent in tqdm(trainX):\n",
        "    polarity_score.append(sid.polarity_scores(sent)['compound'])\n",
        "feature_df['polarity score'] = polarity_score"
      ],
      "execution_count": null,
      "outputs": []
    },
    {
      "cell_type": "code",
      "metadata": {
        "id": "_LVtuOWlPCkU"
      },
      "source": [
        "feature_df['target'] = trainY\n",
        "feature_df"
      ],
      "execution_count": null,
      "outputs": []
    },
    {
      "cell_type": "markdown",
      "metadata": {
        "id": "8RPUGkeBYTb5"
      },
      "source": [
        "Visualize the features vs target."
      ]
    },
    {
      "cell_type": "code",
      "metadata": {
        "id": "Dd7UthhRODbs"
      },
      "source": [
        "import matplotlib.pyplot as plt\n",
        "%matplotlib inline\n",
        "import seaborn as sns\n",
        "\n",
        "sns.scatterplot(x=feature_df['len sent'], y=feature_df['target'])\n",
        "plt.title('len sent vs target')"
      ],
      "execution_count": null,
      "outputs": []
    },
    {
      "cell_type": "code",
      "metadata": {
        "id": "KaRheeTAODeG"
      },
      "source": [
        "sns.scatterplot(x=feature_df['num words'], y=feature_df['target'])\n",
        "plt.title('num words vs target')"
      ],
      "execution_count": null,
      "outputs": []
    },
    {
      "cell_type": "code",
      "metadata": {
        "id": "MRIHeQ2xODgf"
      },
      "source": [
        "sns.scatterplot(x=feature_df['per capitals'], y=feature_df['target'])\n",
        "plt.title('per capitals vs target')"
      ],
      "execution_count": null,
      "outputs": []
    },
    {
      "cell_type": "code",
      "metadata": {
        "id": "0xmmzSR-ODit"
      },
      "source": [
        "sns.scatterplot(x=feature_df['per no alpha'], y=feature_df['target'])\n",
        "plt.title('per no alpha vs target')"
      ],
      "execution_count": null,
      "outputs": []
    },
    {
      "cell_type": "code",
      "metadata": {
        "id": "INGGV5fDKzbj"
      },
      "source": [
        "sns.scatterplot(x=feature_df['per nouns'], y=feature_df['target'])\n",
        "plt.title('per nouns vs target')"
      ],
      "execution_count": null,
      "outputs": []
    },
    {
      "cell_type": "code",
      "metadata": {
        "id": "8ItjcX-HXkVt"
      },
      "source": [
        "sns.scatterplot(x=feature_df['polarity score'], y=feature_df['target'])\n",
        "plt.title('polarity score vs target')"
      ],
      "execution_count": null,
      "outputs": []
    },
    {
      "cell_type": "markdown",
      "metadata": {
        "id": "zP7SbwT2YKaR"
      },
      "source": [
        "Nothing interesting..\n",
        "\n",
        "It seems like the results will be very poor. But we will do this as an experiment."
      ]
    },
    {
      "cell_type": "markdown",
      "metadata": {
        "id": "S5u4xle6Y-lp"
      },
      "source": [
        "We will not hadle the outliers because of the bias of the data. The outliers might be an important feature."
      ]
    },
    {
      "cell_type": "code",
      "metadata": {
        "id": "q7v1jkMFXoo5"
      },
      "source": [
        "from sklearn.preprocessing import RobustScaler\n",
        "\n",
        "def feature_scaling(df):\n",
        "\n",
        "    target = df.pop('target') # We do not want to scale target.\n",
        "    scaler = RobustScaler() # Use Robust Scaler for scaling.\n",
        "    scaler.fit(df)\n",
        "    df = pd.DataFrame(\n",
        "        scaler.transform(df),\n",
        "        columns=df.columns,\n",
        "        index=list(df.index.values)\n",
        "        )\n",
        "    df['target'] = target # Merge the target value after scaling the feautres.\n",
        "\n",
        "    return df"
      ],
      "execution_count": null,
      "outputs": []
    },
    {
      "cell_type": "code",
      "metadata": {
        "id": "mXryNYLnY1Zr"
      },
      "source": [
        "feature_df = feature_scaling(feature_df)\n",
        "feature_df"
      ],
      "execution_count": null,
      "outputs": []
    },
    {
      "cell_type": "markdown",
      "metadata": {
        "id": "WD8tXXubZohm"
      },
      "source": [
        "We will use scikit-learn."
      ]
    },
    {
      "cell_type": "code",
      "metadata": {
        "id": "az8yMVNtah4L"
      },
      "source": [
        "from sklearn.model_selection import train_test_split\n",
        "\n",
        "train_df, val_df = train_test_split(feature_df, test_size=0.2)\n",
        "trainY = train_df['target']\n",
        "trainX = train_df.drop(['target'], axis=1)\n",
        "valY = val_df['target']\n",
        "valX = val_df.drop(['target'], axis=1)"
      ],
      "execution_count": null,
      "outputs": []
    },
    {
      "cell_type": "code",
      "metadata": {
        "id": "ImwIovvLY4fh"
      },
      "source": [
        "from sklearn.metrics import f1_score\n",
        "from sklearn.model_selection import GridSearchCV"
      ],
      "execution_count": null,
      "outputs": []
    },
    {
      "cell_type": "markdown",
      "metadata": {
        "id": "m5PvXoN0Z72B"
      },
      "source": [
        "###Naive Bayes"
      ]
    },
    {
      "cell_type": "code",
      "metadata": {
        "id": "DB7wCPWjZvkP"
      },
      "source": [
        "from sklearn.naive_bayes import GaussianNB\n",
        "\n",
        "nb = GaussianNB()\n",
        "nb.fit(trainX, trainY)\n",
        "predY = nb.predict(valX)\n",
        "f1_score(valY, predY)"
      ],
      "execution_count": null,
      "outputs": []
    },
    {
      "cell_type": "markdown",
      "metadata": {
        "id": "joDPGIpQdfwZ"
      },
      "source": [
        "f1 score = 0.2231, very poor..\n",
        "\n",
        "Let's select some informative features."
      ]
    },
    {
      "cell_type": "code",
      "metadata": {
        "id": "-x8Fn6Q_hPzM"
      },
      "source": [
        "from sklearn.svm import SVC\n",
        "\n",
        "def get_score(classifier_name, cur_features, tuning=False, verbose=0):\n",
        "    if classifier_name == 'nb':\n",
        "        nb = GaussianNB()\n",
        "        nb.fit(trainX, trainY)\n",
        "        predY = nb.predict(valX)\n",
        "        return f1_score(valY, predY)\n",
        "\n",
        "    if classifier_name == 'svm':\n",
        "        if tuning:\n",
        "            grid_params = {'C': [0.001, 0.1, 1, 10], 'kernel': ['poly', 'rbf', 'sigmoid', 'precomputed']}\n",
        "            gs = GridSearchCV(SVC(), grid_params, verbose=(verbose > 1))\n",
        "            gs.fit(trainX, trainY)\n",
        "\n",
        "            svm_best_params = gs.best_params_\n",
        "            print(\"svm best params:\", svm_best_params)\n",
        "        else:\n",
        "            svm_best_params = {'C': 1, 'kernel': 'rbf'}\n",
        "        \n",
        "        svm = SVC(**svm_best_params)\n",
        "        svm.fit(trainX, trainY)\n",
        "        predY = svm.predict(valX)\n",
        "        return f1_score(valY, predY)"
      ],
      "execution_count": null,
      "outputs": []
    },
    {
      "cell_type": "code",
      "metadata": {
        "id": "ZoCZM_xGgyKL"
      },
      "source": [
        "from copy import deepcopy\n",
        "\n",
        "def forward_selection(n_features, classifier_name, tuning=False, verbose=1):\n",
        "\n",
        "    remaining_features = trainX.columns.tolist()\n",
        "    selected_features = []\n",
        "    best_score = 0.\n",
        "\n",
        "    prev_features = []\n",
        "    for _ in tqdm(range(n_features), disable=(not verbose)):\n",
        "        cur_best_score = 0.\n",
        "        cur_best_feature = ''\n",
        "\n",
        "        for feature in remaining_features:\n",
        "            cur_features = prev_features + [feature]\n",
        "\n",
        "            score = get_score(classifier_name, cur_features, tuning=tuning, verbose=verbose)\n",
        "            if score > cur_best_score:\n",
        "                cur_best_score = score\n",
        "                cur_best_feature = feature\n",
        "\n",
        "        prev_features.append(cur_best_feature)\n",
        "        remaining_features.remove(cur_best_feature)\n",
        "\n",
        "        if cur_best_score > best_score:\n",
        "            selected_features = deepcopy(prev_features)\n",
        "            best_score = cur_best_score\n",
        "    \n",
        "    return selected_features, best_score"
      ],
      "execution_count": null,
      "outputs": []
    },
    {
      "cell_type": "code",
      "metadata": {
        "id": "6eWg-EaLfZd0"
      },
      "source": [
        "selected_features, best_score = forward_selection(6, 'nb')\n",
        "print(\"selected features:\", selected_features)\n",
        "print(\"best f1 score:\", best_score)"
      ],
      "execution_count": null,
      "outputs": []
    },
    {
      "cell_type": "markdown",
      "metadata": {
        "id": "7eqXfxJpjAHJ"
      },
      "source": [
        "Nothing changed..\n",
        "\n",
        "Let's try other classifiers."
      ]
    },
    {
      "cell_type": "markdown",
      "metadata": {
        "id": "qzVGFGm8jEAe"
      },
      "source": [
        "###SVM"
      ]
    },
    {
      "cell_type": "code",
      "metadata": {
        "id": "aD74-gTJh3HP"
      },
      "source": [
        "selected_features, best_score = forward_selection(6, 'svm', verbose=2)\n",
        "print(\"selected features:\", selected_features)\n",
        "print(\"best f1 score:\", best_score)"
      ],
      "execution_count": null,
      "outputs": []
    },
    {
      "cell_type": "code",
      "metadata": {
        "id": "TAnZ8swvlPw8"
      },
      "source": [
        ""
      ],
      "execution_count": null,
      "outputs": []
    }
  ]
}