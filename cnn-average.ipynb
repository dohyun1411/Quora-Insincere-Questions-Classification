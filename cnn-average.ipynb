{
 "cells": [
  {
   "cell_type": "code",
   "execution_count": 1,
   "id": "corrected-adoption",
   "metadata": {
    "execution": {
     "iopub.execute_input": "2021-06-18T04:17:21.999803Z",
     "iopub.status.busy": "2021-06-18T04:17:21.996992Z",
     "iopub.status.idle": "2021-06-18T04:17:27.358391Z",
     "shell.execute_reply": "2021-06-18T04:17:27.357430Z",
     "shell.execute_reply.started": "2021-06-16T16:29:19.573787Z"
    },
    "id": "mZ_Kk7K3T3oh",
    "outputId": "f78e75be-969e-4f6f-c410-b3f758e88f30",
    "papermill": {
     "duration": 5.39642,
     "end_time": "2021-06-18T04:17:27.358554",
     "exception": false,
     "start_time": "2021-06-18T04:17:21.962134",
     "status": "completed"
    },
    "tags": []
   },
   "outputs": [],
   "source": [
    "import gc\n",
    "import os\n",
    "import pandas as pd\n",
    "import numpy as np\n",
    "import matplotlib.pyplot as plt\n",
    "%matplotlib inline\n",
    "\n",
    "from sklearn import preprocessing\n",
    "from tensorflow.keras.preprocessing.text import Tokenizer\n",
    "from tensorflow.keras.preprocessing.sequence import pad_sequences\n",
    "from tensorflow.keras.utils import to_categorical\n",
    "from sklearn.metrics import classification_report\n",
    "from tqdm.auto import tqdm\n",
    "tqdm.pandas()"
   ]
  },
  {
   "cell_type": "markdown",
   "id": "assured-brown",
   "metadata": {
    "id": "t-prIawhUGcG",
    "papermill": {
     "duration": 0.022357,
     "end_time": "2021-06-18T04:17:27.403882",
     "exception": false,
     "start_time": "2021-06-18T04:17:27.381525",
     "status": "completed"
    },
    "tags": []
   },
   "source": [
    "Import training data, test data"
   ]
  },
  {
   "cell_type": "code",
   "execution_count": 2,
   "id": "electrical-insight",
   "metadata": {
    "execution": {
     "iopub.execute_input": "2021-06-18T04:17:27.455573Z",
     "iopub.status.busy": "2021-06-18T04:17:27.454998Z",
     "iopub.status.idle": "2021-06-18T04:17:31.761997Z",
     "shell.execute_reply": "2021-06-18T04:17:31.761270Z",
     "shell.execute_reply.started": "2021-06-16T16:29:24.931605Z"
    },
    "id": "RIb7mz4LUF80",
    "outputId": "c9e6a259-13be-464d-9fff-5e37917b2948",
    "papermill": {
     "duration": 4.33564,
     "end_time": "2021-06-18T04:17:31.762160",
     "exception": false,
     "start_time": "2021-06-18T04:17:27.426520",
     "status": "completed"
    },
    "tags": []
   },
   "outputs": [
    {
     "name": "stdout",
     "output_type": "stream",
     "text": [
      "Train shape :  (1306122, 3)\n",
      "Test shape :  (375806, 2)\n"
     ]
    }
   ],
   "source": [
    "train_df = pd.read_csv(\"../input/quora-insincere-questions-classification/train.csv\")\n",
    "test_df = pd.read_csv(\"../input/quora-insincere-questions-classification/test.csv\")\n",
    "print(\"Train shape : \",train_df.shape)\n",
    "print(\"Test shape : \",test_df.shape)"
   ]
  },
  {
   "cell_type": "markdown",
   "id": "surrounded-valentine",
   "metadata": {
    "id": "0Cm9DDLwX20-",
    "papermill": {
     "duration": 0.022633,
     "end_time": "2021-06-18T04:17:31.808525",
     "exception": false,
     "start_time": "2021-06-18T04:17:31.785892",
     "status": "completed"
    },
    "tags": []
   },
   "source": [
    "Load and improve embedding"
   ]
  },
  {
   "cell_type": "code",
   "execution_count": 3,
   "id": "covered-buyer",
   "metadata": {
    "execution": {
     "iopub.execute_input": "2021-06-18T04:17:31.861968Z",
     "iopub.status.busy": "2021-06-18T04:17:31.861341Z",
     "iopub.status.idle": "2021-06-18T04:17:31.990790Z",
     "shell.execute_reply": "2021-06-18T04:17:31.990298Z",
     "shell.execute_reply.started": "2021-06-16T16:29:29.030464Z"
    },
    "id": "qtWlD-POVDT7",
    "papermill": {
     "duration": 0.159511,
     "end_time": "2021-06-18T04:17:31.990913",
     "exception": false,
     "start_time": "2021-06-18T04:17:31.831402",
     "status": "completed"
    },
    "tags": []
   },
   "outputs": [],
   "source": [
    "import zipfile\n",
    "from gensim.models import KeyedVectors\n",
    "import numpy as np\n",
    "\n",
    "embeddings_path = \"../input/quora-insincere-questions-classification/embeddings.zip\"\n",
    "glove = 'glove.840B.300d/glove.840B.300d.txt'\n",
    "wiki = 'wiki-news-300d-1M/wiki-news-300d-1M.vec'\n",
    "google = 'GoogleNews-vectors-negative300/GoogleNews-vectors-negative300.bin'\n",
    "para = 'paragram_300_sl999/paragram_300_sl999.txt'\n",
    "\n",
    "\n",
    "def load_embedding(embedding_name):\n",
    "\n",
    "    def get_coefs(word, *arr): return word, np.asarray(arr, dtype='float32')\n",
    "\n",
    "    with zipfile.ZipFile(embeddings_path) as embeddings_zip:\n",
    "        print(\"Found embeddings as a zip file\")\n",
    "\n",
    "        if embedding_name == google:\n",
    "            return KeyedVectors.load_word2vec_format(embeddings_zip.open(google), binary=True)\n",
    "\n",
    "        else:\n",
    "            embedding = []\n",
    "            for o in embeddings_zip.open(embedding_name):\n",
    "                try:\n",
    "                    if len(o.decode('utf-8')) > 100:\n",
    "                        embedding.append(get_coefs(*o.decode('utf-8').split(\" \")))\n",
    "                except:\n",
    "                    pass\n",
    "        \n",
    "        return dict(embedding)"
   ]
  },
  {
   "cell_type": "code",
   "execution_count": 4,
   "id": "medical-florist",
   "metadata": {
    "execution": {
     "iopub.execute_input": "2021-06-18T04:17:32.041185Z",
     "iopub.status.busy": "2021-06-18T04:17:32.040635Z",
     "iopub.status.idle": "2021-06-18T04:17:32.043960Z",
     "shell.execute_reply": "2021-06-18T04:17:32.044452Z",
     "shell.execute_reply.started": "2021-06-16T16:29:29.148763Z"
    },
    "id": "0N9T-CxMVZUo",
    "papermill": {
     "duration": 0.030297,
     "end_time": "2021-06-18T04:17:32.044586",
     "exception": false,
     "start_time": "2021-06-18T04:17:32.014289",
     "status": "completed"
    },
    "tags": []
   },
   "outputs": [],
   "source": [
    "n_splits = 5\n",
    "seed = 31\n",
    "puncts = '´‘’“”…!#$%&()*+,-./:;<=>?@[\\]^_`{|}~\"' + \"'\""
   ]
  },
  {
   "cell_type": "code",
   "execution_count": 5,
   "id": "toxic-arbitration",
   "metadata": {
    "execution": {
     "iopub.execute_input": "2021-06-18T04:17:32.095956Z",
     "iopub.status.busy": "2021-06-18T04:17:32.095359Z",
     "iopub.status.idle": "2021-06-18T04:17:32.142492Z",
     "shell.execute_reply": "2021-06-18T04:17:32.141997Z",
     "shell.execute_reply.started": "2021-06-16T16:29:29.156482Z"
    },
    "id": "X_U7oxxfVqFk",
    "papermill": {
     "duration": 0.074162,
     "end_time": "2021-06-18T04:17:32.142605",
     "exception": false,
     "start_time": "2021-06-18T04:17:32.068443",
     "status": "completed"
    },
    "tags": []
   },
   "outputs": [],
   "source": [
    "from keras.preprocessing.text import Tokenizer\n",
    "\n",
    "to_exclude = ''\n",
    "to_tokenize = puncts\n",
    "\n",
    "tokenizer = Tokenizer(filters=to_exclude, lower=False)"
   ]
  },
  {
   "cell_type": "markdown",
   "id": "caroline-strength",
   "metadata": {
    "id": "MLTblDpAYFNY",
    "papermill": {
     "duration": 0.022823,
     "end_time": "2021-06-18T04:17:32.188271",
     "exception": false,
     "start_time": "2021-06-18T04:17:32.165448",
     "status": "completed"
    },
    "tags": []
   },
   "source": [
    "Split the data into train, validation, test"
   ]
  },
  {
   "cell_type": "code",
   "execution_count": 6,
   "id": "dress-occurrence",
   "metadata": {
    "execution": {
     "iopub.execute_input": "2021-06-18T04:17:32.240522Z",
     "iopub.status.busy": "2021-06-18T04:17:32.239886Z",
     "iopub.status.idle": "2021-06-18T04:17:33.353485Z",
     "shell.execute_reply": "2021-06-18T04:17:33.352999Z",
     "shell.execute_reply.started": "2021-06-16T16:29:29.214694Z"
    },
    "id": "OUiQs89YV2i5",
    "papermill": {
     "duration": 1.142437,
     "end_time": "2021-06-18T04:17:33.353616",
     "exception": false,
     "start_time": "2021-06-18T04:17:32.211179",
     "status": "completed"
    },
    "tags": []
   },
   "outputs": [],
   "source": [
    "from sklearn.model_selection import train_test_split, KFold\n",
    "\n",
    "kfold = KFold(n_splits=n_splits, shuffle=True, random_state=seed)\n",
    "\n",
    "train_df, val_df = train_test_split(train_df, test_size=0.1)\n",
    "\n",
    "train_idx, val_idx = list(kfold.split(train_df))[0]\n",
    "train_df, val_df = train_df.iloc[train_idx], train_df.iloc[val_idx]\n",
    "\n",
    "train_text = train_df[\"question_text\"].fillna(\"_na_\")\n",
    "val_text = val_df[\"question_text\"].fillna(\"_na_\")\n",
    "test_text = test_df[\"question_text\"].fillna(\"_na_\")\n",
    "\n",
    "train_y = train_df['target'].values\n",
    "val_y = val_df['target'].values"
   ]
  },
  {
   "cell_type": "code",
   "execution_count": 7,
   "id": "chief-heating",
   "metadata": {
    "execution": {
     "iopub.execute_input": "2021-06-18T04:17:33.430100Z",
     "iopub.status.busy": "2021-06-18T04:17:33.406030Z",
     "iopub.status.idle": "2021-06-18T04:17:49.772215Z",
     "shell.execute_reply": "2021-06-18T04:17:49.771307Z",
     "shell.execute_reply.started": "2021-06-16T16:29:30.275521Z"
    },
    "id": "MW1K5kXcWaIf",
    "outputId": "147be849-4cd4-479e-e3f9-5044581b7592",
    "papermill": {
     "duration": 16.395181,
     "end_time": "2021-06-18T04:17:49.772342",
     "exception": false,
     "start_time": "2021-06-18T04:17:33.377161",
     "status": "completed"
    },
    "tags": []
   },
   "outputs": [
    {
     "data": {
      "application/vnd.jupyter.widget-view+json": {
       "model_id": "2badf6a16f674033b1098251689f3754",
       "version_major": 2,
       "version_minor": 0
      },
      "text/plain": [
       "  0%|          | 0/940407 [00:00<?, ?it/s]"
      ]
     },
     "metadata": {},
     "output_type": "display_data"
    },
    {
     "data": {
      "application/vnd.jupyter.widget-view+json": {
       "model_id": "c43897886ec1468181a5218d5119e32a",
       "version_major": 2,
       "version_minor": 0
      },
      "text/plain": [
       "  0%|          | 0/235102 [00:00<?, ?it/s]"
      ]
     },
     "metadata": {},
     "output_type": "display_data"
    },
    {
     "data": {
      "application/vnd.jupyter.widget-view+json": {
       "model_id": "a2a86ff14df045a0b404f2791a2b020c",
       "version_major": 2,
       "version_minor": 0
      },
      "text/plain": [
       "  0%|          | 0/375806 [00:00<?, ?it/s]"
      ]
     },
     "metadata": {},
     "output_type": "display_data"
    }
   ],
   "source": [
    "import re\n",
    "\n",
    "train_text = train_text.progress_apply(lambda x: re.sub(r'(['+to_tokenize+'])', r' \\1', x)).values\n",
    "val_text = val_text.progress_apply(lambda x: re.sub(r'(['+to_tokenize+'])', r' \\1', x)).values\n",
    "test_text = test_text.progress_apply(lambda x: re.sub(r'(['+to_tokenize+'])', r' \\1', x)).values"
   ]
  },
  {
   "cell_type": "code",
   "execution_count": 8,
   "id": "brutal-sally",
   "metadata": {
    "execution": {
     "iopub.execute_input": "2021-06-18T04:17:49.958174Z",
     "iopub.status.busy": "2021-06-18T04:17:49.956872Z",
     "iopub.status.idle": "2021-06-18T04:17:49.959764Z",
     "shell.execute_reply": "2021-06-18T04:17:49.959359Z",
     "shell.execute_reply.started": "2021-06-16T16:29:46.213776Z"
    },
    "id": "bU04kQ9DWlLc",
    "papermill": {
     "duration": 0.16294,
     "end_time": "2021-06-18T04:17:49.959886",
     "exception": false,
     "start_time": "2021-06-18T04:17:49.796946",
     "status": "completed"
    },
    "tags": []
   },
   "outputs": [],
   "source": [
    "text = list(train_text) + list(val_text) + list(test_text)"
   ]
  },
  {
   "cell_type": "markdown",
   "id": "closing-bridges",
   "metadata": {
    "id": "VMuUmeN5YQug",
    "papermill": {
     "duration": 0.024103,
     "end_time": "2021-06-18T04:17:50.008513",
     "exception": false,
     "start_time": "2021-06-18T04:17:49.984410",
     "status": "completed"
    },
    "tags": []
   },
   "source": [
    "Tokenize the text"
   ]
  },
  {
   "cell_type": "code",
   "execution_count": 9,
   "id": "billion-factory",
   "metadata": {
    "execution": {
     "iopub.execute_input": "2021-06-18T04:17:50.101020Z",
     "iopub.status.busy": "2021-06-18T04:17:50.090814Z",
     "iopub.status.idle": "2021-06-18T04:18:13.290329Z",
     "shell.execute_reply": "2021-06-18T04:18:13.290736Z",
     "shell.execute_reply.started": "2021-06-16T16:29:46.357604Z"
    },
    "id": "Jv4mPsn4WvGa",
    "outputId": "66449ab7-f945-49a7-82de-faa33c535788",
    "papermill": {
     "duration": 23.258096,
     "end_time": "2021-06-18T04:18:13.290886",
     "exception": false,
     "start_time": "2021-06-18T04:17:50.032790",
     "status": "completed"
    },
    "tags": []
   },
   "outputs": [
    {
     "name": "stdout",
     "output_type": "stream",
     "text": [
      "CPU times: user 23 s, sys: 170 ms, total: 23.2 s\n",
      "Wall time: 23.2 s\n"
     ]
    }
   ],
   "source": [
    "%%time\n",
    "tokenizer.fit_on_texts(text)"
   ]
  },
  {
   "cell_type": "markdown",
   "id": "working-lodge",
   "metadata": {
    "id": "WJrdp7QTYVH_",
    "papermill": {
     "duration": 0.024437,
     "end_time": "2021-06-18T04:18:13.340097",
     "exception": false,
     "start_time": "2021-06-18T04:18:13.315660",
     "status": "completed"
    },
    "tags": []
   },
   "source": [
    "Encoding the word to integer"
   ]
  },
  {
   "cell_type": "code",
   "execution_count": 10,
   "id": "mental-steal",
   "metadata": {
    "execution": {
     "iopub.execute_input": "2021-06-18T04:18:13.394450Z",
     "iopub.status.busy": "2021-06-18T04:18:13.393212Z",
     "iopub.status.idle": "2021-06-18T04:18:13.395554Z",
     "shell.execute_reply": "2021-06-18T04:18:13.395944Z",
     "shell.execute_reply.started": "2021-06-16T16:30:08.717781Z"
    },
    "id": "eIoRK2RfW4q8",
    "papermill": {
     "duration": 0.031318,
     "end_time": "2021-06-18T04:18:13.396088",
     "exception": false,
     "start_time": "2021-06-18T04:18:13.364770",
     "status": "completed"
    },
    "tags": []
   },
   "outputs": [],
   "source": [
    "word_index = tokenizer.word_index"
   ]
  },
  {
   "cell_type": "markdown",
   "id": "effective-sender",
   "metadata": {
    "id": "FVvuv8pgYd6b",
    "papermill": {
     "duration": 0.024319,
     "end_time": "2021-06-18T04:18:13.444647",
     "exception": false,
     "start_time": "2021-06-18T04:18:13.420328",
     "status": "completed"
    },
    "tags": []
   },
   "source": [
    "Encoding the text to interger sequence"
   ]
  },
  {
   "cell_type": "code",
   "execution_count": 11,
   "id": "regulated-timing",
   "metadata": {
    "execution": {
     "iopub.execute_input": "2021-06-18T04:18:13.542342Z",
     "iopub.status.busy": "2021-06-18T04:18:13.521818Z",
     "iopub.status.idle": "2021-06-18T04:18:32.465611Z",
     "shell.execute_reply": "2021-06-18T04:18:32.466314Z",
     "shell.execute_reply.started": "2021-06-16T16:30:08.724551Z"
    },
    "id": "Lt-g_PszW7T-",
    "outputId": "a036bdce-642a-4170-d905-03d188deed0e",
    "papermill": {
     "duration": 18.997572,
     "end_time": "2021-06-18T04:18:32.466467",
     "exception": false,
     "start_time": "2021-06-18T04:18:13.468895",
     "status": "completed"
    },
    "tags": []
   },
   "outputs": [
    {
     "name": "stdout",
     "output_type": "stream",
     "text": [
      "CPU times: user 18.7 s, sys: 184 ms, total: 18.9 s\n",
      "Wall time: 19 s\n"
     ]
    }
   ],
   "source": [
    "%%time\n",
    "train_X = tokenizer.texts_to_sequences(train_text)\n",
    "val_X = tokenizer.texts_to_sequences(val_text)\n",
    "test_X = tokenizer.texts_to_sequences(test_text)\n",
    "\n",
    "maxlen = max({len(seq) for seq in train_X} | {len(seq) for seq in val_X} | {len(seq) for seq in test_X})\n",
    "#maxlen = 600"
   ]
  },
  {
   "cell_type": "markdown",
   "id": "addressed-johns",
   "metadata": {
    "id": "DNPdD5vyYi6M",
    "papermill": {
     "duration": 0.025625,
     "end_time": "2021-06-18T04:18:32.517808",
     "exception": false,
     "start_time": "2021-06-18T04:18:32.492183",
     "status": "completed"
    },
    "tags": []
   },
   "source": [
    "Pad the sequence to equalize the length"
   ]
  },
  {
   "cell_type": "code",
   "execution_count": 12,
   "id": "essential-yorkshire",
   "metadata": {
    "execution": {
     "iopub.execute_input": "2021-06-18T04:18:32.574542Z",
     "iopub.status.busy": "2021-06-18T04:18:32.573725Z",
     "iopub.status.idle": "2021-06-18T04:18:45.216046Z",
     "shell.execute_reply": "2021-06-18T04:18:45.215533Z",
     "shell.execute_reply.started": "2021-06-16T16:30:27.116744Z"
    },
    "id": "sjm2hxhcXGZh",
    "papermill": {
     "duration": 12.672279,
     "end_time": "2021-06-18T04:18:45.216203",
     "exception": false,
     "start_time": "2021-06-18T04:18:32.543924",
     "status": "completed"
    },
    "tags": []
   },
   "outputs": [],
   "source": [
    "from keras.preprocessing.sequence import pad_sequences\n",
    "\n",
    "train_X = pad_sequences(train_X, maxlen=maxlen)\n",
    "val_X = pad_sequences(val_X, maxlen=maxlen)\n",
    "test_X = pad_sequences(test_X, maxlen=maxlen)"
   ]
  },
  {
   "cell_type": "code",
   "execution_count": 13,
   "id": "friendly-insider",
   "metadata": {
    "execution": {
     "iopub.execute_input": "2021-06-18T04:18:45.275085Z",
     "iopub.status.busy": "2021-06-18T04:18:45.274207Z",
     "iopub.status.idle": "2021-06-18T04:18:45.276447Z",
     "shell.execute_reply": "2021-06-18T04:18:45.276871Z",
     "shell.execute_reply.started": "2021-06-16T16:30:39.684172Z"
    },
    "id": "hkY1GClVXRym",
    "papermill": {
     "duration": 0.033519,
     "end_time": "2021-06-18T04:18:45.277010",
     "exception": false,
     "start_time": "2021-06-18T04:18:45.243491",
     "status": "completed"
    },
    "tags": []
   },
   "outputs": [],
   "source": [
    "google_emb_mean, google_emb_std = -0.003527845, 0.13315111"
   ]
  },
  {
   "cell_type": "code",
   "execution_count": 14,
   "id": "adult-yesterday",
   "metadata": {
    "execution": {
     "iopub.execute_input": "2021-06-18T04:18:45.335096Z",
     "iopub.status.busy": "2021-06-18T04:18:45.334148Z",
     "iopub.status.idle": "2021-06-18T04:18:45.336893Z",
     "shell.execute_reply": "2021-06-18T04:18:45.336435Z",
     "shell.execute_reply.started": "2021-06-16T16:30:39.691678Z"
    },
    "id": "7PbOJjyzXTtO",
    "papermill": {
     "duration": 0.033285,
     "end_time": "2021-06-18T04:18:45.337009",
     "exception": false,
     "start_time": "2021-06-18T04:18:45.303724",
     "status": "completed"
    },
    "tags": []
   },
   "outputs": [],
   "source": [
    "embed_size = 300 # how big is each word vector\n",
    "max_features = len(word_index) # how many unique words to use (i.e num rows in embedding vector)"
   ]
  },
  {
   "cell_type": "markdown",
   "id": "floating-personal",
   "metadata": {
    "id": "C5N-_Q1cYy8U",
    "papermill": {
     "duration": 0.025522,
     "end_time": "2021-06-18T04:18:45.388268",
     "exception": false,
     "start_time": "2021-06-18T04:18:45.362746",
     "status": "completed"
    },
    "tags": []
   },
   "source": [
    "Load glove embedding"
   ]
  },
  {
   "cell_type": "code",
   "execution_count": 15,
   "id": "blank-settlement",
   "metadata": {
    "execution": {
     "iopub.execute_input": "2021-06-18T04:18:45.443227Z",
     "iopub.status.busy": "2021-06-18T04:18:45.442341Z",
     "iopub.status.idle": "2021-06-18T04:18:45.444613Z",
     "shell.execute_reply": "2021-06-18T04:18:45.445036Z",
     "shell.execute_reply.started": "2021-06-16T16:30:39.700905Z"
    },
    "id": "UJ3XQlpIXg8x",
    "outputId": "f69eef06-0428-4156-989d-0822acf4786f",
    "papermill": {
     "duration": 0.031453,
     "end_time": "2021-06-18T04:18:45.445188",
     "exception": false,
     "start_time": "2021-06-18T04:18:45.413735",
     "status": "completed"
    },
    "tags": []
   },
   "outputs": [],
   "source": [
    "#%%time\n",
    "#google_embedding = load_embedding(google)"
   ]
  },
  {
   "cell_type": "markdown",
   "id": "vulnerable-question",
   "metadata": {
    "id": "mEafY_coZQeP",
    "papermill": {
     "duration": 0.024735,
     "end_time": "2021-06-18T04:18:45.495238",
     "exception": false,
     "start_time": "2021-06-18T04:18:45.470503",
     "status": "completed"
    },
    "tags": []
   },
   "source": [
    "Improve the embedding matrix"
   ]
  },
  {
   "cell_type": "code",
   "execution_count": 16,
   "id": "alternative-wellington",
   "metadata": {
    "execution": {
     "iopub.execute_input": "2021-06-18T04:18:45.551536Z",
     "iopub.status.busy": "2021-06-18T04:18:45.550946Z",
     "iopub.status.idle": "2021-06-18T04:19:06.063038Z",
     "shell.execute_reply": "2021-06-18T04:19:06.062551Z",
     "shell.execute_reply.started": "2021-06-16T16:36:07.215831Z"
    },
    "id": "QeQMtN63ZT1T",
    "outputId": "aeff337f-eff7-467f-a50b-78340e77334d",
    "papermill": {
     "duration": 20.542212,
     "end_time": "2021-06-18T04:19:06.063216",
     "exception": false,
     "start_time": "2021-06-18T04:18:45.521004",
     "status": "completed"
    },
    "tags": []
   },
   "outputs": [
    {
     "name": "stdout",
     "output_type": "stream",
     "text": [
      "[nltk_data] Error loading wordnet: <urlopen error [Errno -3] Temporary\n",
      "[nltk_data]     failure in name resolution>\n"
     ]
    }
   ],
   "source": [
    "import nltk\n",
    "nltk.download('wordnet')\n",
    "\n",
    "from nltk.stem import PorterStemmer\n",
    "from nltk.stem import LancasterStemmer\n",
    "from nltk.stem import WordNetLemmatizer\n",
    "s = PorterStemmer()\n",
    "l = LancasterStemmer()\n",
    "n = WordNetLemmatizer()"
   ]
  },
  {
   "cell_type": "code",
   "execution_count": 17,
   "id": "trained-charlotte",
   "metadata": {
    "execution": {
     "iopub.execute_input": "2021-06-18T04:19:06.120695Z",
     "iopub.status.busy": "2021-06-18T04:19:06.120177Z",
     "iopub.status.idle": "2021-06-18T04:19:06.124011Z",
     "shell.execute_reply": "2021-06-18T04:19:06.123621Z",
     "shell.execute_reply.started": "2021-06-16T16:36:08.0386Z"
    },
    "id": "6_Me73SzZXda",
    "papermill": {
     "duration": 0.035517,
     "end_time": "2021-06-18T04:19:06.124135",
     "exception": false,
     "start_time": "2021-06-18T04:19:06.088618",
     "status": "completed"
    },
    "tags": []
   },
   "outputs": [],
   "source": [
    "def is_in_emb(word, i, embedding, emb_matrix):\n",
    "\n",
    "    if word in embedding:\n",
    "        emb_matrix[i] = embedding[word]\n",
    "        return True\n",
    "    \n",
    "    tmp = word.lower()\n",
    "    if tmp in embedding:\n",
    "        emb_matrix[i] = embedding[tmp]\n",
    "        return True\n",
    "    \n",
    "    tmp = word.upper()\n",
    "    if tmp in embedding:\n",
    "        emb_matrix[i] = embedding[tmp]\n",
    "        return True\n",
    "\n",
    "    tmp = word.capitalize()\n",
    "    if tmp in embedding:\n",
    "        emb_matrix[i] = embedding[tmp]\n",
    "        return True\n",
    "\n",
    "    tmp = s.stem(word)\n",
    "    if tmp in embedding:\n",
    "        emb_matrix[i] = embedding[tmp]\n",
    "        return True\n",
    "    \n",
    "    tmp = l.stem(word)\n",
    "    if tmp in embedding:\n",
    "        emb_matrix[i] = embedding[tmp]\n",
    "        return True\n",
    "    \n",
    "    tmp = n.lemmatize(word)\n",
    "    if tmp in embedding:\n",
    "        emb_matrix[i] = embedding[tmp]\n",
    "        return True\n",
    "    \n",
    "    return False"
   ]
  },
  {
   "cell_type": "code",
   "execution_count": 18,
   "id": "connected-royalty",
   "metadata": {
    "execution": {
     "iopub.execute_input": "2021-06-18T04:19:06.183942Z",
     "iopub.status.busy": "2021-06-18T04:19:06.183273Z",
     "iopub.status.idle": "2021-06-18T04:19:06.185609Z",
     "shell.execute_reply": "2021-06-18T04:19:06.185998Z"
    },
    "papermill": {
     "duration": 0.036826,
     "end_time": "2021-06-18T04:19:06.186143",
     "exception": false,
     "start_time": "2021-06-18T04:19:06.149317",
     "status": "completed"
    },
    "tags": []
   },
   "outputs": [],
   "source": [
    "def load_emb_matrix(embedding_name):\n",
    "\n",
    "    embedding = load_embedding(embedding_name)\n",
    "    if embedding_name == glove: emb_mean, emb_std = -0.005838499, 0.48782197\n",
    "    if embedding_name == wiki: emb_mean, emb_std = -0.0033469985, 0.109855495\n",
    "    if embedding_name == google: emb_mean, emb_std = -0.003527845, 0.13315111\n",
    "    if embedding_name == para: emb_mean, emb_std = -0.0053248387, 0.49346521\n",
    "    emb_matrix = np.random.normal(emb_mean, emb_std, (max_features+1, embed_size))\n",
    "    for word, i in tqdm(word_index.items()):\n",
    "        #i -= 1\n",
    "        assert i >= 0\n",
    "\n",
    "        if i >= max_features: continue\n",
    "\n",
    "        if is_in_emb(word, i, embedding, emb_matrix): continue\n",
    "\n",
    "        if embedding_name == google:\n",
    "\n",
    "            tmp = re.sub('[0-9]{5,}', '#####', word)\n",
    "            tmp = re.sub('[0-9]{4}', '####', tmp)\n",
    "            tmp = re.sub('[0-9]{3}', '###', tmp)\n",
    "            tmp = re.sub('[0-9]{2}', '##', tmp)\n",
    "            if is_in_emb(tmp, i, embedding, emb_matrix): continue\n",
    "\n",
    "            for punct in puncts:\n",
    "                tmp = tmp.replace(punct, '')\n",
    "            if is_in_emb(tmp, i, embedding, emb_matrix): continue\n",
    "\n",
    "        else:\n",
    "        \n",
    "            tmp = word\n",
    "            for punct in puncts:\n",
    "                tmp = tmp.replace(punct, '')\n",
    "            if is_in_emb(tmp, i, embedding, emb_matrix): continue\n",
    "\n",
    "            for num in '0123456789':\n",
    "                tmp = tmp.replace(num, '')\n",
    "            if is_in_emb(tmp, i, embedding, emb_matrix): continue\n",
    "    \n",
    "\n",
    "    del embedding\n",
    "    gc.collect()\n",
    "    return emb_matrix"
   ]
  },
  {
   "cell_type": "code",
   "execution_count": 19,
   "id": "leading-northeast",
   "metadata": {
    "execution": {
     "iopub.execute_input": "2021-06-18T04:19:06.239635Z",
     "iopub.status.busy": "2021-06-18T04:19:06.239143Z",
     "iopub.status.idle": "2021-06-18T04:30:22.141720Z",
     "shell.execute_reply": "2021-06-18T04:30:22.140793Z"
    },
    "papermill": {
     "duration": 675.930644,
     "end_time": "2021-06-18T04:30:22.141871",
     "exception": false,
     "start_time": "2021-06-18T04:19:06.211227",
     "status": "completed"
    },
    "tags": []
   },
   "outputs": [
    {
     "name": "stdout",
     "output_type": "stream",
     "text": [
      "Found embeddings as a zip file\n"
     ]
    },
    {
     "data": {
      "application/vnd.jupyter.widget-view+json": {
       "model_id": "2347cc49fd9f4fc99894fc262aaf467a",
       "version_major": 2,
       "version_minor": 0
      },
      "text/plain": [
       "  0%|          | 0/330361 [00:00<?, ?it/s]"
      ]
     },
     "metadata": {},
     "output_type": "display_data"
    },
    {
     "name": "stdout",
     "output_type": "stream",
     "text": [
      "Found embeddings as a zip file\n"
     ]
    },
    {
     "data": {
      "application/vnd.jupyter.widget-view+json": {
       "model_id": "ce4e5a27292d448abcd66bc178be25d6",
       "version_major": 2,
       "version_minor": 0
      },
      "text/plain": [
       "  0%|          | 0/330361 [00:00<?, ?it/s]"
      ]
     },
     "metadata": {},
     "output_type": "display_data"
    }
   ],
   "source": [
    "glove_emb_matrix = load_emb_matrix(glove)\n",
    "para_emb_matrix = load_emb_matrix(para)\n",
    "#google_emb_matrix = load_emb_matrix(google)\n",
    "emb_matrix = np.mean((0.5 * glove_emb_matrix, 0.5 * para_emb_matrix), axis=0)"
   ]
  },
  {
   "cell_type": "code",
   "execution_count": 20,
   "id": "dynamic-tribune",
   "metadata": {
    "execution": {
     "iopub.execute_input": "2021-06-18T04:30:22.201941Z",
     "iopub.status.busy": "2021-06-18T04:30:22.201256Z",
     "iopub.status.idle": "2021-06-18T04:30:22.204166Z",
     "shell.execute_reply": "2021-06-18T04:30:22.204565Z",
     "shell.execute_reply.started": "2021-06-16T16:36:08.048098Z"
    },
    "id": "wkBaNUXkZ4iO",
    "outputId": "c74d3c79-148c-4bb2-ffb6-675a610c112c",
    "papermill": {
     "duration": 0.035809,
     "end_time": "2021-06-18T04:30:22.204693",
     "exception": false,
     "start_time": "2021-06-18T04:30:22.168884",
     "status": "completed"
    },
    "tags": []
   },
   "outputs": [
    {
     "data": {
      "text/plain": [
       "\"\\ngoogle_emb_matrix = np.random.normal(google_emb_mean, google_emb_std, (max_features+1, embed_size))\\ngoogle_oov = {}\\n# double_continue = False\\n\\n\\nfor word, i in tqdm(word_index.items()):\\n    #i -= 1\\n    assert i >= 0\\n\\n    if is_in_emb(word, i, google_embedding, google_emb_matrix): continue\\n\\n    tmp = re.sub('[0-9]{5,}', '#####', word)\\n    tmp = re.sub('[0-9]{4}', '####', tmp)\\n    tmp = re.sub('[0-9]{3}', '###', tmp)\\n    tmp = re.sub('[0-9]{2}', '##', tmp)\\n    if is_in_emb(tmp, i, google_embedding, google_emb_matrix): continue\\n\\n    # tmp = word\\n    for punct in puncts:\\n        tmp = tmp.replace(punct, '')\\n    if is_in_emb(tmp, i, google_embedding, google_emb_matrix): continue\\n\\n    else:\\n        google_oov[word] = i\\n\\n#del google_embedding\\nprint('percentage of oov of google: {:.2f}%'.format(len(google_oov) / max_features * 100))\\n\""
      ]
     },
     "execution_count": 20,
     "metadata": {},
     "output_type": "execute_result"
    }
   ],
   "source": [
    "'''\n",
    "google_emb_matrix = np.random.normal(google_emb_mean, google_emb_std, (max_features+1, embed_size))\n",
    "google_oov = {}\n",
    "# double_continue = False\n",
    "\n",
    "\n",
    "for word, i in tqdm(word_index.items()):\n",
    "    #i -= 1\n",
    "    assert i >= 0\n",
    "\n",
    "    if is_in_emb(word, i, google_embedding, google_emb_matrix): continue\n",
    "\n",
    "    tmp = re.sub('[0-9]{5,}', '#####', word)\n",
    "    tmp = re.sub('[0-9]{4}', '####', tmp)\n",
    "    tmp = re.sub('[0-9]{3}', '###', tmp)\n",
    "    tmp = re.sub('[0-9]{2}', '##', tmp)\n",
    "    if is_in_emb(tmp, i, google_embedding, google_emb_matrix): continue\n",
    "\n",
    "    # tmp = word\n",
    "    for punct in puncts:\n",
    "        tmp = tmp.replace(punct, '')\n",
    "    if is_in_emb(tmp, i, google_embedding, google_emb_matrix): continue\n",
    "\n",
    "    else:\n",
    "        google_oov[word] = i\n",
    "\n",
    "#del google_embedding\n",
    "print('percentage of oov of google: {:.2f}%'.format(len(google_oov) / max_features * 100))\n",
    "'''"
   ]
  },
  {
   "cell_type": "code",
   "execution_count": 21,
   "id": "acquired-alpha",
   "metadata": {
    "execution": {
     "iopub.execute_input": "2021-06-18T04:30:22.261615Z",
     "iopub.status.busy": "2021-06-18T04:30:22.260856Z",
     "iopub.status.idle": "2021-06-18T04:30:22.263656Z",
     "shell.execute_reply": "2021-06-18T04:30:22.263235Z",
     "shell.execute_reply.started": "2021-06-16T16:36:28.251194Z"
    },
    "id": "WcrAJYGda-Jz",
    "outputId": "421780fb-dd3a-4379-911a-c96f6e263dd5",
    "papermill": {
     "duration": 0.032339,
     "end_time": "2021-06-18T04:30:22.263759",
     "exception": false,
     "start_time": "2021-06-18T04:30:22.231420",
     "status": "completed"
    },
    "tags": []
   },
   "outputs": [],
   "source": [
    "#google_emb_matrix.shape"
   ]
  },
  {
   "cell_type": "markdown",
   "id": "color-logistics",
   "metadata": {
    "id": "bCQFhb07c8OA",
    "papermill": {
     "duration": 0.026819,
     "end_time": "2021-06-18T04:30:22.317602",
     "exception": false,
     "start_time": "2021-06-18T04:30:22.290783",
     "status": "completed"
    },
    "tags": []
   },
   "source": [
    "Use 1D CNN"
   ]
  },
  {
   "cell_type": "code",
   "execution_count": 22,
   "id": "executed-resource",
   "metadata": {
    "execution": {
     "iopub.execute_input": "2021-06-18T04:30:22.377099Z",
     "iopub.status.busy": "2021-06-18T04:30:22.376237Z",
     "iopub.status.idle": "2021-06-18T04:30:22.378803Z",
     "shell.execute_reply": "2021-06-18T04:30:22.378402Z",
     "shell.execute_reply.started": "2021-06-16T16:36:28.259582Z"
    },
    "id": "5VIQVsDZc-sm",
    "papermill": {
     "duration": 0.03456,
     "end_time": "2021-06-18T04:30:22.378913",
     "exception": false,
     "start_time": "2021-06-18T04:30:22.344353",
     "status": "completed"
    },
    "tags": []
   },
   "outputs": [],
   "source": [
    "from tensorflow.keras.models import Model\n",
    "from tensorflow.keras.layers import Embedding, Dropout, Conv1D, GlobalMaxPooling1D, Dense, Input, Flatten, Concatenate\n",
    "from tensorflow.keras.callbacks import EarlyStopping, ModelCheckpoint\n",
    "from tensorflow.keras.models import load_model\n",
    "filter_sizes=[3,4,5]\n",
    "num_filters = 512\n",
    "drop = 0.5"
   ]
  },
  {
   "cell_type": "code",
   "execution_count": 23,
   "id": "great-recovery",
   "metadata": {
    "execution": {
     "iopub.execute_input": "2021-06-18T04:30:22.439575Z",
     "iopub.status.busy": "2021-06-18T04:30:22.439045Z",
     "iopub.status.idle": "2021-06-18T04:30:26.218110Z",
     "shell.execute_reply": "2021-06-18T04:30:26.219037Z",
     "shell.execute_reply.started": "2021-06-16T16:36:28.270377Z"
    },
    "id": "77uqmMEEdCmN",
    "outputId": "84f74316-99c5-4592-905a-babd8c0687f8",
    "papermill": {
     "duration": 3.813537,
     "end_time": "2021-06-18T04:30:26.219254",
     "exception": false,
     "start_time": "2021-06-18T04:30:22.405717",
     "status": "completed"
    },
    "tags": []
   },
   "outputs": [
    {
     "name": "stdout",
     "output_type": "stream",
     "text": [
      "Model: \"model\"\n",
      "__________________________________________________________________________________________________\n",
      "Layer (type)                    Output Shape         Param #     Connected to                     \n",
      "==================================================================================================\n",
      "input_1 (InputLayer)            [(None, 449)]        0                                            \n",
      "__________________________________________________________________________________________________\n",
      "embedding (Embedding)           (None, 449, 300)     99108600    input_1[0][0]                    \n",
      "__________________________________________________________________________________________________\n",
      "conv1d (Conv1D)                 (None, 447, 512)     461312      embedding[0][0]                  \n",
      "__________________________________________________________________________________________________\n",
      "conv1d_1 (Conv1D)               (None, 446, 512)     614912      embedding[0][0]                  \n",
      "__________________________________________________________________________________________________\n",
      "conv1d_2 (Conv1D)               (None, 445, 512)     768512      embedding[0][0]                  \n",
      "__________________________________________________________________________________________________\n",
      "global_max_pooling1d (GlobalMax (None, 512)          0           conv1d[0][0]                     \n",
      "__________________________________________________________________________________________________\n",
      "global_max_pooling1d_1 (GlobalM (None, 512)          0           conv1d_1[0][0]                   \n",
      "__________________________________________________________________________________________________\n",
      "global_max_pooling1d_2 (GlobalM (None, 512)          0           conv1d_2[0][0]                   \n",
      "__________________________________________________________________________________________________\n",
      "flatten (Flatten)               (None, 512)          0           global_max_pooling1d[0][0]       \n",
      "__________________________________________________________________________________________________\n",
      "flatten_1 (Flatten)             (None, 512)          0           global_max_pooling1d_1[0][0]     \n",
      "__________________________________________________________________________________________________\n",
      "flatten_2 (Flatten)             (None, 512)          0           global_max_pooling1d_2[0][0]     \n",
      "__________________________________________________________________________________________________\n",
      "concatenate (Concatenate)       (None, 1536)         0           flatten[0][0]                    \n",
      "                                                                 flatten_1[0][0]                  \n",
      "                                                                 flatten_2[0][0]                  \n",
      "__________________________________________________________________________________________________\n",
      "dropout (Dropout)               (None, 1536)         0           concatenate[0][0]                \n",
      "__________________________________________________________________________________________________\n",
      "dense (Dense)                   (None, 128)          196736      dropout[0][0]                    \n",
      "__________________________________________________________________________________________________\n",
      "dense_1 (Dense)                 (None, 1)            129         dense[0][0]                      \n",
      "==================================================================================================\n",
      "Total params: 101,150,201\n",
      "Trainable params: 2,041,601\n",
      "Non-trainable params: 99,108,600\n",
      "__________________________________________________________________________________________________\n"
     ]
    }
   ],
   "source": [
    "model_input = Input(shape=(maxlen,))\n",
    "z = Embedding(len(word_index)+1,\n",
    "              emb_matrix.shape[1],\n",
    "              weights=[emb_matrix],\n",
    "              input_length=maxlen,\n",
    "              trainable=False)(model_input)\n",
    "\n",
    "conv_blocks = []\n",
    "\n",
    "for sz in filter_sizes:\n",
    "  conv = Conv1D(filters = num_filters,\n",
    "                kernel_size = sz,\n",
    "                padding = \"valid\",\n",
    "                activation = \"relu\",\n",
    "                strides = 1)(z)\n",
    "  conv = GlobalMaxPooling1D()(conv)\n",
    "  conv = Flatten()(conv)\n",
    "  conv_blocks.append(conv)\n",
    "\n",
    "z = Concatenate()(conv_blocks) if len(conv_blocks) > 1 else conv_blocks[0]\n",
    "z = Dropout(drop)(z)\n",
    "z = Dense(128, activation=\"relu\")(z)\n",
    "model_output = Dense(1, activation='sigmoid')(z)\n",
    "\n",
    "model = Model(model_input, model_output)\n",
    "\n",
    "model.compile(loss='binary_crossentropy',\n",
    "              optimizer='adam',\n",
    "              metrics=['acc'])\n",
    "\n",
    "model.summary()"
   ]
  },
  {
   "cell_type": "code",
   "execution_count": 24,
   "id": "municipal-testing",
   "metadata": {
    "execution": {
     "iopub.execute_input": "2021-06-18T04:30:26.322653Z",
     "iopub.status.busy": "2021-06-18T04:30:26.313321Z",
     "iopub.status.idle": "2021-06-18T05:40:40.321561Z",
     "shell.execute_reply": "2021-06-18T05:40:40.321104Z",
     "shell.execute_reply.started": "2021-06-16T16:36:31.839984Z"
    },
    "id": "VY_nvOxojAdM",
    "outputId": "b6cc9405-857a-453d-b869-6a36df87f0ad",
    "papermill": {
     "duration": 4214.057948,
     "end_time": "2021-06-18T05:40:40.321699",
     "exception": false,
     "start_time": "2021-06-18T04:30:26.263751",
     "status": "completed"
    },
    "tags": []
   },
   "outputs": [
    {
     "name": "stdout",
     "output_type": "stream",
     "text": [
      "Epoch 1/5\n",
      "14694/14694 [==============================] - 848s 57ms/step - loss: 0.1268 - acc: 0.9501 - val_loss: 0.1069 - val_acc: 0.9573\n",
      "Epoch 2/5\n",
      "14694/14694 [==============================] - 840s 57ms/step - loss: 0.1061 - acc: 0.9578 - val_loss: 0.1054 - val_acc: 0.9581\n",
      "Epoch 3/5\n",
      "14694/14694 [==============================] - 840s 57ms/step - loss: 0.0970 - acc: 0.9611 - val_loss: 0.1030 - val_acc: 0.9589\n",
      "Epoch 4/5\n",
      "14694/14694 [==============================] - 842s 57ms/step - loss: 0.0896 - acc: 0.9635 - val_loss: 0.1025 - val_acc: 0.9594\n",
      "Epoch 5/5\n",
      "14694/14694 [==============================] - 842s 57ms/step - loss: 0.0824 - acc: 0.9663 - val_loss: 0.1082 - val_acc: 0.9595\n"
     ]
    }
   ],
   "source": [
    "#es = EarlyStopping(monitor='val_loss', mode='min', verbose=1, patience=4)\n",
    "#mc = ModelCheckpoint('CNN_model.h5', monitor='val_acc', mode='max', verbose=1, save_best_only=True)\n",
    "\n",
    "history = model.fit(train_X, train_y,\n",
    "                    batch_size=64,\n",
    "                    epochs=5,\n",
    "                    validation_data=(val_X, val_y))\n",
    "\n",
    "                    #verbose=2)\n",
    "                    #callbacks=[es, mc])"
   ]
  },
  {
   "cell_type": "code",
   "execution_count": 25,
   "id": "elect-jacksonville",
   "metadata": {
    "execution": {
     "iopub.execute_input": "2021-06-18T05:41:17.463832Z",
     "iopub.status.busy": "2021-06-18T05:41:17.462878Z",
     "iopub.status.idle": "2021-06-18T05:43:01.335827Z",
     "shell.execute_reply": "2021-06-18T05:43:01.335398Z",
     "shell.execute_reply.started": "2021-06-16T16:50:25.599042Z"
    },
    "id": "jTuK73CVrHdD",
    "outputId": "60371c88-5220-4355-fca0-5f573251bf2d",
    "papermill": {
     "duration": 122.31973,
     "end_time": "2021-06-18T05:43:01.335957",
     "exception": false,
     "start_time": "2021-06-18T05:40:59.016227",
     "status": "completed"
    },
    "tags": []
   },
   "outputs": [
    {
     "name": "stdout",
     "output_type": "stream",
     "text": [
      "7347/7347 [==============================] - 103s 14ms/step - loss: 0.1082 - acc: 0.9595\n",
      "Test score: 0.10823876410722733\n",
      "Test accuracy: 0.9595282077789307\n"
     ]
    }
   ],
   "source": [
    "score = model.evaluate(val_X, val_y)\n",
    "print('Test score:', score[0])\n",
    "print('Test accuracy:', score[1])"
   ]
  },
  {
   "cell_type": "code",
   "execution_count": 26,
   "id": "handy-input",
   "metadata": {
    "execution": {
     "iopub.execute_input": "2021-06-18T05:43:39.948161Z",
     "iopub.status.busy": "2021-06-18T05:43:39.947216Z",
     "iopub.status.idle": "2021-06-18T05:45:59.525477Z",
     "shell.execute_reply": "2021-06-18T05:45:59.524952Z",
     "shell.execute_reply.started": "2021-06-16T16:52:58.357138Z"
    },
    "papermill": {
     "duration": 158.932059,
     "end_time": "2021-06-18T05:45:59.525624",
     "exception": false,
     "start_time": "2021-06-18T05:43:20.593565",
     "status": "completed"
    },
    "tags": []
   },
   "outputs": [
    {
     "name": "stdout",
     "output_type": "stream",
     "text": [
      "5872/5872 [==============================] - 139s 24ms/step\n"
     ]
    }
   ],
   "source": [
    "pred = model.predict(test_X, batch_size = 64, verbose=1)"
   ]
  },
  {
   "cell_type": "code",
   "execution_count": 27,
   "id": "civilian-latex",
   "metadata": {
    "execution": {
     "iopub.execute_input": "2021-06-18T05:46:38.648235Z",
     "iopub.status.busy": "2021-06-18T05:46:38.638188Z",
     "iopub.status.idle": "2021-06-18T05:46:39.302179Z",
     "shell.execute_reply": "2021-06-18T05:46:39.302588Z",
     "shell.execute_reply.started": "2021-06-16T16:55:02.434032Z"
    },
    "id": "WaUrR4hkL6PR",
    "outputId": "7fd2cf8e-2df1-42a3-fc3a-44fedfe90f99",
    "papermill": {
     "duration": 20.171844,
     "end_time": "2021-06-18T05:46:39.302748",
     "exception": false,
     "start_time": "2021-06-18T05:46:19.130904",
     "status": "completed"
    },
    "tags": []
   },
   "outputs": [],
   "source": [
    "res = [0 if x < 0.3 else 1 for x in pred]"
   ]
  },
  {
   "cell_type": "code",
   "execution_count": 28,
   "id": "anticipated-treat",
   "metadata": {
    "execution": {
     "iopub.execute_input": "2021-06-18T05:47:18.663225Z",
     "iopub.status.busy": "2021-06-18T05:47:18.662650Z",
     "iopub.status.idle": "2021-06-18T05:47:20.478349Z",
     "shell.execute_reply": "2021-06-18T05:47:20.477813Z",
     "shell.execute_reply.started": "2021-06-16T16:57:37.742464Z"
    },
    "papermill": {
     "duration": 21.140407,
     "end_time": "2021-06-18T05:47:20.478487",
     "exception": false,
     "start_time": "2021-06-18T05:46:59.338080",
     "status": "completed"
    },
    "tags": []
   },
   "outputs": [],
   "source": [
    "submission = pd.DataFrame(\n",
    "    {'qid':test_df['qid'][:len(res)], 'prediction':res},\n",
    "    columns = ['qid', 'prediction']\n",
    ")\n",
    "submission.to_csv('./submission.csv', index=False)"
   ]
  }
 ],
 "metadata": {
  "kernelspec": {
   "display_name": "Python 3",
   "language": "python",
   "name": "python3"
  },
  "language_info": {
   "codemirror_mode": {
    "name": "ipython",
    "version": 3
   },
   "file_extension": ".py",
   "mimetype": "text/x-python",
   "name": "python",
   "nbconvert_exporter": "python",
   "pygments_lexer": "ipython3",
   "version": "3.7.10"
  },
  "papermill": {
   "default_parameters": {},
   "duration": 5427.902822,
   "end_time": "2021-06-18T05:47:43.358312",
   "environment_variables": {},
   "exception": null,
   "input_path": "__notebook__.ipynb",
   "output_path": "__notebook__.ipynb",
   "parameters": {},
   "start_time": "2021-06-18T04:17:15.455490",
   "version": "2.3.3"
  },
  "widgets": {
   "application/vnd.jupyter.widget-state+json": {
    "state": {
     "02f6457ca015480f99b428bba49d6e91": {
      "model_module": "@jupyter-widgets/base",
      "model_module_version": "1.2.0",
      "model_name": "LayoutModel",
      "state": {
       "_model_module": "@jupyter-widgets/base",
       "_model_module_version": "1.2.0",
       "_model_name": "LayoutModel",
       "_view_count": null,
       "_view_module": "@jupyter-widgets/base",
       "_view_module_version": "1.2.0",
       "_view_name": "LayoutView",
       "align_content": null,
       "align_items": null,
       "align_self": null,
       "border": null,
       "bottom": null,
       "display": null,
       "flex": null,
       "flex_flow": null,
       "grid_area": null,
       "grid_auto_columns": null,
       "grid_auto_flow": null,
       "grid_auto_rows": null,
       "grid_column": null,
       "grid_gap": null,
       "grid_row": null,
       "grid_template_areas": null,
       "grid_template_columns": null,
       "grid_template_rows": null,
       "height": null,
       "justify_content": null,
       "justify_items": null,
       "left": null,
       "margin": null,
       "max_height": null,
       "max_width": null,
       "min_height": null,
       "min_width": null,
       "object_fit": null,
       "object_position": null,
       "order": null,
       "overflow": null,
       "overflow_x": null,
       "overflow_y": null,
       "padding": null,
       "right": null,
       "top": null,
       "visibility": null,
       "width": null
      }
     },
     "075462f2000e483a9faa8b4c98e6a7b4": {
      "model_module": "@jupyter-widgets/controls",
      "model_module_version": "1.5.0",
      "model_name": "HTMLModel",
      "state": {
       "_dom_classes": [],
       "_model_module": "@jupyter-widgets/controls",
       "_model_module_version": "1.5.0",
       "_model_name": "HTMLModel",
       "_view_count": null,
       "_view_module": "@jupyter-widgets/controls",
       "_view_module_version": "1.5.0",
       "_view_name": "HTMLView",
       "description": "",
       "description_tooltip": null,
       "layout": "IPY_MODEL_4f9692439d654bfe8b533dbc3721edc1",
       "placeholder": "​",
       "style": "IPY_MODEL_53e42035f4ab41738c8b26f783b9b001",
       "value": " 330361/330361 [00:15&lt;00:00, 18479.06it/s]"
      }
     },
     "0e71d26bc3624f83b59d2dcd469371ae": {
      "model_module": "@jupyter-widgets/base",
      "model_module_version": "1.2.0",
      "model_name": "LayoutModel",
      "state": {
       "_model_module": "@jupyter-widgets/base",
       "_model_module_version": "1.2.0",
       "_model_name": "LayoutModel",
       "_view_count": null,
       "_view_module": "@jupyter-widgets/base",
       "_view_module_version": "1.2.0",
       "_view_name": "LayoutView",
       "align_content": null,
       "align_items": null,
       "align_self": null,
       "border": null,
       "bottom": null,
       "display": null,
       "flex": null,
       "flex_flow": null,
       "grid_area": null,
       "grid_auto_columns": null,
       "grid_auto_flow": null,
       "grid_auto_rows": null,
       "grid_column": null,
       "grid_gap": null,
       "grid_row": null,
       "grid_template_areas": null,
       "grid_template_columns": null,
       "grid_template_rows": null,
       "height": null,
       "justify_content": null,
       "justify_items": null,
       "left": null,
       "margin": null,
       "max_height": null,
       "max_width": null,
       "min_height": null,
       "min_width": null,
       "object_fit": null,
       "object_position": null,
       "order": null,
       "overflow": null,
       "overflow_x": null,
       "overflow_y": null,
       "padding": null,
       "right": null,
       "top": null,
       "visibility": null,
       "width": null
      }
     },
     "1a7f81b32f3145a0bf7208aa7c0001a3": {
      "model_module": "@jupyter-widgets/base",
      "model_module_version": "1.2.0",
      "model_name": "LayoutModel",
      "state": {
       "_model_module": "@jupyter-widgets/base",
       "_model_module_version": "1.2.0",
       "_model_name": "LayoutModel",
       "_view_count": null,
       "_view_module": "@jupyter-widgets/base",
       "_view_module_version": "1.2.0",
       "_view_name": "LayoutView",
       "align_content": null,
       "align_items": null,
       "align_self": null,
       "border": null,
       "bottom": null,
       "display": null,
       "flex": null,
       "flex_flow": null,
       "grid_area": null,
       "grid_auto_columns": null,
       "grid_auto_flow": null,
       "grid_auto_rows": null,
       "grid_column": null,
       "grid_gap": null,
       "grid_row": null,
       "grid_template_areas": null,
       "grid_template_columns": null,
       "grid_template_rows": null,
       "height": null,
       "justify_content": null,
       "justify_items": null,
       "left": null,
       "margin": null,
       "max_height": null,
       "max_width": null,
       "min_height": null,
       "min_width": null,
       "object_fit": null,
       "object_position": null,
       "order": null,
       "overflow": null,
       "overflow_x": null,
       "overflow_y": null,
       "padding": null,
       "right": null,
       "top": null,
       "visibility": null,
       "width": null
      }
     },
     "2347cc49fd9f4fc99894fc262aaf467a": {
      "model_module": "@jupyter-widgets/controls",
      "model_module_version": "1.5.0",
      "model_name": "HBoxModel",
      "state": {
       "_dom_classes": [],
       "_model_module": "@jupyter-widgets/controls",
       "_model_module_version": "1.5.0",
       "_model_name": "HBoxModel",
       "_view_count": null,
       "_view_module": "@jupyter-widgets/controls",
       "_view_module_version": "1.5.0",
       "_view_name": "HBoxView",
       "box_style": "",
       "children": [
        "IPY_MODEL_36e744fbe1e14803a169bf4f28c175f7",
        "IPY_MODEL_cc34bbef6b6b4fd49b1e97c1ad594699",
        "IPY_MODEL_075462f2000e483a9faa8b4c98e6a7b4"
       ],
       "layout": "IPY_MODEL_8ff251b25eb74ec0828798f309e78c09"
      }
     },
     "2badf6a16f674033b1098251689f3754": {
      "model_module": "@jupyter-widgets/controls",
      "model_module_version": "1.5.0",
      "model_name": "HBoxModel",
      "state": {
       "_dom_classes": [],
       "_model_module": "@jupyter-widgets/controls",
       "_model_module_version": "1.5.0",
       "_model_name": "HBoxModel",
       "_view_count": null,
       "_view_module": "@jupyter-widgets/controls",
       "_view_module_version": "1.5.0",
       "_view_name": "HBoxView",
       "box_style": "",
       "children": [
        "IPY_MODEL_6fd199be242045a68df30b3b414e42f0",
        "IPY_MODEL_4719bb1867d546dfa08ff4d8ec4dc7fe",
        "IPY_MODEL_bb513f30cb22486fa3e49ed593d162eb"
       ],
       "layout": "IPY_MODEL_d852312442fb4eb592d1798ff0869934"
      }
     },
     "2bb548fd116e4f3bb469b608c6c6faa0": {
      "model_module": "@jupyter-widgets/base",
      "model_module_version": "1.2.0",
      "model_name": "LayoutModel",
      "state": {
       "_model_module": "@jupyter-widgets/base",
       "_model_module_version": "1.2.0",
       "_model_name": "LayoutModel",
       "_view_count": null,
       "_view_module": "@jupyter-widgets/base",
       "_view_module_version": "1.2.0",
       "_view_name": "LayoutView",
       "align_content": null,
       "align_items": null,
       "align_self": null,
       "border": null,
       "bottom": null,
       "display": null,
       "flex": null,
       "flex_flow": null,
       "grid_area": null,
       "grid_auto_columns": null,
       "grid_auto_flow": null,
       "grid_auto_rows": null,
       "grid_column": null,
       "grid_gap": null,
       "grid_row": null,
       "grid_template_areas": null,
       "grid_template_columns": null,
       "grid_template_rows": null,
       "height": null,
       "justify_content": null,
       "justify_items": null,
       "left": null,
       "margin": null,
       "max_height": null,
       "max_width": null,
       "min_height": null,
       "min_width": null,
       "object_fit": null,
       "object_position": null,
       "order": null,
       "overflow": null,
       "overflow_x": null,
       "overflow_y": null,
       "padding": null,
       "right": null,
       "top": null,
       "visibility": null,
       "width": null
      }
     },
     "2dcca32cfcad4598a898c8ef1f3536ac": {
      "model_module": "@jupyter-widgets/base",
      "model_module_version": "1.2.0",
      "model_name": "LayoutModel",
      "state": {
       "_model_module": "@jupyter-widgets/base",
       "_model_module_version": "1.2.0",
       "_model_name": "LayoutModel",
       "_view_count": null,
       "_view_module": "@jupyter-widgets/base",
       "_view_module_version": "1.2.0",
       "_view_name": "LayoutView",
       "align_content": null,
       "align_items": null,
       "align_self": null,
       "border": null,
       "bottom": null,
       "display": null,
       "flex": null,
       "flex_flow": null,
       "grid_area": null,
       "grid_auto_columns": null,
       "grid_auto_flow": null,
       "grid_auto_rows": null,
       "grid_column": null,
       "grid_gap": null,
       "grid_row": null,
       "grid_template_areas": null,
       "grid_template_columns": null,
       "grid_template_rows": null,
       "height": null,
       "justify_content": null,
       "justify_items": null,
       "left": null,
       "margin": null,
       "max_height": null,
       "max_width": null,
       "min_height": null,
       "min_width": null,
       "object_fit": null,
       "object_position": null,
       "order": null,
       "overflow": null,
       "overflow_x": null,
       "overflow_y": null,
       "padding": null,
       "right": null,
       "top": null,
       "visibility": null,
       "width": null
      }
     },
     "2f844f7fd5d14714a1b489448d471800": {
      "model_module": "@jupyter-widgets/base",
      "model_module_version": "1.2.0",
      "model_name": "LayoutModel",
      "state": {
       "_model_module": "@jupyter-widgets/base",
       "_model_module_version": "1.2.0",
       "_model_name": "LayoutModel",
       "_view_count": null,
       "_view_module": "@jupyter-widgets/base",
       "_view_module_version": "1.2.0",
       "_view_name": "LayoutView",
       "align_content": null,
       "align_items": null,
       "align_self": null,
       "border": null,
       "bottom": null,
       "display": null,
       "flex": null,
       "flex_flow": null,
       "grid_area": null,
       "grid_auto_columns": null,
       "grid_auto_flow": null,
       "grid_auto_rows": null,
       "grid_column": null,
       "grid_gap": null,
       "grid_row": null,
       "grid_template_areas": null,
       "grid_template_columns": null,
       "grid_template_rows": null,
       "height": null,
       "justify_content": null,
       "justify_items": null,
       "left": null,
       "margin": null,
       "max_height": null,
       "max_width": null,
       "min_height": null,
       "min_width": null,
       "object_fit": null,
       "object_position": null,
       "order": null,
       "overflow": null,
       "overflow_x": null,
       "overflow_y": null,
       "padding": null,
       "right": null,
       "top": null,
       "visibility": null,
       "width": null
      }
     },
     "3117e9fed06c4c74ad4cb05feba5e738": {
      "model_module": "@jupyter-widgets/base",
      "model_module_version": "1.2.0",
      "model_name": "LayoutModel",
      "state": {
       "_model_module": "@jupyter-widgets/base",
       "_model_module_version": "1.2.0",
       "_model_name": "LayoutModel",
       "_view_count": null,
       "_view_module": "@jupyter-widgets/base",
       "_view_module_version": "1.2.0",
       "_view_name": "LayoutView",
       "align_content": null,
       "align_items": null,
       "align_self": null,
       "border": null,
       "bottom": null,
       "display": null,
       "flex": null,
       "flex_flow": null,
       "grid_area": null,
       "grid_auto_columns": null,
       "grid_auto_flow": null,
       "grid_auto_rows": null,
       "grid_column": null,
       "grid_gap": null,
       "grid_row": null,
       "grid_template_areas": null,
       "grid_template_columns": null,
       "grid_template_rows": null,
       "height": null,
       "justify_content": null,
       "justify_items": null,
       "left": null,
       "margin": null,
       "max_height": null,
       "max_width": null,
       "min_height": null,
       "min_width": null,
       "object_fit": null,
       "object_position": null,
       "order": null,
       "overflow": null,
       "overflow_x": null,
       "overflow_y": null,
       "padding": null,
       "right": null,
       "top": null,
       "visibility": null,
       "width": null
      }
     },
     "36e744fbe1e14803a169bf4f28c175f7": {
      "model_module": "@jupyter-widgets/controls",
      "model_module_version": "1.5.0",
      "model_name": "HTMLModel",
      "state": {
       "_dom_classes": [],
       "_model_module": "@jupyter-widgets/controls",
       "_model_module_version": "1.5.0",
       "_model_name": "HTMLModel",
       "_view_count": null,
       "_view_module": "@jupyter-widgets/controls",
       "_view_module_version": "1.5.0",
       "_view_name": "HTMLView",
       "description": "",
       "description_tooltip": null,
       "layout": "IPY_MODEL_be66a319621a46558ae2ce4cdee6ec77",
       "placeholder": "​",
       "style": "IPY_MODEL_746039fd0f9b441e9cc5026337523378",
       "value": "100%"
      }
     },
     "4719bb1867d546dfa08ff4d8ec4dc7fe": {
      "model_module": "@jupyter-widgets/controls",
      "model_module_version": "1.5.0",
      "model_name": "FloatProgressModel",
      "state": {
       "_dom_classes": [],
       "_model_module": "@jupyter-widgets/controls",
       "_model_module_version": "1.5.0",
       "_model_name": "FloatProgressModel",
       "_view_count": null,
       "_view_module": "@jupyter-widgets/controls",
       "_view_module_version": "1.5.0",
       "_view_name": "ProgressView",
       "bar_style": "success",
       "description": "",
       "description_tooltip": null,
       "layout": "IPY_MODEL_712ffb2a3c90405e93e27e46e77cc199",
       "max": 940407.0,
       "min": 0.0,
       "orientation": "horizontal",
       "style": "IPY_MODEL_5edc80eaba1c493d98bb73f1ebfa3482",
       "value": 940407.0
      }
     },
     "4ca1fe37891942dfb3dc789c86d3d579": {
      "model_module": "@jupyter-widgets/controls",
      "model_module_version": "1.5.0",
      "model_name": "DescriptionStyleModel",
      "state": {
       "_model_module": "@jupyter-widgets/controls",
       "_model_module_version": "1.5.0",
       "_model_name": "DescriptionStyleModel",
       "_view_count": null,
       "_view_module": "@jupyter-widgets/base",
       "_view_module_version": "1.2.0",
       "_view_name": "StyleView",
       "description_width": ""
      }
     },
     "4f9692439d654bfe8b533dbc3721edc1": {
      "model_module": "@jupyter-widgets/base",
      "model_module_version": "1.2.0",
      "model_name": "LayoutModel",
      "state": {
       "_model_module": "@jupyter-widgets/base",
       "_model_module_version": "1.2.0",
       "_model_name": "LayoutModel",
       "_view_count": null,
       "_view_module": "@jupyter-widgets/base",
       "_view_module_version": "1.2.0",
       "_view_name": "LayoutView",
       "align_content": null,
       "align_items": null,
       "align_self": null,
       "border": null,
       "bottom": null,
       "display": null,
       "flex": null,
       "flex_flow": null,
       "grid_area": null,
       "grid_auto_columns": null,
       "grid_auto_flow": null,
       "grid_auto_rows": null,
       "grid_column": null,
       "grid_gap": null,
       "grid_row": null,
       "grid_template_areas": null,
       "grid_template_columns": null,
       "grid_template_rows": null,
       "height": null,
       "justify_content": null,
       "justify_items": null,
       "left": null,
       "margin": null,
       "max_height": null,
       "max_width": null,
       "min_height": null,
       "min_width": null,
       "object_fit": null,
       "object_position": null,
       "order": null,
       "overflow": null,
       "overflow_x": null,
       "overflow_y": null,
       "padding": null,
       "right": null,
       "top": null,
       "visibility": null,
       "width": null
      }
     },
     "50d7c2fd8e7d4587ad9f4060a99df8c8": {
      "model_module": "@jupyter-widgets/controls",
      "model_module_version": "1.5.0",
      "model_name": "DescriptionStyleModel",
      "state": {
       "_model_module": "@jupyter-widgets/controls",
       "_model_module_version": "1.5.0",
       "_model_name": "DescriptionStyleModel",
       "_view_count": null,
       "_view_module": "@jupyter-widgets/base",
       "_view_module_version": "1.2.0",
       "_view_name": "StyleView",
       "description_width": ""
      }
     },
     "53e42035f4ab41738c8b26f783b9b001": {
      "model_module": "@jupyter-widgets/controls",
      "model_module_version": "1.5.0",
      "model_name": "DescriptionStyleModel",
      "state": {
       "_model_module": "@jupyter-widgets/controls",
       "_model_module_version": "1.5.0",
       "_model_name": "DescriptionStyleModel",
       "_view_count": null,
       "_view_module": "@jupyter-widgets/base",
       "_view_module_version": "1.2.0",
       "_view_name": "StyleView",
       "description_width": ""
      }
     },
     "5478f131bbbb41419f402a3e3177aaf9": {
      "model_module": "@jupyter-widgets/controls",
      "model_module_version": "1.5.0",
      "model_name": "FloatProgressModel",
      "state": {
       "_dom_classes": [],
       "_model_module": "@jupyter-widgets/controls",
       "_model_module_version": "1.5.0",
       "_model_name": "FloatProgressModel",
       "_view_count": null,
       "_view_module": "@jupyter-widgets/controls",
       "_view_module_version": "1.5.0",
       "_view_name": "ProgressView",
       "bar_style": "success",
       "description": "",
       "description_tooltip": null,
       "layout": "IPY_MODEL_d3a524848def4e59a6623ecc80af66a2",
       "max": 235102.0,
       "min": 0.0,
       "orientation": "horizontal",
       "style": "IPY_MODEL_b514561c040744879a3e7e8d92eae631",
       "value": 235102.0
      }
     },
     "579877e8c54d4473898bc422ed541b39": {
      "model_module": "@jupyter-widgets/controls",
      "model_module_version": "1.5.0",
      "model_name": "DescriptionStyleModel",
      "state": {
       "_model_module": "@jupyter-widgets/controls",
       "_model_module_version": "1.5.0",
       "_model_name": "DescriptionStyleModel",
       "_view_count": null,
       "_view_module": "@jupyter-widgets/base",
       "_view_module_version": "1.2.0",
       "_view_name": "StyleView",
       "description_width": ""
      }
     },
     "59a7b42881ee4fcba2b948d2d07de9fb": {
      "model_module": "@jupyter-widgets/controls",
      "model_module_version": "1.5.0",
      "model_name": "HTMLModel",
      "state": {
       "_dom_classes": [],
       "_model_module": "@jupyter-widgets/controls",
       "_model_module_version": "1.5.0",
       "_model_name": "HTMLModel",
       "_view_count": null,
       "_view_module": "@jupyter-widgets/controls",
       "_view_module_version": "1.5.0",
       "_view_name": "HTMLView",
       "description": "",
       "description_tooltip": null,
       "layout": "IPY_MODEL_de9d636e9e2a4a5ba3cccc81a56933bb",
       "placeholder": "​",
       "style": "IPY_MODEL_d67c6fa368b44e36877ab64191fb8a38",
       "value": " 375806/375806 [00:03&lt;00:00, 104597.62it/s]"
      }
     },
     "5edc80eaba1c493d98bb73f1ebfa3482": {
      "model_module": "@jupyter-widgets/controls",
      "model_module_version": "1.5.0",
      "model_name": "ProgressStyleModel",
      "state": {
       "_model_module": "@jupyter-widgets/controls",
       "_model_module_version": "1.5.0",
       "_model_name": "ProgressStyleModel",
       "_view_count": null,
       "_view_module": "@jupyter-widgets/base",
       "_view_module_version": "1.2.0",
       "_view_name": "StyleView",
       "bar_color": null,
       "description_width": ""
      }
     },
     "696eb5854e7a43b8a732d7b2e7c360bb": {
      "model_module": "@jupyter-widgets/controls",
      "model_module_version": "1.5.0",
      "model_name": "DescriptionStyleModel",
      "state": {
       "_model_module": "@jupyter-widgets/controls",
       "_model_module_version": "1.5.0",
       "_model_name": "DescriptionStyleModel",
       "_view_count": null,
       "_view_module": "@jupyter-widgets/base",
       "_view_module_version": "1.2.0",
       "_view_name": "StyleView",
       "description_width": ""
      }
     },
     "6b75ff80d23644eda73bd3db2f6970f2": {
      "model_module": "@jupyter-widgets/controls",
      "model_module_version": "1.5.0",
      "model_name": "HTMLModel",
      "state": {
       "_dom_classes": [],
       "_model_module": "@jupyter-widgets/controls",
       "_model_module_version": "1.5.0",
       "_model_name": "HTMLModel",
       "_view_count": null,
       "_view_module": "@jupyter-widgets/controls",
       "_view_module_version": "1.5.0",
       "_view_name": "HTMLView",
       "description": "",
       "description_tooltip": null,
       "layout": "IPY_MODEL_2bb548fd116e4f3bb469b608c6c6faa0",
       "placeholder": "​",
       "style": "IPY_MODEL_f71a80f70a6a4ee8bab99376adce6f2e",
       "value": " 330361/330361 [00:12&lt;00:00, 19223.77it/s]"
      }
     },
     "6f1a3bfd196f4913852a3b2a77d1bdbc": {
      "model_module": "@jupyter-widgets/controls",
      "model_module_version": "1.5.0",
      "model_name": "DescriptionStyleModel",
      "state": {
       "_model_module": "@jupyter-widgets/controls",
       "_model_module_version": "1.5.0",
       "_model_name": "DescriptionStyleModel",
       "_view_count": null,
       "_view_module": "@jupyter-widgets/base",
       "_view_module_version": "1.2.0",
       "_view_name": "StyleView",
       "description_width": ""
      }
     },
     "6fd199be242045a68df30b3b414e42f0": {
      "model_module": "@jupyter-widgets/controls",
      "model_module_version": "1.5.0",
      "model_name": "HTMLModel",
      "state": {
       "_dom_classes": [],
       "_model_module": "@jupyter-widgets/controls",
       "_model_module_version": "1.5.0",
       "_model_name": "HTMLModel",
       "_view_count": null,
       "_view_module": "@jupyter-widgets/controls",
       "_view_module_version": "1.5.0",
       "_view_name": "HTMLView",
       "description": "",
       "description_tooltip": null,
       "layout": "IPY_MODEL_2dcca32cfcad4598a898c8ef1f3536ac",
       "placeholder": "​",
       "style": "IPY_MODEL_4ca1fe37891942dfb3dc789c86d3d579",
       "value": "100%"
      }
     },
     "70d756da80b3474bb73f81d2e2f1fb5c": {
      "model_module": "@jupyter-widgets/controls",
      "model_module_version": "1.5.0",
      "model_name": "HTMLModel",
      "state": {
       "_dom_classes": [],
       "_model_module": "@jupyter-widgets/controls",
       "_model_module_version": "1.5.0",
       "_model_name": "HTMLModel",
       "_view_count": null,
       "_view_module": "@jupyter-widgets/controls",
       "_view_module_version": "1.5.0",
       "_view_name": "HTMLView",
       "description": "",
       "description_tooltip": null,
       "layout": "IPY_MODEL_02f6457ca015480f99b428bba49d6e91",
       "placeholder": "​",
       "style": "IPY_MODEL_579877e8c54d4473898bc422ed541b39",
       "value": "100%"
      }
     },
     "712ffb2a3c90405e93e27e46e77cc199": {
      "model_module": "@jupyter-widgets/base",
      "model_module_version": "1.2.0",
      "model_name": "LayoutModel",
      "state": {
       "_model_module": "@jupyter-widgets/base",
       "_model_module_version": "1.2.0",
       "_model_name": "LayoutModel",
       "_view_count": null,
       "_view_module": "@jupyter-widgets/base",
       "_view_module_version": "1.2.0",
       "_view_name": "LayoutView",
       "align_content": null,
       "align_items": null,
       "align_self": null,
       "border": null,
       "bottom": null,
       "display": null,
       "flex": null,
       "flex_flow": null,
       "grid_area": null,
       "grid_auto_columns": null,
       "grid_auto_flow": null,
       "grid_auto_rows": null,
       "grid_column": null,
       "grid_gap": null,
       "grid_row": null,
       "grid_template_areas": null,
       "grid_template_columns": null,
       "grid_template_rows": null,
       "height": null,
       "justify_content": null,
       "justify_items": null,
       "left": null,
       "margin": null,
       "max_height": null,
       "max_width": null,
       "min_height": null,
       "min_width": null,
       "object_fit": null,
       "object_position": null,
       "order": null,
       "overflow": null,
       "overflow_x": null,
       "overflow_y": null,
       "padding": null,
       "right": null,
       "top": null,
       "visibility": null,
       "width": null
      }
     },
     "746039fd0f9b441e9cc5026337523378": {
      "model_module": "@jupyter-widgets/controls",
      "model_module_version": "1.5.0",
      "model_name": "DescriptionStyleModel",
      "state": {
       "_model_module": "@jupyter-widgets/controls",
       "_model_module_version": "1.5.0",
       "_model_name": "DescriptionStyleModel",
       "_view_count": null,
       "_view_module": "@jupyter-widgets/base",
       "_view_module_version": "1.2.0",
       "_view_name": "StyleView",
       "description_width": ""
      }
     },
     "77bfa74d6c2f4452b5f9e6a6bba2e5bf": {
      "model_module": "@jupyter-widgets/controls",
      "model_module_version": "1.5.0",
      "model_name": "FloatProgressModel",
      "state": {
       "_dom_classes": [],
       "_model_module": "@jupyter-widgets/controls",
       "_model_module_version": "1.5.0",
       "_model_name": "FloatProgressModel",
       "_view_count": null,
       "_view_module": "@jupyter-widgets/controls",
       "_view_module_version": "1.5.0",
       "_view_name": "ProgressView",
       "bar_style": "success",
       "description": "",
       "description_tooltip": null,
       "layout": "IPY_MODEL_865801b1e7bf452e83a46a80931b8cb7",
       "max": 330361.0,
       "min": 0.0,
       "orientation": "horizontal",
       "style": "IPY_MODEL_f46dc16375bc482fb79429b458631370",
       "value": 330361.0
      }
     },
     "865801b1e7bf452e83a46a80931b8cb7": {
      "model_module": "@jupyter-widgets/base",
      "model_module_version": "1.2.0",
      "model_name": "LayoutModel",
      "state": {
       "_model_module": "@jupyter-widgets/base",
       "_model_module_version": "1.2.0",
       "_model_name": "LayoutModel",
       "_view_count": null,
       "_view_module": "@jupyter-widgets/base",
       "_view_module_version": "1.2.0",
       "_view_name": "LayoutView",
       "align_content": null,
       "align_items": null,
       "align_self": null,
       "border": null,
       "bottom": null,
       "display": null,
       "flex": null,
       "flex_flow": null,
       "grid_area": null,
       "grid_auto_columns": null,
       "grid_auto_flow": null,
       "grid_auto_rows": null,
       "grid_column": null,
       "grid_gap": null,
       "grid_row": null,
       "grid_template_areas": null,
       "grid_template_columns": null,
       "grid_template_rows": null,
       "height": null,
       "justify_content": null,
       "justify_items": null,
       "left": null,
       "margin": null,
       "max_height": null,
       "max_width": null,
       "min_height": null,
       "min_width": null,
       "object_fit": null,
       "object_position": null,
       "order": null,
       "overflow": null,
       "overflow_x": null,
       "overflow_y": null,
       "padding": null,
       "right": null,
       "top": null,
       "visibility": null,
       "width": null
      }
     },
     "8ff251b25eb74ec0828798f309e78c09": {
      "model_module": "@jupyter-widgets/base",
      "model_module_version": "1.2.0",
      "model_name": "LayoutModel",
      "state": {
       "_model_module": "@jupyter-widgets/base",
       "_model_module_version": "1.2.0",
       "_model_name": "LayoutModel",
       "_view_count": null,
       "_view_module": "@jupyter-widgets/base",
       "_view_module_version": "1.2.0",
       "_view_name": "LayoutView",
       "align_content": null,
       "align_items": null,
       "align_self": null,
       "border": null,
       "bottom": null,
       "display": null,
       "flex": null,
       "flex_flow": null,
       "grid_area": null,
       "grid_auto_columns": null,
       "grid_auto_flow": null,
       "grid_auto_rows": null,
       "grid_column": null,
       "grid_gap": null,
       "grid_row": null,
       "grid_template_areas": null,
       "grid_template_columns": null,
       "grid_template_rows": null,
       "height": null,
       "justify_content": null,
       "justify_items": null,
       "left": null,
       "margin": null,
       "max_height": null,
       "max_width": null,
       "min_height": null,
       "min_width": null,
       "object_fit": null,
       "object_position": null,
       "order": null,
       "overflow": null,
       "overflow_x": null,
       "overflow_y": null,
       "padding": null,
       "right": null,
       "top": null,
       "visibility": null,
       "width": null
      }
     },
     "91e036e99512436f8474f8f4d777e198": {
      "model_module": "@jupyter-widgets/controls",
      "model_module_version": "1.5.0",
      "model_name": "HTMLModel",
      "state": {
       "_dom_classes": [],
       "_model_module": "@jupyter-widgets/controls",
       "_model_module_version": "1.5.0",
       "_model_name": "HTMLModel",
       "_view_count": null,
       "_view_module": "@jupyter-widgets/controls",
       "_view_module_version": "1.5.0",
       "_view_name": "HTMLView",
       "description": "",
       "description_tooltip": null,
       "layout": "IPY_MODEL_cea74f948cf542b29a6809f3d08958b5",
       "placeholder": "​",
       "style": "IPY_MODEL_50d7c2fd8e7d4587ad9f4060a99df8c8",
       "value": " 235102/235102 [00:02&lt;00:00, 101277.92it/s]"
      }
     },
     "93bf068052f04c00a50bd6f7cecc3d81": {
      "model_module": "@jupyter-widgets/controls",
      "model_module_version": "1.5.0",
      "model_name": "FloatProgressModel",
      "state": {
       "_dom_classes": [],
       "_model_module": "@jupyter-widgets/controls",
       "_model_module_version": "1.5.0",
       "_model_name": "FloatProgressModel",
       "_view_count": null,
       "_view_module": "@jupyter-widgets/controls",
       "_view_module_version": "1.5.0",
       "_view_name": "ProgressView",
       "bar_style": "success",
       "description": "",
       "description_tooltip": null,
       "layout": "IPY_MODEL_0e71d26bc3624f83b59d2dcd469371ae",
       "max": 375806.0,
       "min": 0.0,
       "orientation": "horizontal",
       "style": "IPY_MODEL_f9d58b5a1b3f4f0085c32f842f401ab6",
       "value": 375806.0
      }
     },
     "954f4a259caa464db8c9d08aaaaaf3c6": {
      "model_module": "@jupyter-widgets/controls",
      "model_module_version": "1.5.0",
      "model_name": "DescriptionStyleModel",
      "state": {
       "_model_module": "@jupyter-widgets/controls",
       "_model_module_version": "1.5.0",
       "_model_name": "DescriptionStyleModel",
       "_view_count": null,
       "_view_module": "@jupyter-widgets/base",
       "_view_module_version": "1.2.0",
       "_view_name": "StyleView",
       "description_width": ""
      }
     },
     "9b3850d232de4928ab0194d9e5df3403": {
      "model_module": "@jupyter-widgets/base",
      "model_module_version": "1.2.0",
      "model_name": "LayoutModel",
      "state": {
       "_model_module": "@jupyter-widgets/base",
       "_model_module_version": "1.2.0",
       "_model_name": "LayoutModel",
       "_view_count": null,
       "_view_module": "@jupyter-widgets/base",
       "_view_module_version": "1.2.0",
       "_view_name": "LayoutView",
       "align_content": null,
       "align_items": null,
       "align_self": null,
       "border": null,
       "bottom": null,
       "display": null,
       "flex": null,
       "flex_flow": null,
       "grid_area": null,
       "grid_auto_columns": null,
       "grid_auto_flow": null,
       "grid_auto_rows": null,
       "grid_column": null,
       "grid_gap": null,
       "grid_row": null,
       "grid_template_areas": null,
       "grid_template_columns": null,
       "grid_template_rows": null,
       "height": null,
       "justify_content": null,
       "justify_items": null,
       "left": null,
       "margin": null,
       "max_height": null,
       "max_width": null,
       "min_height": null,
       "min_width": null,
       "object_fit": null,
       "object_position": null,
       "order": null,
       "overflow": null,
       "overflow_x": null,
       "overflow_y": null,
       "padding": null,
       "right": null,
       "top": null,
       "visibility": null,
       "width": null
      }
     },
     "a2a86ff14df045a0b404f2791a2b020c": {
      "model_module": "@jupyter-widgets/controls",
      "model_module_version": "1.5.0",
      "model_name": "HBoxModel",
      "state": {
       "_dom_classes": [],
       "_model_module": "@jupyter-widgets/controls",
       "_model_module_version": "1.5.0",
       "_model_name": "HBoxModel",
       "_view_count": null,
       "_view_module": "@jupyter-widgets/controls",
       "_view_module_version": "1.5.0",
       "_view_name": "HBoxView",
       "box_style": "",
       "children": [
        "IPY_MODEL_70d756da80b3474bb73f81d2e2f1fb5c",
        "IPY_MODEL_93bf068052f04c00a50bd6f7cecc3d81",
        "IPY_MODEL_59a7b42881ee4fcba2b948d2d07de9fb"
       ],
       "layout": "IPY_MODEL_f6068e515e334c7fa421ad73130c16c4"
      }
     },
     "af7b6c830cc44871bf7a0c7255f71c87": {
      "model_module": "@jupyter-widgets/base",
      "model_module_version": "1.2.0",
      "model_name": "LayoutModel",
      "state": {
       "_model_module": "@jupyter-widgets/base",
       "_model_module_version": "1.2.0",
       "_model_name": "LayoutModel",
       "_view_count": null,
       "_view_module": "@jupyter-widgets/base",
       "_view_module_version": "1.2.0",
       "_view_name": "LayoutView",
       "align_content": null,
       "align_items": null,
       "align_self": null,
       "border": null,
       "bottom": null,
       "display": null,
       "flex": null,
       "flex_flow": null,
       "grid_area": null,
       "grid_auto_columns": null,
       "grid_auto_flow": null,
       "grid_auto_rows": null,
       "grid_column": null,
       "grid_gap": null,
       "grid_row": null,
       "grid_template_areas": null,
       "grid_template_columns": null,
       "grid_template_rows": null,
       "height": null,
       "justify_content": null,
       "justify_items": null,
       "left": null,
       "margin": null,
       "max_height": null,
       "max_width": null,
       "min_height": null,
       "min_width": null,
       "object_fit": null,
       "object_position": null,
       "order": null,
       "overflow": null,
       "overflow_x": null,
       "overflow_y": null,
       "padding": null,
       "right": null,
       "top": null,
       "visibility": null,
       "width": null
      }
     },
     "b3b037bfa300498ea26cf191ee0c330d": {
      "model_module": "@jupyter-widgets/controls",
      "model_module_version": "1.5.0",
      "model_name": "HTMLModel",
      "state": {
       "_dom_classes": [],
       "_model_module": "@jupyter-widgets/controls",
       "_model_module_version": "1.5.0",
       "_model_name": "HTMLModel",
       "_view_count": null,
       "_view_module": "@jupyter-widgets/controls",
       "_view_module_version": "1.5.0",
       "_view_name": "HTMLView",
       "description": "",
       "description_tooltip": null,
       "layout": "IPY_MODEL_af7b6c830cc44871bf7a0c7255f71c87",
       "placeholder": "​",
       "style": "IPY_MODEL_954f4a259caa464db8c9d08aaaaaf3c6",
       "value": "100%"
      }
     },
     "b514561c040744879a3e7e8d92eae631": {
      "model_module": "@jupyter-widgets/controls",
      "model_module_version": "1.5.0",
      "model_name": "ProgressStyleModel",
      "state": {
       "_model_module": "@jupyter-widgets/controls",
       "_model_module_version": "1.5.0",
       "_model_name": "ProgressStyleModel",
       "_view_count": null,
       "_view_module": "@jupyter-widgets/base",
       "_view_module_version": "1.2.0",
       "_view_name": "StyleView",
       "bar_color": null,
       "description_width": ""
      }
     },
     "bb513f30cb22486fa3e49ed593d162eb": {
      "model_module": "@jupyter-widgets/controls",
      "model_module_version": "1.5.0",
      "model_name": "HTMLModel",
      "state": {
       "_dom_classes": [],
       "_model_module": "@jupyter-widgets/controls",
       "_model_module_version": "1.5.0",
       "_model_name": "HTMLModel",
       "_view_count": null,
       "_view_module": "@jupyter-widgets/controls",
       "_view_module_version": "1.5.0",
       "_view_name": "HTMLView",
       "description": "",
       "description_tooltip": null,
       "layout": "IPY_MODEL_2f844f7fd5d14714a1b489448d471800",
       "placeholder": "​",
       "style": "IPY_MODEL_696eb5854e7a43b8a732d7b2e7c360bb",
       "value": " 940407/940407 [00:10&lt;00:00, 101727.93it/s]"
      }
     },
     "be66a319621a46558ae2ce4cdee6ec77": {
      "model_module": "@jupyter-widgets/base",
      "model_module_version": "1.2.0",
      "model_name": "LayoutModel",
      "state": {
       "_model_module": "@jupyter-widgets/base",
       "_model_module_version": "1.2.0",
       "_model_name": "LayoutModel",
       "_view_count": null,
       "_view_module": "@jupyter-widgets/base",
       "_view_module_version": "1.2.0",
       "_view_name": "LayoutView",
       "align_content": null,
       "align_items": null,
       "align_self": null,
       "border": null,
       "bottom": null,
       "display": null,
       "flex": null,
       "flex_flow": null,
       "grid_area": null,
       "grid_auto_columns": null,
       "grid_auto_flow": null,
       "grid_auto_rows": null,
       "grid_column": null,
       "grid_gap": null,
       "grid_row": null,
       "grid_template_areas": null,
       "grid_template_columns": null,
       "grid_template_rows": null,
       "height": null,
       "justify_content": null,
       "justify_items": null,
       "left": null,
       "margin": null,
       "max_height": null,
       "max_width": null,
       "min_height": null,
       "min_width": null,
       "object_fit": null,
       "object_position": null,
       "order": null,
       "overflow": null,
       "overflow_x": null,
       "overflow_y": null,
       "padding": null,
       "right": null,
       "top": null,
       "visibility": null,
       "width": null
      }
     },
     "c43897886ec1468181a5218d5119e32a": {
      "model_module": "@jupyter-widgets/controls",
      "model_module_version": "1.5.0",
      "model_name": "HBoxModel",
      "state": {
       "_dom_classes": [],
       "_model_module": "@jupyter-widgets/controls",
       "_model_module_version": "1.5.0",
       "_model_name": "HBoxModel",
       "_view_count": null,
       "_view_module": "@jupyter-widgets/controls",
       "_view_module_version": "1.5.0",
       "_view_name": "HBoxView",
       "box_style": "",
       "children": [
        "IPY_MODEL_b3b037bfa300498ea26cf191ee0c330d",
        "IPY_MODEL_5478f131bbbb41419f402a3e3177aaf9",
        "IPY_MODEL_91e036e99512436f8474f8f4d777e198"
       ],
       "layout": "IPY_MODEL_3117e9fed06c4c74ad4cb05feba5e738"
      }
     },
     "cc34bbef6b6b4fd49b1e97c1ad594699": {
      "model_module": "@jupyter-widgets/controls",
      "model_module_version": "1.5.0",
      "model_name": "FloatProgressModel",
      "state": {
       "_dom_classes": [],
       "_model_module": "@jupyter-widgets/controls",
       "_model_module_version": "1.5.0",
       "_model_name": "FloatProgressModel",
       "_view_count": null,
       "_view_module": "@jupyter-widgets/controls",
       "_view_module_version": "1.5.0",
       "_view_name": "ProgressView",
       "bar_style": "success",
       "description": "",
       "description_tooltip": null,
       "layout": "IPY_MODEL_9b3850d232de4928ab0194d9e5df3403",
       "max": 330361.0,
       "min": 0.0,
       "orientation": "horizontal",
       "style": "IPY_MODEL_dc8fc3d65bfa450bab3ae20703a81826",
       "value": 330361.0
      }
     },
     "ce4e5a27292d448abcd66bc178be25d6": {
      "model_module": "@jupyter-widgets/controls",
      "model_module_version": "1.5.0",
      "model_name": "HBoxModel",
      "state": {
       "_dom_classes": [],
       "_model_module": "@jupyter-widgets/controls",
       "_model_module_version": "1.5.0",
       "_model_name": "HBoxModel",
       "_view_count": null,
       "_view_module": "@jupyter-widgets/controls",
       "_view_module_version": "1.5.0",
       "_view_name": "HBoxView",
       "box_style": "",
       "children": [
        "IPY_MODEL_ecd715170c0c4cfab5805b8b5d344699",
        "IPY_MODEL_77bfa74d6c2f4452b5f9e6a6bba2e5bf",
        "IPY_MODEL_6b75ff80d23644eda73bd3db2f6970f2"
       ],
       "layout": "IPY_MODEL_f3858d2c025e4edcb8bb7aeba5ab9190"
      }
     },
     "cea74f948cf542b29a6809f3d08958b5": {
      "model_module": "@jupyter-widgets/base",
      "model_module_version": "1.2.0",
      "model_name": "LayoutModel",
      "state": {
       "_model_module": "@jupyter-widgets/base",
       "_model_module_version": "1.2.0",
       "_model_name": "LayoutModel",
       "_view_count": null,
       "_view_module": "@jupyter-widgets/base",
       "_view_module_version": "1.2.0",
       "_view_name": "LayoutView",
       "align_content": null,
       "align_items": null,
       "align_self": null,
       "border": null,
       "bottom": null,
       "display": null,
       "flex": null,
       "flex_flow": null,
       "grid_area": null,
       "grid_auto_columns": null,
       "grid_auto_flow": null,
       "grid_auto_rows": null,
       "grid_column": null,
       "grid_gap": null,
       "grid_row": null,
       "grid_template_areas": null,
       "grid_template_columns": null,
       "grid_template_rows": null,
       "height": null,
       "justify_content": null,
       "justify_items": null,
       "left": null,
       "margin": null,
       "max_height": null,
       "max_width": null,
       "min_height": null,
       "min_width": null,
       "object_fit": null,
       "object_position": null,
       "order": null,
       "overflow": null,
       "overflow_x": null,
       "overflow_y": null,
       "padding": null,
       "right": null,
       "top": null,
       "visibility": null,
       "width": null
      }
     },
     "d3a524848def4e59a6623ecc80af66a2": {
      "model_module": "@jupyter-widgets/base",
      "model_module_version": "1.2.0",
      "model_name": "LayoutModel",
      "state": {
       "_model_module": "@jupyter-widgets/base",
       "_model_module_version": "1.2.0",
       "_model_name": "LayoutModel",
       "_view_count": null,
       "_view_module": "@jupyter-widgets/base",
       "_view_module_version": "1.2.0",
       "_view_name": "LayoutView",
       "align_content": null,
       "align_items": null,
       "align_self": null,
       "border": null,
       "bottom": null,
       "display": null,
       "flex": null,
       "flex_flow": null,
       "grid_area": null,
       "grid_auto_columns": null,
       "grid_auto_flow": null,
       "grid_auto_rows": null,
       "grid_column": null,
       "grid_gap": null,
       "grid_row": null,
       "grid_template_areas": null,
       "grid_template_columns": null,
       "grid_template_rows": null,
       "height": null,
       "justify_content": null,
       "justify_items": null,
       "left": null,
       "margin": null,
       "max_height": null,
       "max_width": null,
       "min_height": null,
       "min_width": null,
       "object_fit": null,
       "object_position": null,
       "order": null,
       "overflow": null,
       "overflow_x": null,
       "overflow_y": null,
       "padding": null,
       "right": null,
       "top": null,
       "visibility": null,
       "width": null
      }
     },
     "d67c6fa368b44e36877ab64191fb8a38": {
      "model_module": "@jupyter-widgets/controls",
      "model_module_version": "1.5.0",
      "model_name": "DescriptionStyleModel",
      "state": {
       "_model_module": "@jupyter-widgets/controls",
       "_model_module_version": "1.5.0",
       "_model_name": "DescriptionStyleModel",
       "_view_count": null,
       "_view_module": "@jupyter-widgets/base",
       "_view_module_version": "1.2.0",
       "_view_name": "StyleView",
       "description_width": ""
      }
     },
     "d852312442fb4eb592d1798ff0869934": {
      "model_module": "@jupyter-widgets/base",
      "model_module_version": "1.2.0",
      "model_name": "LayoutModel",
      "state": {
       "_model_module": "@jupyter-widgets/base",
       "_model_module_version": "1.2.0",
       "_model_name": "LayoutModel",
       "_view_count": null,
       "_view_module": "@jupyter-widgets/base",
       "_view_module_version": "1.2.0",
       "_view_name": "LayoutView",
       "align_content": null,
       "align_items": null,
       "align_self": null,
       "border": null,
       "bottom": null,
       "display": null,
       "flex": null,
       "flex_flow": null,
       "grid_area": null,
       "grid_auto_columns": null,
       "grid_auto_flow": null,
       "grid_auto_rows": null,
       "grid_column": null,
       "grid_gap": null,
       "grid_row": null,
       "grid_template_areas": null,
       "grid_template_columns": null,
       "grid_template_rows": null,
       "height": null,
       "justify_content": null,
       "justify_items": null,
       "left": null,
       "margin": null,
       "max_height": null,
       "max_width": null,
       "min_height": null,
       "min_width": null,
       "object_fit": null,
       "object_position": null,
       "order": null,
       "overflow": null,
       "overflow_x": null,
       "overflow_y": null,
       "padding": null,
       "right": null,
       "top": null,
       "visibility": null,
       "width": null
      }
     },
     "dc8fc3d65bfa450bab3ae20703a81826": {
      "model_module": "@jupyter-widgets/controls",
      "model_module_version": "1.5.0",
      "model_name": "ProgressStyleModel",
      "state": {
       "_model_module": "@jupyter-widgets/controls",
       "_model_module_version": "1.5.0",
       "_model_name": "ProgressStyleModel",
       "_view_count": null,
       "_view_module": "@jupyter-widgets/base",
       "_view_module_version": "1.2.0",
       "_view_name": "StyleView",
       "bar_color": null,
       "description_width": ""
      }
     },
     "de9d636e9e2a4a5ba3cccc81a56933bb": {
      "model_module": "@jupyter-widgets/base",
      "model_module_version": "1.2.0",
      "model_name": "LayoutModel",
      "state": {
       "_model_module": "@jupyter-widgets/base",
       "_model_module_version": "1.2.0",
       "_model_name": "LayoutModel",
       "_view_count": null,
       "_view_module": "@jupyter-widgets/base",
       "_view_module_version": "1.2.0",
       "_view_name": "LayoutView",
       "align_content": null,
       "align_items": null,
       "align_self": null,
       "border": null,
       "bottom": null,
       "display": null,
       "flex": null,
       "flex_flow": null,
       "grid_area": null,
       "grid_auto_columns": null,
       "grid_auto_flow": null,
       "grid_auto_rows": null,
       "grid_column": null,
       "grid_gap": null,
       "grid_row": null,
       "grid_template_areas": null,
       "grid_template_columns": null,
       "grid_template_rows": null,
       "height": null,
       "justify_content": null,
       "justify_items": null,
       "left": null,
       "margin": null,
       "max_height": null,
       "max_width": null,
       "min_height": null,
       "min_width": null,
       "object_fit": null,
       "object_position": null,
       "order": null,
       "overflow": null,
       "overflow_x": null,
       "overflow_y": null,
       "padding": null,
       "right": null,
       "top": null,
       "visibility": null,
       "width": null
      }
     },
     "ecd715170c0c4cfab5805b8b5d344699": {
      "model_module": "@jupyter-widgets/controls",
      "model_module_version": "1.5.0",
      "model_name": "HTMLModel",
      "state": {
       "_dom_classes": [],
       "_model_module": "@jupyter-widgets/controls",
       "_model_module_version": "1.5.0",
       "_model_name": "HTMLModel",
       "_view_count": null,
       "_view_module": "@jupyter-widgets/controls",
       "_view_module_version": "1.5.0",
       "_view_name": "HTMLView",
       "description": "",
       "description_tooltip": null,
       "layout": "IPY_MODEL_1a7f81b32f3145a0bf7208aa7c0001a3",
       "placeholder": "​",
       "style": "IPY_MODEL_6f1a3bfd196f4913852a3b2a77d1bdbc",
       "value": "100%"
      }
     },
     "f3858d2c025e4edcb8bb7aeba5ab9190": {
      "model_module": "@jupyter-widgets/base",
      "model_module_version": "1.2.0",
      "model_name": "LayoutModel",
      "state": {
       "_model_module": "@jupyter-widgets/base",
       "_model_module_version": "1.2.0",
       "_model_name": "LayoutModel",
       "_view_count": null,
       "_view_module": "@jupyter-widgets/base",
       "_view_module_version": "1.2.0",
       "_view_name": "LayoutView",
       "align_content": null,
       "align_items": null,
       "align_self": null,
       "border": null,
       "bottom": null,
       "display": null,
       "flex": null,
       "flex_flow": null,
       "grid_area": null,
       "grid_auto_columns": null,
       "grid_auto_flow": null,
       "grid_auto_rows": null,
       "grid_column": null,
       "grid_gap": null,
       "grid_row": null,
       "grid_template_areas": null,
       "grid_template_columns": null,
       "grid_template_rows": null,
       "height": null,
       "justify_content": null,
       "justify_items": null,
       "left": null,
       "margin": null,
       "max_height": null,
       "max_width": null,
       "min_height": null,
       "min_width": null,
       "object_fit": null,
       "object_position": null,
       "order": null,
       "overflow": null,
       "overflow_x": null,
       "overflow_y": null,
       "padding": null,
       "right": null,
       "top": null,
       "visibility": null,
       "width": null
      }
     },
     "f46dc16375bc482fb79429b458631370": {
      "model_module": "@jupyter-widgets/controls",
      "model_module_version": "1.5.0",
      "model_name": "ProgressStyleModel",
      "state": {
       "_model_module": "@jupyter-widgets/controls",
       "_model_module_version": "1.5.0",
       "_model_name": "ProgressStyleModel",
       "_view_count": null,
       "_view_module": "@jupyter-widgets/base",
       "_view_module_version": "1.2.0",
       "_view_name": "StyleView",
       "bar_color": null,
       "description_width": ""
      }
     },
     "f6068e515e334c7fa421ad73130c16c4": {
      "model_module": "@jupyter-widgets/base",
      "model_module_version": "1.2.0",
      "model_name": "LayoutModel",
      "state": {
       "_model_module": "@jupyter-widgets/base",
       "_model_module_version": "1.2.0",
       "_model_name": "LayoutModel",
       "_view_count": null,
       "_view_module": "@jupyter-widgets/base",
       "_view_module_version": "1.2.0",
       "_view_name": "LayoutView",
       "align_content": null,
       "align_items": null,
       "align_self": null,
       "border": null,
       "bottom": null,
       "display": null,
       "flex": null,
       "flex_flow": null,
       "grid_area": null,
       "grid_auto_columns": null,
       "grid_auto_flow": null,
       "grid_auto_rows": null,
       "grid_column": null,
       "grid_gap": null,
       "grid_row": null,
       "grid_template_areas": null,
       "grid_template_columns": null,
       "grid_template_rows": null,
       "height": null,
       "justify_content": null,
       "justify_items": null,
       "left": null,
       "margin": null,
       "max_height": null,
       "max_width": null,
       "min_height": null,
       "min_width": null,
       "object_fit": null,
       "object_position": null,
       "order": null,
       "overflow": null,
       "overflow_x": null,
       "overflow_y": null,
       "padding": null,
       "right": null,
       "top": null,
       "visibility": null,
       "width": null
      }
     },
     "f71a80f70a6a4ee8bab99376adce6f2e": {
      "model_module": "@jupyter-widgets/controls",
      "model_module_version": "1.5.0",
      "model_name": "DescriptionStyleModel",
      "state": {
       "_model_module": "@jupyter-widgets/controls",
       "_model_module_version": "1.5.0",
       "_model_name": "DescriptionStyleModel",
       "_view_count": null,
       "_view_module": "@jupyter-widgets/base",
       "_view_module_version": "1.2.0",
       "_view_name": "StyleView",
       "description_width": ""
      }
     },
     "f9d58b5a1b3f4f0085c32f842f401ab6": {
      "model_module": "@jupyter-widgets/controls",
      "model_module_version": "1.5.0",
      "model_name": "ProgressStyleModel",
      "state": {
       "_model_module": "@jupyter-widgets/controls",
       "_model_module_version": "1.5.0",
       "_model_name": "ProgressStyleModel",
       "_view_count": null,
       "_view_module": "@jupyter-widgets/base",
       "_view_module_version": "1.2.0",
       "_view_name": "StyleView",
       "bar_color": null,
       "description_width": ""
      }
     }
    },
    "version_major": 2,
    "version_minor": 0
   }
  }
 },
 "nbformat": 4,
 "nbformat_minor": 5
}
