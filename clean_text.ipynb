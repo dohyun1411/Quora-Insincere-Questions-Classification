{
  "nbformat": 4,
  "nbformat_minor": 0,
  "metadata": {
    "colab": {
      "name": "clean_text.ipynb",
      "provenance": [],
      "collapsed_sections": [],
      "toc_visible": true,
      "machine_shape": "hm",
      "mount_file_id": "1s2t8_pIheSxdgdgIYo2JCyCN8RexCf1l",
      "authorship_tag": "ABX9TyOvSA/66G4ubUI19fyfMEDl",
      "include_colab_link": true
    },
    "kernelspec": {
      "name": "python3",
      "display_name": "Python 3"
    },
    "language_info": {
      "name": "python"
    },
    "accelerator": "GPU",
    "widgets": {
      "application/vnd.jupyter.widget-state+json": {
        "a1d8497d7dce4db0bba31da3e6b48a0b": {
          "model_module": "@jupyter-widgets/controls",
          "model_name": "HBoxModel",
          "state": {
            "_view_name": "HBoxView",
            "_dom_classes": [],
            "_model_name": "HBoxModel",
            "_view_module": "@jupyter-widgets/controls",
            "_model_module_version": "1.5.0",
            "_view_count": null,
            "_view_module_version": "1.5.0",
            "box_style": "",
            "layout": "IPY_MODEL_751ecc8b2e3f4b2ea555d4606053e1e8",
            "_model_module": "@jupyter-widgets/controls",
            "children": [
              "IPY_MODEL_e354cba84d9e4261a2de0984266c7323",
              "IPY_MODEL_dc75e0a204c9401d98e4bac7f1976d0b"
            ]
          }
        },
        "751ecc8b2e3f4b2ea555d4606053e1e8": {
          "model_module": "@jupyter-widgets/base",
          "model_name": "LayoutModel",
          "state": {
            "_view_name": "LayoutView",
            "grid_template_rows": null,
            "right": null,
            "justify_content": null,
            "_view_module": "@jupyter-widgets/base",
            "overflow": null,
            "_model_module_version": "1.2.0",
            "_view_count": null,
            "flex_flow": null,
            "width": null,
            "min_width": null,
            "border": null,
            "align_items": null,
            "bottom": null,
            "_model_module": "@jupyter-widgets/base",
            "top": null,
            "grid_column": null,
            "overflow_y": null,
            "overflow_x": null,
            "grid_auto_flow": null,
            "grid_area": null,
            "grid_template_columns": null,
            "flex": null,
            "_model_name": "LayoutModel",
            "justify_items": null,
            "grid_row": null,
            "max_height": null,
            "align_content": null,
            "visibility": null,
            "align_self": null,
            "height": null,
            "min_height": null,
            "padding": null,
            "grid_auto_rows": null,
            "grid_gap": null,
            "max_width": null,
            "order": null,
            "_view_module_version": "1.2.0",
            "grid_template_areas": null,
            "object_position": null,
            "object_fit": null,
            "grid_auto_columns": null,
            "margin": null,
            "display": null,
            "left": null
          }
        },
        "e354cba84d9e4261a2de0984266c7323": {
          "model_module": "@jupyter-widgets/controls",
          "model_name": "FloatProgressModel",
          "state": {
            "_view_name": "ProgressView",
            "style": "IPY_MODEL_005aad4101874657b26d343bb913f212",
            "_dom_classes": [],
            "description": "100%",
            "_model_name": "FloatProgressModel",
            "bar_style": "success",
            "max": 1306122,
            "_view_module": "@jupyter-widgets/controls",
            "_model_module_version": "1.5.0",
            "value": 1306122,
            "_view_count": null,
            "_view_module_version": "1.5.0",
            "orientation": "horizontal",
            "min": 0,
            "description_tooltip": null,
            "_model_module": "@jupyter-widgets/controls",
            "layout": "IPY_MODEL_249506f7238942d78bd9a32fb3826390"
          }
        },
        "dc75e0a204c9401d98e4bac7f1976d0b": {
          "model_module": "@jupyter-widgets/controls",
          "model_name": "HTMLModel",
          "state": {
            "_view_name": "HTMLView",
            "style": "IPY_MODEL_a162d193c282471eae3697adf601bfa4",
            "_dom_classes": [],
            "description": "",
            "_model_name": "HTMLModel",
            "placeholder": "​",
            "_view_module": "@jupyter-widgets/controls",
            "_model_module_version": "1.5.0",
            "value": " 1306122/1306122 [00:07&lt;00:00, 173887.35it/s]",
            "_view_count": null,
            "_view_module_version": "1.5.0",
            "description_tooltip": null,
            "_model_module": "@jupyter-widgets/controls",
            "layout": "IPY_MODEL_bea6170b78864716a0df0645fbe6a46d"
          }
        },
        "005aad4101874657b26d343bb913f212": {
          "model_module": "@jupyter-widgets/controls",
          "model_name": "ProgressStyleModel",
          "state": {
            "_view_name": "StyleView",
            "_model_name": "ProgressStyleModel",
            "description_width": "initial",
            "_view_module": "@jupyter-widgets/base",
            "_model_module_version": "1.5.0",
            "_view_count": null,
            "_view_module_version": "1.2.0",
            "bar_color": null,
            "_model_module": "@jupyter-widgets/controls"
          }
        },
        "249506f7238942d78bd9a32fb3826390": {
          "model_module": "@jupyter-widgets/base",
          "model_name": "LayoutModel",
          "state": {
            "_view_name": "LayoutView",
            "grid_template_rows": null,
            "right": null,
            "justify_content": null,
            "_view_module": "@jupyter-widgets/base",
            "overflow": null,
            "_model_module_version": "1.2.0",
            "_view_count": null,
            "flex_flow": null,
            "width": null,
            "min_width": null,
            "border": null,
            "align_items": null,
            "bottom": null,
            "_model_module": "@jupyter-widgets/base",
            "top": null,
            "grid_column": null,
            "overflow_y": null,
            "overflow_x": null,
            "grid_auto_flow": null,
            "grid_area": null,
            "grid_template_columns": null,
            "flex": null,
            "_model_name": "LayoutModel",
            "justify_items": null,
            "grid_row": null,
            "max_height": null,
            "align_content": null,
            "visibility": null,
            "align_self": null,
            "height": null,
            "min_height": null,
            "padding": null,
            "grid_auto_rows": null,
            "grid_gap": null,
            "max_width": null,
            "order": null,
            "_view_module_version": "1.2.0",
            "grid_template_areas": null,
            "object_position": null,
            "object_fit": null,
            "grid_auto_columns": null,
            "margin": null,
            "display": null,
            "left": null
          }
        },
        "a162d193c282471eae3697adf601bfa4": {
          "model_module": "@jupyter-widgets/controls",
          "model_name": "DescriptionStyleModel",
          "state": {
            "_view_name": "StyleView",
            "_model_name": "DescriptionStyleModel",
            "description_width": "",
            "_view_module": "@jupyter-widgets/base",
            "_model_module_version": "1.5.0",
            "_view_count": null,
            "_view_module_version": "1.2.0",
            "_model_module": "@jupyter-widgets/controls"
          }
        },
        "bea6170b78864716a0df0645fbe6a46d": {
          "model_module": "@jupyter-widgets/base",
          "model_name": "LayoutModel",
          "state": {
            "_view_name": "LayoutView",
            "grid_template_rows": null,
            "right": null,
            "justify_content": null,
            "_view_module": "@jupyter-widgets/base",
            "overflow": null,
            "_model_module_version": "1.2.0",
            "_view_count": null,
            "flex_flow": null,
            "width": null,
            "min_width": null,
            "border": null,
            "align_items": null,
            "bottom": null,
            "_model_module": "@jupyter-widgets/base",
            "top": null,
            "grid_column": null,
            "overflow_y": null,
            "overflow_x": null,
            "grid_auto_flow": null,
            "grid_area": null,
            "grid_template_columns": null,
            "flex": null,
            "_model_name": "LayoutModel",
            "justify_items": null,
            "grid_row": null,
            "max_height": null,
            "align_content": null,
            "visibility": null,
            "align_self": null,
            "height": null,
            "min_height": null,
            "padding": null,
            "grid_auto_rows": null,
            "grid_gap": null,
            "max_width": null,
            "order": null,
            "_view_module_version": "1.2.0",
            "grid_template_areas": null,
            "object_position": null,
            "object_fit": null,
            "grid_auto_columns": null,
            "margin": null,
            "display": null,
            "left": null
          }
        }
      }
    }
  },
  "cells": [
    {
      "cell_type": "markdown",
      "metadata": {
        "id": "view-in-github",
        "colab_type": "text"
      },
      "source": [
        "<a href=\"https://colab.research.google.com/github/dohyun1411/Quora-Insincere-Questions-Classification/blob/preprocessing1/clean_text.ipynb\" target=\"_parent\"><img src=\"https://colab.research.google.com/assets/colab-badge.svg\" alt=\"Open In Colab\"/></a>"
      ]
    },
    {
      "cell_type": "markdown",
      "metadata": {
        "id": "kVgHGpiOZt2P"
      },
      "source": [
        "## Clean text\n",
        "\n",
        "reference: https://www.kaggle.com/christofhenkel/how-to-preprocessing-when-using-embeddings#\n",
        "\n",
        "In the reference, he found embeddings(Goolgle News) for 60.43% of vocab and 98.96% of all text.\n",
        "\n",
        "additional reference: https://www.kaggle.com/wowfattie/3rd-place"
      ]
    },
    {
      "cell_type": "code",
      "metadata": {
        "colab": {
          "base_uri": "https://localhost:8080/"
        },
        "id": "jTZ3ZtGzZxNr",
        "outputId": "a7756f4d-72b0-4928-a176-fec70a55c10e"
      },
      "source": [
        "import numpy as np\n",
        "import pandas as pd\n",
        "from tqdm.auto import tqdm\n",
        "tqdm.pandas()\n",
        "\n",
        "import tensorflow as tf"
      ],
      "execution_count": 1,
      "outputs": [
        {
          "output_type": "stream",
          "text": [
            "/usr/local/lib/python3.7/dist-packages/tqdm/std.py:658: FutureWarning: The Panel class is removed from pandas. Accessing it from the top-level namespace will also be removed in the next version\n",
            "  from pandas import Panel\n"
          ],
          "name": "stderr"
        }
      ]
    },
    {
      "cell_type": "markdown",
      "metadata": {
        "id": "ZLLITaVH4U_c"
      },
      "source": [
        "Please change 'input_path' to the path where the input data is."
      ]
    },
    {
      "cell_type": "code",
      "metadata": {
        "id": "ipMq5NSSZxP2"
      },
      "source": [
        "import os\n",
        "\n",
        "# input_path = '/kaggle/input/quora-insincere-questions-classification'\n",
        "input_path = './'\n",
        "train_path = os.path.join(input_path, 'train.csv')\n",
        "test_path = os.path.join(input_path, 'test.csv')\n",
        "embeddings_path = os.path.join(input_path, 'embeddings.zip')"
      ],
      "execution_count": 2,
      "outputs": []
    },
    {
      "cell_type": "code",
      "metadata": {
        "colab": {
          "base_uri": "https://localhost:8080/"
        },
        "id": "YJ6ILbECZxSG",
        "outputId": "27ba66af-0458-4842-e376-82169fc46357"
      },
      "source": [
        "if os.path.exists(train_path): train = pd.read_csv(train_path)\n",
        "else: train = pd.read_csv(train_path + '.zip')\n",
        "\n",
        "if os.path.exists(test_path): test = pd.read_csv(train_path)\n",
        "else: test = pd.read_csv(train_path + '.zip')\n",
        "\n",
        "print('train shape:', train.shape)\n",
        "print(train.head())\n",
        "print()\n",
        "print('test shape:', test.shape)\n",
        "print(test.head())"
      ],
      "execution_count": 3,
      "outputs": [
        {
          "output_type": "stream",
          "text": [
            "train shape: (1306122, 3)\n",
            "                    qid  ... target\n",
            "0  00002165364db923c7e6  ...      0\n",
            "1  000032939017120e6e44  ...      0\n",
            "2  0000412ca6e4628ce2cf  ...      0\n",
            "3  000042bf85aa498cd78e  ...      0\n",
            "4  0000455dfa3e01eae3af  ...      0\n",
            "\n",
            "[5 rows x 3 columns]\n",
            "\n",
            "test shape: (1306122, 3)\n",
            "                    qid  ... target\n",
            "0  00002165364db923c7e6  ...      0\n",
            "1  000032939017120e6e44  ...      0\n",
            "2  0000412ca6e4628ce2cf  ...      0\n",
            "3  000042bf85aa498cd78e  ...      0\n",
            "4  0000455dfa3e01eae3af  ...      0\n",
            "\n",
            "[5 rows x 3 columns]\n"
          ],
          "name": "stdout"
        }
      ]
    },
    {
      "cell_type": "code",
      "metadata": {
        "id": "dMiI9uY7eHGN"
      },
      "source": [
        "train_text = train['question_text']\n",
        "test_text = test['question_text']"
      ],
      "execution_count": 4,
      "outputs": []
    },
    {
      "cell_type": "code",
      "metadata": {
        "id": "DPg9B-CFdgco"
      },
      "source": [
        "from collections import defaultdict\n",
        "\n",
        "def build_vocab(sentences, verbose=1):\n",
        "    vocab = defaultdict(int)\n",
        "    for sentence in tqdm(sentences, disable=(not verbose)):\n",
        "        for word in sentence:\n",
        "            vocab[word] += 1\n",
        "    return vocab"
      ],
      "execution_count": 5,
      "outputs": []
    },
    {
      "cell_type": "code",
      "metadata": {
        "colab": {
          "base_uri": "https://localhost:8080/"
        },
        "id": "m4ufsNJreptP",
        "outputId": "1a750f1a-3e50-4567-ddb9-369492ea28d9"
      },
      "source": [
        "%%time\n",
        "import zipfile\n",
        "from gensim.models import KeyedVectors\n",
        "\n",
        "google = 'GoogleNews-vectors-negative300/GoogleNews-vectors-negative300.bin'\n",
        "\n",
        "with zipfile.ZipFile(embeddings_path) as embedding_zip:\n",
        "    print(\"Found embeddings as a zip file\")\n",
        "    google_embeddings = KeyedVectors.load_word2vec_format(embedding_zip.open(google), binary=True)"
      ],
      "execution_count": 6,
      "outputs": [
        {
          "output_type": "stream",
          "text": [
            "Found embeddings as a zip file\n",
            "CPU times: user 2min 15s, sys: 4.74 s, total: 2min 20s\n",
            "Wall time: 2min 20s\n"
          ],
          "name": "stdout"
        }
      ]
    },
    {
      "cell_type": "code",
      "metadata": {
        "id": "IYjsQfeqlJNb"
      },
      "source": [
        "import re\n",
        "\n",
        "def clean_numbers(x):\n",
        "\n",
        "    x = re.sub('[0-9]{5,}', '#####', x)\n",
        "    x = re.sub('[0-9]{4}', '####', x)\n",
        "    x = re.sub('[0-9]{3}', '###', x)\n",
        "    x = re.sub('[0-9]{2}', '##', x)\n",
        "    return x"
      ],
      "execution_count": 7,
      "outputs": []
    },
    {
      "cell_type": "code",
      "metadata": {
        "id": "yKazo5_7Ao4q"
      },
      "source": [
        "def _get_mispell(mispell_dict):\n",
        "    mispell_re = re.compile('(%s)' % '|'.join(mispell_dict.keys()))\n",
        "    return mispell_dict, mispell_re\n",
        "\n",
        "\n",
        "mispell_dict = {'colour':'color',\n",
        "                'centre':'center',\n",
        "                'didnt':'did not',\n",
        "                'doesnt':'does not',\n",
        "                'isnt':'is not',\n",
        "                'shouldnt':'should not',\n",
        "                'favourite':'favorite',\n",
        "                'travelling':'traveling',\n",
        "                'counselling':'counseling',\n",
        "                'theatre':'theater',\n",
        "                'cancelled':'canceled',\n",
        "                'labour':'labor',\n",
        "                'organisation':'organization',\n",
        "                'wwii':'world war 2',\n",
        "                'citicise':'criticize',\n",
        "                'instagram': 'social medium',\n",
        "                'whatsapp': 'social medium',\n",
        "                'snapchat': 'social medium'\n",
        "                }\n",
        "mispellings, mispellings_re = _get_mispell(mispell_dict)\n",
        "\n",
        "def replace_typical_misspell(text):\n",
        "    def replace(match):\n",
        "        return mispellings[match.group(0)]\n",
        "\n",
        "    return mispellings_re.sub(replace, text)"
      ],
      "execution_count": 8,
      "outputs": []
    },
    {
      "cell_type": "code",
      "metadata": {
        "id": "akYlge2EgaC-"
      },
      "source": [
        "import operator\n",
        "\n",
        "def check_coverage(voca, embeddings, verbose=1):\n",
        "    \n",
        "    inv = {}\n",
        "    oov = {}\n",
        "    count_inv = 0\n",
        "    count_oov = 0\n",
        "    \n",
        "    for word in tqdm(voca, disable=(not verbose)):\n",
        "        \n",
        "        if word in embeddings:\n",
        "            inv[word] = embeddings[word]\n",
        "            count_inv += voca[word]\n",
        "        \n",
        "        else:\n",
        "            oov[word] = voca[word]\n",
        "            count_oov += voca[word]\n",
        "\n",
        "    print('Found embeddings for {:.2%} of voca.'.format(len(inv) / len(voca)))\n",
        "    print('Found embeddings for {:.2%} of all text.'.format(count_inv / (count_inv + count_oov)))\n",
        "\n",
        "    return sorted(oov.items(), key=operator.itemgetter(1))[::-1]"
      ],
      "execution_count": 9,
      "outputs": []
    },
    {
      "cell_type": "markdown",
      "metadata": {
        "id": "WJgdvixxd-dH"
      },
      "source": [
        "Using spaCy"
      ]
    },
    {
      "cell_type": "code",
      "metadata": {
        "colab": {
          "base_uri": "https://localhost:8080/"
        },
        "id": "JGY0zokyNXt7",
        "outputId": "ea8fcf69-5ade-4d01-d049-ec7ebd5707d6"
      },
      "source": [
        "import spacy\n",
        "\n",
        "# !pip install -U spacy[cuda100]\n",
        "gpu = spacy.prefer_gpu()\n",
        "print('GPU:', gpu)\n",
        "\n",
        "# !pip install -U pip setuptools wheel\n",
        "# !pip install -U spacy\n",
        "# !python -m spacy download en_core_web_lg\n",
        "nlp = spacy.load('en_core_web_lg', disable=['parser', 'ner', 'tagger'])"
      ],
      "execution_count": 10,
      "outputs": [
        {
          "output_type": "stream",
          "text": [
            "GPU: True\n"
          ],
          "name": "stdout"
        }
      ]
    },
    {
      "cell_type": "code",
      "metadata": {
        "colab": {
          "base_uri": "https://localhost:8080/",
          "height": 67,
          "referenced_widgets": [
            "a1d8497d7dce4db0bba31da3e6b48a0b",
            "751ecc8b2e3f4b2ea555d4606053e1e8",
            "e354cba84d9e4261a2de0984266c7323",
            "dc75e0a204c9401d98e4bac7f1976d0b",
            "005aad4101874657b26d343bb913f212",
            "249506f7238942d78bd9a32fb3826390",
            "a162d193c282471eae3697adf601bfa4",
            "bea6170b78864716a0df0645fbe6a46d"
          ]
        },
        "id": "FvD1VV2Q9O9Y",
        "outputId": "3f80a7b5-19ed-4ce2-eb6f-5da0335a6328"
      },
      "source": [
        "train_text = train_text.progress_apply(replace_typical_misspell)"
      ],
      "execution_count": 11,
      "outputs": [
        {
          "output_type": "display_data",
          "data": {
            "application/vnd.jupyter.widget-view+json": {
              "model_id": "a1d8497d7dce4db0bba31da3e6b48a0b",
              "version_minor": 0,
              "version_major": 2
            },
            "text/plain": [
              "HBox(children=(FloatProgress(value=0.0, max=1306122.0), HTML(value='')))"
            ]
          },
          "metadata": {
            "tags": []
          }
        },
        {
          "output_type": "stream",
          "text": [
            "\n"
          ],
          "name": "stdout"
        }
      ]
    },
    {
      "cell_type": "code",
      "metadata": {
        "colab": {
          "base_uri": "https://localhost:8080/"
        },
        "id": "ayNzALxVCMoa",
        "outputId": "840162ba-627a-453b-b13e-3bf4be1f6526"
      },
      "source": [
        "docs = nlp.pipe(train_text)\n",
        "\n",
        "print(\"hello\")"
      ],
      "execution_count": 13,
      "outputs": [
        {
          "output_type": "stream",
          "text": [
            "hello\n"
          ],
          "name": "stdout"
        }
      ]
    }
  ]
}