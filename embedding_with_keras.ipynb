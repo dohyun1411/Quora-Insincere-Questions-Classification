{
  "nbformat": 4,
  "nbformat_minor": 0,
  "metadata": {
    "accelerator": "GPU",
    "colab": {
      "name": "embedding_with_keras.ipynb",
      "provenance": [],
      "collapsed_sections": [],
      "machine_shape": "hm",
      "mount_file_id": "14imiGNeGGpyUAS_LjCQND9AsaRzv3MYz",
      "authorship_tag": "ABX9TyPXiMi8skB91z7wVQD4d4Dk",
      "include_colab_link": true
    },
    "kernelspec": {
      "display_name": "Python 3",
      "name": "python3"
    },
    "language_info": {
      "name": "python"
    },
    "widgets": {
      "application/vnd.jupyter.widget-state+json": {
        "42b5d35b577c4bee81733d0f4f51de39": {
          "model_module": "@jupyter-widgets/controls",
          "model_name": "HBoxModel",
          "state": {
            "_view_name": "HBoxView",
            "_dom_classes": [],
            "_model_name": "HBoxModel",
            "_view_module": "@jupyter-widgets/controls",
            "_model_module_version": "1.5.0",
            "_view_count": null,
            "_view_module_version": "1.5.0",
            "box_style": "",
            "layout": "IPY_MODEL_8ce2a461414b420b9cc23e7716796dc8",
            "_model_module": "@jupyter-widgets/controls",
            "children": [
              "IPY_MODEL_bf4158f7044845699e798407841d3b18",
              "IPY_MODEL_8c575a34704242ada9c07ed2ff13b5db"
            ]
          }
        },
        "8ce2a461414b420b9cc23e7716796dc8": {
          "model_module": "@jupyter-widgets/base",
          "model_name": "LayoutModel",
          "state": {
            "_view_name": "LayoutView",
            "grid_template_rows": null,
            "right": null,
            "justify_content": null,
            "_view_module": "@jupyter-widgets/base",
            "overflow": null,
            "_model_module_version": "1.2.0",
            "_view_count": null,
            "flex_flow": null,
            "width": null,
            "min_width": null,
            "border": null,
            "align_items": null,
            "bottom": null,
            "_model_module": "@jupyter-widgets/base",
            "top": null,
            "grid_column": null,
            "overflow_y": null,
            "overflow_x": null,
            "grid_auto_flow": null,
            "grid_area": null,
            "grid_template_columns": null,
            "flex": null,
            "_model_name": "LayoutModel",
            "justify_items": null,
            "grid_row": null,
            "max_height": null,
            "align_content": null,
            "visibility": null,
            "align_self": null,
            "height": null,
            "min_height": null,
            "padding": null,
            "grid_auto_rows": null,
            "grid_gap": null,
            "max_width": null,
            "order": null,
            "_view_module_version": "1.2.0",
            "grid_template_areas": null,
            "object_position": null,
            "object_fit": null,
            "grid_auto_columns": null,
            "margin": null,
            "display": null,
            "left": null
          }
        },
        "bf4158f7044845699e798407841d3b18": {
          "model_module": "@jupyter-widgets/controls",
          "model_name": "FloatProgressModel",
          "state": {
            "_view_name": "ProgressView",
            "style": "IPY_MODEL_933f7bc15a274baba4a2286658c53900",
            "_dom_classes": [],
            "description": "100%",
            "_model_name": "FloatProgressModel",
            "bar_style": "success",
            "max": 209512,
            "_view_module": "@jupyter-widgets/controls",
            "_model_module_version": "1.5.0",
            "value": 209512,
            "_view_count": null,
            "_view_module_version": "1.5.0",
            "orientation": "horizontal",
            "min": 0,
            "description_tooltip": null,
            "_model_module": "@jupyter-widgets/controls",
            "layout": "IPY_MODEL_dba2fff1cd644d8e84189773ca145a7f"
          }
        },
        "8c575a34704242ada9c07ed2ff13b5db": {
          "model_module": "@jupyter-widgets/controls",
          "model_name": "HTMLModel",
          "state": {
            "_view_name": "HTMLView",
            "style": "IPY_MODEL_7ade42ed408f49fbbfc4c6215b30d811",
            "_dom_classes": [],
            "description": "",
            "_model_name": "HTMLModel",
            "placeholder": "​",
            "_view_module": "@jupyter-widgets/controls",
            "_model_module_version": "1.5.0",
            "value": " 209512/209512 [00:00&lt;00:00, 342954.19it/s]",
            "_view_count": null,
            "_view_module_version": "1.5.0",
            "description_tooltip": null,
            "_model_module": "@jupyter-widgets/controls",
            "layout": "IPY_MODEL_91cad7e93f5d418e875878b7bbd82b71"
          }
        },
        "933f7bc15a274baba4a2286658c53900": {
          "model_module": "@jupyter-widgets/controls",
          "model_name": "ProgressStyleModel",
          "state": {
            "_view_name": "StyleView",
            "_model_name": "ProgressStyleModel",
            "description_width": "initial",
            "_view_module": "@jupyter-widgets/base",
            "_model_module_version": "1.5.0",
            "_view_count": null,
            "_view_module_version": "1.2.0",
            "bar_color": null,
            "_model_module": "@jupyter-widgets/controls"
          }
        },
        "dba2fff1cd644d8e84189773ca145a7f": {
          "model_module": "@jupyter-widgets/base",
          "model_name": "LayoutModel",
          "state": {
            "_view_name": "LayoutView",
            "grid_template_rows": null,
            "right": null,
            "justify_content": null,
            "_view_module": "@jupyter-widgets/base",
            "overflow": null,
            "_model_module_version": "1.2.0",
            "_view_count": null,
            "flex_flow": null,
            "width": null,
            "min_width": null,
            "border": null,
            "align_items": null,
            "bottom": null,
            "_model_module": "@jupyter-widgets/base",
            "top": null,
            "grid_column": null,
            "overflow_y": null,
            "overflow_x": null,
            "grid_auto_flow": null,
            "grid_area": null,
            "grid_template_columns": null,
            "flex": null,
            "_model_name": "LayoutModel",
            "justify_items": null,
            "grid_row": null,
            "max_height": null,
            "align_content": null,
            "visibility": null,
            "align_self": null,
            "height": null,
            "min_height": null,
            "padding": null,
            "grid_auto_rows": null,
            "grid_gap": null,
            "max_width": null,
            "order": null,
            "_view_module_version": "1.2.0",
            "grid_template_areas": null,
            "object_position": null,
            "object_fit": null,
            "grid_auto_columns": null,
            "margin": null,
            "display": null,
            "left": null
          }
        },
        "7ade42ed408f49fbbfc4c6215b30d811": {
          "model_module": "@jupyter-widgets/controls",
          "model_name": "DescriptionStyleModel",
          "state": {
            "_view_name": "StyleView",
            "_model_name": "DescriptionStyleModel",
            "description_width": "",
            "_view_module": "@jupyter-widgets/base",
            "_model_module_version": "1.5.0",
            "_view_count": null,
            "_view_module_version": "1.2.0",
            "_model_module": "@jupyter-widgets/controls"
          }
        },
        "91cad7e93f5d418e875878b7bbd82b71": {
          "model_module": "@jupyter-widgets/base",
          "model_name": "LayoutModel",
          "state": {
            "_view_name": "LayoutView",
            "grid_template_rows": null,
            "right": null,
            "justify_content": null,
            "_view_module": "@jupyter-widgets/base",
            "overflow": null,
            "_model_module_version": "1.2.0",
            "_view_count": null,
            "flex_flow": null,
            "width": null,
            "min_width": null,
            "border": null,
            "align_items": null,
            "bottom": null,
            "_model_module": "@jupyter-widgets/base",
            "top": null,
            "grid_column": null,
            "overflow_y": null,
            "overflow_x": null,
            "grid_auto_flow": null,
            "grid_area": null,
            "grid_template_columns": null,
            "flex": null,
            "_model_name": "LayoutModel",
            "justify_items": null,
            "grid_row": null,
            "max_height": null,
            "align_content": null,
            "visibility": null,
            "align_self": null,
            "height": null,
            "min_height": null,
            "padding": null,
            "grid_auto_rows": null,
            "grid_gap": null,
            "max_width": null,
            "order": null,
            "_view_module_version": "1.2.0",
            "grid_template_areas": null,
            "object_position": null,
            "object_fit": null,
            "grid_auto_columns": null,
            "margin": null,
            "display": null,
            "left": null
          }
        }
      }
    }
  },
  "cells": [
    {
      "cell_type": "markdown",
      "metadata": {
        "id": "view-in-github",
        "colab_type": "text"
      },
      "source": [
        "<a href=\"https://colab.research.google.com/github/dohyun1411/Quora-Insincere-Questions-Classification/blob/preprocessing1/embedding_with_keras.ipynb\" target=\"_parent\"><img src=\"https://colab.research.google.com/assets/colab-badge.svg\" alt=\"Open In Colab\"/></a>"
      ]
    },
    {
      "cell_type": "markdown",
      "metadata": {
        "id": "TRZNHTxB_jbJ"
      },
      "source": [
        "references:\n",
        "\n",
        "https://www.kaggle.com/strideradu/word2vec-and-gensim-go-go-go\n",
        "\n",
        "https://www.kaggle.com/alhalimi/tokenization-and-word-embedding-compatibility\n",
        "\n",
        "https://www.kaggle.com/canming/ensemble-mean-iii-64-36"
      ]
    },
    {
      "cell_type": "code",
      "metadata": {
        "colab": {
          "base_uri": "https://localhost:8080/"
        },
        "id": "wOcuWwrS8nNX",
        "outputId": "372c9432-09f5-46cd-900a-0be664498eaf"
      },
      "source": [
        "import gc\n",
        "\n",
        "import numpy as np\n",
        "import pandas as pd\n",
        "from tqdm.auto import tqdm\n",
        "tqdm.pandas()"
      ],
      "execution_count": null,
      "outputs": [
        {
          "output_type": "stream",
          "text": [
            "/usr/local/lib/python3.7/dist-packages/tqdm/std.py:658: FutureWarning: The Panel class is removed from pandas. Accessing it from the top-level namespace will also be removed in the next version\n",
            "  from pandas import Panel\n"
          ],
          "name": "stderr"
        }
      ]
    },
    {
      "cell_type": "code",
      "metadata": {
        "id": "9W2i5_V98vIt"
      },
      "source": [
        "import os\n",
        "\n",
        "# input_path = '/kaggle/input/quora-insincere-questions-classification'\n",
        "input_path = '/content/drive/MyDrive/ColabNotebooks/QIQC/data'\n",
        "train_path = os.path.join(input_path, 'train.csv')\n",
        "test_path = os.path.join(input_path, 'test.csv')\n",
        "embeddings_path = os.path.join(input_path, 'embeddings.zip')"
      ],
      "execution_count": null,
      "outputs": []
    },
    {
      "cell_type": "code",
      "metadata": {
        "colab": {
          "base_uri": "https://localhost:8080/"
        },
        "id": "dMtlqbXF9DLj",
        "outputId": "aba2c3a8-a019-46a9-d6dc-ca1d649fbc74"
      },
      "source": [
        "if os.path.exists(train_path): train_df = pd.read_csv(train_path)\n",
        "else: train_df = pd.read_csv(train_path + '.zip')\n",
        "\n",
        "if os.path.exists(test_path): test_df = pd.read_csv(train_path)\n",
        "else: test_df = pd.read_csv(test_path + '.zip')\n",
        "\n",
        "print('train shape:', train_df.shape)\n",
        "print('test shape:', test_df.shape)"
      ],
      "execution_count": null,
      "outputs": [
        {
          "output_type": "stream",
          "text": [
            "train shape: (1306122, 3)\n",
            "test shape: (1306122, 3)\n"
          ],
          "name": "stdout"
        }
      ]
    },
    {
      "cell_type": "code",
      "metadata": {
        "id": "6CwM8vOz_-Cf"
      },
      "source": [
        "from sklearn.model_selection import train_test_split\n",
        "\n",
        "# split to train and val\n",
        "train_df, val_df = train_test_split(train_df, test_size=0.1)\n",
        "\n",
        "# some config values \n",
        "embed_size = 300 # how big is each word vector\n",
        "max_features = 50000 # how many unique words to use (i.e num rows in embedding vector)\n",
        "maxlen = 100 # max number of words in a question to use\n",
        "\n",
        "# fill up the missing values\n",
        "train_X = train_df[\"question_text\"].fillna(\"_na_\").values\n",
        "val_X = val_df[\"question_text\"].fillna(\"_na_\").values\n",
        "test_X = test_df[\"question_text\"].fillna(\"_na_\").values\n",
        "\n",
        "# Get the target values\n",
        "train_y = train_df['target'].values\n",
        "val_y = val_df['target'].values"
      ],
      "execution_count": null,
      "outputs": []
    },
    {
      "cell_type": "code",
      "metadata": {
        "colab": {
          "base_uri": "https://localhost:8080/"
        },
        "id": "rH5Ry0fvArrh",
        "outputId": "24b9e3bc-2daf-4b5d-9f8f-d2df413e89b5"
      },
      "source": [
        "%%time\n",
        "from keras.preprocessing.text import Tokenizer\n",
        "\n",
        "# Tokenize the sentences\n",
        "tokenizer = Tokenizer(num_words=max_features)\n",
        "tokenizer.fit_on_texts(list(train_X))\n",
        "train_X = tokenizer.texts_to_sequences(train_X)\n",
        "val_X = tokenizer.texts_to_sequences(val_X)\n",
        "test_X = tokenizer.texts_to_sequences(test_X)"
      ],
      "execution_count": null,
      "outputs": [
        {
          "output_type": "stream",
          "text": [
            "CPU times: user 50.2 s, sys: 508 ms, total: 50.7 s\n",
            "Wall time: 50.6 s\n"
          ],
          "name": "stdout"
        }
      ]
    },
    {
      "cell_type": "code",
      "metadata": {
        "colab": {
          "base_uri": "https://localhost:8080/"
        },
        "id": "0wzFwXS4A-rM",
        "outputId": "7efb490f-bd16-466c-8a72-031e268fb29f"
      },
      "source": [
        "%%time\n",
        "from keras.preprocessing.sequence import pad_sequences\n",
        "\n",
        "# Pad the sentences \n",
        "train_X = pad_sequences(train_X, maxlen=maxlen)\n",
        "val_X = pad_sequences(val_X, maxlen=maxlen)\n",
        "test_X = pad_sequences(test_X, maxlen=maxlen)"
      ],
      "execution_count": null,
      "outputs": [
        {
          "output_type": "stream",
          "text": [
            "CPU times: user 10.3 s, sys: 304 ms, total: 10.6 s\n",
            "Wall time: 10.4 s\n"
          ],
          "name": "stdout"
        }
      ]
    },
    {
      "cell_type": "code",
      "metadata": {
        "id": "hnq3BiZTD5Cl"
      },
      "source": [
        "import zipfile\n",
        "from gensim.models import KeyedVectors\n",
        "\n",
        "glove = 'glove.840B.300d/glove.840B.300d.txt'\n",
        "wiki = 'wiki-news-300d-1M/wiki-news-300d-1M.vec'\n",
        "google = 'GoogleNews-vectors-negative300/GoogleNews-vectors-negative300.bin'\n",
        "para = 'paragram_300_sl999/paragram_300_sl999.txt'\n",
        "\n",
        "\n",
        "def load_embedding(embedding_name):\n",
        "\n",
        "    def get_coefs(word, *arr): return word, np.asarray(arr, dtype='float32')\n",
        "\n",
        "    with zipfile.ZipFile(embeddings_path) as embeddings_zip:\n",
        "        print(\"Found embeddings as a zip file\")\n",
        "\n",
        "        if embedding_name == google:\n",
        "            return KeyedVectors.load_word2vec_format(embeddings_zip.open(google), binary=True)\n",
        "\n",
        "        else:\n",
        "            embedding = []\n",
        "            for o in embeddings_zip.open(embedding_name):\n",
        "                try:\n",
        "                    if len(o.decode('utf-8')) > 100:\n",
        "                        embedding.append(get_coefs(*o.decode('utf-8').split(\" \")))\n",
        "                except:\n",
        "                    pass\n",
        "        \n",
        "        return dict(embedding)"
      ],
      "execution_count": null,
      "outputs": []
    },
    {
      "cell_type": "code",
      "metadata": {
        "colab": {
          "base_uri": "https://localhost:8080/"
        },
        "id": "TcEzV9f9GIa_",
        "outputId": "ae92a6d2-a8e2-494e-d807-0d23d1d88d77"
      },
      "source": [
        "%%time\n",
        "glove_embedding = load_embedding(glove) # 3min 21s in Colab"
      ],
      "execution_count": null,
      "outputs": [
        {
          "output_type": "stream",
          "text": [
            "Found embeddings as a zip file\n",
            "CPU times: user 3min 13s, sys: 3.82 s, total: 3min 17s\n",
            "Wall time: 3min 18s\n"
          ],
          "name": "stdout"
        }
      ]
    },
    {
      "cell_type": "code",
      "metadata": {
        "colab": {
          "base_uri": "https://localhost:8080/"
        },
        "id": "B3OoBZxpHZ5L",
        "outputId": "78400395-88ac-447b-d39a-7aa49d0476b2"
      },
      "source": [
        "%%time\n",
        "wiki_embedding = load_embedding(wiki) # 1min 20s in Colab"
      ],
      "execution_count": null,
      "outputs": [
        {
          "output_type": "stream",
          "text": [
            "Found embeddings as a zip file\n",
            "CPU times: user 1min 19s, sys: 2.1 s, total: 1min 21s\n",
            "Wall time: 1min 21s\n"
          ],
          "name": "stdout"
        }
      ]
    },
    {
      "cell_type": "code",
      "metadata": {
        "colab": {
          "base_uri": "https://localhost:8080/"
        },
        "id": "ayRUyP67ZYPg",
        "outputId": "1f911c9b-a1cf-450d-fcd8-547ea76f0f45"
      },
      "source": [
        "%%time\n",
        "google_embedding = load_embedding(google) # 1min 50s in Colab"
      ],
      "execution_count": null,
      "outputs": [
        {
          "output_type": "stream",
          "text": [
            "Found embeddings as a zip file\n",
            "CPU times: user 1min 46s, sys: 3.65 s, total: 1min 50s\n",
            "Wall time: 1min 50s\n"
          ],
          "name": "stdout"
        }
      ]
    },
    {
      "cell_type": "code",
      "metadata": {
        "colab": {
          "base_uri": "https://localhost:8080/"
        },
        "id": "IPnFyajwopvd",
        "outputId": "346f2b79-8c7c-494d-ffef-6b56b78eb0ad"
      },
      "source": [
        "%%time\n",
        "para_embedding = load_embedding(para) # 2min 40s in Colab"
      ],
      "execution_count": null,
      "outputs": [
        {
          "output_type": "stream",
          "text": [
            "Found embeddings as a zip file\n",
            "CPU times: user 2min 34s, sys: 2.81 s, total: 2min 36s\n",
            "Wall time: 2min 36s\n"
          ],
          "name": "stdout"
        }
      ]
    },
    {
      "cell_type": "code",
      "metadata": {
        "id": "n0D2JNPXKgGk"
      },
      "source": [
        "word_index = tokenizer.word_index\n",
        "nb_words = min(max_features, len(word_index))"
      ],
      "execution_count": null,
      "outputs": []
    },
    {
      "cell_type": "code",
      "metadata": {
        "id": "D0dvpL-_VnCA"
      },
      "source": [
        "has_get_emb_stats = True # set False if we have not get emb stats\n",
        "if not has_get_emb_stats:\n",
        "\n",
        "    def get_emb_stats(embedding):\n",
        "\n",
        "        # Put all embeddings in a numpy matrix\n",
        "        try:\n",
        "            all_embs= np.stack(embedding.values())\n",
        "        except:\n",
        "            all_embs = embedding.vectors\n",
        "\n",
        "        # Get embedding stats\n",
        "        emb_mean = all_embs.mean()\n",
        "        emb_std = all_embs.std()\n",
        "        \n",
        "        return emb_mean,emb_std\n",
        "    \n",
        "\n",
        "    glove_emb_mean, glove_emb_std = get_emb_stats(glove_embedding)\n",
        "    wiki_emb_mean, wiki_emb_std = get_emb_stats(wiki_embedding)\n",
        "    google_emb_mean, google_emb_std = get_emb_stats(google_embedding)\n",
        "    para_emb_mean, para_emb_std = get_emb_stats(para_embedding)\n",
        "\n",
        "    print('glove emb mean:', glove_emb_mean, 'emb_std:', glove_emb_std)\n",
        "    print('wiki emb mean:', wiki_emb_mean, 'emb_std:', wiki_emb_std)\n",
        "    print('google emb mean:', google_emb_mean, 'emb_std:', google_emb_std)\n",
        "    print('para emb mean:', para_emb_mean, 'emb_std:', para_emb_std)\n",
        "\n",
        "else:\n",
        "    glove_emb_mean, glove_emb_std = -0.005838499, 0.48782197\n",
        "    wiki_emb_mean, wiki_emb_std = -0.0033469985, 0.109855495\n",
        "    google_emb_mean, google_emb_std = -0.003527845, 0.13315111\n",
        "    para_emb_mean, para_emb_std = -0.0053248387, 0.49346521"
      ],
      "execution_count": null,
      "outputs": []
    },
    {
      "cell_type": "code",
      "metadata": {
        "id": "JckVXdIfz6Gz"
      },
      "source": [
        "glove_embedding_matrix = np.random.normal(glove_emb_mean, glove_emb_std, (max_features, embed_size))\n",
        "wiki_embedding_matrix = np.random.normal(wiki_emb_mean, wiki_emb_std, (max_features, embed_size))\n",
        "google_embedding_matrix = np.random.normal(google_emb_mean, google_emb_std, (max_features, embed_size))\n",
        "para_embedding_matrix = np.random.normal(para_emb_mean, para_emb_std, (max_features, embed_size))"
      ],
      "execution_count": null,
      "outputs": []
    },
    {
      "cell_type": "code",
      "metadata": {
        "id": "TABgPTcaEbta",
        "colab": {
          "base_uri": "https://localhost:8080/",
          "height": 66,
          "referenced_widgets": [
            "42b5d35b577c4bee81733d0f4f51de39",
            "8ce2a461414b420b9cc23e7716796dc8",
            "bf4158f7044845699e798407841d3b18",
            "8c575a34704242ada9c07ed2ff13b5db",
            "933f7bc15a274baba4a2286658c53900",
            "dba2fff1cd644d8e84189773ca145a7f",
            "7ade42ed408f49fbbfc4c6215b30d811",
            "91cad7e93f5d418e875878b7bbd82b71"
          ]
        },
        "outputId": "218c4205-9fc7-424e-c751-d56a19401c62"
      },
      "source": [
        "glove_oov = {}\n",
        "wiki_oov = {}\n",
        "google_oov = {}\n",
        "para_oov = {}\n",
        "for word, i in tqdm(word_index.items()):\n",
        "    if i >= max_features: continue\n",
        "    if word in glove_embedding:\n",
        "        embedding_vector = glove_embedding[word]\n",
        "        glove_embedding_matrix[i] = embedding_vector\n",
        "    else:\n",
        "        glove_oov[word] = i\n",
        "    if word in wiki_embedding:\n",
        "        embedding_vector = wiki_embedding[word]\n",
        "        wiki_embedding_matrix[i] = embedding_vector\n",
        "    else:\n",
        "        wiki_oov[word] = i\n",
        "    if word in google_embedding:\n",
        "        embedding_vector = google_embedding[word]\n",
        "        google_embedding_matrix[i] = embedding_vector\n",
        "    else:\n",
        "        google_oov[word] = i\n",
        "    if word in para_embedding:\n",
        "        embedding_vector = para_embedding[word]\n",
        "        para_embedding_matrix[i] = embedding_vector\n",
        "    else:\n",
        "        para_oov[word] = i"
      ],
      "execution_count": null,
      "outputs": [
        {
          "output_type": "display_data",
          "data": {
            "application/vnd.jupyter.widget-view+json": {
              "model_id": "42b5d35b577c4bee81733d0f4f51de39",
              "version_minor": 0,
              "version_major": 2
            },
            "text/plain": [
              "HBox(children=(FloatProgress(value=0.0, max=209512.0), HTML(value='')))"
            ]
          },
          "metadata": {
            "tags": []
          }
        },
        {
          "output_type": "stream",
          "text": [
            "\n"
          ],
          "name": "stdout"
        }
      ]
    },
    {
      "cell_type": "code",
      "metadata": {
        "id": "qnIA_BYQMJFI",
        "colab": {
          "base_uri": "https://localhost:8080/"
        },
        "outputId": "fed9cde4-b3e7-4461-815a-c3f0fa918262"
      },
      "source": [
        "print('percentage of oov of glove: {:.2f}%'.format(len(glove_oov) / max_features * 100))\n",
        "print('percentage of oov of wiki: {:.2f}%'.format(len(wiki_oov) / max_features * 100))\n",
        "print('percentage of oov of google: {:.2f}%'.format(len(google_oov) / max_features * 100))\n",
        "print('percentage of oov of para: {:.2f}%'.format(len(para_oov) / max_features * 100))"
      ],
      "execution_count": null,
      "outputs": [
        {
          "output_type": "stream",
          "text": [
            "percentage of oov of glove: 8.02%\n",
            "percentage of oov of wiki: 14.56%\n",
            "percentage of oov of google: 23.63%\n",
            "percentage of oov of para: 5.55%\n"
          ],
          "name": "stdout"
        }
      ]
    },
    {
      "cell_type": "markdown",
      "metadata": {
        "id": "xZRS5uW15fdM"
      },
      "source": [
        "We will clean the numbers."
      ]
    },
    {
      "cell_type": "code",
      "metadata": {
        "id": "rqwPxXC1MRpk"
      },
      "source": [
        "import re\n",
        "\n",
        "def clean_numbers(x):\n",
        "\n",
        "    x = re.sub('[0-9]{5,}', '#####', x)\n",
        "    x = re.sub('[0-9]{4}', '####', x)\n",
        "    x = re.sub('[0-9]{3}', '###', x)\n",
        "    x = re.sub('[0-9]{2}', '##', x)\n",
        "    \n",
        "    return x"
      ],
      "execution_count": null,
      "outputs": []
    },
    {
      "cell_type": "code",
      "metadata": {
        "id": "DArLgeya5TPq"
      },
      "source": [
        "no_num_tokenizer = Tokenizer()\n",
        "no_num_tokenizer.fit_on_texts(list(train_df['question_text'].fillna('__na__').progress_apply(lambda x: clean_numbers(x)).values))"
      ],
      "execution_count": null,
      "outputs": []
    },
    {
      "cell_type": "code",
      "metadata": {
        "id": "xP3L2QAY8nK5"
      },
      "source": [
        "import random\n",
        "\n",
        "for i in range(10):\n",
        "    n = random.randint(0, 20000)\n",
        "    if str(n) not in glove_embedding: print(n, 'is not in glove embedding')\n",
        "    if str(n) not in wiki_embedding: print(n, 'is not in wiki embedding')\n",
        "    # if str(n) not in google_embedding: print(n, 'is not in google embedding')\n",
        "    if str(n) not in para_embedding: print(n, 'is not in para embedding')"
      ],
      "execution_count": null,
      "outputs": []
    },
    {
      "cell_type": "markdown",
      "metadata": {
        "id": "CvPqEc9-9PV3"
      },
      "source": [
        "google embedding only have few numbers so we will clean all the numbers.\n",
        "\n",
        "It seems like other embeddings have numbers up to 10,000 so we will not clean the numbers."
      ]
    },
    {
      "cell_type": "code",
      "metadata": {
        "id": "CLNCG7Qz7pFq"
      },
      "source": [
        "no_num_word_index = no_num_tokenizer.word_index\n",
        "\n",
        "google_oov = {}\n",
        "for word, i in tqdm(no_num_word_index.items()):\n",
        "    if i >= max_features: continue\n",
        "    if word in google_embedding:\n",
        "        embedding_vector = google_embedding[word]\n",
        "        google_embedding_matrix[i] = embedding_vector\n",
        "    else:\n",
        "        google_oov[word] = i"
      ],
      "execution_count": null,
      "outputs": []
    },
    {
      "cell_type": "code",
      "metadata": {
        "id": "uZODaWSF7wiO"
      },
      "source": [
        "print('percentage of oov of glove: {:.2f}%'.format(len(glove_oov) / max_features * 100))\n",
        "print('percentage of oov of wiki: {:.2f}%'.format(len(wiki_oov) / max_features * 100))\n",
        "print('percentage of oov of google: {:.2f}%'.format(len(google_oov) / max_features * 100))\n",
        "print('percentage of oov of para: {:.2f}%'.format(len(para_oov) / max_features * 100))"
      ],
      "execution_count": null,
      "outputs": []
    },
    {
      "cell_type": "markdown",
      "metadata": {
        "id": "JJ835PH375v3"
      },
      "source": [
        "percentage of oov of google: 22.63% -> 22.13%\n",
        "\n",
        "Some trials to make better performance.."
      ]
    },
    {
      "cell_type": "code",
      "metadata": {
        "id": "5AoHB6He_gKO"
      },
      "source": [
        "\"don't\" in google_embedding"
      ],
      "execution_count": null,
      "outputs": []
    },
    {
      "cell_type": "code",
      "metadata": {
        "id": "ZjBoPwW28j8B"
      },
      "source": [
        "google_oov"
      ],
      "execution_count": null,
      "outputs": []
    },
    {
      "cell_type": "code",
      "metadata": {
        "id": "nVkq5evX_xbL"
      },
      "source": [
        "\"i'm\" in glove_oov"
      ],
      "execution_count": null,
      "outputs": []
    },
    {
      "cell_type": "code",
      "metadata": {
        "id": "i8EMgl1s_bhC"
      },
      "source": [
        "glove_oov"
      ],
      "execution_count": null,
      "outputs": []
    },
    {
      "cell_type": "code",
      "metadata": {
        "id": "4jN6llXkExaW"
      },
      "source": [
        "\"you’re\" in glove_embedding"
      ],
      "execution_count": null,
      "outputs": []
    },
    {
      "cell_type": "code",
      "metadata": {
        "id": "cqOeBdaJB5Z9"
      },
      "source": [
        "for punct in '?!.,\"#$%\\'()*+-/:;<=>@[\\\\]^_`{|}~' + '“”’':\n",
        "    if punct not in glove_embedding:\n",
        "        print(punct)\n",
        "\n",
        "# Although “”’are in glove_embedding but we will replace it for convinience"
      ],
      "execution_count": null,
      "outputs": []
    },
    {
      "cell_type": "code",
      "metadata": {
        "id": "AA8AG9kLBalU"
      },
      "source": [
        "word = \"someone’s\"\n",
        "word = word.replace(\"’\", \"'\")\n",
        "if word.endswith(\"'s\") or word.endswith(\"' s\"):\n",
        "    w1, w2 = word.split(\"'\")\n",
        "print(w1)\n",
        "print(w2)"
      ],
      "execution_count": null,
      "outputs": []
    },
    {
      "cell_type": "code",
      "metadata": {
        "id": "tcYQ6WGA_u76"
      },
      "source": [
        "glove_oov = {}\n",
        "for word, i in tqdm(word_index.items()):\n",
        "    if i >= max_features: continue\n",
        "\n",
        "    if word in glove_embedding:\n",
        "        glove_embedding_matrix[i] = glove_embedding[word]\n",
        "        continue\n",
        "\n",
        "    word = word.replace(\"’\", \"'\")\n",
        "    word = word.replace('”', '\"')\n",
        "    word = word.replace('“', '\"')\n",
        "    if word in glove_embedding:\n",
        "        glove_embedding_matrix[i] = glove_embedding[word]\n",
        "        continue\n",
        "    \n",
        "    word = re.sub(' +', '', word)\n",
        "    if word in glove_embedding:\n",
        "        glove_embedding_matrix[i] = glove_embedding[word]\n",
        "        continue\n",
        "\n",
        "    tmp_word = word.split(\"'\")[0]\n",
        "    if tmp_word in glove_embedding:\n",
        "        glove_embedding_matrix[i] = glove_embedding[tmp_word]\n",
        "        continue\n",
        "    \n",
        "    for punct in '?!.,\"#$%\\'()*+-/:;<=>@[\\\\]^_`{|}~':\n",
        "        word = word.replace(punct, '')\n",
        "    if word in glove_embedding:\n",
        "        glove_embedding_matrix[i] = glove_embedding[word]\n",
        "        continue\n",
        "    \n",
        "    # quorans -> quora contributors\n",
        "    \n",
        "\n",
        "    else:\n",
        "        glove_oov[word] = i"
      ],
      "execution_count": null,
      "outputs": []
    },
    {
      "cell_type": "code",
      "metadata": {
        "id": "H16FUFs1EblN"
      },
      "source": [
        "print('percentage of oov of glove: {:.2f}%'.format(len(glove_oov) / max_features * 100))"
      ],
      "execution_count": null,
      "outputs": []
    },
    {
      "cell_type": "markdown",
      "metadata": {
        "id": "vc5Pby7lEh_V"
      },
      "source": [
        "8.15% -> 4.18%"
      ]
    },
    {
      "cell_type": "code",
      "metadata": {
        "id": "ueGxZ3iTF1th"
      },
      "source": [
        "'Quora' in glove_embedding"
      ],
      "execution_count": null,
      "outputs": []
    },
    {
      "cell_type": "code",
      "metadata": {
        "id": "xogFdJGiEm-H"
      },
      "source": [
        "for k in word_index.keys():\n",
        "    if word_index[k] == 49990:\n",
        "        print(k)"
      ],
      "execution_count": null,
      "outputs": []
    },
    {
      "cell_type": "code",
      "metadata": {
        "id": "JMAbYVO6FeMN"
      },
      "source": [
        "word_index[\"'call\"]"
      ],
      "execution_count": null,
      "outputs": []
    },
    {
      "cell_type": "code",
      "metadata": {
        "id": "5_f9CWR7I4vS"
      },
      "source": [
        "''"
      ],
      "execution_count": null,
      "outputs": []
    },
    {
      "cell_type": "code",
      "metadata": {
        "id": "ABo26YuFGx95"
      },
      "source": [
        "glove_oov"
      ],
      "execution_count": null,
      "outputs": []
    },
    {
      "cell_type": "code",
      "metadata": {
        "id": "k2IHdXVXIiSe"
      },
      "source": [
        ""
      ],
      "execution_count": null,
      "outputs": []
    }
  ]
}