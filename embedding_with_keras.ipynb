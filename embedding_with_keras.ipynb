{
  "nbformat": 4,
  "nbformat_minor": 0,
  "metadata": {
    "accelerator": "GPU",
    "colab": {
      "name": "embedding_with_keras.ipynb",
      "provenance": [],
      "collapsed_sections": [],
      "machine_shape": "hm",
      "mount_file_id": "14imiGNeGGpyUAS_LjCQND9AsaRzv3MYz",
      "authorship_tag": "ABX9TyPJDwBsk6cpLexlosvuHoAF",
      "include_colab_link": true
    },
    "kernelspec": {
      "display_name": "Python 3",
      "name": "python3"
    },
    "language_info": {
      "name": "python"
    },
    "widgets": {
      "application/vnd.jupyter.widget-state+json": {
        "deb045655b184b7ea4e2b9e67bf66975": {
          "model_module": "@jupyter-widgets/controls",
          "model_name": "HBoxModel",
          "state": {
            "_view_name": "HBoxView",
            "_dom_classes": [],
            "_model_name": "HBoxModel",
            "_view_module": "@jupyter-widgets/controls",
            "_model_module_version": "1.5.0",
            "_view_count": null,
            "_view_module_version": "1.5.0",
            "box_style": "",
            "layout": "IPY_MODEL_7f804b03e4ea46cdbe8956d7ae21cb69",
            "_model_module": "@jupyter-widgets/controls",
            "children": [
              "IPY_MODEL_d139d3d98f764fba92d1dfd881b92eb1",
              "IPY_MODEL_1e22a7c09faa4b6fa00d98bc3c37bf5f"
            ]
          }
        },
        "7f804b03e4ea46cdbe8956d7ae21cb69": {
          "model_module": "@jupyter-widgets/base",
          "model_name": "LayoutModel",
          "state": {
            "_view_name": "LayoutView",
            "grid_template_rows": null,
            "right": null,
            "justify_content": null,
            "_view_module": "@jupyter-widgets/base",
            "overflow": null,
            "_model_module_version": "1.2.0",
            "_view_count": null,
            "flex_flow": null,
            "width": null,
            "min_width": null,
            "border": null,
            "align_items": null,
            "bottom": null,
            "_model_module": "@jupyter-widgets/base",
            "top": null,
            "grid_column": null,
            "overflow_y": null,
            "overflow_x": null,
            "grid_auto_flow": null,
            "grid_area": null,
            "grid_template_columns": null,
            "flex": null,
            "_model_name": "LayoutModel",
            "justify_items": null,
            "grid_row": null,
            "max_height": null,
            "align_content": null,
            "visibility": null,
            "align_self": null,
            "height": null,
            "min_height": null,
            "padding": null,
            "grid_auto_rows": null,
            "grid_gap": null,
            "max_width": null,
            "order": null,
            "_view_module_version": "1.2.0",
            "grid_template_areas": null,
            "object_position": null,
            "object_fit": null,
            "grid_auto_columns": null,
            "margin": null,
            "display": null,
            "left": null
          }
        },
        "d139d3d98f764fba92d1dfd881b92eb1": {
          "model_module": "@jupyter-widgets/controls",
          "model_name": "FloatProgressModel",
          "state": {
            "_view_name": "ProgressView",
            "style": "IPY_MODEL_ebf8f4a342e34fadafb89a146f32ef01",
            "_dom_classes": [],
            "description": "100%",
            "_model_name": "FloatProgressModel",
            "bar_style": "success",
            "max": 197701,
            "_view_module": "@jupyter-widgets/controls",
            "_model_module_version": "1.5.0",
            "value": 197701,
            "_view_count": null,
            "_view_module_version": "1.5.0",
            "orientation": "horizontal",
            "min": 0,
            "description_tooltip": null,
            "_model_module": "@jupyter-widgets/controls",
            "layout": "IPY_MODEL_6abc954387e641d487cf0e53d551f508"
          }
        },
        "1e22a7c09faa4b6fa00d98bc3c37bf5f": {
          "model_module": "@jupyter-widgets/controls",
          "model_name": "HTMLModel",
          "state": {
            "_view_name": "HTMLView",
            "style": "IPY_MODEL_d5e4b2178cbe4aa3b3d72c9230a63599",
            "_dom_classes": [],
            "description": "",
            "_model_name": "HTMLModel",
            "placeholder": "​",
            "_view_module": "@jupyter-widgets/controls",
            "_model_module_version": "1.5.0",
            "value": " 197701/197701 [02:55&lt;00:00, 1123.40it/s]",
            "_view_count": null,
            "_view_module_version": "1.5.0",
            "description_tooltip": null,
            "_model_module": "@jupyter-widgets/controls",
            "layout": "IPY_MODEL_d762b82ff4c4468a8dfe62b1bb14ecd3"
          }
        },
        "ebf8f4a342e34fadafb89a146f32ef01": {
          "model_module": "@jupyter-widgets/controls",
          "model_name": "ProgressStyleModel",
          "state": {
            "_view_name": "StyleView",
            "_model_name": "ProgressStyleModel",
            "description_width": "initial",
            "_view_module": "@jupyter-widgets/base",
            "_model_module_version": "1.5.0",
            "_view_count": null,
            "_view_module_version": "1.2.0",
            "bar_color": null,
            "_model_module": "@jupyter-widgets/controls"
          }
        },
        "6abc954387e641d487cf0e53d551f508": {
          "model_module": "@jupyter-widgets/base",
          "model_name": "LayoutModel",
          "state": {
            "_view_name": "LayoutView",
            "grid_template_rows": null,
            "right": null,
            "justify_content": null,
            "_view_module": "@jupyter-widgets/base",
            "overflow": null,
            "_model_module_version": "1.2.0",
            "_view_count": null,
            "flex_flow": null,
            "width": null,
            "min_width": null,
            "border": null,
            "align_items": null,
            "bottom": null,
            "_model_module": "@jupyter-widgets/base",
            "top": null,
            "grid_column": null,
            "overflow_y": null,
            "overflow_x": null,
            "grid_auto_flow": null,
            "grid_area": null,
            "grid_template_columns": null,
            "flex": null,
            "_model_name": "LayoutModel",
            "justify_items": null,
            "grid_row": null,
            "max_height": null,
            "align_content": null,
            "visibility": null,
            "align_self": null,
            "height": null,
            "min_height": null,
            "padding": null,
            "grid_auto_rows": null,
            "grid_gap": null,
            "max_width": null,
            "order": null,
            "_view_module_version": "1.2.0",
            "grid_template_areas": null,
            "object_position": null,
            "object_fit": null,
            "grid_auto_columns": null,
            "margin": null,
            "display": null,
            "left": null
          }
        },
        "d5e4b2178cbe4aa3b3d72c9230a63599": {
          "model_module": "@jupyter-widgets/controls",
          "model_name": "DescriptionStyleModel",
          "state": {
            "_view_name": "StyleView",
            "_model_name": "DescriptionStyleModel",
            "description_width": "",
            "_view_module": "@jupyter-widgets/base",
            "_model_module_version": "1.5.0",
            "_view_count": null,
            "_view_module_version": "1.2.0",
            "_model_module": "@jupyter-widgets/controls"
          }
        },
        "d762b82ff4c4468a8dfe62b1bb14ecd3": {
          "model_module": "@jupyter-widgets/base",
          "model_name": "LayoutModel",
          "state": {
            "_view_name": "LayoutView",
            "grid_template_rows": null,
            "right": null,
            "justify_content": null,
            "_view_module": "@jupyter-widgets/base",
            "overflow": null,
            "_model_module_version": "1.2.0",
            "_view_count": null,
            "flex_flow": null,
            "width": null,
            "min_width": null,
            "border": null,
            "align_items": null,
            "bottom": null,
            "_model_module": "@jupyter-widgets/base",
            "top": null,
            "grid_column": null,
            "overflow_y": null,
            "overflow_x": null,
            "grid_auto_flow": null,
            "grid_area": null,
            "grid_template_columns": null,
            "flex": null,
            "_model_name": "LayoutModel",
            "justify_items": null,
            "grid_row": null,
            "max_height": null,
            "align_content": null,
            "visibility": null,
            "align_self": null,
            "height": null,
            "min_height": null,
            "padding": null,
            "grid_auto_rows": null,
            "grid_gap": null,
            "max_width": null,
            "order": null,
            "_view_module_version": "1.2.0",
            "grid_template_areas": null,
            "object_position": null,
            "object_fit": null,
            "grid_auto_columns": null,
            "margin": null,
            "display": null,
            "left": null
          }
        },
        "ced5e75c9cc84f36b4900aad65d36bf8": {
          "model_module": "@jupyter-widgets/controls",
          "model_name": "HBoxModel",
          "state": {
            "_view_name": "HBoxView",
            "_dom_classes": [],
            "_model_name": "HBoxModel",
            "_view_module": "@jupyter-widgets/controls",
            "_model_module_version": "1.5.0",
            "_view_count": null,
            "_view_module_version": "1.5.0",
            "box_style": "",
            "layout": "IPY_MODEL_b347b787b04c42e0aada0a5edbe9a475",
            "_model_module": "@jupyter-widgets/controls",
            "children": [
              "IPY_MODEL_4f659615cba74c3faf51519199075a4e",
              "IPY_MODEL_080bc2fdeb6c49ff9850b71adc923576"
            ]
          }
        },
        "b347b787b04c42e0aada0a5edbe9a475": {
          "model_module": "@jupyter-widgets/base",
          "model_name": "LayoutModel",
          "state": {
            "_view_name": "LayoutView",
            "grid_template_rows": null,
            "right": null,
            "justify_content": null,
            "_view_module": "@jupyter-widgets/base",
            "overflow": null,
            "_model_module_version": "1.2.0",
            "_view_count": null,
            "flex_flow": null,
            "width": null,
            "min_width": null,
            "border": null,
            "align_items": null,
            "bottom": null,
            "_model_module": "@jupyter-widgets/base",
            "top": null,
            "grid_column": null,
            "overflow_y": null,
            "overflow_x": null,
            "grid_auto_flow": null,
            "grid_area": null,
            "grid_template_columns": null,
            "flex": null,
            "_model_name": "LayoutModel",
            "justify_items": null,
            "grid_row": null,
            "max_height": null,
            "align_content": null,
            "visibility": null,
            "align_self": null,
            "height": null,
            "min_height": null,
            "padding": null,
            "grid_auto_rows": null,
            "grid_gap": null,
            "max_width": null,
            "order": null,
            "_view_module_version": "1.2.0",
            "grid_template_areas": null,
            "object_position": null,
            "object_fit": null,
            "grid_auto_columns": null,
            "margin": null,
            "display": null,
            "left": null
          }
        },
        "4f659615cba74c3faf51519199075a4e": {
          "model_module": "@jupyter-widgets/controls",
          "model_name": "FloatProgressModel",
          "state": {
            "_view_name": "ProgressView",
            "style": "IPY_MODEL_458e5320053a42a3afe6b80502fec42c",
            "_dom_classes": [],
            "description": "100%",
            "_model_name": "FloatProgressModel",
            "bar_style": "success",
            "max": 1057958,
            "_view_module": "@jupyter-widgets/controls",
            "_model_module_version": "1.5.0",
            "value": 1057958,
            "_view_count": null,
            "_view_module_version": "1.5.0",
            "orientation": "horizontal",
            "min": 0,
            "description_tooltip": null,
            "_model_module": "@jupyter-widgets/controls",
            "layout": "IPY_MODEL_22ac8a3721b941cda32139216e3c91b8"
          }
        },
        "080bc2fdeb6c49ff9850b71adc923576": {
          "model_module": "@jupyter-widgets/controls",
          "model_name": "HTMLModel",
          "state": {
            "_view_name": "HTMLView",
            "style": "IPY_MODEL_4ebadb83aafa454dac1ccb9f0929417e",
            "_dom_classes": [],
            "description": "",
            "_model_name": "HTMLModel",
            "placeholder": "​",
            "_view_module": "@jupyter-widgets/controls",
            "_model_module_version": "1.5.0",
            "value": " 1057958/1057958 [00:29&lt;00:00, 36357.68it/s]",
            "_view_count": null,
            "_view_module_version": "1.5.0",
            "description_tooltip": null,
            "_model_module": "@jupyter-widgets/controls",
            "layout": "IPY_MODEL_6f5e4a9314f34e5bbb152c03d73e2283"
          }
        },
        "458e5320053a42a3afe6b80502fec42c": {
          "model_module": "@jupyter-widgets/controls",
          "model_name": "ProgressStyleModel",
          "state": {
            "_view_name": "StyleView",
            "_model_name": "ProgressStyleModel",
            "description_width": "initial",
            "_view_module": "@jupyter-widgets/base",
            "_model_module_version": "1.5.0",
            "_view_count": null,
            "_view_module_version": "1.2.0",
            "bar_color": null,
            "_model_module": "@jupyter-widgets/controls"
          }
        },
        "22ac8a3721b941cda32139216e3c91b8": {
          "model_module": "@jupyter-widgets/base",
          "model_name": "LayoutModel",
          "state": {
            "_view_name": "LayoutView",
            "grid_template_rows": null,
            "right": null,
            "justify_content": null,
            "_view_module": "@jupyter-widgets/base",
            "overflow": null,
            "_model_module_version": "1.2.0",
            "_view_count": null,
            "flex_flow": null,
            "width": null,
            "min_width": null,
            "border": null,
            "align_items": null,
            "bottom": null,
            "_model_module": "@jupyter-widgets/base",
            "top": null,
            "grid_column": null,
            "overflow_y": null,
            "overflow_x": null,
            "grid_auto_flow": null,
            "grid_area": null,
            "grid_template_columns": null,
            "flex": null,
            "_model_name": "LayoutModel",
            "justify_items": null,
            "grid_row": null,
            "max_height": null,
            "align_content": null,
            "visibility": null,
            "align_self": null,
            "height": null,
            "min_height": null,
            "padding": null,
            "grid_auto_rows": null,
            "grid_gap": null,
            "max_width": null,
            "order": null,
            "_view_module_version": "1.2.0",
            "grid_template_areas": null,
            "object_position": null,
            "object_fit": null,
            "grid_auto_columns": null,
            "margin": null,
            "display": null,
            "left": null
          }
        },
        "4ebadb83aafa454dac1ccb9f0929417e": {
          "model_module": "@jupyter-widgets/controls",
          "model_name": "DescriptionStyleModel",
          "state": {
            "_view_name": "StyleView",
            "_model_name": "DescriptionStyleModel",
            "description_width": "",
            "_view_module": "@jupyter-widgets/base",
            "_model_module_version": "1.5.0",
            "_view_count": null,
            "_view_module_version": "1.2.0",
            "_model_module": "@jupyter-widgets/controls"
          }
        },
        "6f5e4a9314f34e5bbb152c03d73e2283": {
          "model_module": "@jupyter-widgets/base",
          "model_name": "LayoutModel",
          "state": {
            "_view_name": "LayoutView",
            "grid_template_rows": null,
            "right": null,
            "justify_content": null,
            "_view_module": "@jupyter-widgets/base",
            "overflow": null,
            "_model_module_version": "1.2.0",
            "_view_count": null,
            "flex_flow": null,
            "width": null,
            "min_width": null,
            "border": null,
            "align_items": null,
            "bottom": null,
            "_model_module": "@jupyter-widgets/base",
            "top": null,
            "grid_column": null,
            "overflow_y": null,
            "overflow_x": null,
            "grid_auto_flow": null,
            "grid_area": null,
            "grid_template_columns": null,
            "flex": null,
            "_model_name": "LayoutModel",
            "justify_items": null,
            "grid_row": null,
            "max_height": null,
            "align_content": null,
            "visibility": null,
            "align_self": null,
            "height": null,
            "min_height": null,
            "padding": null,
            "grid_auto_rows": null,
            "grid_gap": null,
            "max_width": null,
            "order": null,
            "_view_module_version": "1.2.0",
            "grid_template_areas": null,
            "object_position": null,
            "object_fit": null,
            "grid_auto_columns": null,
            "margin": null,
            "display": null,
            "left": null
          }
        },
        "6c01c7e207884885afa8ef09a070083a": {
          "model_module": "@jupyter-widgets/controls",
          "model_name": "HBoxModel",
          "state": {
            "_view_name": "HBoxView",
            "_dom_classes": [],
            "_model_name": "HBoxModel",
            "_view_module": "@jupyter-widgets/controls",
            "_model_module_version": "1.5.0",
            "_view_count": null,
            "_view_module_version": "1.5.0",
            "box_style": "",
            "layout": "IPY_MODEL_2ee6c38442854ce8b2bffe75018c42f5",
            "_model_module": "@jupyter-widgets/controls",
            "children": [
              "IPY_MODEL_fdd98ae0e4844ee88a47f9fcd272ae66",
              "IPY_MODEL_7b56bcdf238b42b785e3359ab2bda759"
            ]
          }
        },
        "2ee6c38442854ce8b2bffe75018c42f5": {
          "model_module": "@jupyter-widgets/base",
          "model_name": "LayoutModel",
          "state": {
            "_view_name": "LayoutView",
            "grid_template_rows": null,
            "right": null,
            "justify_content": null,
            "_view_module": "@jupyter-widgets/base",
            "overflow": null,
            "_model_module_version": "1.2.0",
            "_view_count": null,
            "flex_flow": null,
            "width": null,
            "min_width": null,
            "border": null,
            "align_items": null,
            "bottom": null,
            "_model_module": "@jupyter-widgets/base",
            "top": null,
            "grid_column": null,
            "overflow_y": null,
            "overflow_x": null,
            "grid_auto_flow": null,
            "grid_area": null,
            "grid_template_columns": null,
            "flex": null,
            "_model_name": "LayoutModel",
            "justify_items": null,
            "grid_row": null,
            "max_height": null,
            "align_content": null,
            "visibility": null,
            "align_self": null,
            "height": null,
            "min_height": null,
            "padding": null,
            "grid_auto_rows": null,
            "grid_gap": null,
            "max_width": null,
            "order": null,
            "_view_module_version": "1.2.0",
            "grid_template_areas": null,
            "object_position": null,
            "object_fit": null,
            "grid_auto_columns": null,
            "margin": null,
            "display": null,
            "left": null
          }
        },
        "fdd98ae0e4844ee88a47f9fcd272ae66": {
          "model_module": "@jupyter-widgets/controls",
          "model_name": "FloatProgressModel",
          "state": {
            "_view_name": "ProgressView",
            "style": "IPY_MODEL_64f2fe5532064a8face9e96abe305444",
            "_dom_classes": [],
            "description": "100%",
            "_model_name": "FloatProgressModel",
            "bar_style": "success",
            "max": 188142,
            "_view_module": "@jupyter-widgets/controls",
            "_model_module_version": "1.5.0",
            "value": 188142,
            "_view_count": null,
            "_view_module_version": "1.5.0",
            "orientation": "horizontal",
            "min": 0,
            "description_tooltip": null,
            "_model_module": "@jupyter-widgets/controls",
            "layout": "IPY_MODEL_b8d2820d9385445ba88167ea75cdd7fc"
          }
        },
        "7b56bcdf238b42b785e3359ab2bda759": {
          "model_module": "@jupyter-widgets/controls",
          "model_name": "HTMLModel",
          "state": {
            "_view_name": "HTMLView",
            "style": "IPY_MODEL_bc305344299140309b05672235d95688",
            "_dom_classes": [],
            "description": "",
            "_model_name": "HTMLModel",
            "placeholder": "​",
            "_view_module": "@jupyter-widgets/controls",
            "_model_module_version": "1.5.0",
            "value": " 188142/188142 [00:00&lt;00:00, 620226.52it/s]",
            "_view_count": null,
            "_view_module_version": "1.5.0",
            "description_tooltip": null,
            "_model_module": "@jupyter-widgets/controls",
            "layout": "IPY_MODEL_9143a6ca304f41acb772990216de9333"
          }
        },
        "64f2fe5532064a8face9e96abe305444": {
          "model_module": "@jupyter-widgets/controls",
          "model_name": "ProgressStyleModel",
          "state": {
            "_view_name": "StyleView",
            "_model_name": "ProgressStyleModel",
            "description_width": "initial",
            "_view_module": "@jupyter-widgets/base",
            "_model_module_version": "1.5.0",
            "_view_count": null,
            "_view_module_version": "1.2.0",
            "bar_color": null,
            "_model_module": "@jupyter-widgets/controls"
          }
        },
        "b8d2820d9385445ba88167ea75cdd7fc": {
          "model_module": "@jupyter-widgets/base",
          "model_name": "LayoutModel",
          "state": {
            "_view_name": "LayoutView",
            "grid_template_rows": null,
            "right": null,
            "justify_content": null,
            "_view_module": "@jupyter-widgets/base",
            "overflow": null,
            "_model_module_version": "1.2.0",
            "_view_count": null,
            "flex_flow": null,
            "width": null,
            "min_width": null,
            "border": null,
            "align_items": null,
            "bottom": null,
            "_model_module": "@jupyter-widgets/base",
            "top": null,
            "grid_column": null,
            "overflow_y": null,
            "overflow_x": null,
            "grid_auto_flow": null,
            "grid_area": null,
            "grid_template_columns": null,
            "flex": null,
            "_model_name": "LayoutModel",
            "justify_items": null,
            "grid_row": null,
            "max_height": null,
            "align_content": null,
            "visibility": null,
            "align_self": null,
            "height": null,
            "min_height": null,
            "padding": null,
            "grid_auto_rows": null,
            "grid_gap": null,
            "max_width": null,
            "order": null,
            "_view_module_version": "1.2.0",
            "grid_template_areas": null,
            "object_position": null,
            "object_fit": null,
            "grid_auto_columns": null,
            "margin": null,
            "display": null,
            "left": null
          }
        },
        "bc305344299140309b05672235d95688": {
          "model_module": "@jupyter-widgets/controls",
          "model_name": "DescriptionStyleModel",
          "state": {
            "_view_name": "StyleView",
            "_model_name": "DescriptionStyleModel",
            "description_width": "",
            "_view_module": "@jupyter-widgets/base",
            "_model_module_version": "1.5.0",
            "_view_count": null,
            "_view_module_version": "1.2.0",
            "_model_module": "@jupyter-widgets/controls"
          }
        },
        "9143a6ca304f41acb772990216de9333": {
          "model_module": "@jupyter-widgets/base",
          "model_name": "LayoutModel",
          "state": {
            "_view_name": "LayoutView",
            "grid_template_rows": null,
            "right": null,
            "justify_content": null,
            "_view_module": "@jupyter-widgets/base",
            "overflow": null,
            "_model_module_version": "1.2.0",
            "_view_count": null,
            "flex_flow": null,
            "width": null,
            "min_width": null,
            "border": null,
            "align_items": null,
            "bottom": null,
            "_model_module": "@jupyter-widgets/base",
            "top": null,
            "grid_column": null,
            "overflow_y": null,
            "overflow_x": null,
            "grid_auto_flow": null,
            "grid_area": null,
            "grid_template_columns": null,
            "flex": null,
            "_model_name": "LayoutModel",
            "justify_items": null,
            "grid_row": null,
            "max_height": null,
            "align_content": null,
            "visibility": null,
            "align_self": null,
            "height": null,
            "min_height": null,
            "padding": null,
            "grid_auto_rows": null,
            "grid_gap": null,
            "max_width": null,
            "order": null,
            "_view_module_version": "1.2.0",
            "grid_template_areas": null,
            "object_position": null,
            "object_fit": null,
            "grid_auto_columns": null,
            "margin": null,
            "display": null,
            "left": null
          }
        }
      }
    }
  },
  "cells": [
    {
      "cell_type": "markdown",
      "metadata": {
        "id": "view-in-github",
        "colab_type": "text"
      },
      "source": [
        "<a href=\"https://colab.research.google.com/github/dohyun1411/Quora-Insincere-Questions-Classification/blob/preprocessing1/embedding_with_keras.ipynb\" target=\"_parent\"><img src=\"https://colab.research.google.com/assets/colab-badge.svg\" alt=\"Open In Colab\"/></a>"
      ]
    },
    {
      "cell_type": "markdown",
      "metadata": {
        "id": "TRZNHTxB_jbJ"
      },
      "source": [
        "references:\n",
        "\n",
        "https://www.kaggle.com/strideradu/word2vec-and-gensim-go-go-go\n",
        "\n",
        "https://www.kaggle.com/alhalimi/tokenization-and-word-embedding-compatibility\n",
        "\n",
        "https://www.kaggle.com/canming/ensemble-mean-iii-64-36"
      ]
    },
    {
      "cell_type": "code",
      "metadata": {
        "colab": {
          "base_uri": "https://localhost:8080/"
        },
        "id": "wOcuWwrS8nNX",
        "outputId": "6fcfe4bc-93c4-4567-e260-51484b94611a"
      },
      "source": [
        "import gc\n",
        "\n",
        "import numpy as np\n",
        "import pandas as pd\n",
        "from tqdm.auto import tqdm\n",
        "tqdm.pandas()"
      ],
      "execution_count": 1,
      "outputs": [
        {
          "output_type": "stream",
          "text": [
            "/usr/local/lib/python3.7/dist-packages/tqdm/std.py:658: FutureWarning: The Panel class is removed from pandas. Accessing it from the top-level namespace will also be removed in the next version\n",
            "  from pandas import Panel\n"
          ],
          "name": "stderr"
        }
      ]
    },
    {
      "cell_type": "code",
      "metadata": {
        "id": "9W2i5_V98vIt"
      },
      "source": [
        "import os\n",
        "\n",
        "# input_path = '/kaggle/input/quora-insincere-questions-classification'\n",
        "input_path = '/content/drive/MyDrive/ColabNotebooks/QIQC/data'\n",
        "train_path = os.path.join(input_path, 'train.csv')\n",
        "test_path = os.path.join(input_path, 'test.csv')\n",
        "embeddings_path = os.path.join(input_path, 'embeddings.zip')"
      ],
      "execution_count": 4,
      "outputs": []
    },
    {
      "cell_type": "code",
      "metadata": {
        "colab": {
          "base_uri": "https://localhost:8080/"
        },
        "id": "dMtlqbXF9DLj",
        "outputId": "27374cc5-6b72-4fb9-e85c-c7615548c305"
      },
      "source": [
        "if os.path.exists(train_path): train_df = pd.read_csv(train_path)\n",
        "else: train_df = pd.read_csv(train_path + '.zip')\n",
        "\n",
        "if os.path.exists(test_path): test_df = pd.read_csv(train_path)\n",
        "else: test_df = pd.read_csv(test_path + '.zip')\n",
        "\n",
        "print('train shape:', train_df.shape)\n",
        "print('test shape:', test_df.shape)"
      ],
      "execution_count": 6,
      "outputs": [
        {
          "output_type": "stream",
          "text": [
            "train shape: (1306122, 3)\n",
            "test shape: (1306122, 3)\n"
          ],
          "name": "stdout"
        }
      ]
    },
    {
      "cell_type": "code",
      "metadata": {
        "id": "6CwM8vOz_-Cf"
      },
      "source": [
        "from sklearn.model_selection import train_test_split\n",
        "\n",
        "# split to train and val\n",
        "train_df, val_df = train_test_split(train_df, test_size=0.1)\n",
        "\n",
        "# some config values \n",
        "embed_size = 300 # how big is each word vector\n",
        "max_features = 50000 # how many unique words to use (i.e num rows in embedding vector)\n",
        "maxlen = 100 # max number of words in a question to use\n",
        "\n",
        "# fill up the missing values\n",
        "train_X = train_df[\"question_text\"].fillna(\"_na_\").values\n",
        "val_X = val_df[\"question_text\"].fillna(\"_na_\").values\n",
        "test_X = test_df[\"question_text\"].fillna(\"_na_\").values\n",
        "\n",
        "# Get the target values\n",
        "train_y = train_df['target'].values\n",
        "val_y = val_df['target'].values"
      ],
      "execution_count": 34,
      "outputs": []
    },
    {
      "cell_type": "code",
      "metadata": {
        "colab": {
          "base_uri": "https://localhost:8080/"
        },
        "id": "rH5Ry0fvArrh",
        "outputId": "c66421ed-c872-4e94-a58a-31343876faf7"
      },
      "source": [
        "%%time\n",
        "from keras.preprocessing.text import Tokenizer\n",
        "\n",
        "# Tokenize the sentences\n",
        "tokenizer = Tokenizer(num_words=max_features)\n",
        "tokenizer.fit_on_texts(list(train_X))\n",
        "train_X = tokenizer.texts_to_sequences(train_X)\n",
        "val_X = tokenizer.texts_to_sequences(val_X)\n",
        "test_X = tokenizer.texts_to_sequences(test_X)"
      ],
      "execution_count": 35,
      "outputs": [
        {
          "output_type": "stream",
          "text": [
            "CPU times: user 50.3 s, sys: 409 ms, total: 50.7 s\n",
            "Wall time: 50.6 s\n"
          ],
          "name": "stdout"
        }
      ]
    },
    {
      "cell_type": "code",
      "metadata": {
        "colab": {
          "base_uri": "https://localhost:8080/"
        },
        "id": "0wzFwXS4A-rM",
        "outputId": "bf7ddea2-cdbc-40c1-c19e-b5444e144c93"
      },
      "source": [
        "%%time\n",
        "from keras.preprocessing.sequence import pad_sequences\n",
        "\n",
        "# Pad the sentences \n",
        "train_X = pad_sequences(train_X, maxlen=maxlen)\n",
        "val_X = pad_sequences(val_X, maxlen=maxlen)\n",
        "test_X = pad_sequences(test_X, maxlen=maxlen)"
      ],
      "execution_count": 36,
      "outputs": [
        {
          "output_type": "stream",
          "text": [
            "CPU times: user 10.7 s, sys: 230 ms, total: 10.9 s\n",
            "Wall time: 10.7 s\n"
          ],
          "name": "stdout"
        }
      ]
    },
    {
      "cell_type": "code",
      "metadata": {
        "id": "hnq3BiZTD5Cl"
      },
      "source": [
        "import zipfile\n",
        "from gensim.models import KeyedVectors\n",
        "\n",
        "glove = 'glove.840B.300d/glove.840B.300d.txt'\n",
        "wiki = 'wiki-news-300d-1M/wiki-news-300d-1M.vec'\n",
        "google = 'GoogleNews-vectors-negative300/GoogleNews-vectors-negative300.bin'\n",
        "para = 'paragram_300_sl999/paragram_300_sl999.txt'\n",
        "\n",
        "\n",
        "def load_embedding(embedding_name):\n",
        "\n",
        "    def get_coefs(word, *arr): return word, np.asarray(arr, dtype='float32')\n",
        "\n",
        "    with zipfile.ZipFile(embeddings_path) as embeddings_zip:\n",
        "        print(\"Found embeddings as a zip file\")\n",
        "\n",
        "        if embedding_name == google:\n",
        "            return KeyedVectors.load_word2vec_format(embeddings_zip.open(google), binary=True)\n",
        "\n",
        "        else:\n",
        "            embedding = []\n",
        "            for o in embeddings_zip.open(embedding_name):\n",
        "                try:\n",
        "                    if len(o.decode('utf-8')) > 100:\n",
        "                        embedding.append(get_coefs(*o.decode('utf-8').split(\" \")))\n",
        "                except:\n",
        "                    pass\n",
        "        \n",
        "        return dict(embedding)"
      ],
      "execution_count": 106,
      "outputs": []
    },
    {
      "cell_type": "code",
      "metadata": {
        "colab": {
          "base_uri": "https://localhost:8080/"
        },
        "id": "TcEzV9f9GIa_",
        "outputId": "3fca895d-487e-4479-9bb0-6c14c5ce35a2"
      },
      "source": [
        "%%time\n",
        "glove_embedding = load_embedding(glove) # 3min 21s in Colab"
      ],
      "execution_count": 107,
      "outputs": [
        {
          "output_type": "stream",
          "text": [
            "Found embeddings as a zip file\n",
            "CPU times: user 3min 18s, sys: 6.65 s, total: 3min 24s\n",
            "Wall time: 3min 24s\n"
          ],
          "name": "stdout"
        }
      ]
    },
    {
      "cell_type": "code",
      "metadata": {
        "colab": {
          "base_uri": "https://localhost:8080/"
        },
        "id": "B3OoBZxpHZ5L",
        "outputId": "87cdf1ac-0f44-482a-dc7d-4d1b5079f372"
      },
      "source": [
        "%%time\n",
        "wiki_embedding = load_embedding(wiki) # 1min 20s in Colab"
      ],
      "execution_count": 108,
      "outputs": [
        {
          "output_type": "stream",
          "text": [
            "Found embeddings as a zip file\n",
            "CPU times: user 1min 20s, sys: 1.32 s, total: 1min 21s\n",
            "Wall time: 1min 21s\n"
          ],
          "name": "stdout"
        }
      ]
    },
    {
      "cell_type": "code",
      "metadata": {
        "colab": {
          "base_uri": "https://localhost:8080/"
        },
        "id": "ayRUyP67ZYPg",
        "outputId": "40dc693f-d7bd-47fa-9bb9-cae0e3e72656"
      },
      "source": [
        "%%time\n",
        "google_embedding = load_embedding(google) # 1min 50s in Colab"
      ],
      "execution_count": 109,
      "outputs": [
        {
          "output_type": "stream",
          "text": [
            "Found embeddings as a zip file\n",
            "CPU times: user 1min 47s, sys: 3.52 s, total: 1min 50s\n",
            "Wall time: 1min 50s\n"
          ],
          "name": "stdout"
        }
      ]
    },
    {
      "cell_type": "code",
      "metadata": {
        "colab": {
          "base_uri": "https://localhost:8080/"
        },
        "id": "IPnFyajwopvd",
        "outputId": "9dbdbd48-290d-46dd-a787-2d794877c2ad"
      },
      "source": [
        "%%time\n",
        "para_embedding = load_embedding(para) # 2min 40s in Colab"
      ],
      "execution_count": 110,
      "outputs": [
        {
          "output_type": "stream",
          "text": [
            "Found embeddings as a zip file\n",
            "CPU times: user 2min 37s, sys: 2.77 s, total: 2min 40s\n",
            "Wall time: 2min 40s\n"
          ],
          "name": "stdout"
        }
      ]
    },
    {
      "cell_type": "code",
      "metadata": {
        "id": "n0D2JNPXKgGk"
      },
      "source": [
        "word_index = tokenizer.word_index\n",
        "nb_words = min(max_features, len(word_index))"
      ],
      "execution_count": 111,
      "outputs": []
    },
    {
      "cell_type": "code",
      "metadata": {
        "id": "D0dvpL-_VnCA"
      },
      "source": [
        "has_get_emb_stats = True # set False if we have not get emb stats\n",
        "if not has_get_emb_stats:\n",
        "\n",
        "    def get_emb_stats(embedding):\n",
        "\n",
        "        # Put all embeddings in a numpy matrix\n",
        "        try:\n",
        "            all_embs= np.stack(embedding.values())\n",
        "        except:\n",
        "            all_embs = embedding.vectors\n",
        "\n",
        "        # Get embedding stats\n",
        "        emb_mean = all_embs.mean()\n",
        "        emb_std = all_embs.std()\n",
        "        \n",
        "        return emb_mean,emb_std\n",
        "    \n",
        "\n",
        "    glove_emb_mean, glove_emb_std = get_emb_stats(glove_embedding)\n",
        "    wiki_emb_mean, wiki_emb_std = get_emb_stats(wiki_embedding)\n",
        "    google_emb_mean, google_emb_std = get_emb_stats(google_embedding)\n",
        "    para_emb_mean, para_emb_std = get_emb_stats(para_embedding)\n",
        "\n",
        "    print('glove emb mean:', glove_emb_mean, 'emb_std:', glove_emb_std)\n",
        "    print('wiki emb mean:', wiki_emb_mean, 'emb_std:', wiki_emb_std)\n",
        "    print('google emb mean:', google_emb_mean, 'emb_std:', google_emb_std)\n",
        "    print('para emb mean:', para_emb_mean, 'emb_std:', para_emb_std)\n",
        "\n",
        "else:\n",
        "    glove_emb_mean, glove_emb_std = -0.005838499, 0.48782197\n",
        "    wiki_emb_mean, wiki_emb_std = -0.0033469985, 0.109855495\n",
        "    google_emb_mean, google_emb_std = -0.003527845, 0.13315111\n",
        "    para_emb_mean, para_emb_std = -0.0053248387, 0.49346521"
      ],
      "execution_count": 121,
      "outputs": []
    },
    {
      "cell_type": "code",
      "metadata": {
        "id": "JckVXdIfz6Gz"
      },
      "source": [
        "glove_embedding_matrix = np.random.normal(glove_emb_mean, glove_emb_std, (max_features, embed_size))\n",
        "wiki_embedding_matrix = np.random.normal(wiki_emb_mean, wiki_emb_std, (max_features, embed_size))\n",
        "google_embedding_matrix = np.random.normal(google_emb_mean, google_emb_std, (max_features, embed_size))\n",
        "para_embedding_matrix = np.random.normal(para_emb_mean, para_emb_std, (max_features, embed_size))"
      ],
      "execution_count": 123,
      "outputs": []
    },
    {
      "cell_type": "code",
      "metadata": {
        "id": "TABgPTcaEbta",
        "colab": {
          "base_uri": "https://localhost:8080/",
          "height": 66,
          "referenced_widgets": [
            "deb045655b184b7ea4e2b9e67bf66975",
            "7f804b03e4ea46cdbe8956d7ae21cb69",
            "d139d3d98f764fba92d1dfd881b92eb1",
            "1e22a7c09faa4b6fa00d98bc3c37bf5f",
            "ebf8f4a342e34fadafb89a146f32ef01",
            "6abc954387e641d487cf0e53d551f508",
            "d5e4b2178cbe4aa3b3d72c9230a63599",
            "d762b82ff4c4468a8dfe62b1bb14ecd3"
          ]
        },
        "outputId": "8d08d442-59d7-41eb-b817-0c6fbd8f0358"
      },
      "source": [
        "glove_oov = {}\n",
        "wiki_oov = {}\n",
        "google_oov = {}\n",
        "para_oov = {}\n",
        "for word, i in tqdm(word_index.items()):\n",
        "    if i >= max_features: continue\n",
        "    if word in glove_embedding:\n",
        "        embedding_vector = glove_embedding[word]\n",
        "        glove_embedding_matrix[i] = embedding_vector\n",
        "    else:\n",
        "        glove_oov[word] = i\n",
        "    if word in wiki_embedding:\n",
        "        embedding_vector = wiki_embedding[word]\n",
        "        wiki_embedding_matrix[i] = embedding_vector\n",
        "    else:\n",
        "        wiki_oov[word] = i\n",
        "    if word in google_embedding:\n",
        "        embedding_vector = google_embedding[word]\n",
        "        google_embedding_matrix[i] = embedding_vector\n",
        "    else:\n",
        "        google_oov[word] = i\n",
        "    if word in para_embedding:\n",
        "        embedding_vector = para_embedding[word]\n",
        "        para_embedding_matrix[i] = embedding_vector\n",
        "    else:\n",
        "        para_oov[word] = i"
      ],
      "execution_count": 194,
      "outputs": [
        {
          "output_type": "display_data",
          "data": {
            "application/vnd.jupyter.widget-view+json": {
              "model_id": "deb045655b184b7ea4e2b9e67bf66975",
              "version_minor": 0,
              "version_major": 2
            },
            "text/plain": [
              "HBox(children=(FloatProgress(value=0.0, max=197701.0), HTML(value='')))"
            ]
          },
          "metadata": {
            "tags": []
          }
        },
        {
          "output_type": "stream",
          "text": [
            "\n"
          ],
          "name": "stdout"
        }
      ]
    },
    {
      "cell_type": "code",
      "metadata": {
        "id": "qnIA_BYQMJFI",
        "colab": {
          "base_uri": "https://localhost:8080/"
        },
        "outputId": "673320c2-04ed-42be-f363-ba248b50c35d"
      },
      "source": [
        "print('percentage of oov of glove: {:.2f}%'.format(len(glove_oov) / max_features * 100))\n",
        "print('percentage of oov of wiki: {:.2f}%'.format(len(wiki_oov) / max_features * 100))\n",
        "print('percentage of oov of google: {:.2f}%'.format(len(google_oov) / max_features * 100))\n",
        "print('percentage of oov of para: {:.2f}%'.format(len(para_oov) / max_features * 100))"
      ],
      "execution_count": 195,
      "outputs": [
        {
          "output_type": "stream",
          "text": [
            "percentage of oov of glove: 8.15%\n",
            "percentage of oov of wiki: 14.66%\n",
            "percentage of oov of google: 23.63%\n",
            "percentage of oov of para: 5.64%\n"
          ],
          "name": "stdout"
        }
      ]
    },
    {
      "cell_type": "markdown",
      "metadata": {
        "id": "xZRS5uW15fdM"
      },
      "source": [
        "We will clean the numbers."
      ]
    },
    {
      "cell_type": "code",
      "metadata": {
        "id": "rqwPxXC1MRpk"
      },
      "source": [
        "import re\n",
        "\n",
        "def clean_numbers(x):\n",
        "\n",
        "    x = re.sub('[0-9]{5,}', '#####', x)\n",
        "    x = re.sub('[0-9]{4}', '####', x)\n",
        "    x = re.sub('[0-9]{3}', '###', x)\n",
        "    x = re.sub('[0-9]{2}', '##', x)\n",
        "    \n",
        "    return x"
      ],
      "execution_count": 137,
      "outputs": []
    },
    {
      "cell_type": "code",
      "metadata": {
        "colab": {
          "base_uri": "https://localhost:8080/",
          "height": 66,
          "referenced_widgets": [
            "ced5e75c9cc84f36b4900aad65d36bf8",
            "b347b787b04c42e0aada0a5edbe9a475",
            "4f659615cba74c3faf51519199075a4e",
            "080bc2fdeb6c49ff9850b71adc923576",
            "458e5320053a42a3afe6b80502fec42c",
            "22ac8a3721b941cda32139216e3c91b8",
            "4ebadb83aafa454dac1ccb9f0929417e",
            "6f5e4a9314f34e5bbb152c03d73e2283"
          ]
        },
        "id": "DArLgeya5TPq",
        "outputId": "5c2f1506-7568-463f-b746-e1eae3ec3d41"
      },
      "source": [
        "no_num_tokenizer = Tokenizer()\n",
        "no_num_tokenizer.fit_on_texts(list(train_df['question_text'].fillna('__na__').progress_apply(lambda x: clean_numbers(x)).values))"
      ],
      "execution_count": 144,
      "outputs": [
        {
          "output_type": "display_data",
          "data": {
            "application/vnd.jupyter.widget-view+json": {
              "model_id": "ced5e75c9cc84f36b4900aad65d36bf8",
              "version_minor": 0,
              "version_major": 2
            },
            "text/plain": [
              "HBox(children=(FloatProgress(value=0.0, max=1057958.0), HTML(value='')))"
            ]
          },
          "metadata": {
            "tags": []
          }
        },
        {
          "output_type": "stream",
          "text": [
            "\n"
          ],
          "name": "stdout"
        }
      ]
    },
    {
      "cell_type": "code",
      "metadata": {
        "colab": {
          "base_uri": "https://localhost:8080/"
        },
        "id": "xP3L2QAY8nK5",
        "outputId": "6f380df0-2143-41be-fea1-4ec35268e72e"
      },
      "source": [
        "import random\n",
        "\n",
        "for i in range(10):\n",
        "    n = random.randint(0, 20000)\n",
        "    if str(n) not in glove_embedding: print(n, 'is not in glove embedding')\n",
        "    if str(n) not in wiki_embedding: print(n, 'is not in wiki embedding')\n",
        "    # if str(n) not in google_embedding: print(n, 'is not in google embedding')\n",
        "    if str(n) not in para_embedding: print(n, 'is not in para embedding')"
      ],
      "execution_count": 193,
      "outputs": [
        {
          "output_type": "stream",
          "text": [
            "16549 is not in wiki embedding\n",
            "18935 is not in wiki embedding\n",
            "17341 is not in wiki embedding\n",
            "19366 is not in wiki embedding\n",
            "19505 is not in wiki embedding\n"
          ],
          "name": "stdout"
        }
      ]
    },
    {
      "cell_type": "markdown",
      "metadata": {
        "id": "CvPqEc9-9PV3"
      },
      "source": [
        "google embedding only have few numbers so we will clean all the numbers.\n",
        "\n",
        "It seems like other embeddings have numbers up to 10,000 so we will not clean the numbers."
      ]
    },
    {
      "cell_type": "code",
      "metadata": {
        "colab": {
          "base_uri": "https://localhost:8080/",
          "height": 66,
          "referenced_widgets": [
            "6c01c7e207884885afa8ef09a070083a",
            "2ee6c38442854ce8b2bffe75018c42f5",
            "fdd98ae0e4844ee88a47f9fcd272ae66",
            "7b56bcdf238b42b785e3359ab2bda759",
            "64f2fe5532064a8face9e96abe305444",
            "b8d2820d9385445ba88167ea75cdd7fc",
            "bc305344299140309b05672235d95688",
            "9143a6ca304f41acb772990216de9333"
          ]
        },
        "id": "CLNCG7Qz7pFq",
        "outputId": "c7c2b495-5d4f-46c7-efe8-2d586001340b"
      },
      "source": [
        "no_num_word_index = no_num_tokenizer.word_index\n",
        "\n",
        "google_oov = {}\n",
        "for word, i in tqdm(no_num_word_index.items()):\n",
        "    if i >= max_features: continue\n",
        "    if word in google_embedding:\n",
        "        embedding_vector = google_embedding[word]\n",
        "        google_embedding_matrix[i] = embedding_vector\n",
        "    else:\n",
        "        google_oov[word] = i"
      ],
      "execution_count": 196,
      "outputs": [
        {
          "output_type": "display_data",
          "data": {
            "application/vnd.jupyter.widget-view+json": {
              "model_id": "6c01c7e207884885afa8ef09a070083a",
              "version_minor": 0,
              "version_major": 2
            },
            "text/plain": [
              "HBox(children=(FloatProgress(value=0.0, max=188142.0), HTML(value='')))"
            ]
          },
          "metadata": {
            "tags": []
          }
        },
        {
          "output_type": "stream",
          "text": [
            "\n"
          ],
          "name": "stdout"
        }
      ]
    },
    {
      "cell_type": "code",
      "metadata": {
        "colab": {
          "base_uri": "https://localhost:8080/"
        },
        "id": "uZODaWSF7wiO",
        "outputId": "c8429025-2e53-4aa5-b485-c326d4a2c2b3"
      },
      "source": [
        "print('percentage of oov of glove: {:.2f}%'.format(len(glove_oov) / max_features * 100))\n",
        "print('percentage of oov of wiki: {:.2f}%'.format(len(wiki_oov) / max_features * 100))\n",
        "print('percentage of oov of google: {:.2f}%'.format(len(google_oov) / max_features * 100))\n",
        "print('percentage of oov of para: {:.2f}%'.format(len(para_oov) / max_features * 100))"
      ],
      "execution_count": 197,
      "outputs": [
        {
          "output_type": "stream",
          "text": [
            "percentage of oov of glove: 8.15%\n",
            "percentage of oov of wiki: 14.66%\n",
            "percentage of oov of google: 22.13%\n",
            "percentage of oov of para: 5.64%\n"
          ],
          "name": "stdout"
        }
      ]
    },
    {
      "cell_type": "markdown",
      "metadata": {
        "id": "JJ835PH375v3"
      },
      "source": [
        "percentage of oov of google: 22.63% -> 22.13%"
      ]
    },
    {
      "cell_type": "code",
      "metadata": {
        "id": "ZjBoPwW28j8B"
      },
      "source": [
        ""
      ],
      "execution_count": null,
      "outputs": []
    }
  ]
}