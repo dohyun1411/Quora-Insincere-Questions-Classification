{
  "nbformat": 4,
  "nbformat_minor": 0,
  "metadata": {
    "accelerator": "GPU",
    "colab": {
      "name": "embedding_with_keras.ipynb",
      "provenance": [],
      "collapsed_sections": [],
      "machine_shape": "hm",
      "mount_file_id": "14imiGNeGGpyUAS_LjCQND9AsaRzv3MYz",
      "authorship_tag": "ABX9TyOu+XrgTVlZFFFEZYf7Bntd",
      "include_colab_link": true
    },
    "kernelspec": {
      "display_name": "Python 3",
      "name": "python3"
    },
    "language_info": {
      "name": "python"
    },
    "widgets": {
      "application/vnd.jupyter.widget-state+json": {
        "75be2f479a8d4ddea565c8fbe924c791": {
          "model_module": "@jupyter-widgets/controls",
          "model_name": "HBoxModel",
          "state": {
            "_view_name": "HBoxView",
            "_dom_classes": [],
            "_model_name": "HBoxModel",
            "_view_module": "@jupyter-widgets/controls",
            "_model_module_version": "1.5.0",
            "_view_count": null,
            "_view_module_version": "1.5.0",
            "box_style": "",
            "layout": "IPY_MODEL_e9ed4718ef424c0c9c99a59d7f13b4f9",
            "_model_module": "@jupyter-widgets/controls",
            "children": [
              "IPY_MODEL_3d3c37eb4dc941518767ea140d8426b0",
              "IPY_MODEL_33996d986d534ae28090ef28de63de85"
            ]
          }
        },
        "e9ed4718ef424c0c9c99a59d7f13b4f9": {
          "model_module": "@jupyter-widgets/base",
          "model_name": "LayoutModel",
          "state": {
            "_view_name": "LayoutView",
            "grid_template_rows": null,
            "right": null,
            "justify_content": null,
            "_view_module": "@jupyter-widgets/base",
            "overflow": null,
            "_model_module_version": "1.2.0",
            "_view_count": null,
            "flex_flow": null,
            "width": null,
            "min_width": null,
            "border": null,
            "align_items": null,
            "bottom": null,
            "_model_module": "@jupyter-widgets/base",
            "top": null,
            "grid_column": null,
            "overflow_y": null,
            "overflow_x": null,
            "grid_auto_flow": null,
            "grid_area": null,
            "grid_template_columns": null,
            "flex": null,
            "_model_name": "LayoutModel",
            "justify_items": null,
            "grid_row": null,
            "max_height": null,
            "align_content": null,
            "visibility": null,
            "align_self": null,
            "height": null,
            "min_height": null,
            "padding": null,
            "grid_auto_rows": null,
            "grid_gap": null,
            "max_width": null,
            "order": null,
            "_view_module_version": "1.2.0",
            "grid_template_areas": null,
            "object_position": null,
            "object_fit": null,
            "grid_auto_columns": null,
            "margin": null,
            "display": null,
            "left": null
          }
        },
        "3d3c37eb4dc941518767ea140d8426b0": {
          "model_module": "@jupyter-widgets/controls",
          "model_name": "FloatProgressModel",
          "state": {
            "_view_name": "ProgressView",
            "style": "IPY_MODEL_ec4c8e59dae04f7ab5155e879287613b",
            "_dom_classes": [],
            "description": "100%",
            "_model_name": "FloatProgressModel",
            "bar_style": "success",
            "max": 197701,
            "_view_module": "@jupyter-widgets/controls",
            "_model_module_version": "1.5.0",
            "value": 197701,
            "_view_count": null,
            "_view_module_version": "1.5.0",
            "orientation": "horizontal",
            "min": 0,
            "description_tooltip": null,
            "_model_module": "@jupyter-widgets/controls",
            "layout": "IPY_MODEL_7f2cdb799130412e89e7aefa7b7b805d"
          }
        },
        "33996d986d534ae28090ef28de63de85": {
          "model_module": "@jupyter-widgets/controls",
          "model_name": "HTMLModel",
          "state": {
            "_view_name": "HTMLView",
            "style": "IPY_MODEL_1af3eff9a0d44c4b9e46972d575dda7b",
            "_dom_classes": [],
            "description": "",
            "_model_name": "HTMLModel",
            "placeholder": "​",
            "_view_module": "@jupyter-widgets/controls",
            "_model_module_version": "1.5.0",
            "value": " 197701/197701 [00:31&lt;00:00, 6250.02it/s]",
            "_view_count": null,
            "_view_module_version": "1.5.0",
            "description_tooltip": null,
            "_model_module": "@jupyter-widgets/controls",
            "layout": "IPY_MODEL_4d7a181a91be47f394ced8f3844de563"
          }
        },
        "ec4c8e59dae04f7ab5155e879287613b": {
          "model_module": "@jupyter-widgets/controls",
          "model_name": "ProgressStyleModel",
          "state": {
            "_view_name": "StyleView",
            "_model_name": "ProgressStyleModel",
            "description_width": "initial",
            "_view_module": "@jupyter-widgets/base",
            "_model_module_version": "1.5.0",
            "_view_count": null,
            "_view_module_version": "1.2.0",
            "bar_color": null,
            "_model_module": "@jupyter-widgets/controls"
          }
        },
        "7f2cdb799130412e89e7aefa7b7b805d": {
          "model_module": "@jupyter-widgets/base",
          "model_name": "LayoutModel",
          "state": {
            "_view_name": "LayoutView",
            "grid_template_rows": null,
            "right": null,
            "justify_content": null,
            "_view_module": "@jupyter-widgets/base",
            "overflow": null,
            "_model_module_version": "1.2.0",
            "_view_count": null,
            "flex_flow": null,
            "width": null,
            "min_width": null,
            "border": null,
            "align_items": null,
            "bottom": null,
            "_model_module": "@jupyter-widgets/base",
            "top": null,
            "grid_column": null,
            "overflow_y": null,
            "overflow_x": null,
            "grid_auto_flow": null,
            "grid_area": null,
            "grid_template_columns": null,
            "flex": null,
            "_model_name": "LayoutModel",
            "justify_items": null,
            "grid_row": null,
            "max_height": null,
            "align_content": null,
            "visibility": null,
            "align_self": null,
            "height": null,
            "min_height": null,
            "padding": null,
            "grid_auto_rows": null,
            "grid_gap": null,
            "max_width": null,
            "order": null,
            "_view_module_version": "1.2.0",
            "grid_template_areas": null,
            "object_position": null,
            "object_fit": null,
            "grid_auto_columns": null,
            "margin": null,
            "display": null,
            "left": null
          }
        },
        "1af3eff9a0d44c4b9e46972d575dda7b": {
          "model_module": "@jupyter-widgets/controls",
          "model_name": "DescriptionStyleModel",
          "state": {
            "_view_name": "StyleView",
            "_model_name": "DescriptionStyleModel",
            "description_width": "",
            "_view_module": "@jupyter-widgets/base",
            "_model_module_version": "1.5.0",
            "_view_count": null,
            "_view_module_version": "1.2.0",
            "_model_module": "@jupyter-widgets/controls"
          }
        },
        "4d7a181a91be47f394ced8f3844de563": {
          "model_module": "@jupyter-widgets/base",
          "model_name": "LayoutModel",
          "state": {
            "_view_name": "LayoutView",
            "grid_template_rows": null,
            "right": null,
            "justify_content": null,
            "_view_module": "@jupyter-widgets/base",
            "overflow": null,
            "_model_module_version": "1.2.0",
            "_view_count": null,
            "flex_flow": null,
            "width": null,
            "min_width": null,
            "border": null,
            "align_items": null,
            "bottom": null,
            "_model_module": "@jupyter-widgets/base",
            "top": null,
            "grid_column": null,
            "overflow_y": null,
            "overflow_x": null,
            "grid_auto_flow": null,
            "grid_area": null,
            "grid_template_columns": null,
            "flex": null,
            "_model_name": "LayoutModel",
            "justify_items": null,
            "grid_row": null,
            "max_height": null,
            "align_content": null,
            "visibility": null,
            "align_self": null,
            "height": null,
            "min_height": null,
            "padding": null,
            "grid_auto_rows": null,
            "grid_gap": null,
            "max_width": null,
            "order": null,
            "_view_module_version": "1.2.0",
            "grid_template_areas": null,
            "object_position": null,
            "object_fit": null,
            "grid_auto_columns": null,
            "margin": null,
            "display": null,
            "left": null
          }
        }
      }
    }
  },
  "cells": [
    {
      "cell_type": "markdown",
      "metadata": {
        "id": "view-in-github",
        "colab_type": "text"
      },
      "source": [
        "<a href=\"https://colab.research.google.com/github/dohyun1411/Quora-Insincere-Questions-Classification/blob/preprocessing1/embedding_with_keras.ipynb\" target=\"_parent\"><img src=\"https://colab.research.google.com/assets/colab-badge.svg\" alt=\"Open In Colab\"/></a>"
      ]
    },
    {
      "cell_type": "markdown",
      "metadata": {
        "id": "TRZNHTxB_jbJ"
      },
      "source": [
        "references:\n",
        "\n",
        "https://www.kaggle.com/strideradu/word2vec-and-gensim-go-go-go\n",
        "\n",
        "https://www.kaggle.com/alhalimi/tokenization-and-word-embedding-compatibility\n",
        "\n",
        "https://www.kaggle.com/canming/ensemble-mean-iii-64-36"
      ]
    },
    {
      "cell_type": "code",
      "metadata": {
        "colab": {
          "base_uri": "https://localhost:8080/"
        },
        "id": "wOcuWwrS8nNX",
        "outputId": "6fcfe4bc-93c4-4567-e260-51484b94611a"
      },
      "source": [
        "import gc\n",
        "\n",
        "import numpy as np\n",
        "import pandas as pd\n",
        "from tqdm.auto import tqdm\n",
        "tqdm.pandas()"
      ],
      "execution_count": 1,
      "outputs": [
        {
          "output_type": "stream",
          "text": [
            "/usr/local/lib/python3.7/dist-packages/tqdm/std.py:658: FutureWarning: The Panel class is removed from pandas. Accessing it from the top-level namespace will also be removed in the next version\n",
            "  from pandas import Panel\n"
          ],
          "name": "stderr"
        }
      ]
    },
    {
      "cell_type": "code",
      "metadata": {
        "id": "9W2i5_V98vIt"
      },
      "source": [
        "import os\n",
        "\n",
        "# input_path = '/kaggle/input/quora-insincere-questions-classification'\n",
        "input_path = '/content/drive/MyDrive/ColabNotebooks/QIQC/data'\n",
        "train_path = os.path.join(input_path, 'train.csv')\n",
        "test_path = os.path.join(input_path, 'test.csv')\n",
        "embeddings_path = os.path.join(input_path, 'embeddings.zip')"
      ],
      "execution_count": 4,
      "outputs": []
    },
    {
      "cell_type": "code",
      "metadata": {
        "colab": {
          "base_uri": "https://localhost:8080/"
        },
        "id": "dMtlqbXF9DLj",
        "outputId": "27374cc5-6b72-4fb9-e85c-c7615548c305"
      },
      "source": [
        "if os.path.exists(train_path): train_df = pd.read_csv(train_path)\n",
        "else: train_df = pd.read_csv(train_path + '.zip')\n",
        "\n",
        "if os.path.exists(test_path): test_df = pd.read_csv(train_path)\n",
        "else: test_df = pd.read_csv(test_path + '.zip')\n",
        "\n",
        "print('train shape:', train_df.shape)\n",
        "print('test shape:', test_df.shape)"
      ],
      "execution_count": 6,
      "outputs": [
        {
          "output_type": "stream",
          "text": [
            "train shape: (1306122, 3)\n",
            "test shape: (1306122, 3)\n"
          ],
          "name": "stdout"
        }
      ]
    },
    {
      "cell_type": "code",
      "metadata": {
        "id": "6CwM8vOz_-Cf"
      },
      "source": [
        "from sklearn.model_selection import train_test_split\n",
        "\n",
        "# split to train and val\n",
        "train_df, val_df = train_test_split(train_df, test_size=0.1)\n",
        "\n",
        "# some config values \n",
        "embed_size = 300 # how big is each word vector\n",
        "max_features = 50000 # how many unique words to use (i.e num rows in embedding vector)\n",
        "maxlen = 100 # max number of words in a question to use\n",
        "\n",
        "# fill up the missing values\n",
        "train_X = train_df[\"question_text\"].fillna(\"_na_\").values\n",
        "val_X = val_df[\"question_text\"].fillna(\"_na_\").values\n",
        "test_X = test_df[\"question_text\"].fillna(\"_na_\").values\n",
        "\n",
        "# Get the target values\n",
        "train_y = train_df['target'].values\n",
        "val_y = val_df['target'].values"
      ],
      "execution_count": 34,
      "outputs": []
    },
    {
      "cell_type": "code",
      "metadata": {
        "colab": {
          "base_uri": "https://localhost:8080/"
        },
        "id": "rH5Ry0fvArrh",
        "outputId": "c66421ed-c872-4e94-a58a-31343876faf7"
      },
      "source": [
        "%%time\n",
        "from keras.preprocessing.text import Tokenizer\n",
        "\n",
        "# Tokenize the sentences\n",
        "tokenizer = Tokenizer(num_words=max_features)\n",
        "tokenizer.fit_on_texts(list(train_X))\n",
        "train_X = tokenizer.texts_to_sequences(train_X)\n",
        "val_X = tokenizer.texts_to_sequences(val_X)\n",
        "test_X = tokenizer.texts_to_sequences(test_X)"
      ],
      "execution_count": 35,
      "outputs": [
        {
          "output_type": "stream",
          "text": [
            "CPU times: user 50.3 s, sys: 409 ms, total: 50.7 s\n",
            "Wall time: 50.6 s\n"
          ],
          "name": "stdout"
        }
      ]
    },
    {
      "cell_type": "code",
      "metadata": {
        "colab": {
          "base_uri": "https://localhost:8080/"
        },
        "id": "0wzFwXS4A-rM",
        "outputId": "bf7ddea2-cdbc-40c1-c19e-b5444e144c93"
      },
      "source": [
        "%%time\n",
        "from keras.preprocessing.sequence import pad_sequences\n",
        "\n",
        "# Pad the sentences \n",
        "train_X = pad_sequences(train_X, maxlen=maxlen)\n",
        "val_X = pad_sequences(val_X, maxlen=maxlen)\n",
        "test_X = pad_sequences(test_X, maxlen=maxlen)"
      ],
      "execution_count": 36,
      "outputs": [
        {
          "output_type": "stream",
          "text": [
            "CPU times: user 10.7 s, sys: 230 ms, total: 10.9 s\n",
            "Wall time: 10.7 s\n"
          ],
          "name": "stdout"
        }
      ]
    },
    {
      "cell_type": "code",
      "metadata": {
        "id": "hnq3BiZTD5Cl"
      },
      "source": [
        "import zipfile\n",
        "from gensim.models import KeyedVectors\n",
        "\n",
        "glove = 'glove.840B.300d/glove.840B.300d.txt'\n",
        "wiki = 'wiki-news-300d-1M/wiki-news-300d-1M.vec'\n",
        "google = 'GoogleNews-vectors-negative300/GoogleNews-vectors-negative300.bin'\n",
        "para = 'paragram_300_sl999/paragram_300_sl999.txt'\n",
        "\n",
        "\n",
        "def load_embedding(embedding_name):\n",
        "\n",
        "    def get_coefs(word, *arr): return word, np.asarray(arr, dtype='float32')\n",
        "\n",
        "    with zipfile.ZipFile(embeddings_path) as embeddings_zip:\n",
        "        print(\"Found embeddings as a zip file\")\n",
        "\n",
        "        if embedding_name == google:\n",
        "            return KeyedVectors.load_word2vec_format(embeddings_zip.open(google), binary=True)\n",
        "\n",
        "        else:\n",
        "            embedding = []\n",
        "            for o in embeddings_zip.open(embedding_name):\n",
        "                try:\n",
        "                    if len(o.decode('utf-8')) > 100:\n",
        "                        embedding.append(get_coefs(*o.decode('utf-8').split(\" \")))\n",
        "                except:\n",
        "                    pass\n",
        "        \n",
        "        return dict(embedding)"
      ],
      "execution_count": 106,
      "outputs": []
    },
    {
      "cell_type": "code",
      "metadata": {
        "colab": {
          "base_uri": "https://localhost:8080/"
        },
        "id": "TcEzV9f9GIa_",
        "outputId": "3fca895d-487e-4479-9bb0-6c14c5ce35a2"
      },
      "source": [
        "%%time\n",
        "glove_embedding = load_embedding(glove) # 3min 21s in Colab"
      ],
      "execution_count": 107,
      "outputs": [
        {
          "output_type": "stream",
          "text": [
            "Found embeddings as a zip file\n",
            "CPU times: user 3min 18s, sys: 6.65 s, total: 3min 24s\n",
            "Wall time: 3min 24s\n"
          ],
          "name": "stdout"
        }
      ]
    },
    {
      "cell_type": "code",
      "metadata": {
        "colab": {
          "base_uri": "https://localhost:8080/"
        },
        "id": "B3OoBZxpHZ5L",
        "outputId": "87cdf1ac-0f44-482a-dc7d-4d1b5079f372"
      },
      "source": [
        "%%time\n",
        "wiki_embedding = load_embedding(wiki) # 1min 20s in Colab"
      ],
      "execution_count": 108,
      "outputs": [
        {
          "output_type": "stream",
          "text": [
            "Found embeddings as a zip file\n",
            "CPU times: user 1min 20s, sys: 1.32 s, total: 1min 21s\n",
            "Wall time: 1min 21s\n"
          ],
          "name": "stdout"
        }
      ]
    },
    {
      "cell_type": "code",
      "metadata": {
        "colab": {
          "base_uri": "https://localhost:8080/"
        },
        "id": "ayRUyP67ZYPg",
        "outputId": "40dc693f-d7bd-47fa-9bb9-cae0e3e72656"
      },
      "source": [
        "%%time\n",
        "google_embedding = load_embedding(google) # 1min 50s in Colab"
      ],
      "execution_count": 109,
      "outputs": [
        {
          "output_type": "stream",
          "text": [
            "Found embeddings as a zip file\n",
            "CPU times: user 1min 47s, sys: 3.52 s, total: 1min 50s\n",
            "Wall time: 1min 50s\n"
          ],
          "name": "stdout"
        }
      ]
    },
    {
      "cell_type": "code",
      "metadata": {
        "colab": {
          "base_uri": "https://localhost:8080/"
        },
        "id": "IPnFyajwopvd",
        "outputId": "9dbdbd48-290d-46dd-a787-2d794877c2ad"
      },
      "source": [
        "%%time\n",
        "para_embedding = load_embedding(para) # 2min 40s in Colab"
      ],
      "execution_count": 110,
      "outputs": [
        {
          "output_type": "stream",
          "text": [
            "Found embeddings as a zip file\n",
            "CPU times: user 2min 37s, sys: 2.77 s, total: 2min 40s\n",
            "Wall time: 2min 40s\n"
          ],
          "name": "stdout"
        }
      ]
    },
    {
      "cell_type": "code",
      "metadata": {
        "id": "n0D2JNPXKgGk"
      },
      "source": [
        "word_index = tokenizer.word_index\n",
        "nb_words = min(max_features, len(word_index))"
      ],
      "execution_count": 111,
      "outputs": []
    },
    {
      "cell_type": "code",
      "metadata": {
        "id": "D0dvpL-_VnCA"
      },
      "source": [
        "has_get_emb_stats = True # set False if we have not get emb stats\n",
        "if not has_get_emb_stats:\n",
        "\n",
        "    def get_emb_stats(embedding):\n",
        "\n",
        "        # Put all embeddings in a numpy matrix\n",
        "        try:\n",
        "            all_embs= np.stack(embedding.values())\n",
        "        except:\n",
        "            all_embs = embedding.vectors\n",
        "\n",
        "        # Get embedding stats\n",
        "        emb_mean = all_embs.mean()\n",
        "        emb_std = all_embs.std()\n",
        "        \n",
        "        return emb_mean,emb_std\n",
        "    \n",
        "\n",
        "    glove_emb_mean, glove_emb_std = get_emb_stats(glove_embedding)\n",
        "    wiki_emb_mean, wiki_emb_std = get_emb_stats(wiki_embedding)\n",
        "    google_emb_mean, google_emb_std = get_emb_stats(google_embedding)\n",
        "    para_emb_mean, para_emb_std = get_emb_stats(para_embedding)\n",
        "\n",
        "    print('glove emb mean:', glove_emb_mean, 'emb_std:', glove_emb_std)\n",
        "    print('wiki emb mean:', wiki_emb_mean, 'emb_std:', wiki_emb_std)\n",
        "    print('google emb mean:', google_emb_mean, 'emb_std:', google_emb_std)\n",
        "    print('para emb mean:', para_emb_mean, 'emb_std:', para_emb_std)\n",
        "\n",
        "else:\n",
        "    glove_emb_mean, glove_emb_std = -0.005838499, 0.48782197\n",
        "    wiki_emb_mean, wiki_emb_std = -0.0033469985, 0.109855495\n",
        "    google_emb_mean, google_emb_std = -0.003527845, 0.13315111\n",
        "    para_emb_mean, para_emb_std = -0.0053248387, 0.49346521"
      ],
      "execution_count": 121,
      "outputs": []
    },
    {
      "cell_type": "code",
      "metadata": {
        "id": "JckVXdIfz6Gz"
      },
      "source": [
        "glove_embedding_matrix = np.random.normal(glove_emb_mean, glove_emb_std, (max_features, embed_size))\n",
        "wiki_embedding_matrix = np.random.normal(wiki_emb_mean, wiki_emb_std, (max_features, embed_size))\n",
        "google_embedding_matrix = np.random.normal(google_emb_mean, google_emb_std, (max_features, embed_size))\n",
        "para_embedding_matrix = np.random.normal(para_emb_mean, para_emb_std, (max_features, embed_size))"
      ],
      "execution_count": 123,
      "outputs": []
    },
    {
      "cell_type": "code",
      "metadata": {
        "id": "TABgPTcaEbta",
        "colab": {
          "base_uri": "https://localhost:8080/",
          "height": 66,
          "referenced_widgets": [
            "75be2f479a8d4ddea565c8fbe924c791",
            "e9ed4718ef424c0c9c99a59d7f13b4f9",
            "3d3c37eb4dc941518767ea140d8426b0",
            "33996d986d534ae28090ef28de63de85",
            "ec4c8e59dae04f7ab5155e879287613b",
            "7f2cdb799130412e89e7aefa7b7b805d",
            "1af3eff9a0d44c4b9e46972d575dda7b",
            "4d7a181a91be47f394ced8f3844de563"
          ]
        },
        "outputId": "d1fab5a3-3dfb-4e67-99df-d3c3fa728d72"
      },
      "source": [
        "glove_oov = {}\n",
        "wiki_oov = {}\n",
        "google_oov = {}\n",
        "para_oov = {}\n",
        "for word, i in tqdm(word_index.items()):\n",
        "    if i >= max_features: continue\n",
        "    if word in glove_embedding:\n",
        "        embedding_vector = glove_embedding[word]\n",
        "        glove_embedding_matrix[i] = embedding_vector\n",
        "    else:\n",
        "        glove_oov[word] = i\n",
        "    if word in wiki_embedding:\n",
        "        embedding_vector = wiki_embedding[word]\n",
        "        wiki_embedding_matrix[i] = embedding_vector\n",
        "    else:\n",
        "        wiki_oov[word] = i\n",
        "    if word in google_embedding:\n",
        "        embedding_vector = google_embedding[word]\n",
        "        google_embedding_matrix[i] = embedding_vector\n",
        "    else:\n",
        "        google_oov[word] = i\n",
        "    if word in para_embedding:\n",
        "        embedding_vector = para_embedding[word]\n",
        "        para_embedding_matrix[i] = embedding_vector\n",
        "    else:\n",
        "        para_oov[word] = i"
      ],
      "execution_count": 124,
      "outputs": [
        {
          "output_type": "display_data",
          "data": {
            "application/vnd.jupyter.widget-view+json": {
              "model_id": "75be2f479a8d4ddea565c8fbe924c791",
              "version_minor": 0,
              "version_major": 2
            },
            "text/plain": [
              "HBox(children=(FloatProgress(value=0.0, max=197701.0), HTML(value='')))"
            ]
          },
          "metadata": {
            "tags": []
          }
        },
        {
          "output_type": "stream",
          "text": [
            "\n"
          ],
          "name": "stdout"
        }
      ]
    },
    {
      "cell_type": "code",
      "metadata": {
        "id": "qnIA_BYQMJFI",
        "colab": {
          "base_uri": "https://localhost:8080/"
        },
        "outputId": "dcb5ed6c-53bc-4261-aec5-a37a4cfc01c6"
      },
      "source": [
        "print('percentage of oov of glove: {:.2f}%'.format(len(glove_oov) / len(word_index) * 100))\n",
        "print('percentage of oov of wiki: {:.2f}%'.format(len(wiki_oov) / len(word_index) * 100))\n",
        "print('percentage of oov of google: {:.2f}%'.format(len(google_oov) / len(word_index) * 100))\n",
        "print('percentage of oov of para: {:.2f}%'.format(len(para_oov) / len(word_index) * 100))"
      ],
      "execution_count": 126,
      "outputs": [
        {
          "output_type": "stream",
          "text": [
            "percentage of oov of glove: 2.06%\n",
            "percentage of oov of wiki: 3.71%\n",
            "percentage of oov of google: 5.98%\n",
            "percentage of oov of para: 1.43%\n"
          ],
          "name": "stdout"
        }
      ]
    },
    {
      "cell_type": "code",
      "metadata": {
        "id": "rqwPxXC1MRpk"
      },
      "source": [
        ""
      ],
      "execution_count": null,
      "outputs": []
    }
  ]
}